{
 "cells": [
  {
   "cell_type": "markdown",
   "metadata": {},
   "source": [
    "Import Of The Important Libraries Required for Solving This Problem."
   ]
  },
  {
   "cell_type": "code",
   "execution_count": 1,
   "metadata": {},
   "outputs": [
    {
     "data": {
      "application/javascript": [
       "\n",
       "        setTimeout(function() {\n",
       "            var nbb_cell_id = 1;\n",
       "            var nbb_formatted_code = \"%load_ext nb_black\";\n",
       "            var nbb_cells = Jupyter.notebook.get_cells();\n",
       "            for (var i = 0; i < nbb_cells.length; ++i) {\n",
       "                if (nbb_cells[i].input_prompt_number == nbb_cell_id) {\n",
       "                    nbb_cells[i].set_text(nbb_formatted_code);\n",
       "                    break;\n",
       "                }\n",
       "            }\n",
       "        }, 500);\n",
       "        "
      ],
      "text/plain": [
       "<IPython.core.display.Javascript object>"
      ]
     },
     "metadata": {},
     "output_type": "display_data"
    }
   ],
   "source": [
    "%load_ext nb_black"
   ]
  },
  {
   "cell_type": "code",
   "execution_count": 2,
   "metadata": {},
   "outputs": [
    {
     "name": "stderr",
     "output_type": "stream",
     "text": [
      "Using TensorFlow backend.\n"
     ]
    },
    {
     "data": {
      "application/javascript": [
       "\n",
       "        setTimeout(function() {\n",
       "            var nbb_cell_id = 2;\n",
       "            var nbb_formatted_code = \"import os\\nimport numpy as np\\nimport pandas as pd\\nimport seaborn as sns\\nimport matplotlib.pyplot as plt\\n%matplotlib inline\\nimport string\\nimport re\\nfrom nltk.corpus import stopwords\\nfrom collections import Counter\\nfrom keras.utils.vis_utils import plot_model\\nfrom keras.models import Sequential\\nfrom keras.layers import Dense\\nimport pydot\\nfrom IPython.display import SVG\\nfrom keras.utils.vis_utils import model_to_dot\\nimport graphviz\\nfrom keras.preprocessing.text import Tokenizer\\nfrom keras.preprocessing.sequence import pad_sequences\\nfrom keras.layers import Dense\\nfrom keras.layers import Flatten\\nfrom keras.layers import Embedding\\nfrom keras.layers.convolutional import Conv1D\\nfrom keras.layers.convolutional import MaxPooling1D\\nfrom sklearn.model_selection import StratifiedKFold\\nfrom keras.callbacks import ModelCheckpoint\\nfrom keras.models import Model\\nfrom keras.layers import Input\\nfrom keras.layers.merge import concatenate\\nfrom keras.layers import Dropout\\nfrom keras.models import load_model\";\n",
       "            var nbb_cells = Jupyter.notebook.get_cells();\n",
       "            for (var i = 0; i < nbb_cells.length; ++i) {\n",
       "                if (nbb_cells[i].input_prompt_number == nbb_cell_id) {\n",
       "                    nbb_cells[i].set_text(nbb_formatted_code);\n",
       "                    break;\n",
       "                }\n",
       "            }\n",
       "        }, 500);\n",
       "        "
      ],
      "text/plain": [
       "<IPython.core.display.Javascript object>"
      ]
     },
     "metadata": {},
     "output_type": "display_data"
    }
   ],
   "source": [
    "import os\n",
    "import numpy as np\n",
    "import pandas as pd\n",
    "import seaborn as sns\n",
    "import matplotlib.pyplot as plt\n",
    "%matplotlib inline\n",
    "import string\n",
    "import re\n",
    "from nltk.corpus import stopwords\n",
    "from collections import Counter\n",
    "from keras.utils.vis_utils import plot_model\n",
    "from keras.models import Sequential\n",
    "from keras.layers import Dense\n",
    "import pydot\n",
    "from IPython.display import SVG\n",
    "from keras.utils.vis_utils import model_to_dot\n",
    "import graphviz\n",
    "from keras.preprocessing.text import Tokenizer\n",
    "from keras.preprocessing.sequence import pad_sequences\n",
    "from keras.layers import Dense\n",
    "from keras.layers import Flatten\n",
    "from keras.layers import Embedding\n",
    "from keras.layers.convolutional import Conv1D\n",
    "from keras.layers.convolutional import MaxPooling1D\n",
    "from sklearn.model_selection import StratifiedKFold\n",
    "from keras.callbacks import ModelCheckpoint\n",
    "from keras.models import Model\n",
    "from keras.layers import Input\n",
    "from keras.layers.merge import concatenate\n",
    "from keras.layers import Dropout\n",
    "from keras.models import load_model"
   ]
  },
  {
   "cell_type": "code",
   "execution_count": 2,
   "metadata": {},
   "outputs": [],
   "source": [
    "# os.listdir()"
   ]
  },
  {
   "cell_type": "markdown",
   "metadata": {},
   "source": [
    "# Preprocessing Step \n",
    "# Import Data"
   ]
  },
  {
   "cell_type": "code",
   "execution_count": 3,
   "metadata": {},
   "outputs": [
    {
     "data": {
      "application/javascript": [
       "\n",
       "        setTimeout(function() {\n",
       "            var nbb_cell_id = 3;\n",
       "            var nbb_formatted_code = \"# Function to load document into the notebook\\ndef load_document(fileName):\\n    file = open(fileName, \\\"r\\\")\\n    text_data = file.read()\\n    file.close()\\n    return text_data\";\n",
       "            var nbb_cells = Jupyter.notebook.get_cells();\n",
       "            for (var i = 0; i < nbb_cells.length; ++i) {\n",
       "                if (nbb_cells[i].input_prompt_number == nbb_cell_id) {\n",
       "                    nbb_cells[i].set_text(nbb_formatted_code);\n",
       "                    break;\n",
       "                }\n",
       "            }\n",
       "        }, 500);\n",
       "        "
      ],
      "text/plain": [
       "<IPython.core.display.Javascript object>"
      ]
     },
     "metadata": {},
     "output_type": "display_data"
    }
   ],
   "source": [
    "# Function to load document into the notebook\n",
    "def load_document(fileName):\n",
    "    file = open(fileName, \"r\")\n",
    "    text_data = file.read()\n",
    "    file.close()\n",
    "    return text_data"
   ]
  },
  {
   "cell_type": "code",
   "execution_count": 4,
   "metadata": {},
   "outputs": [
    {
     "data": {
      "application/javascript": [
       "\n",
       "        setTimeout(function() {\n",
       "            var nbb_cell_id = 4;\n",
       "            var nbb_formatted_code = \"# Data Cleaning Step\\n# Turn a document into tokens after processing it.\\n\\n\\ndef clean_document(document, m_type=\\\"mlp\\\"):\\n    document = document.lower()\\n    # split the review into tokens by white space\\n    tokens = document.split()\\n    # regex for char filtering\\n    re_punc = re.compile(\\\"[%s]\\\" % re.escape(string.punctuation))\\n    # remove punctuation from each word\\n    tokens = [re_punc.sub(\\\"\\\", w) for w in tokens]\\n    # removetokens which are not alphabetis\\n    if m_type == \\\"mlp\\\":\\n        tokens = [word for word in tokens if word.isalpha()]\\n        # remove stop words\\n        ##  A stop word is a commonly used word (such as \\u201cthe\\u201d, \\u201ca\\u201d, \\u201can\\u201d, \\u201cin\\u201d)\\n        stop_words = set(stopwords.words(\\\"english\\\"))\\n        tokens = [w for w in tokens if not w in stop_words]\\n        # remove out short tokens\\n        tokens = [word for word in tokens if len(word) > 1]\\n\\n    return tokens\";\n",
       "            var nbb_cells = Jupyter.notebook.get_cells();\n",
       "            for (var i = 0; i < nbb_cells.length; ++i) {\n",
       "                if (nbb_cells[i].input_prompt_number == nbb_cell_id) {\n",
       "                    nbb_cells[i].set_text(nbb_formatted_code);\n",
       "                    break;\n",
       "                }\n",
       "            }\n",
       "        }, 500);\n",
       "        "
      ],
      "text/plain": [
       "<IPython.core.display.Javascript object>"
      ]
     },
     "metadata": {},
     "output_type": "display_data"
    }
   ],
   "source": [
    "# Data Cleaning Step\n",
    "# Turn a document into tokens after processing it.\n",
    "\n",
    "\n",
    "def clean_document(document, m_type=\"mlp\"):\n",
    "    document = document.lower()\n",
    "    # split the review into tokens by white space\n",
    "    tokens = document.split()\n",
    "    # regex for char filtering\n",
    "    re_punc = re.compile(\"[%s]\" % re.escape(string.punctuation))\n",
    "    # remove punctuation from each word\n",
    "    tokens = [re_punc.sub(\"\", w) for w in tokens]\n",
    "    # removetokens which are not alphabetis\n",
    "    if m_type == \"mlp\":\n",
    "        tokens = [word for word in tokens if word.isalpha()]\n",
    "        # remove stop words\n",
    "        ##  A stop word is a commonly used word (such as “the”, “a”, “an”, “in”)\n",
    "        stop_words = set(stopwords.words(\"english\"))\n",
    "        tokens = [w for w in tokens if not w in stop_words]\n",
    "        # remove out short tokens\n",
    "        tokens = [word for word in tokens if len(word) > 1]\n",
    "\n",
    "    return tokens"
   ]
  },
  {
   "cell_type": "code",
   "execution_count": 5,
   "metadata": {},
   "outputs": [
    {
     "name": "stdout",
     "output_type": "stream",
     "text": [
      "['every', 'movie', 'comes', 'along', 'suspect', 'studio', 'every', 'indication', 'stinker', 'everybodys', 'surprise', 'perhaps', 'even', 'studio', 'film', 'becomes', 'critical', 'darling', 'mtv', 'films', 'election', 'high', 'school', 'comedy', 'starring', 'matthew', 'broderick', 'reese', 'witherspoon', 'current', 'example', 'anybody', 'know', 'film', 'existed', 'week', 'opened', 'plot', 'deceptively', 'simple', 'george', 'washington', 'carver', 'high', 'school', 'student', 'elections', 'tracy', 'flick', 'reese', 'witherspoon', 'overachiever', 'hand', 'raised', 'nearly', 'every', 'question', 'way', 'way', 'high', 'mr', 'matthew', 'broderick', 'sick', 'megalomaniac', 'student', 'encourages', 'paul', 'popularbutslow', 'jock', 'run', 'pauls', 'nihilistic', 'sister', 'jumps', 'race', 'well', 'personal', 'reasons', 'dark', 'side', 'sleeper', 'success', 'expectations', 'low', 'going', 'fact', 'quality', 'stuff', 'made', 'reviews', 'even', 'enthusiastic', 'right', 'cant', 'help', 'going', 'baggage', 'glowing', 'reviews', 'contrast', 'negative', 'baggage', 'reviewers', 'likely', 'election', 'good', 'film', 'live', 'hype', 'makes', 'election', 'disappointing', 'contains', 'significant', 'plot', 'details', 'lifted', 'directly', 'rushmore', 'released', 'months', 'earlier', 'similarities', 'staggering', 'tracy', 'flick', 'election', 'president', 'extraordinary', 'number', 'clubs', 'involved', 'school', 'play', 'max', 'fischer', 'rushmore', 'president', 'extraordinary', 'number', 'clubs', 'involved', 'school', 'play', 'significant', 'tension', 'election', 'potential', 'relationship', 'teacher', 'student', 'significant', 'tension', 'rushmore', 'potential', 'relationship', 'teacher', 'student', 'tracy', 'flick', 'single', 'parent', 'home', 'contributed', 'drive', 'max', 'fischer', 'single', 'parent', 'home', 'contributed', 'drive', 'male', 'bumbling', 'adult', 'election', 'matthew', 'broderick', 'pursues', 'extramarital', 'affair', 'gets', 'caught', 'whole', 'life', 'ruined', 'even', 'gets', 'bee', 'sting', 'male', 'bumbling', 'adult', 'rushmore', 'bill', 'murray', 'pursues', 'extramarital', 'affair', 'gets', 'caught', 'whole', 'life', 'ruined', 'gets', 'several', 'bee', 'stings', 'happened', 'individual', 'screenplay', 'rushmore', 'novel', 'election', 'contain', 'many', 'significant', 'plot', 'points', 'yet', 'films', 'probably', 'even', 'aware', 'made', 'two', 'different', 'studios', 'genre', 'high', 'school', 'geeks', 'revenge', 'movie', 'hadnt', 'fully', 'formed', 'yet', 'even', 'strengths', 'election', 'rely', 'upon', 'fantastic', 'performances', 'broderick', 'witherspoon', 'newcomer', 'jessica', 'campbell', 'pauls', 'antisocial', 'sister', 'tammy', 'broderick', 'playing', 'mr', 'rooney', 'role', 'ferris', 'bueller', 'seems', 'fun', 'hes', 'since', 'witherspoon', 'revelation', 'early', 'year', 'comedy', 'teenagers', 'little', 'clout', 'money', 'witherspoon', 'deserves', 'oscar', 'nomination', 'campbells', 'character', 'gets', 'going', 'like', 'fantastic', 'speech', 'gymnasium', 'youre', 'one', 'thing', 'thats', 'bothering', 'since', 'ive', 'seen', 'extraordinary', 'amount', 'sexuality', 'film', 'suppose', 'coming', 'mtv', 'films', 'expect', 'less', 'film', 'starts', 'light', 'airy', 'like', 'sitcom', 'screws', 'tighten', 'tensions', 'mount', 'alexander', 'payne', 'decides', 'add', 'elements', 'frankly', 'distract', 'story', 'bad', 'enough', 'mr', 'doesnt', 'like', 'tracys', 'determination', 'win', 'costs', 'throw', 'studentteacher', 'relationship', 'even', 'theres', 'logical', 'reason', 'mr', 'affair', 'theres', 'lot', 'like', 'election', 'plot', 'similarities', 'rushmore', 'tonal', 'nosedive', 'takes', 'gets', 'explicitly', 'sexdriven', 'mark', 'disappointment']\n"
     ]
    },
    {
     "data": {
      "application/javascript": [
       "\n",
       "        setTimeout(function() {\n",
       "            var nbb_cell_id = 5;\n",
       "            var nbb_formatted_code = \"filename = \\\"txt_sentoken/pos/cv001_18431.txt\\\"\\ntext = load_document(filename)\\ntokens = clean_document(text)\\nprint(tokens)\";\n",
       "            var nbb_cells = Jupyter.notebook.get_cells();\n",
       "            for (var i = 0; i < nbb_cells.length; ++i) {\n",
       "                if (nbb_cells[i].input_prompt_number == nbb_cell_id) {\n",
       "                    nbb_cells[i].set_text(nbb_formatted_code);\n",
       "                    break;\n",
       "                }\n",
       "            }\n",
       "        }, 500);\n",
       "        "
      ],
      "text/plain": [
       "<IPython.core.display.Javascript object>"
      ]
     },
     "metadata": {},
     "output_type": "display_data"
    }
   ],
   "source": [
    "filename = \"txt_sentoken/pos/cv001_18431.txt\"\n",
    "text = load_document(filename)\n",
    "tokens = clean_document(text)\n",
    "print(tokens)"
   ]
  },
  {
   "cell_type": "code",
   "execution_count": 6,
   "metadata": {},
   "outputs": [
    {
     "data": {
      "application/javascript": [
       "\n",
       "        setTimeout(function() {\n",
       "            var nbb_cell_id = 6;\n",
       "            var nbb_formatted_code = \"# Function to save list to file\\ndef save_list(lines, filename):\\n    data = \\\"\\\\n\\\".join(lines)\\n    file = open(filename, \\\"w\\\")\\n    file.write(data)\\n    file.close()\";\n",
       "            var nbb_cells = Jupyter.notebook.get_cells();\n",
       "            for (var i = 0; i < nbb_cells.length; ++i) {\n",
       "                if (nbb_cells[i].input_prompt_number == nbb_cell_id) {\n",
       "                    nbb_cells[i].set_text(nbb_formatted_code);\n",
       "                    break;\n",
       "                }\n",
       "            }\n",
       "        }, 500);\n",
       "        "
      ],
      "text/plain": [
       "<IPython.core.display.Javascript object>"
      ]
     },
     "metadata": {},
     "output_type": "display_data"
    }
   ],
   "source": [
    "# Function to save list to file\n",
    "def save_list(lines, filename):\n",
    "    data = \"\\n\".join(lines)\n",
    "    file = open(filename, \"w\")\n",
    "    file.write(data)\n",
    "    file.close()"
   ]
  },
  {
   "cell_type": "code",
   "execution_count": 7,
   "metadata": {},
   "outputs": [
    {
     "data": {
      "application/javascript": [
       "\n",
       "        setTimeout(function() {\n",
       "            var nbb_cell_id = 7;\n",
       "            var nbb_formatted_code = \"# load doc, clean and return line of tokens\\ndef doc_to_line(filename, vocab):\\n    # load the doc\\n    doc = load_doc(filename)\\n    # clean doc\\n    tokens = clean_doc(doc)\\n    # filter by vocab\\n    tokens = [w for w in tokens if w in vocab]\\n    return \\\" \\\".join(tokens)\";\n",
       "            var nbb_cells = Jupyter.notebook.get_cells();\n",
       "            for (var i = 0; i < nbb_cells.length; ++i) {\n",
       "                if (nbb_cells[i].input_prompt_number == nbb_cell_id) {\n",
       "                    nbb_cells[i].set_text(nbb_formatted_code);\n",
       "                    break;\n",
       "                }\n",
       "            }\n",
       "        }, 500);\n",
       "        "
      ],
      "text/plain": [
       "<IPython.core.display.Javascript object>"
      ]
     },
     "metadata": {},
     "output_type": "display_data"
    }
   ],
   "source": [
    "# load doc, clean and return line of tokens\n",
    "def doc_to_line(filename, vocab):\n",
    "    # load the doc\n",
    "    doc = load_doc(filename)\n",
    "    # clean doc\n",
    "    tokens = clean_doc(doc)\n",
    "    # filter by vocab\n",
    "    tokens = [w for w in tokens if w in vocab]\n",
    "    return \" \".join(tokens)"
   ]
  },
  {
   "cell_type": "code",
   "execution_count": 8,
   "metadata": {},
   "outputs": [],
   "source": [
    "# Function to Load Document and then add the words to Vocab\n",
    "def document_to_vocabulary(fileName, vocab):\n",
    "    document = load_document(fileName)\n",
    "    tokens = clean_document(document)\n",
    "    vocab.update(tokens)"
   ]
  },
  {
   "cell_type": "markdown",
   "metadata": {},
   "source": [
    "# Develop Vocabulary"
   ]
  },
  {
   "cell_type": "code",
   "execution_count": 8,
   "metadata": {},
   "outputs": [
    {
     "data": {
      "application/javascript": [
       "\n",
       "        setTimeout(function() {\n",
       "            var nbb_cell_id = 8;\n",
       "            var nbb_formatted_code = \"# Function to Load Document and then add the words to Vocab\\ndef document_to_vocabulary(fileName, vocab):\\n    document = load_document(fileName)\\n    tokens = clean_document(document)\\n    vocab.update(tokens)\";\n",
       "            var nbb_cells = Jupyter.notebook.get_cells();\n",
       "            for (var i = 0; i < nbb_cells.length; ++i) {\n",
       "                if (nbb_cells[i].input_prompt_number == nbb_cell_id) {\n",
       "                    nbb_cells[i].set_text(nbb_formatted_code);\n",
       "                    break;\n",
       "                }\n",
       "            }\n",
       "        }, 500);\n",
       "        "
      ],
      "text/plain": [
       "<IPython.core.display.Javascript object>"
      ]
     },
     "metadata": {},
     "output_type": "display_data"
    }
   ],
   "source": [
    "# Function to Load Document and then add the words to Vocab\n",
    "def document_to_vocabulary(fileName,vocab):\n",
    "    document=load_document(fileName)\n",
    "    tokens=clean_document(document)\n",
    "    vocab.update(tokens)"
   ]
  },
  {
   "cell_type": "code",
   "execution_count": 9,
   "metadata": {},
   "outputs": [
    {
     "data": {
      "application/javascript": [
       "\n",
       "        setTimeout(function() {\n",
       "            var nbb_cell_id = 9;\n",
       "            var nbb_formatted_code = \"# Function to Process All the documents in the Directory\\ndef process_documents(directory, vocab):\\n    count = 0\\n    for fileName in os.listdir(directory):\\n        if fileName.endswith(\\\".txt\\\"):\\n            path = directory + \\\"/\\\" + fileName\\n            document_to_vocabulary(path, vocab)\\n            count += 1\\n    print(\\\"Total Number Of Files Processed In {d} = {n}\\\".format(d=directory, n=count))\";\n",
       "            var nbb_cells = Jupyter.notebook.get_cells();\n",
       "            for (var i = 0; i < nbb_cells.length; ++i) {\n",
       "                if (nbb_cells[i].input_prompt_number == nbb_cell_id) {\n",
       "                    nbb_cells[i].set_text(nbb_formatted_code);\n",
       "                    break;\n",
       "                }\n",
       "            }\n",
       "        }, 500);\n",
       "        "
      ],
      "text/plain": [
       "<IPython.core.display.Javascript object>"
      ]
     },
     "metadata": {},
     "output_type": "display_data"
    }
   ],
   "source": [
    "# Function to Process All the documents in the Directory\n",
    "def process_documents(directory, vocab):\n",
    "    count = 0\n",
    "    for fileName in os.listdir(directory):\n",
    "        if fileName.endswith(\".txt\"):\n",
    "            path = directory + \"/\" + fileName\n",
    "            document_to_vocabulary(path, vocab)\n",
    "            count += 1\n",
    "    print(\"Total Number Of Files Processed In {d} = {n}\".format(d=directory, n=count))"
   ]
  },
  {
   "cell_type": "code",
   "execution_count": 10,
   "metadata": {},
   "outputs": [
    {
     "name": "stdout",
     "output_type": "stream",
     "text": [
      "Total Number Of Files Processed In txt_sentoken/neg = 1000\n",
      "Total Number Of Files Processed In txt_sentoken/pos = 1000\n"
     ]
    },
    {
     "data": {
      "application/javascript": [
       "\n",
       "        setTimeout(function() {\n",
       "            var nbb_cell_id = 10;\n",
       "            var nbb_formatted_code = \"# Main Function To Process the documents\\n# Global Varaible To Store The Count\\n\\nvocab = Counter()\\n\\n\\ndef develop_vocab():\\n    global vocab\\n    #     vocab= Counter()\\n    process_documents(\\\"txt_sentoken/neg\\\", vocab)\\n    process_documents(\\\"txt_sentoken/pos\\\", vocab)\\n\\n    min_occur = 5\\n\\n    tokens = [k for k, c in vocab.items() if c >= min_occur]\\n    save_list(tokens, \\\"vocab.txt\\\")\\n\\n\\ndevelop_vocab()\";\n",
       "            var nbb_cells = Jupyter.notebook.get_cells();\n",
       "            for (var i = 0; i < nbb_cells.length; ++i) {\n",
       "                if (nbb_cells[i].input_prompt_number == nbb_cell_id) {\n",
       "                    nbb_cells[i].set_text(nbb_formatted_code);\n",
       "                    break;\n",
       "                }\n",
       "            }\n",
       "        }, 500);\n",
       "        "
      ],
      "text/plain": [
       "<IPython.core.display.Javascript object>"
      ]
     },
     "metadata": {},
     "output_type": "display_data"
    }
   ],
   "source": [
    "# Main Function To Process the documents\n",
    "# Global Varaible To Store The Count\n",
    "\n",
    "vocab = Counter()\n",
    "\n",
    "\n",
    "def develop_vocab():\n",
    "    global vocab\n",
    "    #     vocab= Counter()\n",
    "    process_documents(\"txt_sentoken/neg\", vocab)\n",
    "    process_documents(\"txt_sentoken/pos\", vocab)\n",
    "\n",
    "    min_occur = 5\n",
    "\n",
    "    tokens = [k for k, c in vocab.items() if c >= min_occur]\n",
    "    save_list(tokens, \"vocab.txt\")\n",
    "\n",
    "\n",
    "develop_vocab()"
   ]
  },
  {
   "cell_type": "code",
   "execution_count": 11,
   "metadata": {},
   "outputs": [
    {
     "name": "stdout",
     "output_type": "stream",
     "text": [
      "TRUE\n"
     ]
    },
    {
     "data": {
      "application/javascript": [
       "\n",
       "        setTimeout(function() {\n",
       "            var nbb_cell_id = 11;\n",
       "            var nbb_formatted_code = \"# Check Whether The File is Create or not\\nif \\\"vocab.txt\\\" in os.listdir():\\n    print(\\\"TRUE\\\")\";\n",
       "            var nbb_cells = Jupyter.notebook.get_cells();\n",
       "            for (var i = 0; i < nbb_cells.length; ++i) {\n",
       "                if (nbb_cells[i].input_prompt_number == nbb_cell_id) {\n",
       "                    nbb_cells[i].set_text(nbb_formatted_code);\n",
       "                    break;\n",
       "                }\n",
       "            }\n",
       "        }, 500);\n",
       "        "
      ],
      "text/plain": [
       "<IPython.core.display.Javascript object>"
      ]
     },
     "metadata": {},
     "output_type": "display_data"
    }
   ],
   "source": [
    "# Check Whether The File is Create or not\n",
    "if \"vocab.txt\" in os.listdir():\n",
    "    print(\"TRUE\")"
   ]
  },
  {
   "cell_type": "code",
   "execution_count": 12,
   "metadata": {},
   "outputs": [
    {
     "name": "stdout",
     "output_type": "stream",
     "text": [
      "Total Length Of The Vocabulary 46557\n"
     ]
    },
    {
     "data": {
      "application/javascript": [
       "\n",
       "        setTimeout(function() {\n",
       "            var nbb_cell_id = 12;\n",
       "            var nbb_formatted_code = \"# print Length of the Vocabulary\\nprint(\\\"Total Length Of The Vocabulary %s\\\" % len(vocab))\";\n",
       "            var nbb_cells = Jupyter.notebook.get_cells();\n",
       "            for (var i = 0; i < nbb_cells.length; ++i) {\n",
       "                if (nbb_cells[i].input_prompt_number == nbb_cell_id) {\n",
       "                    nbb_cells[i].set_text(nbb_formatted_code);\n",
       "                    break;\n",
       "                }\n",
       "            }\n",
       "        }, 500);\n",
       "        "
      ],
      "text/plain": [
       "<IPython.core.display.Javascript object>"
      ]
     },
     "metadata": {},
     "output_type": "display_data"
    }
   ],
   "source": [
    "# print Length of the Vocabulary\n",
    "print(\"Total Length Of The Vocabulary %s\" % len(vocab))"
   ]
  },
  {
   "cell_type": "code",
   "execution_count": 13,
   "metadata": {},
   "outputs": [
    {
     "name": "stdout",
     "output_type": "stream",
     "text": [
      "[('film', 8860), ('one', 5521), ('movie', 5440), ('like', 3553), ('even', 2555), ('good', 2320), ('time', 2283), ('story', 2118), ('films', 2102), ('would', 2042), ('much', 2024), ('also', 1965), ('characters', 1947), ('get', 1921), ('character', 1906), ('two', 1825), ('first', 1768), ('see', 1730), ('well', 1694), ('way', 1668), ('make', 1590), ('really', 1563), ('little', 1491), ('life', 1472), ('plot', 1451), ('people', 1420), ('movies', 1416), ('could', 1395), ('bad', 1374), ('scene', 1373), ('never', 1364), ('best', 1301), ('new', 1277), ('many', 1268), ('doesnt', 1267), ('man', 1266), ('scenes', 1265), ('dont', 1210), ('know', 1207), ('hes', 1150), ('great', 1141), ('another', 1111), ('love', 1089), ('action', 1078), ('go', 1075), ('us', 1065), ('director', 1056), ('something', 1048), ('end', 1047), ('still', 1038)]\n"
     ]
    },
    {
     "data": {
      "application/javascript": [
       "\n",
       "        setTimeout(function() {\n",
       "            var nbb_cell_id = 13;\n",
       "            var nbb_formatted_code = \"# 50 Most Common Words\\nprint(vocab.most_common(50))\";\n",
       "            var nbb_cells = Jupyter.notebook.get_cells();\n",
       "            for (var i = 0; i < nbb_cells.length; ++i) {\n",
       "                if (nbb_cells[i].input_prompt_number == nbb_cell_id) {\n",
       "                    nbb_cells[i].set_text(nbb_formatted_code);\n",
       "                    break;\n",
       "                }\n",
       "            }\n",
       "        }, 500);\n",
       "        "
      ],
      "text/plain": [
       "<IPython.core.display.Javascript object>"
      ]
     },
     "metadata": {},
     "output_type": "display_data"
    }
   ],
   "source": [
    "# 50 Most Common Words\n",
    "print(vocab.most_common(50))"
   ]
  },
  {
   "cell_type": "markdown",
   "metadata": {},
   "source": [
    "# Top Ten Most Common Words"
   ]
  },
  {
   "cell_type": "code",
   "execution_count": 14,
   "metadata": {},
   "outputs": [
    {
     "data": {
      "text/plain": [
       "<matplotlib.axes._subplots.AxesSubplot at 0x7fd7b1f1fd30>"
      ]
     },
     "execution_count": 14,
     "metadata": {},
     "output_type": "execute_result"
    },
    {
     "data": {
      "image/png": "[encoded data removed]",
      "text/plain": [
       "<Figure size 1152x432 with 1 Axes>"
      ]
     },
     "metadata": {
      "needs_background": "light"
     },
     "output_type": "display_data"
    },
    {
     "data": {
      "application/javascript": [
       "\n",
       "        setTimeout(function() {\n",
       "            var nbb_cell_id = 14;\n",
       "            var nbb_formatted_code = \"vocabmcdf = pd.DataFrame(data=vocab.most_common(10), columns=[\\\"Word\\\", \\\"Count\\\"])\\nplt.figure(figsize=(16, 6))\\nsns.barplot(x=\\\"Word\\\", y=\\\"Count\\\", data=vocabmcdf)\";\n",
       "            var nbb_cells = Jupyter.notebook.get_cells();\n",
       "            for (var i = 0; i < nbb_cells.length; ++i) {\n",
       "                if (nbb_cells[i].input_prompt_number == nbb_cell_id) {\n",
       "                    nbb_cells[i].set_text(nbb_formatted_code);\n",
       "                    break;\n",
       "                }\n",
       "            }\n",
       "        }, 500);\n",
       "        "
      ],
      "text/plain": [
       "<IPython.core.display.Javascript object>"
      ]
     },
     "metadata": {},
     "output_type": "display_data"
    }
   ],
   "source": [
    "vocabmcdf = pd.DataFrame(data=vocab.most_common(10), columns=[\"Word\", \"Count\"])\n",
    "plt.figure(figsize=(16, 6))\n",
    "sns.barplot(x=\"Word\", y=\"Count\", data=vocabmcdf)"
   ]
  },
  {
   "cell_type": "code",
   "execution_count": 15,
   "metadata": {},
   "outputs": [
    {
     "name": "stderr",
     "output_type": "stream",
     "text": [
      "/home/ashish/anaconda3/lib/python3.7/site-packages/scipy/stats/stats.py:1713: FutureWarning: Using a non-tuple sequence for multidimensional indexing is deprecated; use `arr[tuple(seq)]` instead of `arr[seq]`. In the future this will be interpreted as an array index, `arr[np.array(seq)]`, which will result either in an error or a different result.\n",
      "  return np.add.reduce(sorted[indexer] * weights, axis=axis) / sumval\n"
     ]
    },
    {
     "data": {
      "image/png": "[encoded data removed]",
      "text/plain": [
       "<Figure size 432x288 with 1 Axes>"
      ]
     },
     "metadata": {
      "needs_background": "light"
     },
     "output_type": "display_data"
    },
    {
     "data": {
      "application/javascript": [
       "\n",
       "        setTimeout(function() {\n",
       "            var nbb_cell_id = 15;\n",
       "            var nbb_formatted_code = \"sns.distplot(vocabmcdf[\\\"Count\\\"], kde=False)\\nplt.show()\";\n",
       "            var nbb_cells = Jupyter.notebook.get_cells();\n",
       "            for (var i = 0; i < nbb_cells.length; ++i) {\n",
       "                if (nbb_cells[i].input_prompt_number == nbb_cell_id) {\n",
       "                    nbb_cells[i].set_text(nbb_formatted_code);\n",
       "                    break;\n",
       "                }\n",
       "            }\n",
       "        }, 500);\n",
       "        "
      ],
      "text/plain": [
       "<IPython.core.display.Javascript object>"
      ]
     },
     "metadata": {},
     "output_type": "display_data"
    }
   ],
   "source": [
    "sns.distplot(vocabmcdf[\"Count\"], kde=False)\n",
    "plt.show()"
   ]
  },
  {
   "cell_type": "code",
   "execution_count": 16,
   "metadata": {},
   "outputs": [
    {
     "name": "stdout",
     "output_type": "stream",
     "text": [
      "Number of Words in Vocab.txt is 14803\n"
     ]
    },
    {
     "data": {
      "application/javascript": [
       "\n",
       "        setTimeout(function() {\n",
       "            var nbb_cell_id = 16;\n",
       "            var nbb_formatted_code = \"# Load The Vocabulary from Vocab.txt File.\\n\\nvocab_data = load_document(\\\"vocab.txt\\\")\\nvocab_data = vocab_data.split()\\nvocab = set(vocab_data)\\nprint(\\\"Number of Words in Vocab.txt is %s\\\" % len(vocab))\";\n",
       "            var nbb_cells = Jupyter.notebook.get_cells();\n",
       "            for (var i = 0; i < nbb_cells.length; ++i) {\n",
       "                if (nbb_cells[i].input_prompt_number == nbb_cell_id) {\n",
       "                    nbb_cells[i].set_text(nbb_formatted_code);\n",
       "                    break;\n",
       "                }\n",
       "            }\n",
       "        }, 500);\n",
       "        "
      ],
      "text/plain": [
       "<IPython.core.display.Javascript object>"
      ]
     },
     "metadata": {},
     "output_type": "display_data"
    }
   ],
   "source": [
    "# Load The Vocabulary from Vocab.txt File.\n",
    "\n",
    "vocab_data = load_document(\"vocab.txt\")\n",
    "vocab_data = vocab_data.split()\n",
    "vocab = set(vocab_data)\n",
    "print(\"Number of Words in Vocab.txt is %s\" % len(vocab))"
   ]
  },
  {
   "cell_type": "markdown",
   "metadata": {},
   "source": [
    "# The distribution review text lengths"
   ]
  },
  {
   "cell_type": "code",
   "execution_count": 17,
   "metadata": {},
   "outputs": [
    {
     "data": {
      "image/png": "[encoded data removed]",
      "text/plain": [
       "<Figure size 1152x432 with 1 Axes>"
      ]
     },
     "metadata": {},
     "output_type": "display_data"
    },
    {
     "data": {
      "image/png": "[encoded data removed]",
      "text/plain": [
       "<Figure size 1152x432 with 1 Axes>"
      ]
     },
     "metadata": {},
     "output_type": "display_data"
    },
    {
     "data": {
      "application/javascript": [
       "\n",
       "        setTimeout(function() {\n",
       "            var nbb_cell_id = 17;\n",
       "            var nbb_formatted_code = \"sns.set(color_codes=True)\\nplt.figure(figsize=(16, 6))\\np_f = \\\"txt_sentoken/pos\\\"\\nprl = []\\nfor f in sorted(os.listdir(p_f)):\\n    #     print(f)\\n    l = len(load_document(p_f + \\\"/\\\" + f))\\n    prl.append(l)\\nplt.xlim(0, 16000)\\nsns.distplot(prl, bins=50).set_title(\\\"Distribution Of Positive reviews text length\\\")\\nplt.show()\\nn_f = \\\"txt_sentoken/neg\\\"\\nnrl = []\\nfor f in sorted(os.listdir(n_f)):\\n    l = len(load_document(n_f + \\\"/\\\" + f))\\n    nrl.append(l)\\nplt.figure(figsize=(16, 6))\\nplt.xlim(0, 16000)\\nsns.distplot(nrl, bins=50).set_title(\\\"Distribution Of Negative reviews text length\\\")\\nplt.show()\";\n",
       "            var nbb_cells = Jupyter.notebook.get_cells();\n",
       "            for (var i = 0; i < nbb_cells.length; ++i) {\n",
       "                if (nbb_cells[i].input_prompt_number == nbb_cell_id) {\n",
       "                    nbb_cells[i].set_text(nbb_formatted_code);\n",
       "                    break;\n",
       "                }\n",
       "            }\n",
       "        }, 500);\n",
       "        "
      ],
      "text/plain": [
       "<IPython.core.display.Javascript object>"
      ]
     },
     "metadata": {},
     "output_type": "display_data"
    }
   ],
   "source": [
    "sns.set(color_codes=True)\n",
    "plt.figure(figsize=(16, 6))\n",
    "p_f = \"txt_sentoken/pos\"\n",
    "prl = []\n",
    "for f in sorted(os.listdir(p_f)):\n",
    "    #     print(f)\n",
    "    l = len(load_document(p_f + \"/\" + f))\n",
    "    prl.append(l)\n",
    "plt.xlim(0, 16000)\n",
    "sns.distplot(prl, bins=50).set_title(\"Distribution Of Positive reviews text length\")\n",
    "plt.show()\n",
    "n_f = \"txt_sentoken/neg\"\n",
    "nrl = []\n",
    "for f in sorted(os.listdir(n_f)):\n",
    "    l = len(load_document(n_f + \"/\" + f))\n",
    "    nrl.append(l)\n",
    "plt.figure(figsize=(16, 6))\n",
    "plt.xlim(0, 16000)\n",
    "sns.distplot(nrl, bins=50).set_title(\"Distribution Of Negative reviews text length\")\n",
    "plt.show()"
   ]
  },
  {
   "cell_type": "markdown",
   "metadata": {},
   "source": [
    "# The distribution of review word count After Cleaning Reviews"
   ]
  },
  {
   "cell_type": "code",
   "execution_count": 18,
   "metadata": {},
   "outputs": [
    {
     "data": {
      "image/png": "[encoded data removed]",
      "text/plain": [
       "<Figure size 1152x432 with 1 Axes>"
      ]
     },
     "metadata": {},
     "output_type": "display_data"
    },
    {
     "data": {
      "image/png": "[encoded data removed]",
      "text/plain": [
       "<Figure size 1152x432 with 1 Axes>"
      ]
     },
     "metadata": {},
     "output_type": "display_data"
    },
    {
     "data": {
      "application/javascript": [
       "\n",
       "        setTimeout(function() {\n",
       "            var nbb_cell_id = 18;\n",
       "            var nbb_formatted_code = \"sns.set(color_codes=True)\\nplt.figure(figsize=(16, 6))\\nplt.xlim(0, 1400)\\np_f = \\\"txt_sentoken/pos\\\"\\nprl = []\\nfor f in sorted(os.listdir(p_f)):\\n    #     print(f)\\n    text = load_document(p_f + \\\"/\\\" + f)\\n    tokens = clean_document(text)\\n    l = len(tokens)\\n    prl.append(l)\\nsns.distplot(prl, bins=50).set_title(\\\"Distribution Of Positive reviews word count\\\")\\nplt.show()\\nn_f = \\\"txt_sentoken/neg\\\"\\nnrl = []\\nfor f in sorted(os.listdir(n_f)):\\n    text = load_document(n_f + \\\"/\\\" + f)\\n    tokens = clean_document(text)\\n    l = len(tokens)\\n    nrl.append(l)\\nplt.figure(figsize=(16, 6))\\nplt.xlim(0, 1400)\\nsns.distplot(nrl, bins=50).set_title(\\\"Distribution Of Negative reviews word count\\\")\\nplt.show()\";\n",
       "            var nbb_cells = Jupyter.notebook.get_cells();\n",
       "            for (var i = 0; i < nbb_cells.length; ++i) {\n",
       "                if (nbb_cells[i].input_prompt_number == nbb_cell_id) {\n",
       "                    nbb_cells[i].set_text(nbb_formatted_code);\n",
       "                    break;\n",
       "                }\n",
       "            }\n",
       "        }, 500);\n",
       "        "
      ],
      "text/plain": [
       "<IPython.core.display.Javascript object>"
      ]
     },
     "metadata": {},
     "output_type": "display_data"
    }
   ],
   "source": [
    "sns.set(color_codes=True)\n",
    "plt.figure(figsize=(16, 6))\n",
    "plt.xlim(0, 1400)\n",
    "p_f = \"txt_sentoken/pos\"\n",
    "prl = []\n",
    "for f in sorted(os.listdir(p_f)):\n",
    "    #     print(f)\n",
    "    text = load_document(p_f + \"/\" + f)\n",
    "    tokens = clean_document(text)\n",
    "    l = len(tokens)\n",
    "    prl.append(l)\n",
    "sns.distplot(prl, bins=50).set_title(\"Distribution Of Positive reviews word count\")\n",
    "plt.show()\n",
    "n_f = \"txt_sentoken/neg\"\n",
    "nrl = []\n",
    "for f in sorted(os.listdir(n_f)):\n",
    "    text = load_document(n_f + \"/\" + f)\n",
    "    tokens = clean_document(text)\n",
    "    l = len(tokens)\n",
    "    nrl.append(l)\n",
    "plt.figure(figsize=(16, 6))\n",
    "plt.xlim(0, 1400)\n",
    "sns.distplot(nrl, bins=50).set_title(\"Distribution Of Negative reviews word count\")\n",
    "plt.show()"
   ]
  },
  {
   "cell_type": "markdown",
   "metadata": {},
   "source": [
    "# Prepare Review For Modeling"
   ]
  },
  {
   "cell_type": "markdown",
   "metadata": {},
   "source": [
    "Creating Negative.txt and Positive.txt from all the review documents."
   ]
  },
  {
   "cell_type": "code",
   "execution_count": 19,
   "metadata": {},
   "outputs": [
    {
     "data": {
      "application/javascript": [
       "\n",
       "        setTimeout(function() {\n",
       "            var nbb_cell_id = 19;\n",
       "            var nbb_formatted_code = \"def process_review_documents(directory, vocab, train=False, op=0, m_type=\\\"mlp\\\"):\\n    lines = []\\n    count = 0\\n    for file in os.listdir(directory):\\n        #         print(file)\\n        if file.endswith(\\\".txt\\\"):\\n            if not op:\\n                if train and file.startswith(\\\"cv9\\\"):\\n                    continue\\n                if not train and not file.startswith(\\\"cv9\\\"):\\n                    continue\\n            count = count + 1\\n            file_path = directory + \\\"/\\\" + file\\n            lines_in_file = load_document(file_path)\\n            tokens = clean_document(lines_in_file, m_type)\\n            tokens = [w for w in tokens if w in vocab]\\n            line = \\\" \\\".join(tokens)\\n        lines.append(line)\\n    #         print(lines)\\n    print(\\\"Number of File Processed in {d} is {n}\\\".format(d=directory, n=count))\\n    return lines\";\n",
       "            var nbb_cells = Jupyter.notebook.get_cells();\n",
       "            for (var i = 0; i < nbb_cells.length; ++i) {\n",
       "                if (nbb_cells[i].input_prompt_number == nbb_cell_id) {\n",
       "                    nbb_cells[i].set_text(nbb_formatted_code);\n",
       "                    break;\n",
       "                }\n",
       "            }\n",
       "        }, 500);\n",
       "        "
      ],
      "text/plain": [
       "<IPython.core.display.Javascript object>"
      ]
     },
     "metadata": {},
     "output_type": "display_data"
    }
   ],
   "source": [
    "def process_review_documents(directory, vocab, train=False, op=0, m_type=\"mlp\"):\n",
    "    lines = []\n",
    "    count = 0\n",
    "    for file in os.listdir(directory):\n",
    "        #         print(file)\n",
    "        if file.endswith(\".txt\"):\n",
    "            if not op:\n",
    "                if train and file.startswith(\"cv9\"):\n",
    "                    continue\n",
    "                if not train and not file.startswith(\"cv9\"):\n",
    "                    continue\n",
    "            count = count + 1\n",
    "            file_path = directory + \"/\" + file\n",
    "            lines_in_file = load_document(file_path)\n",
    "            tokens = clean_document(lines_in_file, m_type)\n",
    "            tokens = [w for w in tokens if w in vocab]\n",
    "            line = \" \".join(tokens)\n",
    "        lines.append(line)\n",
    "    #         print(lines)\n",
    "    print(\"Number of File Processed in {d} is {n}\".format(d=directory, n=count))\n",
    "    return lines"
   ]
  },
  {
   "cell_type": "markdown",
   "metadata": {},
   "source": [
    "# Negative lines from all the documents from \"txt_sentoken/neg\""
   ]
  },
  {
   "cell_type": "code",
   "execution_count": 20,
   "metadata": {},
   "outputs": [
    {
     "name": "stdout",
     "output_type": "stream",
     "text": [
      "Number of File Processed in txt_sentoken/neg is 1000\n",
      "Length of the Negative.txt File is 2124581 \n"
     ]
    },
    {
     "data": {
      "application/javascript": [
       "\n",
       "        setTimeout(function() {\n",
       "            var nbb_cell_id = 20;\n",
       "            var nbb_formatted_code = \"# Negative lines from all the documents from \\\"txt_sentoken/neg\\\"\\nneg_lines = process_review_documents(\\\"txt_sentoken/neg\\\", vocab_data, op=1)\\nsave_list(neg_lines, \\\"negative.txt\\\")\\n\\n# Load Negative Lines From negative.txt\\nnegative_lines = load_document(\\\"negative.txt\\\")\\nprint(\\\"Length of the Negative.txt File is %s \\\" % len(negative_lines))\";\n",
       "            var nbb_cells = Jupyter.notebook.get_cells();\n",
       "            for (var i = 0; i < nbb_cells.length; ++i) {\n",
       "                if (nbb_cells[i].input_prompt_number == nbb_cell_id) {\n",
       "                    nbb_cells[i].set_text(nbb_formatted_code);\n",
       "                    break;\n",
       "                }\n",
       "            }\n",
       "        }, 500);\n",
       "        "
      ],
      "text/plain": [
       "<IPython.core.display.Javascript object>"
      ]
     },
     "metadata": {},
     "output_type": "display_data"
    }
   ],
   "source": [
    "# Negative lines from all the documents from \"txt_sentoken/neg\"\n",
    "neg_lines = process_review_documents(\"txt_sentoken/neg\", vocab_data, op=1)\n",
    "save_list(neg_lines, \"negative.txt\")\n",
    "\n",
    "# Load Negative Lines From negative.txt\n",
    "negative_lines = load_document(\"negative.txt\")\n",
    "print(\"Length of the Negative.txt File is %s \" % len(negative_lines))"
   ]
  },
  {
   "cell_type": "code",
   "execution_count": 22,
   "metadata": {},
   "outputs": [
    {
     "name": "stdout",
     "output_type": "stream",
     "text": [
      "studio attracted many weird bizarre people gates wonder film life death studio centers one boring cl\n"
     ]
    },
    {
     "data": {
      "application/javascript": [
       "\n",
       "        setTimeout(function() {\n",
       "            var nbb_cell_id = 22;\n",
       "            var nbb_formatted_code = \"print(negative_lines[:100])\";\n",
       "            var nbb_cells = Jupyter.notebook.get_cells();\n",
       "            for (var i = 0; i < nbb_cells.length; ++i) {\n",
       "                if (nbb_cells[i].input_prompt_number == nbb_cell_id) {\n",
       "                    nbb_cells[i].set_text(nbb_formatted_code);\n",
       "                    break;\n",
       "                }\n",
       "            }\n",
       "        }, 500);\n",
       "        "
      ],
      "text/plain": [
       "<IPython.core.display.Javascript object>"
      ]
     },
     "metadata": {},
     "output_type": "display_data"
    }
   ],
   "source": [
    "print(negative_lines[:100])"
   ]
  },
  {
   "cell_type": "markdown",
   "metadata": {},
   "source": [
    "# Positive lines from all the documents from \"txt_sentoken/pos\""
   ]
  },
  {
   "cell_type": "code",
   "execution_count": 23,
   "metadata": {},
   "outputs": [
    {
     "name": "stdout",
     "output_type": "stream",
     "text": [
      "Number of File Processed in txt_sentoken/pos is 1000\n",
      "Length of the Positive.txt File is 2408780 \n"
     ]
    },
    {
     "data": {
      "application/javascript": [
       "\n",
       "        setTimeout(function() {\n",
       "            var nbb_cell_id = 23;\n",
       "            var nbb_formatted_code = \"# Negative lines from all the documents from \\\"txt_sentoken/neg\\\"\\npos_lines = process_review_documents(\\\"txt_sentoken/pos\\\", vocab_data, op=1)\\nsave_list(pos_lines, \\\"positive.txt\\\")\\n\\n# Load Negative Lines From negative.txr\\npositive_lines = load_document(\\\"positive.txt\\\")\\nprint(\\\"Length of the Positive.txt File is %s \\\" % len(positive_lines))\";\n",
       "            var nbb_cells = Jupyter.notebook.get_cells();\n",
       "            for (var i = 0; i < nbb_cells.length; ++i) {\n",
       "                if (nbb_cells[i].input_prompt_number == nbb_cell_id) {\n",
       "                    nbb_cells[i].set_text(nbb_formatted_code);\n",
       "                    break;\n",
       "                }\n",
       "            }\n",
       "        }, 500);\n",
       "        "
      ],
      "text/plain": [
       "<IPython.core.display.Javascript object>"
      ]
     },
     "metadata": {},
     "output_type": "display_data"
    }
   ],
   "source": [
    "# Negative lines from all the documents from \"txt_sentoken/neg\"\n",
    "pos_lines = process_review_documents(\"txt_sentoken/pos\", vocab_data, op=1)\n",
    "save_list(pos_lines, \"positive.txt\")\n",
    "\n",
    "# Load Negative Lines From negative.txr\n",
    "positive_lines = load_document(\"positive.txt\")\n",
    "print(\"Length of the Positive.txt File is %s \" % len(positive_lines))"
   ]
  },
  {
   "cell_type": "code",
   "execution_count": 24,
   "metadata": {},
   "outputs": [
    {
     "name": "stdout",
     "output_type": "stream",
     "text": [
      "david lynchs blue velvet begins ends colorful bright shots flowers happy americans seemingly perfect\n"
     ]
    },
    {
     "data": {
      "application/javascript": [
       "\n",
       "        setTimeout(function() {\n",
       "            var nbb_cell_id = 24;\n",
       "            var nbb_formatted_code = \"print(positive_lines[:100])\";\n",
       "            var nbb_cells = Jupyter.notebook.get_cells();\n",
       "            for (var i = 0; i < nbb_cells.length; ++i) {\n",
       "                if (nbb_cells[i].input_prompt_number == nbb_cell_id) {\n",
       "                    nbb_cells[i].set_text(nbb_formatted_code);\n",
       "                    break;\n",
       "                }\n",
       "            }\n",
       "        }, 500);\n",
       "        "
      ],
      "text/plain": [
       "<IPython.core.display.Javascript object>"
      ]
     },
     "metadata": {},
     "output_type": "display_data"
    }
   ],
   "source": [
    "print(positive_lines[:100])"
   ]
  },
  {
   "cell_type": "code",
   "execution_count": 25,
   "metadata": {},
   "outputs": [
    {
     "data": {
      "application/javascript": [
       "\n",
       "        setTimeout(function() {\n",
       "            var nbb_cell_id = 25;\n",
       "            var nbb_formatted_code = \"def load_clean_dataset(vocab, op, train=False, m_type=\\\"mlp\\\"):\\n    neg = process_review_documents(\\\"txt_sentoken/neg\\\", vocab, train, op, m_type)\\n    pos = process_review_documents(\\\"txt_sentoken/pos\\\", vocab, train, op, m_type)\\n    docs = neg + pos\\n    print(\\n        \\\"Length of   Negative Files = {n} \\\\t Positive Files= {p} \\\\t Doc = {d} \\\".format(\\n            n=len(neg), p=len(pos), d=len(docs)\\n        )\\n    )\\n    labels = [0 for i in range(len(neg))] + [1 for j in range(len(pos))]\\n    return docs, labels\";\n",
       "            var nbb_cells = Jupyter.notebook.get_cells();\n",
       "            for (var i = 0; i < nbb_cells.length; ++i) {\n",
       "                if (nbb_cells[i].input_prompt_number == nbb_cell_id) {\n",
       "                    nbb_cells[i].set_text(nbb_formatted_code);\n",
       "                    break;\n",
       "                }\n",
       "            }\n",
       "        }, 500);\n",
       "        "
      ],
      "text/plain": [
       "<IPython.core.display.Javascript object>"
      ]
     },
     "metadata": {},
     "output_type": "display_data"
    }
   ],
   "source": [
    "def load_clean_dataset(vocab, op, train=False, m_type=\"mlp\"):\n",
    "    neg = process_review_documents(\"txt_sentoken/neg\", vocab, train, op, m_type)\n",
    "    pos = process_review_documents(\"txt_sentoken/pos\", vocab, train, op, m_type)\n",
    "    docs = neg + pos\n",
    "    print(\n",
    "        \"Length of   Negative Files = {n} \\t Positive Files= {p} \\t Doc = {d} \".format(\n",
    "            n=len(neg), p=len(pos), d=len(docs)\n",
    "        )\n",
    "    )\n",
    "    labels = [0 for i in range(len(neg))] + [1 for j in range(len(pos))]\n",
    "    return docs, labels"
   ]
  },
  {
   "cell_type": "markdown",
   "metadata": {},
   "source": [
    "# Train Test Split\n",
    "\n",
    "Dividing 90% 10% Ration 1000 Review Document"
   ]
  },
  {
   "cell_type": "markdown",
   "metadata": {},
   "source": [
    "# Load Training DataSet"
   ]
  },
  {
   "cell_type": "code",
   "execution_count": 26,
   "metadata": {},
   "outputs": [
    {
     "name": "stdout",
     "output_type": "stream",
     "text": [
      "Number of File Processed in txt_sentoken/neg is 900\n",
      "Number of File Processed in txt_sentoken/pos is 900\n",
      "Length of   Negative Files = 900 \t Positive Files= 900 \t Doc = 1800 \n"
     ]
    },
    {
     "data": {
      "application/javascript": [
       "\n",
       "        setTimeout(function() {\n",
       "            var nbb_cell_id = 26;\n",
       "            var nbb_formatted_code = \"# load all training reviews\\ntrain_docs, ytrain = load_clean_dataset(vocab, train=True, op=0)\";\n",
       "            var nbb_cells = Jupyter.notebook.get_cells();\n",
       "            for (var i = 0; i < nbb_cells.length; ++i) {\n",
       "                if (nbb_cells[i].input_prompt_number == nbb_cell_id) {\n",
       "                    nbb_cells[i].set_text(nbb_formatted_code);\n",
       "                    break;\n",
       "                }\n",
       "            }\n",
       "        }, 500);\n",
       "        "
      ],
      "text/plain": [
       "<IPython.core.display.Javascript object>"
      ]
     },
     "metadata": {},
     "output_type": "display_data"
    }
   ],
   "source": [
    "# load all training reviews\n",
    "train_docs, ytrain = load_clean_dataset(vocab, train=True, op=0)"
   ]
  },
  {
   "cell_type": "code",
   "execution_count": 27,
   "metadata": {},
   "outputs": [
    {
     "name": "stdout",
     "output_type": "stream",
     "text": [
      "1800\n"
     ]
    },
    {
     "data": {
      "application/javascript": [
       "\n",
       "        setTimeout(function() {\n",
       "            var nbb_cell_id = 27;\n",
       "            var nbb_formatted_code = \"print(len(train_docs))\";\n",
       "            var nbb_cells = Jupyter.notebook.get_cells();\n",
       "            for (var i = 0; i < nbb_cells.length; ++i) {\n",
       "                if (nbb_cells[i].input_prompt_number == nbb_cell_id) {\n",
       "                    nbb_cells[i].set_text(nbb_formatted_code);\n",
       "                    break;\n",
       "                }\n",
       "            }\n",
       "        }, 500);\n",
       "        "
      ],
      "text/plain": [
       "<IPython.core.display.Javascript object>"
      ]
     },
     "metadata": {},
     "output_type": "display_data"
    }
   ],
   "source": [
    "print(len(train_docs))"
   ]
  },
  {
   "cell_type": "code",
   "execution_count": 28,
   "metadata": {},
   "outputs": [
    {
     "name": "stdout",
     "output_type": "stream",
     "text": [
      "1800\n"
     ]
    },
    {
     "data": {
      "application/javascript": [
       "\n",
       "        setTimeout(function() {\n",
       "            var nbb_cell_id = 28;\n",
       "            var nbb_formatted_code = \"print(len(ytrain))\";\n",
       "            var nbb_cells = Jupyter.notebook.get_cells();\n",
       "            for (var i = 0; i < nbb_cells.length; ++i) {\n",
       "                if (nbb_cells[i].input_prompt_number == nbb_cell_id) {\n",
       "                    nbb_cells[i].set_text(nbb_formatted_code);\n",
       "                    break;\n",
       "                }\n",
       "            }\n",
       "        }, 500);\n",
       "        "
      ],
      "text/plain": [
       "<IPython.core.display.Javascript object>"
      ]
     },
     "metadata": {},
     "output_type": "display_data"
    }
   ],
   "source": [
    "print(len(ytrain))"
   ]
  },
  {
   "cell_type": "markdown",
   "metadata": {},
   "source": [
    "# Load Test DataSet"
   ]
  },
  {
   "cell_type": "code",
   "execution_count": 29,
   "metadata": {},
   "outputs": [
    {
     "name": "stdout",
     "output_type": "stream",
     "text": [
      "Number of File Processed in txt_sentoken/neg is 100\n",
      "Number of File Processed in txt_sentoken/pos is 100\n",
      "Length of   Negative Files = 100 \t Positive Files= 100 \t Doc = 200 \n"
     ]
    },
    {
     "data": {
      "application/javascript": [
       "\n",
       "        setTimeout(function() {\n",
       "            var nbb_cell_id = 29;\n",
       "            var nbb_formatted_code = \"test_docs, ytest = load_clean_dataset(vocab, train=False, op=0)\";\n",
       "            var nbb_cells = Jupyter.notebook.get_cells();\n",
       "            for (var i = 0; i < nbb_cells.length; ++i) {\n",
       "                if (nbb_cells[i].input_prompt_number == nbb_cell_id) {\n",
       "                    nbb_cells[i].set_text(nbb_formatted_code);\n",
       "                    break;\n",
       "                }\n",
       "            }\n",
       "        }, 500);\n",
       "        "
      ],
      "text/plain": [
       "<IPython.core.display.Javascript object>"
      ]
     },
     "metadata": {},
     "output_type": "display_data"
    }
   ],
   "source": [
    "test_docs, ytest = load_clean_dataset(vocab, train=False, op=0)"
   ]
  },
  {
   "cell_type": "markdown",
   "metadata": {},
   "source": [
    "# Keras Tokenizer To Implement Bag Of Words"
   ]
  },
  {
   "cell_type": "code",
   "execution_count": 30,
   "metadata": {},
   "outputs": [
    {
     "data": {
      "application/javascript": [
       "\n",
       "        setTimeout(function() {\n",
       "            var nbb_cell_id = 30;\n",
       "            var nbb_formatted_code = \"import pickle\";\n",
       "            var nbb_cells = Jupyter.notebook.get_cells();\n",
       "            for (var i = 0; i < nbb_cells.length; ++i) {\n",
       "                if (nbb_cells[i].input_prompt_number == nbb_cell_id) {\n",
       "                    nbb_cells[i].set_text(nbb_formatted_code);\n",
       "                    break;\n",
       "                }\n",
       "            }\n",
       "        }, 500);\n",
       "        "
      ],
      "text/plain": [
       "<IPython.core.display.Javascript object>"
      ]
     },
     "metadata": {},
     "output_type": "display_data"
    }
   ],
   "source": [
    "import pickle"
   ]
  },
  {
   "cell_type": "code",
   "execution_count": 31,
   "metadata": {},
   "outputs": [
    {
     "data": {
      "application/javascript": [
       "\n",
       "        setTimeout(function() {\n",
       "            var nbb_cell_id = 31;\n",
       "            var nbb_formatted_code = \"# Function To Tokenize\\ndef create_tokenizer(lines):\\n    tokenizer = Tokenizer()\\n    tokenizer.fit_on_texts(lines)\\n    return tokenizer\";\n",
       "            var nbb_cells = Jupyter.notebook.get_cells();\n",
       "            for (var i = 0; i < nbb_cells.length; ++i) {\n",
       "                if (nbb_cells[i].input_prompt_number == nbb_cell_id) {\n",
       "                    nbb_cells[i].set_text(nbb_formatted_code);\n",
       "                    break;\n",
       "                }\n",
       "            }\n",
       "        }, 500);\n",
       "        "
      ],
      "text/plain": [
       "<IPython.core.display.Javascript object>"
      ]
     },
     "metadata": {},
     "output_type": "display_data"
    }
   ],
   "source": [
    "# Function To Tokenize\n",
    "def create_tokenizer(lines):\n",
    "    tokenizer = Tokenizer()\n",
    "    tokenizer.fit_on_texts(lines)\n",
    "    return tokenizer"
   ]
  },
  {
   "cell_type": "code",
   "execution_count": 32,
   "metadata": {},
   "outputs": [
    {
     "data": {
      "application/javascript": [
       "\n",
       "        setTimeout(function() {\n",
       "            var nbb_cell_id = 32;\n",
       "            var nbb_formatted_code = \"# create the tokenizer\\ntokenizer = create_tokenizer(train_docs)\";\n",
       "            var nbb_cells = Jupyter.notebook.get_cells();\n",
       "            for (var i = 0; i < nbb_cells.length; ++i) {\n",
       "                if (nbb_cells[i].input_prompt_number == nbb_cell_id) {\n",
       "                    nbb_cells[i].set_text(nbb_formatted_code);\n",
       "                    break;\n",
       "                }\n",
       "            }\n",
       "        }, 500);\n",
       "        "
      ],
      "text/plain": [
       "<IPython.core.display.Javascript object>"
      ]
     },
     "metadata": {},
     "output_type": "display_data"
    }
   ],
   "source": [
    "# create the tokenizer\n",
    "tokenizer = create_tokenizer(train_docs)"
   ]
  },
  {
   "cell_type": "code",
   "execution_count": 33,
   "metadata": {},
   "outputs": [
    {
     "data": {
      "application/javascript": [
       "\n",
       "        setTimeout(function() {\n",
       "            var nbb_cell_id = 33;\n",
       "            var nbb_formatted_code = \"# with open('tokenizer_model_1.pickle', 'wb') as handle:\\n#     pickle.dump(tokenizer, handle, protocol=pickle.HIGHEST_PROTOCOL)\";\n",
       "            var nbb_cells = Jupyter.notebook.get_cells();\n",
       "            for (var i = 0; i < nbb_cells.length; ++i) {\n",
       "                if (nbb_cells[i].input_prompt_number == nbb_cell_id) {\n",
       "                    nbb_cells[i].set_text(nbb_formatted_code);\n",
       "                    break;\n",
       "                }\n",
       "            }\n",
       "        }, 500);\n",
       "        "
      ],
      "text/plain": [
       "<IPython.core.display.Javascript object>"
      ]
     },
     "metadata": {},
     "output_type": "display_data"
    }
   ],
   "source": [
    "# with open('tokenizer_model_1.pickle', 'wb') as handle:\n",
    "#     pickle.dump(tokenizer, handle, protocol=pickle.HIGHEST_PROTOCOL)"
   ]
  },
  {
   "cell_type": "code",
   "execution_count": 34,
   "metadata": {},
   "outputs": [
    {
     "name": "stdout",
     "output_type": "stream",
     "text": [
      "(1800, 14781) (200, 14781)\n"
     ]
    },
    {
     "data": {
      "application/javascript": [
       "\n",
       "        setTimeout(function() {\n",
       "            var nbb_cell_id = 34;\n",
       "            var nbb_formatted_code = \"# encode data\\nXtrain = tokenizer.texts_to_matrix(train_docs, mode=\\\"freq\\\")\\nXtest = tokenizer.texts_to_matrix(test_docs, mode=\\\"freq\\\")\\nprint(Xtrain.shape, Xtest.shape)\";\n",
       "            var nbb_cells = Jupyter.notebook.get_cells();\n",
       "            for (var i = 0; i < nbb_cells.length; ++i) {\n",
       "                if (nbb_cells[i].input_prompt_number == nbb_cell_id) {\n",
       "                    nbb_cells[i].set_text(nbb_formatted_code);\n",
       "                    break;\n",
       "                }\n",
       "            }\n",
       "        }, 500);\n",
       "        "
      ],
      "text/plain": [
       "<IPython.core.display.Javascript object>"
      ]
     },
     "metadata": {},
     "output_type": "display_data"
    }
   ],
   "source": [
    "# encode data\n",
    "Xtrain = tokenizer.texts_to_matrix(train_docs, mode=\"freq\")\n",
    "Xtest = tokenizer.texts_to_matrix(test_docs, mode=\"freq\")\n",
    "print(Xtrain.shape, Xtest.shape)"
   ]
  },
  {
   "cell_type": "markdown",
   "metadata": {},
   "source": [
    "# Benchmark Model"
   ]
  },
  {
   "cell_type": "code",
   "execution_count": 35,
   "metadata": {},
   "outputs": [
    {
     "data": {
      "text/plain": [
       "14781"
      ]
     },
     "execution_count": 35,
     "metadata": {},
     "output_type": "execute_result"
    },
    {
     "data": {
      "application/javascript": [
       "\n",
       "        setTimeout(function() {\n",
       "            var nbb_cell_id = 35;\n",
       "            var nbb_formatted_code = \"n_words = Xtest.shape[1]\\nn_words\";\n",
       "            var nbb_cells = Jupyter.notebook.get_cells();\n",
       "            for (var i = 0; i < nbb_cells.length; ++i) {\n",
       "                if (nbb_cells[i].input_prompt_number == nbb_cell_id) {\n",
       "                    nbb_cells[i].set_text(nbb_formatted_code);\n",
       "                    break;\n",
       "                }\n",
       "            }\n",
       "        }, 500);\n",
       "        "
      ],
      "text/plain": [
       "<IPython.core.display.Javascript object>"
      ]
     },
     "metadata": {},
     "output_type": "display_data"
    }
   ],
   "source": [
    "n_words = Xtest.shape[1]\n",
    "n_words"
   ]
  },
  {
   "cell_type": "code",
   "execution_count": 37,
   "metadata": {},
   "outputs": [
    {
     "data": {
      "application/javascript": [
       "\n",
       "        setTimeout(function() {\n",
       "            var nbb_cell_id = 37;\n",
       "            var nbb_formatted_code = \"# define the model\\ndef define_model(n_words):\\n    # define network\\n    model = Sequential()\\n    model.add(Dense(25, input_shape=(n_words,), activation=\\\"relu\\\"))\\n    model.add(Dense(1, activation=\\\"sigmoid\\\"))\\n    # compile network\\n    model.compile(loss=\\\"binary_crossentropy\\\", optimizer=\\\"adam\\\", metrics=[\\\"accuracy\\\"])\\n    # summarize defined model\\n    model.summary()\\n    plot_model(model, to_file=\\\"model.png\\\", show_shapes=True)\\n    return model\";\n",
       "            var nbb_cells = Jupyter.notebook.get_cells();\n",
       "            for (var i = 0; i < nbb_cells.length; ++i) {\n",
       "                if (nbb_cells[i].input_prompt_number == nbb_cell_id) {\n",
       "                    nbb_cells[i].set_text(nbb_formatted_code);\n",
       "                    break;\n",
       "                }\n",
       "            }\n",
       "        }, 500);\n",
       "        "
      ],
      "text/plain": [
       "<IPython.core.display.Javascript object>"
      ]
     },
     "metadata": {},
     "output_type": "display_data"
    }
   ],
   "source": [
    "# define the model\n",
    "def define_model(n_words):\n",
    "    # define network\n",
    "    model = Sequential()\n",
    "    model.add(Dense(25, input_shape=(n_words,), activation=\"relu\"))\n",
    "    model.add(Dense(1, activation=\"sigmoid\"))\n",
    "    # compile network\n",
    "    model.compile(loss=\"binary_crossentropy\", optimizer=\"adam\", metrics=[\"accuracy\"])\n",
    "    # summarize defined model\n",
    "    model.summary()\n",
    "    plot_model(model, to_file=\"model.png\", show_shapes=True)\n",
    "    return model"
   ]
  },
  {
   "cell_type": "code",
   "execution_count": 38,
   "metadata": {},
   "outputs": [
    {
     "name": "stdout",
     "output_type": "stream",
     "text": [
      "WARNING:tensorflow:From /home/ashish/anaconda3/lib/python3.7/site-packages/tensorflow/python/framework/op_def_library.py:263: colocate_with (from tensorflow.python.framework.ops) is deprecated and will be removed in a future version.\n",
      "Instructions for updating:\n",
      "Colocations handled automatically by placer.\n",
      "_________________________________________________________________\n",
      "Layer (type)                 Output Shape              Param #   \n",
      "=================================================================\n",
      "dense_1 (Dense)              (None, 25)                369550    \n",
      "_________________________________________________________________\n",
      "dense_2 (Dense)              (None, 1)                 26        \n",
      "=================================================================\n",
      "Total params: 369,576\n",
      "Trainable params: 369,576\n",
      "Non-trainable params: 0\n",
      "_________________________________________________________________\n"
     ]
    },
    {
     "data": {
      "application/javascript": [
       "\n",
       "        setTimeout(function() {\n",
       "            var nbb_cell_id = 38;\n",
       "            var nbb_formatted_code = \"# fit network\\nmodel = define_model(n_words)\";\n",
       "            var nbb_cells = Jupyter.notebook.get_cells();\n",
       "            for (var i = 0; i < nbb_cells.length; ++i) {\n",
       "                if (nbb_cells[i].input_prompt_number == nbb_cell_id) {\n",
       "                    nbb_cells[i].set_text(nbb_formatted_code);\n",
       "                    break;\n",
       "                }\n",
       "            }\n",
       "        }, 500);\n",
       "        "
      ],
      "text/plain": [
       "<IPython.core.display.Javascript object>"
      ]
     },
     "metadata": {},
     "output_type": "display_data"
    }
   ],
   "source": [
    "# fit network\n",
    "model = define_model(n_words)"
   ]
  },
  {
   "cell_type": "code",
   "execution_count": 39,
   "metadata": {},
   "outputs": [
    {
     "name": "stdout",
     "output_type": "stream",
     "text": [
      "WARNING:tensorflow:From /home/ashish/anaconda3/lib/python3.7/site-packages/tensorflow/python/ops/math_ops.py:3066: to_int32 (from tensorflow.python.ops.math_ops) is deprecated and will be removed in a future version.\n",
      "Instructions for updating:\n",
      "Use tf.cast instead.\n",
      "Epoch 1/10\n",
      "1800/1800 [==============================] - 1s 483us/step - loss: 0.6921 - acc: 0.6022\n",
      "Epoch 2/10\n",
      "1800/1800 [==============================] - 1s 379us/step - loss: 0.6868 - acc: 0.6972\n",
      "Epoch 3/10\n",
      "1800/1800 [==============================] - 1s 355us/step - loss: 0.6777 - acc: 0.7744\n",
      "Epoch 4/10\n",
      "1800/1800 [==============================] - 1s 374us/step - loss: 0.6634 - acc: 0.8594\n",
      "Epoch 5/10\n",
      "1800/1800 [==============================] - 1s 409us/step - loss: 0.6441 - acc: 0.8750\n",
      "Epoch 6/10\n",
      "1800/1800 [==============================] - 1s 342us/step - loss: 0.6203 - acc: 0.9233\n",
      "Epoch 7/10\n",
      "1800/1800 [==============================] - 1s 363us/step - loss: 0.5932 - acc: 0.9183\n",
      "Epoch 8/10\n",
      "1800/1800 [==============================] - 1s 326us/step - loss: 0.5642 - acc: 0.9361\n",
      "Epoch 9/10\n",
      "1800/1800 [==============================] - 1s 362us/step - loss: 0.5340 - acc: 0.9406\n",
      "Epoch 10/10\n",
      "1800/1800 [==============================] - 1s 329us/step - loss: 0.5034 - acc: 0.9422\n"
     ]
    },
    {
     "data": {
      "text/plain": [
       "<keras.callbacks.History at 0x7fd775575668>"
      ]
     },
     "execution_count": 39,
     "metadata": {},
     "output_type": "execute_result"
    },
    {
     "data": {
      "application/javascript": [
       "\n",
       "        setTimeout(function() {\n",
       "            var nbb_cell_id = 39;\n",
       "            var nbb_formatted_code = \"model.fit(Xtrain, ytrain, epochs=10, verbose=1)\";\n",
       "            var nbb_cells = Jupyter.notebook.get_cells();\n",
       "            for (var i = 0; i < nbb_cells.length; ++i) {\n",
       "                if (nbb_cells[i].input_prompt_number == nbb_cell_id) {\n",
       "                    nbb_cells[i].set_text(nbb_formatted_code);\n",
       "                    break;\n",
       "                }\n",
       "            }\n",
       "        }, 500);\n",
       "        "
      ],
      "text/plain": [
       "<IPython.core.display.Javascript object>"
      ]
     },
     "metadata": {},
     "output_type": "display_data"
    }
   ],
   "source": [
    "model.fit(Xtrain, ytrain, epochs=10, verbose=1)"
   ]
  },
  {
   "cell_type": "code",
   "execution_count": 40,
   "metadata": {},
   "outputs": [
    {
     "data": {
      "image/svg+xml": [
       "<svg height=\"191pt\" viewBox=\"0.00 0.00 160.00 191.00\" width=\"160pt\" xmlns=\"http://www.w3.org/2000/svg\" xmlns:xlink=\"http://www.w3.org/1999/xlink\">\n",
       "<g class=\"graph\" id=\"graph0\" transform=\"scale(1 1) rotate(0) translate(4 187)\">\n",
       "<title>G</title>\n",
       "<polygon fill=\"#ffffff\" points=\"-4,4 -4,-187 156,-187 156,4 -4,4\" stroke=\"transparent\"/>\n",
       "<!-- 140563373177880 -->\n",
       "<g class=\"node\" id=\"node1\">\n",
       "<title>140563373177880</title>\n",
       "<polygon fill=\"none\" points=\"12,-73.5 12,-109.5 140,-109.5 140,-73.5 12,-73.5\" stroke=\"#000000\"/>\n",
       "<text fill=\"#000000\" font-family=\"Times,serif\" font-size=\"14.00\" text-anchor=\"middle\" x=\"76\" y=\"-87.8\">dense_1: Dense</text>\n",
       "</g>\n",
       "<!-- 140564369690072 -->\n",
       "<g class=\"node\" id=\"node2\">\n",
       "<title>140564369690072</title>\n",
       "<polygon fill=\"none\" points=\"12,-.5 12,-36.5 140,-36.5 140,-.5 12,-.5\" stroke=\"#000000\"/>\n",
       "<text fill=\"#000000\" font-family=\"Times,serif\" font-size=\"14.00\" text-anchor=\"middle\" x=\"76\" y=\"-14.8\">dense_2: Dense</text>\n",
       "</g>\n",
       "<!-- 140563373177880&#45;&gt;140564369690072 -->\n",
       "<g class=\"edge\" id=\"edge2\">\n",
       "<title>140563373177880-&gt;140564369690072</title>\n",
       "<path d=\"M76,-73.4551C76,-65.3828 76,-55.6764 76,-46.6817\" fill=\"none\" stroke=\"#000000\"/>\n",
       "<polygon fill=\"#000000\" points=\"79.5001,-46.5903 76,-36.5904 72.5001,-46.5904 79.5001,-46.5903\" stroke=\"#000000\"/>\n",
       "</g>\n",
       "<!-- 140563373176032 -->\n",
       "<g class=\"node\" id=\"node3\">\n",
       "<title>140563373176032</title>\n",
       "<polygon fill=\"none\" points=\"0,-146.5 0,-182.5 152,-182.5 152,-146.5 0,-146.5\" stroke=\"#000000\"/>\n",
       "<text fill=\"#000000\" font-family=\"Times,serif\" font-size=\"14.00\" text-anchor=\"middle\" x=\"76\" y=\"-160.8\">140563373176032</text>\n",
       "</g>\n",
       "<!-- 140563373176032&#45;&gt;140563373177880 -->\n",
       "<g class=\"edge\" id=\"edge1\">\n",
       "<title>140563373176032-&gt;140563373177880</title>\n",
       "<path d=\"M76,-146.4551C76,-138.3828 76,-128.6764 76,-119.6817\" fill=\"none\" stroke=\"#000000\"/>\n",
       "<polygon fill=\"#000000\" points=\"79.5001,-119.5903 76,-109.5904 72.5001,-119.5904 79.5001,-119.5903\" stroke=\"#000000\"/>\n",
       "</g>\n",
       "</g>\n",
       "</svg>"
      ],
      "text/plain": [
       "<IPython.core.display.SVG object>"
      ]
     },
     "execution_count": 40,
     "metadata": {},
     "output_type": "execute_result"
    },
    {
     "data": {
      "application/javascript": [
       "\n",
       "        setTimeout(function() {\n",
       "            var nbb_cell_id = 40;\n",
       "            var nbb_formatted_code = \"# Plot of The Defined model\\nSVG(model_to_dot(model).create(prog=\\\"dot\\\", format=\\\"svg\\\"))\";\n",
       "            var nbb_cells = Jupyter.notebook.get_cells();\n",
       "            for (var i = 0; i < nbb_cells.length; ++i) {\n",
       "                if (nbb_cells[i].input_prompt_number == nbb_cell_id) {\n",
       "                    nbb_cells[i].set_text(nbb_formatted_code);\n",
       "                    break;\n",
       "                }\n",
       "            }\n",
       "        }, 500);\n",
       "        "
      ],
      "text/plain": [
       "<IPython.core.display.Javascript object>"
      ]
     },
     "metadata": {},
     "output_type": "display_data"
    }
   ],
   "source": [
    "# Plot of The Defined model\n",
    "SVG(model_to_dot(model).create(prog=\"dot\", format=\"svg\"))"
   ]
  },
  {
   "cell_type": "code",
   "execution_count": 41,
   "metadata": {},
   "outputs": [
    {
     "name": "stdout",
     "output_type": "stream",
     "text": [
      "Test Loss: 56.002145\n",
      "Test Accuracy: 84.500000\n"
     ]
    },
    {
     "data": {
      "application/javascript": [
       "\n",
       "        setTimeout(function() {\n",
       "            var nbb_cell_id = 41;\n",
       "            var nbb_formatted_code = \"# evaluate\\nloss, acc = model.evaluate(Xtest, ytest, verbose=0)\\nprint(\\\"Test Loss: %f\\\" % (loss * 100))\\nprint(\\\"Test Accuracy: %f\\\" % (acc * 100))\";\n",
       "            var nbb_cells = Jupyter.notebook.get_cells();\n",
       "            for (var i = 0; i < nbb_cells.length; ++i) {\n",
       "                if (nbb_cells[i].input_prompt_number == nbb_cell_id) {\n",
       "                    nbb_cells[i].set_text(nbb_formatted_code);\n",
       "                    break;\n",
       "                }\n",
       "            }\n",
       "        }, 500);\n",
       "        "
      ],
      "text/plain": [
       "<IPython.core.display.Javascript object>"
      ]
     },
     "metadata": {},
     "output_type": "display_data"
    }
   ],
   "source": [
    "# evaluate\n",
    "loss, acc = model.evaluate(Xtest, ytest, verbose=0)\n",
    "print(\"Test Loss: %f\" % (loss * 100))\n",
    "print(\"Test Accuracy: %f\" % (acc * 100))"
   ]
  },
  {
   "cell_type": "code",
   "execution_count": 43,
   "metadata": {},
   "outputs": [
    {
     "data": {
      "application/javascript": [
       "\n",
       "        setTimeout(function() {\n",
       "            var nbb_cell_id = 43;\n",
       "            var nbb_formatted_code = \"# # Save BagOfWords + MLP\\n# model1mlp_json = model.to_json()\\n# with open(\\\"model1mlp_json\\\", \\\"w\\\") as json_file:\\n#     json_file.write(model1mlp_json)\\n# # serialize weights to HDF5\\n# model.save_weights(\\\"model1mlp.h5\\\")\\n# print(\\\"Saved model to disk\\\")\";\n",
       "            var nbb_cells = Jupyter.notebook.get_cells();\n",
       "            for (var i = 0; i < nbb_cells.length; ++i) {\n",
       "                if (nbb_cells[i].input_prompt_number == nbb_cell_id) {\n",
       "                    nbb_cells[i].set_text(nbb_formatted_code);\n",
       "                    break;\n",
       "                }\n",
       "            }\n",
       "        }, 500);\n",
       "        "
      ],
      "text/plain": [
       "<IPython.core.display.Javascript object>"
      ]
     },
     "metadata": {},
     "output_type": "display_data"
    }
   ],
   "source": [
    "# # Save BagOfWords + MLP\n",
    "# model1mlp_json = model.to_json()\n",
    "# with open(\"model1mlp_json\", \"w\") as json_file:\n",
    "#     json_file.write(model1mlp_json)\n",
    "# # serialize weights to HDF5\n",
    "# model.save_weights(\"model1mlp.h5\")\n",
    "# print(\"Saved model to disk\")"
   ]
  },
  {
   "cell_type": "markdown",
   "metadata": {},
   "source": [
    "# Predicting Sentiment For Reviews For Benchmark Model.\n"
   ]
  },
  {
   "cell_type": "code",
   "execution_count": 45,
   "metadata": {},
   "outputs": [
    {
     "data": {
      "application/javascript": [
       "\n",
       "        setTimeout(function() {\n",
       "            var nbb_cell_id = 45;\n",
       "            var nbb_formatted_code = \"def predict_sentiment(review, vocab, tokenizer, model):\\n    tokens = clean_document(review)\\n    tokens = [w for w in tokens if w in vocab]\\n    line = \\\" \\\".join(tokens)\\n    print(line)\\n    encoded = tokenizer.texts_to_matrix([line], mode=\\\"freq\\\")\\n    yhat = model.predict(encoded, verbose=0)\\n    percent_pos = yhat[0, 0]\\n    if percent_pos < 0.49:\\n        return (1 - percent_pos), \\\"NEGATIVE\\\"\\n    else:\\n        return percent_pos, \\\"POSITIVE\\\"\";\n",
       "            var nbb_cells = Jupyter.notebook.get_cells();\n",
       "            for (var i = 0; i < nbb_cells.length; ++i) {\n",
       "                if (nbb_cells[i].input_prompt_number == nbb_cell_id) {\n",
       "                    nbb_cells[i].set_text(nbb_formatted_code);\n",
       "                    break;\n",
       "                }\n",
       "            }\n",
       "        }, 500);\n",
       "        "
      ],
      "text/plain": [
       "<IPython.core.display.Javascript object>"
      ]
     },
     "metadata": {},
     "output_type": "display_data"
    }
   ],
   "source": [
    "def predict_sentiment(review, vocab, tokenizer, model):\n",
    "    tokens = clean_document(review)\n",
    "    tokens = [w for w in tokens if w in vocab]\n",
    "    line = \" \".join(tokens)\n",
    "    print(line)\n",
    "    encoded = tokenizer.texts_to_matrix([line], mode=\"freq\")\n",
    "    yhat = model.predict(encoded, verbose=0)\n",
    "    percent_pos = yhat[0, 0]\n",
    "    if percent_pos < 0.49:\n",
    "        return (1 - percent_pos), \"NEGATIVE\"\n",
    "    else:\n",
    "        return percent_pos, \"POSITIVE\""
   ]
  },
  {
   "cell_type": "code",
   "execution_count": 46,
   "metadata": {
    "scrolled": true
   },
   "outputs": [
    {
     "name": "stdout",
     "output_type": "stream",
     "text": [
      "ok movie one time watch\n",
      "Review: [It is an ok movie one time watch]\n",
      "Sentiment: NEGATIVE (59.150%) \n",
      "\n",
      "best movie ever great recommend\n",
      "Review: [Best movie ever! It was great, I recommend it.]\n",
      "Sentiment: POSITIVE (88.779%) \n",
      "\n",
      "bad movie\n",
      "Review: [This is a bad movie.]\n",
      "Sentiment: NEGATIVE (89.195%) \n",
      "\n",
      "average one one time watch\n",
      "Review: [An above average one for one time watch.]\n",
      "Sentiment: POSITIVE (59.811%) \n",
      "\n",
      "give break top movie time even close bad guy movie one worst characters ever seen good flick tried build love peter parker girl sudden cant please movie become cult movie get good rating people afraid speak truth movie wasnt feel sequel might better dont build character much\n",
      "Review: [Give me a break. Top 200 movie of all time? Not even close. The bad guy in the movie was one of the worst characters I ever seen. It just was not a very good flick. It tried to build up the love between Peter Parker and the girl and then all of a sudden, he just cant be with her? Please. This movie will become a cult movie and will get good rating because people will be afraid to speak the truth, which was, this movie wasnt very good.However, I feel that the sequel might be better because they dont have to build up the character so much..]\n",
      "Sentiment: NEGATIVE (70.942%) \n",
      "\n",
      "ok greatest comic book movie still prefer original batman movie superman movie cool scenes overall disappointed tobey pretty good kirsten liked virgin suicide wasnt digging role fell flat opinion\n",
      "Review: [Spiderman was just ok. Its not the greatest comic book movie. I still prefer the original Batman movie, Superman and The Daredevil movie. Spiderman had a few cool scenes but overall I was disappointed. Tobey was pretty good. Kirsten, uhh, liked her in Virgin Suicide, wasnt digging her in this role. Fell flat in my opinion.]\n",
      "Sentiment: NEGATIVE (55.728%) \n",
      "\n"
     ]
    },
    {
     "data": {
      "application/javascript": [
       "\n",
       "        setTimeout(function() {\n",
       "            var nbb_cell_id = 46;\n",
       "            var nbb_formatted_code = \"#\\n# MLP\\n#\\nm_type = \\\"mlp\\\"\\n\\ntext = \\\"It is an ok movie one time watch\\\"\\npercent, sentiment = predict_sentiment(text, vocab, tokenizer, model)\\nprint(\\\"Review: [%s]\\\\nSentiment: %s (%.3f%%) \\\\n\\\" % (text, sentiment, percent * 100))\\n\\ntext = \\\"Best movie ever! It was great, I recommend it.\\\"\\npercent, sentiment = predict_sentiment(text, vocab, tokenizer, model)\\nprint(\\\"Review: [%s]\\\\nSentiment: %s (%.3f%%) \\\\n\\\" % (text, sentiment, percent * 100))\\n# test negative text\\n\\ntext = \\\"This is a bad movie.\\\"\\npercent, sentiment = predict_sentiment(text, vocab, tokenizer, model)\\nprint(\\\"Review: [%s]\\\\nSentiment: %s (%.3f%%) \\\\n\\\" % (text, sentiment, percent * 100))\\n\\ntext = \\\"An above average one for one time watch.\\\"\\npercent, sentiment = predict_sentiment(text, vocab, tokenizer, model)\\nprint(\\\"Review: [%s]\\\\nSentiment: %s (%.3f%%) \\\\n\\\" % (text, sentiment, percent * 100))\\n\\n\\ntext = \\\"Give me a break. Top 200 movie of all time? Not even close. The bad guy in the movie was one of the worst characters \\\\\\nI ever seen. It just was not a very good flick. It tried to build up the love between Peter Parker and the girl and then all of a sudden, he just \\\\\\ncant be with her? Please. This movie will become a cult movie and will get good rating because people will be afraid to speak the truth, which was, this movie wasnt very good.\\\\\\nHowever, I feel that the sequel might be better because they dont have to build up the character so much..\\\"\\npercent, sentiment = predict_sentiment(text, vocab, tokenizer, model)\\nprint(\\\"Review: [%s]\\\\nSentiment: %s (%.3f%%) \\\\n\\\" % (text, sentiment, percent * 100))\\n\\ntext = \\\"Spiderman was just ok. Its not the greatest comic book movie. I still prefer the original Batman movie, Superman and The Daredevil movie. Spiderman had a few cool scenes \\\\\\nbut overall I was disappointed. Tobey was pretty good. Kirsten, uhh, liked her in Virgin Suicide, \\\\\\nwasnt digging her in this role. Fell flat in my opinion.\\\"\\npercent, sentiment = predict_sentiment(text, vocab, tokenizer, model)\\nprint(\\\"Review: [%s]\\\\nSentiment: %s (%.3f%%) \\\\n\\\" % (text, sentiment, percent * 100))\";\n",
       "            var nbb_cells = Jupyter.notebook.get_cells();\n",
       "            for (var i = 0; i < nbb_cells.length; ++i) {\n",
       "                if (nbb_cells[i].input_prompt_number == nbb_cell_id) {\n",
       "                    nbb_cells[i].set_text(nbb_formatted_code);\n",
       "                    break;\n",
       "                }\n",
       "            }\n",
       "        }, 500);\n",
       "        "
      ],
      "text/plain": [
       "<IPython.core.display.Javascript object>"
      ]
     },
     "metadata": {},
     "output_type": "display_data"
    }
   ],
   "source": [
    "#\n",
    "# MLP\n",
    "#\n",
    "m_type = \"mlp\"\n",
    "\n",
    "text = \"It is an ok movie one time watch\"\n",
    "percent, sentiment = predict_sentiment(text, vocab, tokenizer, model)\n",
    "print(\"Review: [%s]\\nSentiment: %s (%.3f%%) \\n\" % (text, sentiment, percent * 100))\n",
    "\n",
    "text = \"Best movie ever! It was great, I recommend it.\"\n",
    "percent, sentiment = predict_sentiment(text, vocab, tokenizer, model)\n",
    "print(\"Review: [%s]\\nSentiment: %s (%.3f%%) \\n\" % (text, sentiment, percent * 100))\n",
    "# test negative text\n",
    "\n",
    "text = \"This is a bad movie.\"\n",
    "percent, sentiment = predict_sentiment(text, vocab, tokenizer, model)\n",
    "print(\"Review: [%s]\\nSentiment: %s (%.3f%%) \\n\" % (text, sentiment, percent * 100))\n",
    "\n",
    "text = \"An above average one for one time watch.\"\n",
    "percent, sentiment = predict_sentiment(text, vocab, tokenizer, model)\n",
    "print(\"Review: [%s]\\nSentiment: %s (%.3f%%) \\n\" % (text, sentiment, percent * 100))\n",
    "\n",
    "\n",
    "text = \"Give me a break. Top 200 movie of all time? Not even close. The bad guy in the movie was one of the worst characters \\\n",
    "I ever seen. It just was not a very good flick. It tried to build up the love between Peter Parker and the girl and then all of a sudden, he just \\\n",
    "cant be with her? Please. This movie will become a cult movie and will get good rating because people will be afraid to speak the truth, which was, this movie wasnt very good.\\\n",
    "However, I feel that the sequel might be better because they dont have to build up the character so much..\"\n",
    "percent, sentiment = predict_sentiment(text, vocab, tokenizer, model)\n",
    "print(\"Review: [%s]\\nSentiment: %s (%.3f%%) \\n\" % (text, sentiment, percent * 100))\n",
    "\n",
    "text = \"Spiderman was just ok. Its not the greatest comic book movie. I still prefer the original Batman movie, Superman and The Daredevil movie. Spiderman had a few cool scenes \\\n",
    "but overall I was disappointed. Tobey was pretty good. Kirsten, uhh, liked her in Virgin Suicide, \\\n",
    "wasnt digging her in this role. Fell flat in my opinion.\"\n",
    "percent, sentiment = predict_sentiment(text, vocab, tokenizer, model)\n",
    "print(\"Review: [%s]\\nSentiment: %s (%.3f%%) \\n\" % (text, sentiment, percent * 100))"
   ]
  },
  {
   "cell_type": "markdown",
   "metadata": {},
   "source": [
    "# CNN with Embedding Layer Model\n",
    "\n",
    "I will test different options to see which gives the best result on this problem ."
   ]
  },
  {
   "cell_type": "markdown",
   "metadata": {},
   "source": [
    "CNN With Embedding Layer"
   ]
  },
  {
   "cell_type": "code",
   "execution_count": 47,
   "metadata": {},
   "outputs": [
    {
     "name": "stdout",
     "output_type": "stream",
     "text": [
      "Number of File Processed in txt_sentoken/neg is 900\n",
      "Number of File Processed in txt_sentoken/pos is 900\n",
      "Length of   Negative Files = 900 \t Positive Files= 900 \t Doc = 1800 \n",
      "Number of File Processed in txt_sentoken/neg is 100\n",
      "Number of File Processed in txt_sentoken/pos is 100\n",
      "Length of   Negative Files = 100 \t Positive Files= 100 \t Doc = 200 \n"
     ]
    },
    {
     "data": {
      "application/javascript": [
       "\n",
       "        setTimeout(function() {\n",
       "            var nbb_cell_id = 47;\n",
       "            var nbb_formatted_code = \"# Load Train And test Set for Embedding\\n\\ncnn_train_docs, ytrain = load_clean_dataset(vocab, train=True, op=0, m_type=\\\"cnn\\\")\\ncnn_test_docs, ytest = load_clean_dataset(vocab, train=False, op=0, m_type=\\\"cnn\\\")\";\n",
       "            var nbb_cells = Jupyter.notebook.get_cells();\n",
       "            for (var i = 0; i < nbb_cells.length; ++i) {\n",
       "                if (nbb_cells[i].input_prompt_number == nbb_cell_id) {\n",
       "                    nbb_cells[i].set_text(nbb_formatted_code);\n",
       "                    break;\n",
       "                }\n",
       "            }\n",
       "        }, 500);\n",
       "        "
      ],
      "text/plain": [
       "<IPython.core.display.Javascript object>"
      ]
     },
     "metadata": {},
     "output_type": "display_data"
    }
   ],
   "source": [
    "# Load Train And test Set for Embedding\n",
    "\n",
    "cnn_train_docs, ytrain = load_clean_dataset(vocab, train=True, op=0, m_type=\"cnn\")\n",
    "cnn_test_docs, ytest = load_clean_dataset(vocab, train=False, op=0, m_type=\"cnn\")"
   ]
  },
  {
   "cell_type": "code",
   "execution_count": 48,
   "metadata": {},
   "outputs": [
    {
     "name": "stdout",
     "output_type": "stream",
     "text": [
      "Maximum length: 1244\n"
     ]
    },
    {
     "data": {
      "application/javascript": [
       "\n",
       "        setTimeout(function() {\n",
       "            var nbb_cell_id = 48;\n",
       "            var nbb_formatted_code = \"max_length = max([len(s.split()) for s in cnn_train_docs])\\nprint(\\\"Maximum length: %d\\\" % max_length)\";\n",
       "            var nbb_cells = Jupyter.notebook.get_cells();\n",
       "            for (var i = 0; i < nbb_cells.length; ++i) {\n",
       "                if (nbb_cells[i].input_prompt_number == nbb_cell_id) {\n",
       "                    nbb_cells[i].set_text(nbb_formatted_code);\n",
       "                    break;\n",
       "                }\n",
       "            }\n",
       "        }, 500);\n",
       "        "
      ],
      "text/plain": [
       "<IPython.core.display.Javascript object>"
      ]
     },
     "metadata": {},
     "output_type": "display_data"
    }
   ],
   "source": [
    "max_length = max([len(s.split()) for s in cnn_train_docs])\n",
    "print(\"Maximum length: %d\" % max_length)"
   ]
  },
  {
   "cell_type": "code",
   "execution_count": 49,
   "metadata": {},
   "outputs": [
    {
     "data": {
      "application/javascript": [
       "\n",
       "        setTimeout(function() {\n",
       "            var nbb_cell_id = 49;\n",
       "            var nbb_formatted_code = \"def encode_documents(tokenizer, max_length, docs):\\n    encoded = tokenizer.texts_to_sequences(docs)\\n    padded = pad_sequences(encoded, maxlen=max_length, padding=\\\"post\\\")\\n    return padded\";\n",
       "            var nbb_cells = Jupyter.notebook.get_cells();\n",
       "            for (var i = 0; i < nbb_cells.length; ++i) {\n",
       "                if (nbb_cells[i].input_prompt_number == nbb_cell_id) {\n",
       "                    nbb_cells[i].set_text(nbb_formatted_code);\n",
       "                    break;\n",
       "                }\n",
       "            }\n",
       "        }, 500);\n",
       "        "
      ],
      "text/plain": [
       "<IPython.core.display.Javascript object>"
      ]
     },
     "metadata": {},
     "output_type": "display_data"
    }
   ],
   "source": [
    "def encode_documents(tokenizer, max_length, docs):\n",
    "    encoded = tokenizer.texts_to_sequences(docs)\n",
    "    padded = pad_sequences(encoded, maxlen=max_length, padding=\"post\")\n",
    "    return padded"
   ]
  },
  {
   "cell_type": "code",
   "execution_count": 50,
   "metadata": {},
   "outputs": [
    {
     "data": {
      "application/javascript": [
       "\n",
       "        setTimeout(function() {\n",
       "            var nbb_cell_id = 50;\n",
       "            var nbb_formatted_code = \"def define_embed_cnn_model(vocab_size, max_length):\\n    model = Sequential()\\n    model.add(Embedding(vocab_size, 100, input_length=max_length))\\n    model.add(Conv1D(filters=32, kernel_size=8, activation=\\\"relu\\\"))\\n    model.add(MaxPooling1D(pool_size=2))\\n    model.add(Flatten())\\n    model.add(Dense(10, activation=\\\"relu\\\"))\\n    model.add(Dense(1, activation=\\\"sigmoid\\\"))\\n    # compile network\\n    model.compile(loss=\\\"binary_crossentropy\\\", optimizer=\\\"adam\\\", metrics=[\\\"accuracy\\\"])\\n\\n    #     filepath=\\\"weights.best.hdf5\\\"\\n    #     checkpoint = ModelCheckpoint(filepath, monitor= 'val_acc' , verbose=1, save_best_only=True,\\n    #     mode= max )\\n    #     callbacks_list = [checkpoint]\\n    # summarize defined model\\n    model.summary()\\n    plot_model(model, to_file=\\\"cnn_model.png\\\", show_shapes=True)\\n    #     return model,callbacks_list\\n    return model\";\n",
       "            var nbb_cells = Jupyter.notebook.get_cells();\n",
       "            for (var i = 0; i < nbb_cells.length; ++i) {\n",
       "                if (nbb_cells[i].input_prompt_number == nbb_cell_id) {\n",
       "                    nbb_cells[i].set_text(nbb_formatted_code);\n",
       "                    break;\n",
       "                }\n",
       "            }\n",
       "        }, 500);\n",
       "        "
      ],
      "text/plain": [
       "<IPython.core.display.Javascript object>"
      ]
     },
     "metadata": {},
     "output_type": "display_data"
    }
   ],
   "source": [
    "def define_embed_cnn_model(vocab_size, max_length):\n",
    "    model = Sequential()\n",
    "    model.add(Embedding(vocab_size, 100, input_length=max_length))\n",
    "    model.add(Conv1D(filters=32, kernel_size=8, activation=\"relu\"))\n",
    "    model.add(MaxPooling1D(pool_size=2))\n",
    "    model.add(Flatten())\n",
    "    model.add(Dense(10, activation=\"relu\"))\n",
    "    model.add(Dense(1, activation=\"sigmoid\"))\n",
    "    # compile network\n",
    "    model.compile(loss=\"binary_crossentropy\", optimizer=\"adam\", metrics=[\"accuracy\"])\n",
    "\n",
    "    #     filepath=\"weights.best.hdf5\"\n",
    "    #     checkpoint = ModelCheckpoint(filepath, monitor= 'val_acc' , verbose=1, save_best_only=True,\n",
    "    #     mode= max )\n",
    "    #     callbacks_list = [checkpoint]\n",
    "    # summarize defined model\n",
    "    model.summary()\n",
    "    plot_model(model, to_file=\"cnn_model.png\", show_shapes=True)\n",
    "    #     return model,callbacks_list\n",
    "    return model"
   ]
  },
  {
   "cell_type": "code",
   "execution_count": 51,
   "metadata": {},
   "outputs": [
    {
     "name": "stdout",
     "output_type": "stream",
     "text": [
      "Vocabulary Size 14781\n"
     ]
    },
    {
     "data": {
      "application/javascript": [
       "\n",
       "        setTimeout(function() {\n",
       "            var nbb_cell_id = 51;\n",
       "            var nbb_formatted_code = \"cnn_tokenizer = create_tokenizer(cnn_train_docs)\\nvocabulary_size = len(cnn_tokenizer.word_index) + 1\\nprint(\\\"Vocabulary Size %d\\\" % vocabulary_size)\";\n",
       "            var nbb_cells = Jupyter.notebook.get_cells();\n",
       "            for (var i = 0; i < nbb_cells.length; ++i) {\n",
       "                if (nbb_cells[i].input_prompt_number == nbb_cell_id) {\n",
       "                    nbb_cells[i].set_text(nbb_formatted_code);\n",
       "                    break;\n",
       "                }\n",
       "            }\n",
       "        }, 500);\n",
       "        "
      ],
      "text/plain": [
       "<IPython.core.display.Javascript object>"
      ]
     },
     "metadata": {},
     "output_type": "display_data"
    }
   ],
   "source": [
    "cnn_tokenizer = create_tokenizer(cnn_train_docs)\n",
    "vocabulary_size = len(cnn_tokenizer.word_index) + 1\n",
    "print(\"Vocabulary Size %d\" % vocabulary_size)"
   ]
  },
  {
   "cell_type": "code",
   "execution_count": 53,
   "metadata": {},
   "outputs": [
    {
     "data": {
      "application/javascript": [
       "\n",
       "        setTimeout(function() {\n",
       "            var nbb_cell_id = 53;\n",
       "            var nbb_formatted_code = \"# with open(\\\"tokenizer_model_2.pickle\\\", \\\"wb\\\") as handle:\\n#     pickle.dump(cnn_tokenizer, handle, protocol=pickle.HIGHEST_PROTOCOL)\";\n",
       "            var nbb_cells = Jupyter.notebook.get_cells();\n",
       "            for (var i = 0; i < nbb_cells.length; ++i) {\n",
       "                if (nbb_cells[i].input_prompt_number == nbb_cell_id) {\n",
       "                    nbb_cells[i].set_text(nbb_formatted_code);\n",
       "                    break;\n",
       "                }\n",
       "            }\n",
       "        }, 500);\n",
       "        "
      ],
      "text/plain": [
       "<IPython.core.display.Javascript object>"
      ]
     },
     "metadata": {},
     "output_type": "display_data"
    }
   ],
   "source": [
    "# with open(\"tokenizer_model_2.pickle\", \"wb\") as handle:\n",
    "#     pickle.dump(cnn_tokenizer, handle, protocol=pickle.HIGHEST_PROTOCOL)"
   ]
  },
  {
   "cell_type": "code",
   "execution_count": 54,
   "metadata": {},
   "outputs": [
    {
     "data": {
      "application/javascript": [
       "\n",
       "        setTimeout(function() {\n",
       "            var nbb_cell_id = 54;\n",
       "            var nbb_formatted_code = \"# def predict_sentiment(review, vocab, tokenizer,max_length, model):\\n#     tokens = clean_document(review)\\n#     tokens = [w for w in tokens if w in vocab]\\n#     line = ' '.join(tokens)\\n#     padded=encode_documents(tokenizer,max_length,[line])\\n#     # predict sentiment\\n#     yhat = model.predict(padded, verbose=0)\\n#     percent_pos = yhat[0,0]\\n#     print(percent_pos)\\n#     if percent_pos < 0.49:\\n#         return (1-percent_pos), 'NEGATIVE'\\n#     else:\\n#         if percent_pos >0.5 and percent_pos<0.5045:\\n#             return percent_pos, 'NEUTRAL'\\n#         else:\\n#             return percent_pos, 'POSITIVE'\";\n",
       "            var nbb_cells = Jupyter.notebook.get_cells();\n",
       "            for (var i = 0; i < nbb_cells.length; ++i) {\n",
       "                if (nbb_cells[i].input_prompt_number == nbb_cell_id) {\n",
       "                    nbb_cells[i].set_text(nbb_formatted_code);\n",
       "                    break;\n",
       "                }\n",
       "            }\n",
       "        }, 500);\n",
       "        "
      ],
      "text/plain": [
       "<IPython.core.display.Javascript object>"
      ]
     },
     "metadata": {},
     "output_type": "display_data"
    }
   ],
   "source": [
    "# def predict_sentiment(review, vocab, tokenizer,max_length, model):\n",
    "#     tokens = clean_document(review)\n",
    "#     tokens = [w for w in tokens if w in vocab]\n",
    "#     line = ' '.join(tokens)\n",
    "#     padded=encode_documents(tokenizer,max_length,[line])\n",
    "#     # predict sentiment\n",
    "#     yhat = model.predict(padded, verbose=0)\n",
    "#     percent_pos = yhat[0,0]\n",
    "#     print(percent_pos)\n",
    "#     if percent_pos < 0.49:\n",
    "#         return (1-percent_pos), 'NEGATIVE'\n",
    "#     else:\n",
    "#         if percent_pos >0.5 and percent_pos<0.5045:\n",
    "#             return percent_pos, 'NEUTRAL'\n",
    "#         else:\n",
    "#             return percent_pos, 'POSITIVE'"
   ]
  },
  {
   "cell_type": "code",
   "execution_count": 55,
   "metadata": {},
   "outputs": [
    {
     "name": "stdout",
     "output_type": "stream",
     "text": [
      "1800\n",
      "200\n"
     ]
    },
    {
     "data": {
      "application/javascript": [
       "\n",
       "        setTimeout(function() {\n",
       "            var nbb_cell_id = 55;\n",
       "            var nbb_formatted_code = \"cnn_Xtrain = encode_documents(cnn_tokenizer, max_length, cnn_train_docs)\\ncnn_Xtest = encode_documents(cnn_tokenizer, max_length, cnn_test_docs)\\n\\nprint(len(cnn_Xtrain))\\nprint(len(cnn_Xtest))\";\n",
       "            var nbb_cells = Jupyter.notebook.get_cells();\n",
       "            for (var i = 0; i < nbb_cells.length; ++i) {\n",
       "                if (nbb_cells[i].input_prompt_number == nbb_cell_id) {\n",
       "                    nbb_cells[i].set_text(nbb_formatted_code);\n",
       "                    break;\n",
       "                }\n",
       "            }\n",
       "        }, 500);\n",
       "        "
      ],
      "text/plain": [
       "<IPython.core.display.Javascript object>"
      ]
     },
     "metadata": {},
     "output_type": "display_data"
    }
   ],
   "source": [
    "cnn_Xtrain = encode_documents(cnn_tokenizer, max_length, cnn_train_docs)\n",
    "cnn_Xtest = encode_documents(cnn_tokenizer, max_length, cnn_test_docs)\n",
    "\n",
    "print(len(cnn_Xtrain))\n",
    "print(len(cnn_Xtest))"
   ]
  },
  {
   "cell_type": "code",
   "execution_count": 56,
   "metadata": {},
   "outputs": [
    {
     "name": "stdout",
     "output_type": "stream",
     "text": [
      "_________________________________________________________________\n",
      "Layer (type)                 Output Shape              Param #   \n",
      "=================================================================\n",
      "embedding_1 (Embedding)      (None, 1244, 100)         1478100   \n",
      "_________________________________________________________________\n",
      "conv1d_1 (Conv1D)            (None, 1237, 32)          25632     \n",
      "_________________________________________________________________\n",
      "max_pooling1d_1 (MaxPooling1 (None, 618, 32)           0         \n",
      "_________________________________________________________________\n",
      "flatten_1 (Flatten)          (None, 19776)             0         \n",
      "_________________________________________________________________\n",
      "dense_3 (Dense)              (None, 10)                197770    \n",
      "_________________________________________________________________\n",
      "dense_4 (Dense)              (None, 1)                 11        \n",
      "=================================================================\n",
      "Total params: 1,701,513\n",
      "Trainable params: 1,701,513\n",
      "Non-trainable params: 0\n",
      "_________________________________________________________________\n"
     ]
    },
    {
     "data": {
      "application/javascript": [
       "\n",
       "        setTimeout(function() {\n",
       "            var nbb_cell_id = 56;\n",
       "            var nbb_formatted_code = \"embed_cnn_model = define_embed_cnn_model(vocabulary_size, max_length)\\n\\n# embed_cnn_model,callb=define_embed_cnn_model(vocabulary_size,max_length)\";\n",
       "            var nbb_cells = Jupyter.notebook.get_cells();\n",
       "            for (var i = 0; i < nbb_cells.length; ++i) {\n",
       "                if (nbb_cells[i].input_prompt_number == nbb_cell_id) {\n",
       "                    nbb_cells[i].set_text(nbb_formatted_code);\n",
       "                    break;\n",
       "                }\n",
       "            }\n",
       "        }, 500);\n",
       "        "
      ],
      "text/plain": [
       "<IPython.core.display.Javascript object>"
      ]
     },
     "metadata": {},
     "output_type": "display_data"
    }
   ],
   "source": [
    "embed_cnn_model = define_embed_cnn_model(vocabulary_size, max_length)\n",
    "\n",
    "# embed_cnn_model,callb=define_embed_cnn_model(vocabulary_size,max_length)"
   ]
  },
  {
   "cell_type": "code",
   "execution_count": 57,
   "metadata": {},
   "outputs": [
    {
     "data": {
      "image/svg+xml": [
       "<svg height=\"483pt\" viewBox=\"0.00 0.00 262.00 483.00\" width=\"262pt\" xmlns=\"http://www.w3.org/2000/svg\" xmlns:xlink=\"http://www.w3.org/1999/xlink\">\n",
       "<g class=\"graph\" id=\"graph0\" transform=\"scale(1 1) rotate(0) translate(4 479)\">\n",
       "<title>G</title>\n",
       "<polygon fill=\"#ffffff\" points=\"-4,4 -4,-479 258,-479 258,4 -4,4\" stroke=\"transparent\"/>\n",
       "<!-- 140563113028352 -->\n",
       "<g class=\"node\" id=\"node1\">\n",
       "<title>140563113028352</title>\n",
       "<polygon fill=\"none\" points=\"25.5,-365.5 25.5,-401.5 228.5,-401.5 228.5,-365.5 25.5,-365.5\" stroke=\"#000000\"/>\n",
       "<text fill=\"#000000\" font-family=\"Times,serif\" font-size=\"14.00\" text-anchor=\"middle\" x=\"127\" y=\"-379.8\">embedding_1: Embedding</text>\n",
       "</g>\n",
       "<!-- 140563113064096 -->\n",
       "<g class=\"node\" id=\"node2\">\n",
       "<title>140563113064096</title>\n",
       "<polygon fill=\"none\" points=\"51.5,-292.5 51.5,-328.5 202.5,-328.5 202.5,-292.5 51.5,-292.5\" stroke=\"#000000\"/>\n",
       "<text fill=\"#000000\" font-family=\"Times,serif\" font-size=\"14.00\" text-anchor=\"middle\" x=\"127\" y=\"-306.8\">conv1d_1: Conv1D</text>\n",
       "</g>\n",
       "<!-- 140563113028352&#45;&gt;140563113064096 -->\n",
       "<g class=\"edge\" id=\"edge2\">\n",
       "<title>140563113028352-&gt;140563113064096</title>\n",
       "<path d=\"M127,-365.4551C127,-357.3828 127,-347.6764 127,-338.6817\" fill=\"none\" stroke=\"#000000\"/>\n",
       "<polygon fill=\"#000000\" points=\"130.5001,-338.5903 127,-328.5904 123.5001,-338.5904 130.5001,-338.5903\" stroke=\"#000000\"/>\n",
       "</g>\n",
       "<!-- 140563113164872 -->\n",
       "<g class=\"node\" id=\"node3\">\n",
       "<title>140563113164872</title>\n",
       "<polygon fill=\"none\" points=\"0,-219.5 0,-255.5 254,-255.5 254,-219.5 0,-219.5\" stroke=\"#000000\"/>\n",
       "<text fill=\"#000000\" font-family=\"Times,serif\" font-size=\"14.00\" text-anchor=\"middle\" x=\"127\" y=\"-233.8\">max_pooling1d_1: MaxPooling1D</text>\n",
       "</g>\n",
       "<!-- 140563113064096&#45;&gt;140563113164872 -->\n",
       "<g class=\"edge\" id=\"edge3\">\n",
       "<title>140563113064096-&gt;140563113164872</title>\n",
       "<path d=\"M127,-292.4551C127,-284.3828 127,-274.6764 127,-265.6817\" fill=\"none\" stroke=\"#000000\"/>\n",
       "<polygon fill=\"#000000\" points=\"130.5001,-265.5903 127,-255.5904 123.5001,-265.5904 130.5001,-265.5903\" stroke=\"#000000\"/>\n",
       "</g>\n",
       "<!-- 140563113028520 -->\n",
       "<g class=\"node\" id=\"node4\">\n",
       "<title>140563113028520</title>\n",
       "<polygon fill=\"none\" points=\"56.5,-146.5 56.5,-182.5 197.5,-182.5 197.5,-146.5 56.5,-146.5\" stroke=\"#000000\"/>\n",
       "<text fill=\"#000000\" font-family=\"Times,serif\" font-size=\"14.00\" text-anchor=\"middle\" x=\"127\" y=\"-160.8\">flatten_1: Flatten</text>\n",
       "</g>\n",
       "<!-- 140563113164872&#45;&gt;140563113028520 -->\n",
       "<g class=\"edge\" id=\"edge4\">\n",
       "<title>140563113164872-&gt;140563113028520</title>\n",
       "<path d=\"M127,-219.4551C127,-211.3828 127,-201.6764 127,-192.6817\" fill=\"none\" stroke=\"#000000\"/>\n",
       "<polygon fill=\"#000000\" points=\"130.5001,-192.5903 127,-182.5904 123.5001,-192.5904 130.5001,-192.5903\" stroke=\"#000000\"/>\n",
       "</g>\n",
       "<!-- 140563113367760 -->\n",
       "<g class=\"node\" id=\"node5\">\n",
       "<title>140563113367760</title>\n",
       "<polygon fill=\"none\" points=\"63,-73.5 63,-109.5 191,-109.5 191,-73.5 63,-73.5\" stroke=\"#000000\"/>\n",
       "<text fill=\"#000000\" font-family=\"Times,serif\" font-size=\"14.00\" text-anchor=\"middle\" x=\"127\" y=\"-87.8\">dense_3: Dense</text>\n",
       "</g>\n",
       "<!-- 140563113028520&#45;&gt;140563113367760 -->\n",
       "<g class=\"edge\" id=\"edge5\">\n",
       "<title>140563113028520-&gt;140563113367760</title>\n",
       "<path d=\"M127,-146.4551C127,-138.3828 127,-128.6764 127,-119.6817\" fill=\"none\" stroke=\"#000000\"/>\n",
       "<polygon fill=\"#000000\" points=\"130.5001,-119.5903 127,-109.5904 123.5001,-119.5904 130.5001,-119.5903\" stroke=\"#000000\"/>\n",
       "</g>\n",
       "<!-- 140563113490192 -->\n",
       "<g class=\"node\" id=\"node6\">\n",
       "<title>140563113490192</title>\n",
       "<polygon fill=\"none\" points=\"63,-.5 63,-36.5 191,-36.5 191,-.5 63,-.5\" stroke=\"#000000\"/>\n",
       "<text fill=\"#000000\" font-family=\"Times,serif\" font-size=\"14.00\" text-anchor=\"middle\" x=\"127\" y=\"-14.8\">dense_4: Dense</text>\n",
       "</g>\n",
       "<!-- 140563113367760&#45;&gt;140563113490192 -->\n",
       "<g class=\"edge\" id=\"edge6\">\n",
       "<title>140563113367760-&gt;140563113490192</title>\n",
       "<path d=\"M127,-73.4551C127,-65.3828 127,-55.6764 127,-46.6817\" fill=\"none\" stroke=\"#000000\"/>\n",
       "<polygon fill=\"#000000\" points=\"130.5001,-46.5903 127,-36.5904 123.5001,-46.5904 130.5001,-46.5903\" stroke=\"#000000\"/>\n",
       "</g>\n",
       "<!-- 140563113062584 -->\n",
       "<g class=\"node\" id=\"node7\">\n",
       "<title>140563113062584</title>\n",
       "<polygon fill=\"none\" points=\"51,-438.5 51,-474.5 203,-474.5 203,-438.5 51,-438.5\" stroke=\"#000000\"/>\n",
       "<text fill=\"#000000\" font-family=\"Times,serif\" font-size=\"14.00\" text-anchor=\"middle\" x=\"127\" y=\"-452.8\">140563113062584</text>\n",
       "</g>\n",
       "<!-- 140563113062584&#45;&gt;140563113028352 -->\n",
       "<g class=\"edge\" id=\"edge1\">\n",
       "<title>140563113062584-&gt;140563113028352</title>\n",
       "<path d=\"M127,-438.4551C127,-430.3828 127,-420.6764 127,-411.6817\" fill=\"none\" stroke=\"#000000\"/>\n",
       "<polygon fill=\"#000000\" points=\"130.5001,-411.5903 127,-401.5904 123.5001,-411.5904 130.5001,-411.5903\" stroke=\"#000000\"/>\n",
       "</g>\n",
       "</g>\n",
       "</svg>"
      ],
      "text/plain": [
       "<IPython.core.display.SVG object>"
      ]
     },
     "execution_count": 57,
     "metadata": {},
     "output_type": "execute_result"
    },
    {
     "data": {
      "application/javascript": [
       "\n",
       "        setTimeout(function() {\n",
       "            var nbb_cell_id = 57;\n",
       "            var nbb_formatted_code = \"# Plot of The Defined model\\nSVG(model_to_dot(embed_cnn_model).create(prog=\\\"dot\\\", format=\\\"svg\\\"))\";\n",
       "            var nbb_cells = Jupyter.notebook.get_cells();\n",
       "            for (var i = 0; i < nbb_cells.length; ++i) {\n",
       "                if (nbb_cells[i].input_prompt_number == nbb_cell_id) {\n",
       "                    nbb_cells[i].set_text(nbb_formatted_code);\n",
       "                    break;\n",
       "                }\n",
       "            }\n",
       "        }, 500);\n",
       "        "
      ],
      "text/plain": [
       "<IPython.core.display.Javascript object>"
      ]
     },
     "metadata": {},
     "output_type": "display_data"
    }
   ],
   "source": [
    "# Plot of The Defined model\n",
    "SVG(model_to_dot(embed_cnn_model).create(prog=\"dot\", format=\"svg\"))"
   ]
  },
  {
   "cell_type": "code",
   "execution_count": 58,
   "metadata": {},
   "outputs": [
    {
     "name": "stdout",
     "output_type": "stream",
     "text": [
      "Epoch 1/10\n",
      "1800/1800 [==============================] - 14s 8ms/step - loss: 0.6902 - acc: 0.5211\n",
      "Epoch 2/10\n",
      "1800/1800 [==============================] - 13s 7ms/step - loss: 0.5464 - acc: 0.7239\n",
      "Epoch 3/10\n",
      "1800/1800 [==============================] - 16s 9ms/step - loss: 0.1009 - acc: 0.9767\n",
      "Epoch 4/10\n",
      "1800/1800 [==============================] - 14s 8ms/step - loss: 0.0087 - acc: 1.0000\n",
      "Epoch 5/10\n",
      "1800/1800 [==============================] - 16s 9ms/step - loss: 0.0026 - acc: 1.0000\n",
      "Epoch 6/10\n",
      "1800/1800 [==============================] - 14s 8ms/step - loss: 0.0016 - acc: 1.0000\n",
      "Epoch 7/10\n",
      "1800/1800 [==============================] - 15s 8ms/step - loss: 0.0012 - acc: 1.0000\n",
      "Epoch 8/10\n",
      "1800/1800 [==============================] - 14s 8ms/step - loss: 9.2217e-04 - acc: 1.0000\n",
      "Epoch 9/10\n",
      "1800/1800 [==============================] - 15s 8ms/step - loss: 7.5906e-04 - acc: 1.0000\n",
      "Epoch 10/10\n",
      "1800/1800 [==============================] - 15s 8ms/step - loss: 6.4534e-04 - acc: 1.0000\n"
     ]
    },
    {
     "data": {
      "text/plain": [
       "<keras.callbacks.History at 0x7fd76444e668>"
      ]
     },
     "execution_count": 58,
     "metadata": {},
     "output_type": "execute_result"
    },
    {
     "data": {
      "application/javascript": [
       "\n",
       "        setTimeout(function() {\n",
       "            var nbb_cell_id = 58;\n",
       "            var nbb_formatted_code = \"embed_cnn_model.fit(cnn_Xtrain, ytrain, epochs=10, verbose=1)\\n\\n# history=embed_cnn_model.fit(cnn_Xtrain, ytrain,validation_split=0.20 ,epochs=10, verbose=0,batch_size=100,callbacks=callb)\";\n",
       "            var nbb_cells = Jupyter.notebook.get_cells();\n",
       "            for (var i = 0; i < nbb_cells.length; ++i) {\n",
       "                if (nbb_cells[i].input_prompt_number == nbb_cell_id) {\n",
       "                    nbb_cells[i].set_text(nbb_formatted_code);\n",
       "                    break;\n",
       "                }\n",
       "            }\n",
       "        }, 500);\n",
       "        "
      ],
      "text/plain": [
       "<IPython.core.display.Javascript object>"
      ]
     },
     "metadata": {},
     "output_type": "display_data"
    }
   ],
   "source": [
    "embed_cnn_model.fit(cnn_Xtrain, ytrain, epochs=10, verbose=1)\n",
    "\n",
    "# history=embed_cnn_model.fit(cnn_Xtrain, ytrain,validation_split=0.20 ,epochs=10, verbose=0,batch_size=100,callbacks=callb)"
   ]
  },
  {
   "cell_type": "markdown",
   "metadata": {},
   "source": [
    "# History Of Accuracy And Loss"
   ]
  },
  {
   "cell_type": "code",
   "execution_count": 59,
   "metadata": {},
   "outputs": [
    {
     "data": {
      "application/javascript": [
       "\n",
       "        setTimeout(function() {\n",
       "            var nbb_cell_id = 59;\n",
       "            var nbb_formatted_code = \"#\\n# print(h`istory.history.keys())\\n\\n# # history for accuracy\\n# plt.plot(history.history['acc'])\\n# plt.plot(history.history['loss'])\\n# plt.title('model accuracy')\\n# plt.ylabel('accuracy')\\n# plt.xlabel('epoch')\\n# plt.legend(['train', 'test'], loc='upper left')\\n# plt.show()\\n\\n\\n# # history for loss\\n# plt.plot(history.history['loss'])\\n# plt.plot(history.history['val_loss'])\\n# plt.title('model loss')\\n# plt.ylabel('loss')\\n# plt.xlabel('epoch')\\n# plt.legend(['train', 'test'], loc='upper left')\\n# plt.show()\";\n",
       "            var nbb_cells = Jupyter.notebook.get_cells();\n",
       "            for (var i = 0; i < nbb_cells.length; ++i) {\n",
       "                if (nbb_cells[i].input_prompt_number == nbb_cell_id) {\n",
       "                    nbb_cells[i].set_text(nbb_formatted_code);\n",
       "                    break;\n",
       "                }\n",
       "            }\n",
       "        }, 500);\n",
       "        "
      ],
      "text/plain": [
       "<IPython.core.display.Javascript object>"
      ]
     },
     "metadata": {},
     "output_type": "display_data"
    }
   ],
   "source": [
    "#\n",
    "# print(h`istory.history.keys())\n",
    "\n",
    "# # history for accuracy\n",
    "# plt.plot(history.history['acc'])\n",
    "# plt.plot(history.history['loss'])\n",
    "# plt.title('model accuracy')\n",
    "# plt.ylabel('accuracy')\n",
    "# plt.xlabel('epoch')\n",
    "# plt.legend(['train', 'test'], loc='upper left')\n",
    "# plt.show()\n",
    "\n",
    "\n",
    "# # history for loss\n",
    "# plt.plot(history.history['loss'])\n",
    "# plt.plot(history.history['val_loss'])\n",
    "# plt.title('model loss')\n",
    "# plt.ylabel('loss')\n",
    "# plt.xlabel('epoch')\n",
    "# plt.legend(['train', 'test'], loc='upper left')\n",
    "# plt.show()"
   ]
  },
  {
   "cell_type": "markdown",
   "metadata": {},
   "source": [
    "# Evaluate Cnn Model "
   ]
  },
  {
   "cell_type": "code",
   "execution_count": 60,
   "metadata": {
    "scrolled": true
   },
   "outputs": [
    {
     "name": "stdout",
     "output_type": "stream",
     "text": [
      "1800/1800 [==============================] - 4s 2ms/step\n",
      "Train Loss: 0.058101\n",
      "Train Accuracy: 100.000000\n",
      "\n",
      "200/200 [==============================] - 0s 2ms/step\n",
      "Test Loss: 41.563410\n",
      "Test Accuracy: 87.500000\n"
     ]
    },
    {
     "data": {
      "application/javascript": [
       "\n",
       "        setTimeout(function() {\n",
       "            var nbb_cell_id = 60;\n",
       "            var nbb_formatted_code = \"# evaluate Train Accuracy and Loss\\ncnn_loss, cnn_acc = embed_cnn_model.evaluate(cnn_Xtrain, ytrain, verbose=1)\\nprint(\\\"Train Loss: %f\\\" % (cnn_loss * 100))\\nprint(\\\"Train Accuracy: %f\\\\n\\\" % (cnn_acc * 100))\\n\\n# evaluate Test Accuracy and Loss\\ncnn_loss, cnn_acc = embed_cnn_model.evaluate(cnn_Xtest, ytest, verbose=1)\\nprint(\\\"Test Loss: %f\\\" % (cnn_loss * 100))\\nprint(\\\"Test Accuracy: %f\\\" % (cnn_acc * 100))\";\n",
       "            var nbb_cells = Jupyter.notebook.get_cells();\n",
       "            for (var i = 0; i < nbb_cells.length; ++i) {\n",
       "                if (nbb_cells[i].input_prompt_number == nbb_cell_id) {\n",
       "                    nbb_cells[i].set_text(nbb_formatted_code);\n",
       "                    break;\n",
       "                }\n",
       "            }\n",
       "        }, 500);\n",
       "        "
      ],
      "text/plain": [
       "<IPython.core.display.Javascript object>"
      ]
     },
     "metadata": {},
     "output_type": "display_data"
    }
   ],
   "source": [
    "# evaluate Train Accuracy and Loss\n",
    "cnn_loss, cnn_acc = embed_cnn_model.evaluate(cnn_Xtrain, ytrain, verbose=1)\n",
    "print(\"Train Loss: %f\" % (cnn_loss * 100))\n",
    "print(\"Train Accuracy: %f\\n\" % (cnn_acc * 100))\n",
    "\n",
    "# evaluate Test Accuracy and Loss\n",
    "cnn_loss, cnn_acc = embed_cnn_model.evaluate(cnn_Xtest, ytest, verbose=1)\n",
    "print(\"Test Loss: %f\" % (cnn_loss * 100))\n",
    "print(\"Test Accuracy: %f\" % (cnn_acc * 100))"
   ]
  },
  {
   "cell_type": "code",
   "execution_count": 62,
   "metadata": {},
   "outputs": [
    {
     "data": {
      "application/javascript": [
       "\n",
       "        setTimeout(function() {\n",
       "            var nbb_cell_id = 62;\n",
       "            var nbb_formatted_code = \"# # Save Embedding + CNN\\n# model2cnn_json = embed_cnn_model.to_json()\\n# with open(\\\"model2cnn_json\\\", \\\"w\\\") as json_file:\\n#     json_file.write(model2cnn_json)\\n# # serialize weights to HDF5\\n# embed_cnn_model.save_weights(\\\"model2cnn_json.h5\\\")\\n# print(\\\"Saved model to disk\\\")\";\n",
       "            var nbb_cells = Jupyter.notebook.get_cells();\n",
       "            for (var i = 0; i < nbb_cells.length; ++i) {\n",
       "                if (nbb_cells[i].input_prompt_number == nbb_cell_id) {\n",
       "                    nbb_cells[i].set_text(nbb_formatted_code);\n",
       "                    break;\n",
       "                }\n",
       "            }\n",
       "        }, 500);\n",
       "        "
      ],
      "text/plain": [
       "<IPython.core.display.Javascript object>"
      ]
     },
     "metadata": {},
     "output_type": "display_data"
    }
   ],
   "source": [
    "# # Save Embedding + CNN\n",
    "# model2cnn_json = embed_cnn_model.to_json()\n",
    "# with open(\"model2cnn_json\", \"w\") as json_file:\n",
    "#     json_file.write(model2cnn_json)\n",
    "# # serialize weights to HDF5\n",
    "# embed_cnn_model.save_weights(\"model2cnn_json.h5\")\n",
    "# print(\"Saved model to disk\")"
   ]
  },
  {
   "cell_type": "markdown",
   "metadata": {},
   "source": [
    "Save Model"
   ]
  },
  {
   "cell_type": "code",
   "execution_count": null,
   "metadata": {},
   "outputs": [],
   "source": [
    "# model.save('embedd_cnn_model.h5')"
   ]
  },
  {
   "cell_type": "code",
   "execution_count": 64,
   "metadata": {},
   "outputs": [
    {
     "data": {
      "application/javascript": [
       "\n",
       "        setTimeout(function() {\n",
       "            var nbb_cell_id = 64;\n",
       "            var nbb_formatted_code = \"def predict_cnn_sentiment(review, vocab, tokenizer, max_length, model):\\n    tokens = clean_document(review)\\n    tokens = [w for w in tokens if w in vocab]\\n    line = \\\" \\\".join(tokens)\\n    print(line)\\n    padded = encode_documents(tokenizer, max_length, [line])\\n    # predict sentiment\\n    yhat = model.predict(padded, verbose=0)\\n    percent_pos = yhat[0, 0]\\n    print(percent_pos)\\n    if percent_pos < 0.49:\\n        return (1 - percent_pos), \\\"NEGATIVE\\\"\\n    else:\\n        return percent_pos, \\\"POSITIVE\\\"\";\n",
       "            var nbb_cells = Jupyter.notebook.get_cells();\n",
       "            for (var i = 0; i < nbb_cells.length; ++i) {\n",
       "                if (nbb_cells[i].input_prompt_number == nbb_cell_id) {\n",
       "                    nbb_cells[i].set_text(nbb_formatted_code);\n",
       "                    break;\n",
       "                }\n",
       "            }\n",
       "        }, 500);\n",
       "        "
      ],
      "text/plain": [
       "<IPython.core.display.Javascript object>"
      ]
     },
     "metadata": {},
     "output_type": "display_data"
    }
   ],
   "source": [
    "def predict_cnn_sentiment(review, vocab, tokenizer, max_length, model):\n",
    "    tokens = clean_document(review)\n",
    "    tokens = [w for w in tokens if w in vocab]\n",
    "    line = \" \".join(tokens)\n",
    "    print(line)\n",
    "    padded = encode_documents(tokenizer, max_length, [line])\n",
    "    # predict sentiment\n",
    "    yhat = model.predict(padded, verbose=0)\n",
    "    percent_pos = yhat[0, 0]\n",
    "    print(percent_pos)\n",
    "    if percent_pos < 0.49:\n",
    "        return (1 - percent_pos), \"NEGATIVE\"\n",
    "    else:\n",
    "        return percent_pos, \"POSITIVE\""
   ]
  },
  {
   "cell_type": "code",
   "execution_count": 65,
   "metadata": {},
   "outputs": [
    {
     "data": {
      "application/javascript": [
       "\n",
       "        setTimeout(function() {\n",
       "            var nbb_cell_id = 65;\n",
       "            var nbb_formatted_code = \"# embed_cnn_model.load_weights(\\\"weights.best.hdf5\\\")\\n# embed_cnn_model.compile(loss='binary_crossentropy', optimizer='adam', metrics=['accuracy'])\";\n",
       "            var nbb_cells = Jupyter.notebook.get_cells();\n",
       "            for (var i = 0; i < nbb_cells.length; ++i) {\n",
       "                if (nbb_cells[i].input_prompt_number == nbb_cell_id) {\n",
       "                    nbb_cells[i].set_text(nbb_formatted_code);\n",
       "                    break;\n",
       "                }\n",
       "            }\n",
       "        }, 500);\n",
       "        "
      ],
      "text/plain": [
       "<IPython.core.display.Javascript object>"
      ]
     },
     "metadata": {},
     "output_type": "display_data"
    }
   ],
   "source": [
    "# embed_cnn_model.load_weights(\"weights.best.hdf5\")\n",
    "# embed_cnn_model.compile(loss='binary_crossentropy', optimizer='adam', metrics=['accuracy'])"
   ]
  },
  {
   "cell_type": "code",
   "execution_count": 66,
   "metadata": {},
   "outputs": [
    {
     "name": "stdout",
     "output_type": "stream",
     "text": [
      "ok movie one time watch\n",
      "0.5179329\n",
      "Review: [It is an ok movie one time watch]\n",
      "Sentiment: POSITIVE (51.793%) \n",
      "\n",
      "bad movie watch sucks\n",
      "0.47293282\n",
      "Review: [This is a bad movie. Do not watch it. It sucks.]\n",
      "Sentiment: NEGATIVE (52.707%) \n",
      " \n",
      "give break top movie time even close bad guy movie one worst characters ever seen good flick tried build love peter parker girl sudden cant please movie become cult movie get good rating people afraid speak truth movie wasnt feel sequel might better dont build character much\n",
      "0.44993925\n",
      "Review: [Give me a break. Top 200 movie of all time? Not even close. The bad guy in the movie was one of the worst characters I ever seen. It just was not a very good flick. It tried to build up the love between Peter Parker and the girl and then all of a sudden, he just cant be with her? Please. This movie will become a cult movie and will get good rating because people will be afraid to speak the truth, which was, this movie wasnt very good.However, I feel that the sequel might be better because they dont have to build up the character so much..]\n",
      "Sentiment: NEGATIVE (55.006%) \n",
      "\n",
      "ok greatest comic book movie still prefer original batman movie superman movie cool scenes overall disappointed tobey pretty good kirsten liked virgin suicide wasnt digging role fell flat opinion\n",
      "0.5282601\n",
      "Review: [Spiderman was just ok. Its not the greatest comic book movie. I still prefer the original Batman movie, Superman and The Daredevil movie. Spiderman had a few cool scenes but overall I was disappointed. Tobey was pretty good. Kirsten, uhh, liked her in Virgin Suicide, wasnt digging her in this role. Fell flat in my opinion.]\n",
      "Sentiment: POSITIVE (52.826%) \n",
      "\n",
      "goodness story ever told film would recommend movie everyone\n",
      "0.5560155\n",
      "Review: [The goodness of the  story ever told on film . I would recommend this movie to everyone .]\n",
      "Sentiment: POSITIVE (55.602%) \n",
      "\n",
      "average one one time watch\n",
      "0.5098442\n",
      "Review: [An above average one for one time watch.]\n",
      "Sentiment: POSITIVE (50.984%) \n",
      "\n"
     ]
    },
    {
     "data": {
      "application/javascript": [
       "\n",
       "        setTimeout(function() {\n",
       "            var nbb_cell_id = 66;\n",
       "            var nbb_formatted_code = \"text = \\\"It is an ok movie one time watch\\\"\\npercent, sentiment = predict_cnn_sentiment(\\n    text, vocab, cnn_tokenizer, max_length, embed_cnn_model\\n)\\nprint(\\\"Review: [%s]\\\\nSentiment: %s (%.3f%%) \\\\n\\\" % (text, sentiment, percent * 100))\\n# test negative text\\ntext = \\\"This is a bad movie. Do not watch it. It sucks.\\\"\\npercent, sentiment = predict_cnn_sentiment(\\n    text, vocab, cnn_tokenizer, max_length, embed_cnn_model\\n)\\nprint(\\\"Review: [%s]\\\\nSentiment: %s (%.3f%%) \\\\n \\\" % (text, sentiment, percent * 100))\\n\\ntext = \\\"Give me a break. Top 200 movie of all time? Not even close. The bad guy in the movie was one of the worst characters \\\\\\nI ever seen. It just was not a very good flick. It tried to build up the love between Peter Parker and the girl and then all of a sudden, he just \\\\\\ncant be with her? Please. This movie will become a cult movie and will get good rating because people will be afraid to speak the truth, which was, this movie wasnt very good.\\\\\\nHowever, I feel that the sequel might be better because they dont have to build up the character so much..\\\"\\n\\npercent, sentiment = predict_cnn_sentiment(\\n    text, vocab, cnn_tokenizer, max_length, embed_cnn_model\\n)\\nprint(\\\"Review: [%s]\\\\nSentiment: %s (%.3f%%) \\\\n\\\" % (text, sentiment, percent * 100))\\n\\ntext = \\\"Spiderman was just ok. Its not the greatest comic book movie. I still prefer the original Batman movie, Superman and The Daredevil movie. Spiderman had a few cool scenes \\\\\\nbut overall I was disappointed. Tobey was pretty good. Kirsten, uhh, liked her in Virgin Suicide, \\\\\\nwasnt digging her in this role. Fell flat in my opinion.\\\"\\npercent, sentiment = predict_cnn_sentiment(\\n    text, vocab, cnn_tokenizer, max_length, embed_cnn_model\\n)\\nprint(\\\"Review: [%s]\\\\nSentiment: %s (%.3f%%) \\\\n\\\" % (text, sentiment, percent * 100))\\n\\ntext = \\\"The goodness of the  story ever told on film . I would recommend this movie to everyone .\\\"\\npercent, sentiment = predict_cnn_sentiment(\\n    text, vocab, cnn_tokenizer, max_length, embed_cnn_model\\n)\\nprint(\\\"Review: [%s]\\\\nSentiment: %s (%.3f%%) \\\\n\\\" % (text, sentiment, percent * 100))\\n\\ntext = \\\"An above average one for one time watch.\\\"\\npercent, sentiment = predict_cnn_sentiment(\\n    text, vocab, cnn_tokenizer, max_length, embed_cnn_model\\n)\\nprint(\\\"Review: [%s]\\\\nSentiment: %s (%.3f%%) \\\\n\\\" % (text, sentiment, percent * 100))\";\n",
       "            var nbb_cells = Jupyter.notebook.get_cells();\n",
       "            for (var i = 0; i < nbb_cells.length; ++i) {\n",
       "                if (nbb_cells[i].input_prompt_number == nbb_cell_id) {\n",
       "                    nbb_cells[i].set_text(nbb_formatted_code);\n",
       "                    break;\n",
       "                }\n",
       "            }\n",
       "        }, 500);\n",
       "        "
      ],
      "text/plain": [
       "<IPython.core.display.Javascript object>"
      ]
     },
     "metadata": {},
     "output_type": "display_data"
    }
   ],
   "source": [
    "text = \"It is an ok movie one time watch\"\n",
    "percent, sentiment = predict_cnn_sentiment(\n",
    "    text, vocab, cnn_tokenizer, max_length, embed_cnn_model\n",
    ")\n",
    "print(\"Review: [%s]\\nSentiment: %s (%.3f%%) \\n\" % (text, sentiment, percent * 100))\n",
    "# test negative text\n",
    "text = \"This is a bad movie. Do not watch it. It sucks.\"\n",
    "percent, sentiment = predict_cnn_sentiment(\n",
    "    text, vocab, cnn_tokenizer, max_length, embed_cnn_model\n",
    ")\n",
    "print(\"Review: [%s]\\nSentiment: %s (%.3f%%) \\n \" % (text, sentiment, percent * 100))\n",
    "\n",
    "text = \"Give me a break. Top 200 movie of all time? Not even close. The bad guy in the movie was one of the worst characters \\\n",
    "I ever seen. It just was not a very good flick. It tried to build up the love between Peter Parker and the girl and then all of a sudden, he just \\\n",
    "cant be with her? Please. This movie will become a cult movie and will get good rating because people will be afraid to speak the truth, which was, this movie wasnt very good.\\\n",
    "However, I feel that the sequel might be better because they dont have to build up the character so much..\"\n",
    "\n",
    "percent, sentiment = predict_cnn_sentiment(\n",
    "    text, vocab, cnn_tokenizer, max_length, embed_cnn_model\n",
    ")\n",
    "print(\"Review: [%s]\\nSentiment: %s (%.3f%%) \\n\" % (text, sentiment, percent * 100))\n",
    "\n",
    "text = \"Spiderman was just ok. Its not the greatest comic book movie. I still prefer the original Batman movie, Superman and The Daredevil movie. Spiderman had a few cool scenes \\\n",
    "but overall I was disappointed. Tobey was pretty good. Kirsten, uhh, liked her in Virgin Suicide, \\\n",
    "wasnt digging her in this role. Fell flat in my opinion.\"\n",
    "percent, sentiment = predict_cnn_sentiment(\n",
    "    text, vocab, cnn_tokenizer, max_length, embed_cnn_model\n",
    ")\n",
    "print(\"Review: [%s]\\nSentiment: %s (%.3f%%) \\n\" % (text, sentiment, percent * 100))\n",
    "\n",
    "text = \"The goodness of the  story ever told on film . I would recommend this movie to everyone .\"\n",
    "percent, sentiment = predict_cnn_sentiment(\n",
    "    text, vocab, cnn_tokenizer, max_length, embed_cnn_model\n",
    ")\n",
    "print(\"Review: [%s]\\nSentiment: %s (%.3f%%) \\n\" % (text, sentiment, percent * 100))\n",
    "\n",
    "text = \"An above average one for one time watch.\"\n",
    "percent, sentiment = predict_cnn_sentiment(\n",
    "    text, vocab, cnn_tokenizer, max_length, embed_cnn_model\n",
    ")\n",
    "print(\"Review: [%s]\\nSentiment: %s (%.3f%%) \\n\" % (text, sentiment, percent * 100))"
   ]
  },
  {
   "cell_type": "code",
   "execution_count": 68,
   "metadata": {},
   "outputs": [
    {
     "name": "stdout",
     "output_type": "stream",
     "text": [
      "everyone enjoy film love recommended\n",
      "0.5181182\n",
      "Review: [Everyone will enjoy this film. I love it, recommended!]\n",
      "Sentiment: POSITIVE (51.812%) \n",
      "\n",
      "bad movie watch sucks\n",
      "0.47293282\n",
      "Review: [This is a bad movie. Do not watch it. It sucks.]\n",
      "Sentiment: NEGATIVE (52.707%) \n",
      "\n",
      "heart touching making us proud movie acting done awesome movie whole theater emotional end movie would recommend movie everyone\n",
      "0.521215\n",
      "Review: [Very heart touching and making us proud movie. The acting done by akshay Kumar is awesome in the movie.   The whole theater was emotional at the end of the movie . I would recommend this movie to everyone.]\n",
      "Sentiment: POSITIVE (52.122%) \n",
      "\n",
      "loved movie movie good would recommend movie everyone\n",
      "0.55475205\n",
      "Review: [I loved This Movie. This Movie is too good ,I would recommend this movie to everyone.]\n",
      "Sentiment: POSITIVE (55.475%) \n",
      "\n"
     ]
    },
    {
     "data": {
      "application/javascript": [
       "\n",
       "        setTimeout(function() {\n",
       "            var nbb_cell_id = 68;\n",
       "            var nbb_formatted_code = \"text = \\\"Everyone will enjoy this film. I love it, recommended!\\\"\\npercent, sentiment = predict_cnn_sentiment(\\n    text, vocab, cnn_tokenizer, max_length, embed_cnn_model\\n)\\nprint(\\\"Review: [%s]\\\\nSentiment: %s (%.3f%%) \\\\n\\\" % (text, sentiment, percent * 100))\\n# test negative text\\ntext = \\\"This is a bad movie. Do not watch it. It sucks.\\\"\\npercent, sentiment = predict_cnn_sentiment(\\n    text, vocab, cnn_tokenizer, max_length, embed_cnn_model\\n)\\nprint(\\\"Review: [%s]\\\\nSentiment: %s (%.3f%%) \\\\n\\\" % (text, sentiment, percent * 100))\\n\\ntext = \\\"Very heart touching and making us proud movie. The acting done \\\\\\nby akshay Kumar is awesome in the movie.   \\\\\\nThe whole theater was emotional at the end of the movie . I would recommend this movie to everyone.\\\"\\n\\npercent, sentiment = predict_cnn_sentiment(\\n    text, vocab, cnn_tokenizer, max_length, embed_cnn_model\\n)\\nprint(\\\"Review: [%s]\\\\nSentiment: %s (%.3f%%) \\\\n\\\" % (text, sentiment, percent * 100))\\n\\ntext = \\\"I loved This Movie. This Movie is too good ,I would recommend this movie to everyone.\\\"\\npercent, sentiment = predict_cnn_sentiment(\\n    text, vocab, cnn_tokenizer, max_length, embed_cnn_model\\n)\\nprint(\\\"Review: [%s]\\\\nSentiment: %s (%.3f%%) \\\\n\\\" % (text, sentiment, percent * 100))\";\n",
       "            var nbb_cells = Jupyter.notebook.get_cells();\n",
       "            for (var i = 0; i < nbb_cells.length; ++i) {\n",
       "                if (nbb_cells[i].input_prompt_number == nbb_cell_id) {\n",
       "                    nbb_cells[i].set_text(nbb_formatted_code);\n",
       "                    break;\n",
       "                }\n",
       "            }\n",
       "        }, 500);\n",
       "        "
      ],
      "text/plain": [
       "<IPython.core.display.Javascript object>"
      ]
     },
     "metadata": {},
     "output_type": "display_data"
    }
   ],
   "source": [
    "text = \"Everyone will enjoy this film. I love it, recommended!\"\n",
    "percent, sentiment = predict_cnn_sentiment(\n",
    "    text, vocab, cnn_tokenizer, max_length, embed_cnn_model\n",
    ")\n",
    "print(\"Review: [%s]\\nSentiment: %s (%.3f%%) \\n\" % (text, sentiment, percent * 100))\n",
    "# test negative text\n",
    "text = \"This is a bad movie. Do not watch it. It sucks.\"\n",
    "percent, sentiment = predict_cnn_sentiment(\n",
    "    text, vocab, cnn_tokenizer, max_length, embed_cnn_model\n",
    ")\n",
    "print(\"Review: [%s]\\nSentiment: %s (%.3f%%) \\n\" % (text, sentiment, percent * 100))\n",
    "\n",
    "text = \"Very heart touching and making us proud movie. The acting done \\\n",
    "by akshay Kumar is awesome in the movie.   \\\n",
    "The whole theater was emotional at the end of the movie . I would recommend this movie to everyone.\"\n",
    "\n",
    "percent, sentiment = predict_cnn_sentiment(\n",
    "    text, vocab, cnn_tokenizer, max_length, embed_cnn_model\n",
    ")\n",
    "print(\"Review: [%s]\\nSentiment: %s (%.3f%%) \\n\" % (text, sentiment, percent * 100))\n",
    "\n",
    "text = \"I loved This Movie. This Movie is too good ,I would recommend this movie to everyone.\"\n",
    "percent, sentiment = predict_cnn_sentiment(\n",
    "    text, vocab, cnn_tokenizer, max_length, embed_cnn_model\n",
    ")\n",
    "print(\"Review: [%s]\\nSentiment: %s (%.3f%%) \\n\" % (text, sentiment, percent * 100))"
   ]
  },
  {
   "cell_type": "markdown",
   "metadata": {},
   "source": [
    "# N-Gram Embedding Cnn Model."
   ]
  },
  {
   "cell_type": "code",
   "execution_count": 69,
   "metadata": {},
   "outputs": [
    {
     "name": "stdout",
     "output_type": "stream",
     "text": [
      "Number of File Processed in txt_sentoken/neg is 900\n",
      "Number of File Processed in txt_sentoken/pos is 900\n",
      "Length of   Negative Files = 900 \t Positive Files= 900 \t Doc = 1800 \n",
      "Number of File Processed in txt_sentoken/neg is 100\n",
      "Number of File Processed in txt_sentoken/pos is 100\n",
      "Length of   Negative Files = 100 \t Positive Files= 100 \t Doc = 200 \n"
     ]
    },
    {
     "data": {
      "application/javascript": [
       "\n",
       "        setTimeout(function() {\n",
       "            var nbb_cell_id = 69;\n",
       "            var nbb_formatted_code = \"# Load Train And test Set for Embedding\\n\\nncnn_train_docs, ytrain = load_clean_dataset(vocab, train=True, op=0, m_type=\\\"ncnn\\\")\\nncnn_test_docs, ytest = load_clean_dataset(vocab, train=False, op=0, m_type=\\\"ncnn\\\")\";\n",
       "            var nbb_cells = Jupyter.notebook.get_cells();\n",
       "            for (var i = 0; i < nbb_cells.length; ++i) {\n",
       "                if (nbb_cells[i].input_prompt_number == nbb_cell_id) {\n",
       "                    nbb_cells[i].set_text(nbb_formatted_code);\n",
       "                    break;\n",
       "                }\n",
       "            }\n",
       "        }, 500);\n",
       "        "
      ],
      "text/plain": [
       "<IPython.core.display.Javascript object>"
      ]
     },
     "metadata": {},
     "output_type": "display_data"
    }
   ],
   "source": [
    "# Load Train And test Set for Embedding\n",
    "\n",
    "ncnn_train_docs, ytrain = load_clean_dataset(vocab, train=True, op=0, m_type=\"ncnn\")\n",
    "ncnn_test_docs, ytest = load_clean_dataset(vocab, train=False, op=0, m_type=\"ncnn\")"
   ]
  },
  {
   "cell_type": "code",
   "execution_count": 70,
   "metadata": {},
   "outputs": [
    {
     "data": {
      "application/javascript": [
       "\n",
       "        setTimeout(function() {\n",
       "            var nbb_cell_id = 70;\n",
       "            var nbb_formatted_code = \"ncnn_tokenizer = create_tokenizer(ncnn_train_docs)\";\n",
       "            var nbb_cells = Jupyter.notebook.get_cells();\n",
       "            for (var i = 0; i < nbb_cells.length; ++i) {\n",
       "                if (nbb_cells[i].input_prompt_number == nbb_cell_id) {\n",
       "                    nbb_cells[i].set_text(nbb_formatted_code);\n",
       "                    break;\n",
       "                }\n",
       "            }\n",
       "        }, 500);\n",
       "        "
      ],
      "text/plain": [
       "<IPython.core.display.Javascript object>"
      ]
     },
     "metadata": {},
     "output_type": "display_data"
    }
   ],
   "source": [
    "ncnn_tokenizer = create_tokenizer(ncnn_train_docs)"
   ]
  },
  {
   "cell_type": "code",
   "execution_count": null,
   "metadata": {},
   "outputs": [],
   "source": [
    "# with open('tokenizer_model_3.pickle', 'wb') as handle:\n",
    "#     pickle.dump(ncnn_tokenizer, handle, protocol=pickle.HIGHEST_PROTOCOL)\n"
   ]
  },
  {
   "cell_type": "code",
   "execution_count": 71,
   "metadata": {},
   "outputs": [
    {
     "name": "stdout",
     "output_type": "stream",
     "text": [
      "Max document length: 1244\n",
      "Vocabulary size: 14781\n"
     ]
    },
    {
     "data": {
      "application/javascript": [
       "\n",
       "        setTimeout(function() {\n",
       "            var nbb_cell_id = 71;\n",
       "            var nbb_formatted_code = \"length = max([len(s.split()) for s in ncnn_train_docs])\\nprint(\\\"Max document length: %d\\\" % length)\\n# calculate vocabulary size\\nvocab_size = len(ncnn_tokenizer.word_index) + 1\\nprint(\\\"Vocabulary size: %d\\\" % vocab_size)\";\n",
       "            var nbb_cells = Jupyter.notebook.get_cells();\n",
       "            for (var i = 0; i < nbb_cells.length; ++i) {\n",
       "                if (nbb_cells[i].input_prompt_number == nbb_cell_id) {\n",
       "                    nbb_cells[i].set_text(nbb_formatted_code);\n",
       "                    break;\n",
       "                }\n",
       "            }\n",
       "        }, 500);\n",
       "        "
      ],
      "text/plain": [
       "<IPython.core.display.Javascript object>"
      ]
     },
     "metadata": {},
     "output_type": "display_data"
    }
   ],
   "source": [
    "length = max([len(s.split()) for s in ncnn_train_docs])\n",
    "print(\"Max document length: %d\" % length)\n",
    "# calculate vocabulary size\n",
    "vocab_size = len(ncnn_tokenizer.word_index) + 1\n",
    "print(\"Vocabulary size: %d\" % vocab_size)"
   ]
  },
  {
   "cell_type": "code",
   "execution_count": 72,
   "metadata": {},
   "outputs": [
    {
     "data": {
      "application/javascript": [
       "\n",
       "        setTimeout(function() {\n",
       "            var nbb_cell_id = 72;\n",
       "            var nbb_formatted_code = \"ncnn_Xtrain = encode_documents(ncnn_tokenizer, length, ncnn_train_docs)\\nncnn_Xtest = encode_documents(ncnn_tokenizer, length, ncnn_test_docs)\";\n",
       "            var nbb_cells = Jupyter.notebook.get_cells();\n",
       "            for (var i = 0; i < nbb_cells.length; ++i) {\n",
       "                if (nbb_cells[i].input_prompt_number == nbb_cell_id) {\n",
       "                    nbb_cells[i].set_text(nbb_formatted_code);\n",
       "                    break;\n",
       "                }\n",
       "            }\n",
       "        }, 500);\n",
       "        "
      ],
      "text/plain": [
       "<IPython.core.display.Javascript object>"
      ]
     },
     "metadata": {},
     "output_type": "display_data"
    }
   ],
   "source": [
    "ncnn_Xtrain = encode_documents(ncnn_tokenizer, length, ncnn_train_docs)\n",
    "ncnn_Xtest = encode_documents(ncnn_tokenizer, length, ncnn_test_docs)"
   ]
  },
  {
   "cell_type": "code",
   "execution_count": 73,
   "metadata": {},
   "outputs": [
    {
     "name": "stdout",
     "output_type": "stream",
     "text": [
      "(1800, 1244)\n",
      "(200, 1244)\n"
     ]
    },
    {
     "data": {
      "application/javascript": [
       "\n",
       "        setTimeout(function() {\n",
       "            var nbb_cell_id = 73;\n",
       "            var nbb_formatted_code = \"print(ncnn_Xtrain.shape)\\nprint(ncnn_Xtest.shape)\";\n",
       "            var nbb_cells = Jupyter.notebook.get_cells();\n",
       "            for (var i = 0; i < nbb_cells.length; ++i) {\n",
       "                if (nbb_cells[i].input_prompt_number == nbb_cell_id) {\n",
       "                    nbb_cells[i].set_text(nbb_formatted_code);\n",
       "                    break;\n",
       "                }\n",
       "            }\n",
       "        }, 500);\n",
       "        "
      ],
      "text/plain": [
       "<IPython.core.display.Javascript object>"
      ]
     },
     "metadata": {},
     "output_type": "display_data"
    }
   ],
   "source": [
    "print(ncnn_Xtrain.shape)\n",
    "print(ncnn_Xtest.shape)"
   ]
  },
  {
   "cell_type": "code",
   "execution_count": 74,
   "metadata": {},
   "outputs": [
    {
     "data": {
      "application/javascript": [
       "\n",
       "        setTimeout(function() {\n",
       "            var nbb_cell_id = 74;\n",
       "            var nbb_formatted_code = \"def define_ncnn_model(length, vocab_size):\\n    # channel 1\\n    inputs1 = Input(shape=(length,))\\n    embedding1 = Embedding(vocab_size, 100)(inputs1)\\n    conv1 = Conv1D(filters=32, kernel_size=4, activation=\\\"relu\\\")(embedding1)\\n    drop1 = Dropout(0.5)(conv1)\\n    pool1 = MaxPooling1D(pool_size=2)(drop1)\\n    flat1 = Flatten()(pool1)\\n    # channel 2\\n    inputs2 = Input(shape=(length,))\\n    embedding2 = Embedding(vocab_size, 100)(inputs2)\\n    conv2 = Conv1D(filters=32, kernel_size=6, activation=\\\"relu\\\")(embedding2)\\n    drop2 = Dropout(0.5)(conv2)\\n    pool2 = MaxPooling1D(pool_size=2)(drop2)\\n    flat2 = Flatten()(pool2)\\n    # channel 3\\n    inputs3 = Input(shape=(length,))\\n    embedding3 = Embedding(vocab_size, 100)(inputs3)\\n    conv3 = Conv1D(filters=32, kernel_size=8, activation=\\\"relu\\\")(embedding3)\\n    drop3 = Dropout(0.5)(conv3)\\n    pool3 = MaxPooling1D(pool_size=2)(drop3)\\n    flat3 = Flatten()(pool3)\\n    #     # channel 3\\n    #     inputs4 = Input(shape=(length,))\\n    #     embedding4 = Embedding(vocab_size, 100)(inputs4)\\n    #     conv4 = Conv1D(filters=32, kernel_size=8, activation='relu')(embedding4)\\n    #     drop4 = Dropout(0.5)(conv4)\\n    #     pool4 = MaxPooling1D(pool_size=2)(drop4)\\n    #     flat4 = Flatten()(pool4)\\n    # merge\\n    merged = concatenate([flat1, flat2, flat3])\\n    # interpretation\\n    dense1 = Dense(10, activation=\\\"relu\\\")(merged)\\n    outputs = Dense(1, activation=\\\"sigmoid\\\")(dense1)\\n    model = Model(inputs=[inputs1, inputs2, inputs3], outputs=outputs)\\n    # compile\\n    model.compile(loss=\\\"binary_crossentropy\\\", optimizer=\\\"adam\\\", metrics=[\\\"accuracy\\\"])\\n    # summarize\\n    model.summary()\\n    plot_model(model, show_shapes=True, to_file=\\\"ncnn_model.png\\\")\\n    return model\";\n",
       "            var nbb_cells = Jupyter.notebook.get_cells();\n",
       "            for (var i = 0; i < nbb_cells.length; ++i) {\n",
       "                if (nbb_cells[i].input_prompt_number == nbb_cell_id) {\n",
       "                    nbb_cells[i].set_text(nbb_formatted_code);\n",
       "                    break;\n",
       "                }\n",
       "            }\n",
       "        }, 500);\n",
       "        "
      ],
      "text/plain": [
       "<IPython.core.display.Javascript object>"
      ]
     },
     "metadata": {},
     "output_type": "display_data"
    }
   ],
   "source": [
    "def define_ncnn_model(length, vocab_size):\n",
    "    # channel 1\n",
    "    inputs1 = Input(shape=(length,))\n",
    "    embedding1 = Embedding(vocab_size, 100)(inputs1)\n",
    "    conv1 = Conv1D(filters=32, kernel_size=4, activation=\"relu\")(embedding1)\n",
    "    drop1 = Dropout(0.5)(conv1)\n",
    "    pool1 = MaxPooling1D(pool_size=2)(drop1)\n",
    "    flat1 = Flatten()(pool1)\n",
    "    # channel 2\n",
    "    inputs2 = Input(shape=(length,))\n",
    "    embedding2 = Embedding(vocab_size, 100)(inputs2)\n",
    "    conv2 = Conv1D(filters=32, kernel_size=6, activation=\"relu\")(embedding2)\n",
    "    drop2 = Dropout(0.5)(conv2)\n",
    "    pool2 = MaxPooling1D(pool_size=2)(drop2)\n",
    "    flat2 = Flatten()(pool2)\n",
    "    # channel 3\n",
    "    inputs3 = Input(shape=(length,))\n",
    "    embedding3 = Embedding(vocab_size, 100)(inputs3)\n",
    "    conv3 = Conv1D(filters=32, kernel_size=8, activation=\"relu\")(embedding3)\n",
    "    drop3 = Dropout(0.5)(conv3)\n",
    "    pool3 = MaxPooling1D(pool_size=2)(drop3)\n",
    "    flat3 = Flatten()(pool3)\n",
    "    #     # channel 3\n",
    "    #     inputs4 = Input(shape=(length,))\n",
    "    #     embedding4 = Embedding(vocab_size, 100)(inputs4)\n",
    "    #     conv4 = Conv1D(filters=32, kernel_size=8, activation='relu')(embedding4)\n",
    "    #     drop4 = Dropout(0.5)(conv4)\n",
    "    #     pool4 = MaxPooling1D(pool_size=2)(drop4)\n",
    "    #     flat4 = Flatten()(pool4)\n",
    "    # merge\n",
    "    merged = concatenate([flat1, flat2, flat3])\n",
    "    # interpretation\n",
    "    dense1 = Dense(10, activation=\"relu\")(merged)\n",
    "    outputs = Dense(1, activation=\"sigmoid\")(dense1)\n",
    "    model = Model(inputs=[inputs1, inputs2, inputs3], outputs=outputs)\n",
    "    # compile\n",
    "    model.compile(loss=\"binary_crossentropy\", optimizer=\"adam\", metrics=[\"accuracy\"])\n",
    "    # summarize\n",
    "    model.summary()\n",
    "    plot_model(model, show_shapes=True, to_file=\"ncnn_model.png\")\n",
    "    return model"
   ]
  },
  {
   "cell_type": "code",
   "execution_count": 75,
   "metadata": {},
   "outputs": [
    {
     "name": "stdout",
     "output_type": "stream",
     "text": [
      "WARNING:tensorflow:From /home/ashish/anaconda3/lib/python3.7/site-packages/keras/backend/tensorflow_backend.py:3445: calling dropout (from tensorflow.python.ops.nn_ops) with keep_prob is deprecated and will be removed in a future version.\n",
      "Instructions for updating:\n",
      "Please use `rate` instead of `keep_prob`. Rate should be set to `rate = 1 - keep_prob`.\n",
      "__________________________________________________________________________________________________\n",
      "Layer (type)                    Output Shape         Param #     Connected to                     \n",
      "==================================================================================================\n",
      "input_1 (InputLayer)            (None, 1244)         0                                            \n",
      "__________________________________________________________________________________________________\n",
      "input_2 (InputLayer)            (None, 1244)         0                                            \n",
      "__________________________________________________________________________________________________\n",
      "input_3 (InputLayer)            (None, 1244)         0                                            \n",
      "__________________________________________________________________________________________________\n",
      "embedding_2 (Embedding)         (None, 1244, 100)    1478100     input_1[0][0]                    \n",
      "__________________________________________________________________________________________________\n",
      "embedding_3 (Embedding)         (None, 1244, 100)    1478100     input_2[0][0]                    \n",
      "__________________________________________________________________________________________________\n",
      "embedding_4 (Embedding)         (None, 1244, 100)    1478100     input_3[0][0]                    \n",
      "__________________________________________________________________________________________________\n",
      "conv1d_2 (Conv1D)               (None, 1241, 32)     12832       embedding_2[0][0]                \n",
      "__________________________________________________________________________________________________\n",
      "conv1d_3 (Conv1D)               (None, 1239, 32)     19232       embedding_3[0][0]                \n",
      "__________________________________________________________________________________________________\n",
      "conv1d_4 (Conv1D)               (None, 1237, 32)     25632       embedding_4[0][0]                \n",
      "__________________________________________________________________________________________________\n",
      "dropout_1 (Dropout)             (None, 1241, 32)     0           conv1d_2[0][0]                   \n",
      "__________________________________________________________________________________________________\n",
      "dropout_2 (Dropout)             (None, 1239, 32)     0           conv1d_3[0][0]                   \n",
      "__________________________________________________________________________________________________\n",
      "dropout_3 (Dropout)             (None, 1237, 32)     0           conv1d_4[0][0]                   \n",
      "__________________________________________________________________________________________________\n",
      "max_pooling1d_2 (MaxPooling1D)  (None, 620, 32)      0           dropout_1[0][0]                  \n",
      "__________________________________________________________________________________________________\n",
      "max_pooling1d_3 (MaxPooling1D)  (None, 619, 32)      0           dropout_2[0][0]                  \n",
      "__________________________________________________________________________________________________\n",
      "max_pooling1d_4 (MaxPooling1D)  (None, 618, 32)      0           dropout_3[0][0]                  \n",
      "__________________________________________________________________________________________________\n",
      "flatten_2 (Flatten)             (None, 19840)        0           max_pooling1d_2[0][0]            \n",
      "__________________________________________________________________________________________________\n",
      "flatten_3 (Flatten)             (None, 19808)        0           max_pooling1d_3[0][0]            \n",
      "__________________________________________________________________________________________________\n",
      "flatten_4 (Flatten)             (None, 19776)        0           max_pooling1d_4[0][0]            \n",
      "__________________________________________________________________________________________________\n",
      "concatenate_1 (Concatenate)     (None, 59424)        0           flatten_2[0][0]                  \n",
      "                                                                 flatten_3[0][0]                  \n",
      "                                                                 flatten_4[0][0]                  \n",
      "__________________________________________________________________________________________________\n",
      "dense_5 (Dense)                 (None, 10)           594250      concatenate_1[0][0]              \n",
      "__________________________________________________________________________________________________\n",
      "dense_6 (Dense)                 (None, 1)            11          dense_5[0][0]                    \n",
      "==================================================================================================\n",
      "Total params: 5,086,257\n",
      "Trainable params: 5,086,257\n",
      "Non-trainable params: 0\n",
      "__________________________________________________________________________________________________\n"
     ]
    },
    {
     "data": {
      "application/javascript": [
       "\n",
       "        setTimeout(function() {\n",
       "            var nbb_cell_id = 75;\n",
       "            var nbb_formatted_code = \"ncnn_model = define_ncnn_model(length, vocab_size)\";\n",
       "            var nbb_cells = Jupyter.notebook.get_cells();\n",
       "            for (var i = 0; i < nbb_cells.length; ++i) {\n",
       "                if (nbb_cells[i].input_prompt_number == nbb_cell_id) {\n",
       "                    nbb_cells[i].set_text(nbb_formatted_code);\n",
       "                    break;\n",
       "                }\n",
       "            }\n",
       "        }, 500);\n",
       "        "
      ],
      "text/plain": [
       "<IPython.core.display.Javascript object>"
      ]
     },
     "metadata": {},
     "output_type": "display_data"
    }
   ],
   "source": [
    "ncnn_model = define_ncnn_model(length, vocab_size)"
   ]
  },
  {
   "cell_type": "code",
   "execution_count": null,
   "metadata": {},
   "outputs": [],
   "source": [
    "# print(ncnn_Xtrain.shape)\n",
    "# print(ncnn_Xtest.shape)"
   ]
  },
  {
   "cell_type": "code",
   "execution_count": 76,
   "metadata": {},
   "outputs": [
    {
     "data": {
      "image/svg+xml": [
       "<svg height=\"629pt\" viewBox=\"0.00 0.00 806.00 629.00\" width=\"806pt\" xmlns=\"http://www.w3.org/2000/svg\" xmlns:xlink=\"http://www.w3.org/1999/xlink\">\n",
       "<g class=\"graph\" id=\"graph0\" transform=\"scale(1 1) rotate(0) translate(4 625)\">\n",
       "<title>G</title>\n",
       "<polygon fill=\"#ffffff\" points=\"-4,4 -4,-625 802,-625 802,4 -4,4\" stroke=\"transparent\"/>\n",
       "<!-- 140563073531128 -->\n",
       "<g class=\"node\" id=\"node1\">\n",
       "<title>140563073531128</title>\n",
       "<polygon fill=\"none\" points=\"47,-584.5 47,-620.5 207,-620.5 207,-584.5 47,-584.5\" stroke=\"#000000\"/>\n",
       "<text fill=\"#000000\" font-family=\"Times,serif\" font-size=\"14.00\" text-anchor=\"middle\" x=\"127\" y=\"-598.8\">input_1: InputLayer</text>\n",
       "</g>\n",
       "<!-- 140563365771528 -->\n",
       "<g class=\"node\" id=\"node4\">\n",
       "<title>140563365771528</title>\n",
       "<polygon fill=\"none\" points=\"25.5,-511.5 25.5,-547.5 228.5,-547.5 228.5,-511.5 25.5,-511.5\" stroke=\"#000000\"/>\n",
       "<text fill=\"#000000\" font-family=\"Times,serif\" font-size=\"14.00\" text-anchor=\"middle\" x=\"127\" y=\"-525.8\">embedding_2: Embedding</text>\n",
       "</g>\n",
       "<!-- 140563073531128&#45;&gt;140563365771528 -->\n",
       "<g class=\"edge\" id=\"edge1\">\n",
       "<title>140563073531128-&gt;140563365771528</title>\n",
       "<path d=\"M127,-584.4551C127,-576.3828 127,-566.6764 127,-557.6817\" fill=\"none\" stroke=\"#000000\"/>\n",
       "<polygon fill=\"#000000\" points=\"130.5001,-557.5903 127,-547.5904 123.5001,-557.5904 130.5001,-557.5903\" stroke=\"#000000\"/>\n",
       "</g>\n",
       "<!-- 140563370264672 -->\n",
       "<g class=\"node\" id=\"node2\">\n",
       "<title>140563370264672</title>\n",
       "<polygon fill=\"none\" points=\"319,-584.5 319,-620.5 479,-620.5 479,-584.5 319,-584.5\" stroke=\"#000000\"/>\n",
       "<text fill=\"#000000\" font-family=\"Times,serif\" font-size=\"14.00\" text-anchor=\"middle\" x=\"399\" y=\"-598.8\">input_2: InputLayer</text>\n",
       "</g>\n",
       "<!-- 140563112682944 -->\n",
       "<g class=\"node\" id=\"node5\">\n",
       "<title>140563112682944</title>\n",
       "<polygon fill=\"none\" points=\"297.5,-511.5 297.5,-547.5 500.5,-547.5 500.5,-511.5 297.5,-511.5\" stroke=\"#000000\"/>\n",
       "<text fill=\"#000000\" font-family=\"Times,serif\" font-size=\"14.00\" text-anchor=\"middle\" x=\"399\" y=\"-525.8\">embedding_3: Embedding</text>\n",
       "</g>\n",
       "<!-- 140563370264672&#45;&gt;140563112682944 -->\n",
       "<g class=\"edge\" id=\"edge2\">\n",
       "<title>140563370264672-&gt;140563112682944</title>\n",
       "<path d=\"M399,-584.4551C399,-576.3828 399,-566.6764 399,-557.6817\" fill=\"none\" stroke=\"#000000\"/>\n",
       "<polygon fill=\"#000000\" points=\"402.5001,-557.5903 399,-547.5904 395.5001,-557.5904 402.5001,-557.5903\" stroke=\"#000000\"/>\n",
       "</g>\n",
       "<!-- 140562677850856 -->\n",
       "<g class=\"node\" id=\"node3\">\n",
       "<title>140562677850856</title>\n",
       "<polygon fill=\"none\" points=\"591,-584.5 591,-620.5 751,-620.5 751,-584.5 591,-584.5\" stroke=\"#000000\"/>\n",
       "<text fill=\"#000000\" font-family=\"Times,serif\" font-size=\"14.00\" text-anchor=\"middle\" x=\"671\" y=\"-598.8\">input_3: InputLayer</text>\n",
       "</g>\n",
       "<!-- 140563113199096 -->\n",
       "<g class=\"node\" id=\"node6\">\n",
       "<title>140563113199096</title>\n",
       "<polygon fill=\"none\" points=\"569.5,-511.5 569.5,-547.5 772.5,-547.5 772.5,-511.5 569.5,-511.5\" stroke=\"#000000\"/>\n",
       "<text fill=\"#000000\" font-family=\"Times,serif\" font-size=\"14.00\" text-anchor=\"middle\" x=\"671\" y=\"-525.8\">embedding_4: Embedding</text>\n",
       "</g>\n",
       "<!-- 140562677850856&#45;&gt;140563113199096 -->\n",
       "<g class=\"edge\" id=\"edge3\">\n",
       "<title>140562677850856-&gt;140563113199096</title>\n",
       "<path d=\"M671,-584.4551C671,-576.3828 671,-566.6764 671,-557.6817\" fill=\"none\" stroke=\"#000000\"/>\n",
       "<polygon fill=\"#000000\" points=\"674.5001,-557.5903 671,-547.5904 667.5001,-557.5904 674.5001,-557.5903\" stroke=\"#000000\"/>\n",
       "</g>\n",
       "<!-- 140563365769288 -->\n",
       "<g class=\"node\" id=\"node7\">\n",
       "<title>140563365769288</title>\n",
       "<polygon fill=\"none\" points=\"51.5,-438.5 51.5,-474.5 202.5,-474.5 202.5,-438.5 51.5,-438.5\" stroke=\"#000000\"/>\n",
       "<text fill=\"#000000\" font-family=\"Times,serif\" font-size=\"14.00\" text-anchor=\"middle\" x=\"127\" y=\"-452.8\">conv1d_2: Conv1D</text>\n",
       "</g>\n",
       "<!-- 140563365771528&#45;&gt;140563365769288 -->\n",
       "<g class=\"edge\" id=\"edge4\">\n",
       "<title>140563365771528-&gt;140563365769288</title>\n",
       "<path d=\"M127,-511.4551C127,-503.3828 127,-493.6764 127,-484.6817\" fill=\"none\" stroke=\"#000000\"/>\n",
       "<polygon fill=\"#000000\" points=\"130.5001,-484.5903 127,-474.5904 123.5001,-484.5904 130.5001,-484.5903\" stroke=\"#000000\"/>\n",
       "</g>\n",
       "<!-- 140563370339016 -->\n",
       "<g class=\"node\" id=\"node8\">\n",
       "<title>140563370339016</title>\n",
       "<polygon fill=\"none\" points=\"323.5,-438.5 323.5,-474.5 474.5,-474.5 474.5,-438.5 323.5,-438.5\" stroke=\"#000000\"/>\n",
       "<text fill=\"#000000\" font-family=\"Times,serif\" font-size=\"14.00\" text-anchor=\"middle\" x=\"399\" y=\"-452.8\">conv1d_3: Conv1D</text>\n",
       "</g>\n",
       "<!-- 140563112682944&#45;&gt;140563370339016 -->\n",
       "<g class=\"edge\" id=\"edge5\">\n",
       "<title>140563112682944-&gt;140563370339016</title>\n",
       "<path d=\"M399,-511.4551C399,-503.3828 399,-493.6764 399,-484.6817\" fill=\"none\" stroke=\"#000000\"/>\n",
       "<polygon fill=\"#000000\" points=\"402.5001,-484.5903 399,-474.5904 395.5001,-484.5904 402.5001,-484.5903\" stroke=\"#000000\"/>\n",
       "</g>\n",
       "<!-- 140563112684736 -->\n",
       "<g class=\"node\" id=\"node9\">\n",
       "<title>140563112684736</title>\n",
       "<polygon fill=\"none\" points=\"595.5,-438.5 595.5,-474.5 746.5,-474.5 746.5,-438.5 595.5,-438.5\" stroke=\"#000000\"/>\n",
       "<text fill=\"#000000\" font-family=\"Times,serif\" font-size=\"14.00\" text-anchor=\"middle\" x=\"671\" y=\"-452.8\">conv1d_4: Conv1D</text>\n",
       "</g>\n",
       "<!-- 140563113199096&#45;&gt;140563112684736 -->\n",
       "<g class=\"edge\" id=\"edge6\">\n",
       "<title>140563113199096-&gt;140563112684736</title>\n",
       "<path d=\"M671,-511.4551C671,-503.3828 671,-493.6764 671,-484.6817\" fill=\"none\" stroke=\"#000000\"/>\n",
       "<polygon fill=\"#000000\" points=\"674.5001,-484.5903 671,-474.5904 667.5001,-484.5904 674.5001,-484.5903\" stroke=\"#000000\"/>\n",
       "</g>\n",
       "<!-- 140563112711392 -->\n",
       "<g class=\"node\" id=\"node10\">\n",
       "<title>140563112711392</title>\n",
       "<polygon fill=\"none\" points=\"48.5,-365.5 48.5,-401.5 205.5,-401.5 205.5,-365.5 48.5,-365.5\" stroke=\"#000000\"/>\n",
       "<text fill=\"#000000\" font-family=\"Times,serif\" font-size=\"14.00\" text-anchor=\"middle\" x=\"127\" y=\"-379.8\">dropout_1: Dropout</text>\n",
       "</g>\n",
       "<!-- 140563365769288&#45;&gt;140563112711392 -->\n",
       "<g class=\"edge\" id=\"edge7\">\n",
       "<title>140563365769288-&gt;140563112711392</title>\n",
       "<path d=\"M127,-438.4551C127,-430.3828 127,-420.6764 127,-411.6817\" fill=\"none\" stroke=\"#000000\"/>\n",
       "<polygon fill=\"#000000\" points=\"130.5001,-411.5903 127,-401.5904 123.5001,-411.5904 130.5001,-411.5903\" stroke=\"#000000\"/>\n",
       "</g>\n",
       "<!-- 140563112667792 -->\n",
       "<g class=\"node\" id=\"node11\">\n",
       "<title>140563112667792</title>\n",
       "<polygon fill=\"none\" points=\"320.5,-365.5 320.5,-401.5 477.5,-401.5 477.5,-365.5 320.5,-365.5\" stroke=\"#000000\"/>\n",
       "<text fill=\"#000000\" font-family=\"Times,serif\" font-size=\"14.00\" text-anchor=\"middle\" x=\"399\" y=\"-379.8\">dropout_2: Dropout</text>\n",
       "</g>\n",
       "<!-- 140563370339016&#45;&gt;140563112667792 -->\n",
       "<g class=\"edge\" id=\"edge8\">\n",
       "<title>140563370339016-&gt;140563112667792</title>\n",
       "<path d=\"M399,-438.4551C399,-430.3828 399,-420.6764 399,-411.6817\" fill=\"none\" stroke=\"#000000\"/>\n",
       "<polygon fill=\"#000000\" points=\"402.5001,-411.5903 399,-401.5904 395.5001,-411.5904 402.5001,-411.5903\" stroke=\"#000000\"/>\n",
       "</g>\n",
       "<!-- 140562677486200 -->\n",
       "<g class=\"node\" id=\"node12\">\n",
       "<title>140562677486200</title>\n",
       "<polygon fill=\"none\" points=\"592.5,-365.5 592.5,-401.5 749.5,-401.5 749.5,-365.5 592.5,-365.5\" stroke=\"#000000\"/>\n",
       "<text fill=\"#000000\" font-family=\"Times,serif\" font-size=\"14.00\" text-anchor=\"middle\" x=\"671\" y=\"-379.8\">dropout_3: Dropout</text>\n",
       "</g>\n",
       "<!-- 140563112684736&#45;&gt;140562677486200 -->\n",
       "<g class=\"edge\" id=\"edge9\">\n",
       "<title>140563112684736-&gt;140562677486200</title>\n",
       "<path d=\"M671,-438.4551C671,-430.3828 671,-420.6764 671,-411.6817\" fill=\"none\" stroke=\"#000000\"/>\n",
       "<polygon fill=\"#000000\" points=\"674.5001,-411.5903 671,-401.5904 667.5001,-411.5904 674.5001,-411.5903\" stroke=\"#000000\"/>\n",
       "</g>\n",
       "<!-- 140563365770912 -->\n",
       "<g class=\"node\" id=\"node13\">\n",
       "<title>140563365770912</title>\n",
       "<polygon fill=\"none\" points=\"0,-292.5 0,-328.5 254,-328.5 254,-292.5 0,-292.5\" stroke=\"#000000\"/>\n",
       "<text fill=\"#000000\" font-family=\"Times,serif\" font-size=\"14.00\" text-anchor=\"middle\" x=\"127\" y=\"-306.8\">max_pooling1d_2: MaxPooling1D</text>\n",
       "</g>\n",
       "<!-- 140563112711392&#45;&gt;140563365770912 -->\n",
       "<g class=\"edge\" id=\"edge10\">\n",
       "<title>140563112711392-&gt;140563365770912</title>\n",
       "<path d=\"M127,-365.4551C127,-357.3828 127,-347.6764 127,-338.6817\" fill=\"none\" stroke=\"#000000\"/>\n",
       "<polygon fill=\"#000000\" points=\"130.5001,-338.5903 127,-328.5904 123.5001,-338.5904 130.5001,-338.5903\" stroke=\"#000000\"/>\n",
       "</g>\n",
       "<!-- 140563112665552 -->\n",
       "<g class=\"node\" id=\"node14\">\n",
       "<title>140563112665552</title>\n",
       "<polygon fill=\"none\" points=\"272,-292.5 272,-328.5 526,-328.5 526,-292.5 272,-292.5\" stroke=\"#000000\"/>\n",
       "<text fill=\"#000000\" font-family=\"Times,serif\" font-size=\"14.00\" text-anchor=\"middle\" x=\"399\" y=\"-306.8\">max_pooling1d_3: MaxPooling1D</text>\n",
       "</g>\n",
       "<!-- 140563112667792&#45;&gt;140563112665552 -->\n",
       "<g class=\"edge\" id=\"edge11\">\n",
       "<title>140563112667792-&gt;140563112665552</title>\n",
       "<path d=\"M399,-365.4551C399,-357.3828 399,-347.6764 399,-338.6817\" fill=\"none\" stroke=\"#000000\"/>\n",
       "<polygon fill=\"#000000\" points=\"402.5001,-338.5903 399,-328.5904 395.5001,-338.5904 402.5001,-338.5903\" stroke=\"#000000\"/>\n",
       "</g>\n",
       "<!-- 140562677340984 -->\n",
       "<g class=\"node\" id=\"node15\">\n",
       "<title>140562677340984</title>\n",
       "<polygon fill=\"none\" points=\"544,-292.5 544,-328.5 798,-328.5 798,-292.5 544,-292.5\" stroke=\"#000000\"/>\n",
       "<text fill=\"#000000\" font-family=\"Times,serif\" font-size=\"14.00\" text-anchor=\"middle\" x=\"671\" y=\"-306.8\">max_pooling1d_4: MaxPooling1D</text>\n",
       "</g>\n",
       "<!-- 140562677486200&#45;&gt;140562677340984 -->\n",
       "<g class=\"edge\" id=\"edge12\">\n",
       "<title>140562677486200-&gt;140562677340984</title>\n",
       "<path d=\"M671,-365.4551C671,-357.3828 671,-347.6764 671,-338.6817\" fill=\"none\" stroke=\"#000000\"/>\n",
       "<polygon fill=\"#000000\" points=\"674.5001,-338.5903 671,-328.5904 667.5001,-338.5904 674.5001,-338.5903\" stroke=\"#000000\"/>\n",
       "</g>\n",
       "<!-- 140563076541968 -->\n",
       "<g class=\"node\" id=\"node16\">\n",
       "<title>140563076541968</title>\n",
       "<polygon fill=\"none\" points=\"113.5,-219.5 113.5,-255.5 254.5,-255.5 254.5,-219.5 113.5,-219.5\" stroke=\"#000000\"/>\n",
       "<text fill=\"#000000\" font-family=\"Times,serif\" font-size=\"14.00\" text-anchor=\"middle\" x=\"184\" y=\"-233.8\">flatten_2: Flatten</text>\n",
       "</g>\n",
       "<!-- 140563365770912&#45;&gt;140563076541968 -->\n",
       "<g class=\"edge\" id=\"edge13\">\n",
       "<title>140563365770912-&gt;140563076541968</title>\n",
       "<path d=\"M141.0899,-292.4551C147.8724,-283.7686 156.1326,-273.1898 163.5877,-263.642\" fill=\"none\" stroke=\"#000000\"/>\n",
       "<polygon fill=\"#000000\" points=\"166.4789,-265.6263 169.8747,-255.5904 160.9616,-261.3182 166.4789,-265.6263\" stroke=\"#000000\"/>\n",
       "</g>\n",
       "<!-- 140562677748064 -->\n",
       "<g class=\"node\" id=\"node17\">\n",
       "<title>140562677748064</title>\n",
       "<polygon fill=\"none\" points=\"328.5,-219.5 328.5,-255.5 469.5,-255.5 469.5,-219.5 328.5,-219.5\" stroke=\"#000000\"/>\n",
       "<text fill=\"#000000\" font-family=\"Times,serif\" font-size=\"14.00\" text-anchor=\"middle\" x=\"399\" y=\"-233.8\">flatten_3: Flatten</text>\n",
       "</g>\n",
       "<!-- 140563112665552&#45;&gt;140562677748064 -->\n",
       "<g class=\"edge\" id=\"edge14\">\n",
       "<title>140563112665552-&gt;140562677748064</title>\n",
       "<path d=\"M399,-292.4551C399,-284.3828 399,-274.6764 399,-265.6817\" fill=\"none\" stroke=\"#000000\"/>\n",
       "<polygon fill=\"#000000\" points=\"402.5001,-265.5903 399,-255.5904 395.5001,-265.5904 402.5001,-265.5903\" stroke=\"#000000\"/>\n",
       "</g>\n",
       "<!-- 140562677523456 -->\n",
       "<g class=\"node\" id=\"node18\">\n",
       "<title>140562677523456</title>\n",
       "<polygon fill=\"none\" points=\"543.5,-219.5 543.5,-255.5 684.5,-255.5 684.5,-219.5 543.5,-219.5\" stroke=\"#000000\"/>\n",
       "<text fill=\"#000000\" font-family=\"Times,serif\" font-size=\"14.00\" text-anchor=\"middle\" x=\"614\" y=\"-233.8\">flatten_4: Flatten</text>\n",
       "</g>\n",
       "<!-- 140562677340984&#45;&gt;140562677523456 -->\n",
       "<g class=\"edge\" id=\"edge15\">\n",
       "<title>140562677340984-&gt;140562677523456</title>\n",
       "<path d=\"M656.9101,-292.4551C650.1276,-283.7686 641.8674,-273.1898 634.4123,-263.642\" fill=\"none\" stroke=\"#000000\"/>\n",
       "<polygon fill=\"#000000\" points=\"637.0384,-261.3182 628.1253,-255.5904 631.5211,-265.6263 637.0384,-261.3182\" stroke=\"#000000\"/>\n",
       "</g>\n",
       "<!-- 140562677400184 -->\n",
       "<g class=\"node\" id=\"node19\">\n",
       "<title>140562677400184</title>\n",
       "<polygon fill=\"none\" points=\"288.5,-146.5 288.5,-182.5 509.5,-182.5 509.5,-146.5 288.5,-146.5\" stroke=\"#000000\"/>\n",
       "<text fill=\"#000000\" font-family=\"Times,serif\" font-size=\"14.00\" text-anchor=\"middle\" x=\"399\" y=\"-160.8\">concatenate_1: Concatenate</text>\n",
       "</g>\n",
       "<!-- 140563076541968&#45;&gt;140562677400184 -->\n",
       "<g class=\"edge\" id=\"edge16\">\n",
       "<title>140563076541968-&gt;140562677400184</title>\n",
       "<path d=\"M237.1461,-219.4551C267.1224,-209.277 304.7507,-196.5009 336.1805,-185.8294\" fill=\"none\" stroke=\"#000000\"/>\n",
       "<polygon fill=\"#000000\" points=\"337.3764,-189.1197 345.7202,-182.5904 335.1258,-182.4913 337.3764,-189.1197\" stroke=\"#000000\"/>\n",
       "</g>\n",
       "<!-- 140562677748064&#45;&gt;140562677400184 -->\n",
       "<g class=\"edge\" id=\"edge17\">\n",
       "<title>140562677748064-&gt;140562677400184</title>\n",
       "<path d=\"M399,-219.4551C399,-211.3828 399,-201.6764 399,-192.6817\" fill=\"none\" stroke=\"#000000\"/>\n",
       "<polygon fill=\"#000000\" points=\"402.5001,-192.5903 399,-182.5904 395.5001,-192.5904 402.5001,-192.5903\" stroke=\"#000000\"/>\n",
       "</g>\n",
       "<!-- 140562677523456&#45;&gt;140562677400184 -->\n",
       "<g class=\"edge\" id=\"edge18\">\n",
       "<title>140562677523456-&gt;140562677400184</title>\n",
       "<path d=\"M560.8539,-219.4551C530.8776,-209.277 493.2493,-196.5009 461.8195,-185.8294\" fill=\"none\" stroke=\"#000000\"/>\n",
       "<polygon fill=\"#000000\" points=\"462.8742,-182.4913 452.2798,-182.5904 460.6236,-189.1197 462.8742,-182.4913\" stroke=\"#000000\"/>\n",
       "</g>\n",
       "<!-- 140562677522504 -->\n",
       "<g class=\"node\" id=\"node20\">\n",
       "<title>140562677522504</title>\n",
       "<polygon fill=\"none\" points=\"335,-73.5 335,-109.5 463,-109.5 463,-73.5 335,-73.5\" stroke=\"#000000\"/>\n",
       "<text fill=\"#000000\" font-family=\"Times,serif\" font-size=\"14.00\" text-anchor=\"middle\" x=\"399\" y=\"-87.8\">dense_5: Dense</text>\n",
       "</g>\n",
       "<!-- 140562677400184&#45;&gt;140562677522504 -->\n",
       "<g class=\"edge\" id=\"edge19\">\n",
       "<title>140562677400184-&gt;140562677522504</title>\n",
       "<path d=\"M399,-146.4551C399,-138.3828 399,-128.6764 399,-119.6817\" fill=\"none\" stroke=\"#000000\"/>\n",
       "<polygon fill=\"#000000\" points=\"402.5001,-119.5903 399,-109.5904 395.5001,-119.5904 402.5001,-119.5903\" stroke=\"#000000\"/>\n",
       "</g>\n",
       "<!-- 140562677465608 -->\n",
       "<g class=\"node\" id=\"node21\">\n",
       "<title>140562677465608</title>\n",
       "<polygon fill=\"none\" points=\"335,-.5 335,-36.5 463,-36.5 463,-.5 335,-.5\" stroke=\"#000000\"/>\n",
       "<text fill=\"#000000\" font-family=\"Times,serif\" font-size=\"14.00\" text-anchor=\"middle\" x=\"399\" y=\"-14.8\">dense_6: Dense</text>\n",
       "</g>\n",
       "<!-- 140562677522504&#45;&gt;140562677465608 -->\n",
       "<g class=\"edge\" id=\"edge20\">\n",
       "<title>140562677522504-&gt;140562677465608</title>\n",
       "<path d=\"M399,-73.4551C399,-65.3828 399,-55.6764 399,-46.6817\" fill=\"none\" stroke=\"#000000\"/>\n",
       "<polygon fill=\"#000000\" points=\"402.5001,-46.5903 399,-36.5904 395.5001,-46.5904 402.5001,-46.5903\" stroke=\"#000000\"/>\n",
       "</g>\n",
       "</g>\n",
       "</svg>"
      ],
      "text/plain": [
       "<IPython.core.display.SVG object>"
      ]
     },
     "execution_count": 76,
     "metadata": {},
     "output_type": "execute_result"
    },
    {
     "data": {
      "application/javascript": [
       "\n",
       "        setTimeout(function() {\n",
       "            var nbb_cell_id = 76;\n",
       "            var nbb_formatted_code = \"# Plot of The Defined model\\nSVG(model_to_dot(ncnn_model).create(prog=\\\"dot\\\", format=\\\"svg\\\"))\";\n",
       "            var nbb_cells = Jupyter.notebook.get_cells();\n",
       "            for (var i = 0; i < nbb_cells.length; ++i) {\n",
       "                if (nbb_cells[i].input_prompt_number == nbb_cell_id) {\n",
       "                    nbb_cells[i].set_text(nbb_formatted_code);\n",
       "                    break;\n",
       "                }\n",
       "            }\n",
       "        }, 500);\n",
       "        "
      ],
      "text/plain": [
       "<IPython.core.display.Javascript object>"
      ]
     },
     "metadata": {},
     "output_type": "display_data"
    }
   ],
   "source": [
    "# Plot of The Defined model\n",
    "SVG(model_to_dot(ncnn_model).create(prog=\"dot\", format=\"svg\"))"
   ]
  },
  {
   "cell_type": "code",
   "execution_count": 77,
   "metadata": {},
   "outputs": [
    {
     "name": "stdout",
     "output_type": "stream",
     "text": [
      "Epoch 1/8\n",
      "1800/1800 [==============================] - 36s 20ms/step - loss: 0.6986 - acc: 0.4989\n",
      "Epoch 2/8\n",
      "1800/1800 [==============================] - 41s 23ms/step - loss: 0.6932 - acc: 0.5000\n",
      "Epoch 3/8\n",
      "1800/1800 [==============================] - 43s 24ms/step - loss: 0.6932 - acc: 0.4878\n",
      "Epoch 4/8\n",
      "1800/1800 [==============================] - 39s 22ms/step - loss: 0.6932 - acc: 0.4889\n",
      "Epoch 5/8\n",
      "1800/1800 [==============================] - 37s 21ms/step - loss: 0.6933 - acc: 0.5000\n",
      "Epoch 6/8\n",
      "1800/1800 [==============================] - 38s 21ms/step - loss: 0.6932 - acc: 0.4911\n",
      "Epoch 7/8\n",
      "1800/1800 [==============================] - 34s 19ms/step - loss: 0.6932 - acc: 0.5000\n",
      "Epoch 8/8\n",
      "1800/1800 [==============================] - 43s 24ms/step - loss: 0.6932 - acc: 0.4811\n"
     ]
    },
    {
     "data": {
      "text/plain": [
       "<keras.callbacks.History at 0x7fd74c3628d0>"
      ]
     },
     "execution_count": 77,
     "metadata": {},
     "output_type": "execute_result"
    },
    {
     "data": {
      "application/javascript": [
       "\n",
       "        setTimeout(function() {\n",
       "            var nbb_cell_id = 77;\n",
       "            var nbb_formatted_code = \"ncnn_model.fit([ncnn_Xtrain, ncnn_Xtrain, ncnn_Xtrain], ytrain, epochs=8, batch_size=16)\";\n",
       "            var nbb_cells = Jupyter.notebook.get_cells();\n",
       "            for (var i = 0; i < nbb_cells.length; ++i) {\n",
       "                if (nbb_cells[i].input_prompt_number == nbb_cell_id) {\n",
       "                    nbb_cells[i].set_text(nbb_formatted_code);\n",
       "                    break;\n",
       "                }\n",
       "            }\n",
       "        }, 500);\n",
       "        "
      ],
      "text/plain": [
       "<IPython.core.display.Javascript object>"
      ]
     },
     "metadata": {},
     "output_type": "display_data"
    }
   ],
   "source": [
    "ncnn_model.fit([ncnn_Xtrain, ncnn_Xtrain, ncnn_Xtrain], ytrain, epochs=8, batch_size=16)"
   ]
  },
  {
   "cell_type": "code",
   "execution_count": null,
   "metadata": {},
   "outputs": [],
   "source": [
    "# ncnn_model.save('ncnn_model.h5')"
   ]
  },
  {
   "cell_type": "code",
   "execution_count": null,
   "metadata": {},
   "outputs": [],
   "source": [
    "# ncnn_Xtrain.shape"
   ]
  },
  {
   "cell_type": "code",
   "execution_count": null,
   "metadata": {},
   "outputs": [],
   "source": [
    "# ncnn_Xtest.shape"
   ]
  },
  {
   "cell_type": "code",
   "execution_count": null,
   "metadata": {},
   "outputs": [],
   "source": [
    "# ncnn_Xtrain=np.array(ncnn_Xtrain)\n"
   ]
  },
  {
   "cell_type": "code",
   "execution_count": 78,
   "metadata": {},
   "outputs": [
    {
     "name": "stdout",
     "output_type": "stream",
     "text": [
      "1800/1800 [==============================] - 10s 6ms/step\n",
      "Train Accuracy: 50.00\n",
      "200/200 [==============================] - 2s 8ms/step\n",
      "Test Accuracy: 50.00\n"
     ]
    },
    {
     "data": {
      "application/javascript": [
       "\n",
       "        setTimeout(function() {\n",
       "            var nbb_cell_id = 78;\n",
       "            var nbb_formatted_code = \"# evaluate model on training dataset\\nloss, acc = ncnn_model.evaluate(\\n    [ncnn_Xtrain, ncnn_Xtrain, ncnn_Xtrain], ytrain, verbose=1\\n)\\nprint(\\\"Train Accuracy: %.2f\\\" % (acc * 100))\\n# evaluate model on test dataset dataset\\nloss, acc = ncnn_model.evaluate([ncnn_Xtest, ncnn_Xtest, ncnn_Xtest], ytest, verbose=1)\\nprint(\\\"Test Accuracy: %.2f\\\" % (acc * 100))\";\n",
       "            var nbb_cells = Jupyter.notebook.get_cells();\n",
       "            for (var i = 0; i < nbb_cells.length; ++i) {\n",
       "                if (nbb_cells[i].input_prompt_number == nbb_cell_id) {\n",
       "                    nbb_cells[i].set_text(nbb_formatted_code);\n",
       "                    break;\n",
       "                }\n",
       "            }\n",
       "        }, 500);\n",
       "        "
      ],
      "text/plain": [
       "<IPython.core.display.Javascript object>"
      ]
     },
     "metadata": {},
     "output_type": "display_data"
    }
   ],
   "source": [
    "# evaluate model on training dataset\n",
    "loss, acc = ncnn_model.evaluate(\n",
    "    [ncnn_Xtrain, ncnn_Xtrain, ncnn_Xtrain], ytrain, verbose=1\n",
    ")\n",
    "print(\"Train Accuracy: %.2f\" % (acc * 100))\n",
    "# evaluate model on test dataset dataset\n",
    "loss, acc = ncnn_model.evaluate([ncnn_Xtest, ncnn_Xtest, ncnn_Xtest], ytest, verbose=1)\n",
    "print(\"Test Accuracy: %.2f\" % (acc * 100))"
   ]
  },
  {
   "cell_type": "code",
   "execution_count": 79,
   "metadata": {},
   "outputs": [
    {
     "name": "stdout",
     "output_type": "stream",
     "text": [
      "Saved model to disk\n"
     ]
    },
    {
     "data": {
      "application/javascript": [
       "\n",
       "        setTimeout(function() {\n",
       "            var nbb_cell_id = 79;\n",
       "            var nbb_formatted_code = \"# Save Embedding + NCNN\\nmodel3ncnn_json = ncnn_model.to_json()\\nwith open(\\\"model3ncnn_json\\\", \\\"w\\\") as json_file:\\n    json_file.write(model3ncnn_json)\\n# serialize weights to HDF5\\nncnn_model.save_weights(\\\"model3ncnn_json.h5\\\")\\nprint(\\\"Saved model to disk\\\")\";\n",
       "            var nbb_cells = Jupyter.notebook.get_cells();\n",
       "            for (var i = 0; i < nbb_cells.length; ++i) {\n",
       "                if (nbb_cells[i].input_prompt_number == nbb_cell_id) {\n",
       "                    nbb_cells[i].set_text(nbb_formatted_code);\n",
       "                    break;\n",
       "                }\n",
       "            }\n",
       "        }, 500);\n",
       "        "
      ],
      "text/plain": [
       "<IPython.core.display.Javascript object>"
      ]
     },
     "metadata": {},
     "output_type": "display_data"
    }
   ],
   "source": [
    "# # Save Embedding + NCNN\n",
    "# model3ncnn_json = ncnn_model.to_json()\n",
    "# with open(\"model3ncnn_json\", \"w\") as json_file:\n",
    "#     json_file.write(model3ncnn_json)\n",
    "# # serialize weights to HDF5\n",
    "# ncnn_model.save_weights(\"model3ncnn_json.h5\")\n",
    "# print(\"Saved model to disk\")"
   ]
  },
  {
   "cell_type": "code",
   "execution_count": 81,
   "metadata": {},
   "outputs": [
    {
     "data": {
      "application/javascript": [
       "\n",
       "        setTimeout(function() {\n",
       "            var nbb_cell_id = 81;\n",
       "            var nbb_formatted_code = \"def predict_ncnn_sentiment(review, vocab, tokenizer, max_length, model):\\n    tokens = clean_document(review)\\n    tokens = [w for w in tokens if w in vocab]\\n    line = \\\" \\\".join(tokens)\\n    print(line)\\n    padded = encode_documents(tokenizer, max_length, [line])\\n    # predict sentiment\\n    yhat = model.predict([padded, padded, padded], verbose=0)\\n    percent_pos = yhat[0, 0]\\n    print(percent_pos)\\n    if percent_pos < 0.49:\\n        return (1 - percent_pos), \\\"NEGATIVE\\\"\\n    else:\\n        #         if percent_pos >0.5 and percent_pos<0.5045:\\n        #             return percent_pos, 'NEUTRAL'\\n        #         else:\\n        return percent_pos, \\\"POSITIVE\\\"\\n\\n\\n#     if round(percent_pos)==0:\\n#         return (1-percent_pos), 'NEGATIVE'\\n#     return percent_pos, 'POSITIVE'\";\n",
       "            var nbb_cells = Jupyter.notebook.get_cells();\n",
       "            for (var i = 0; i < nbb_cells.length; ++i) {\n",
       "                if (nbb_cells[i].input_prompt_number == nbb_cell_id) {\n",
       "                    nbb_cells[i].set_text(nbb_formatted_code);\n",
       "                    break;\n",
       "                }\n",
       "            }\n",
       "        }, 500);\n",
       "        "
      ],
      "text/plain": [
       "<IPython.core.display.Javascript object>"
      ]
     },
     "metadata": {},
     "output_type": "display_data"
    }
   ],
   "source": [
    "def predict_ncnn_sentiment(review, vocab, tokenizer, max_length, model):\n",
    "    tokens = clean_document(review)\n",
    "    tokens = [w for w in tokens if w in vocab]\n",
    "    line = \" \".join(tokens)\n",
    "    print(line)\n",
    "    padded = encode_documents(tokenizer, max_length, [line])\n",
    "    # predict sentiment\n",
    "    yhat = model.predict([padded, padded, padded], verbose=0)\n",
    "    percent_pos = yhat[0, 0]\n",
    "    print(percent_pos)\n",
    "    if percent_pos < 0.49:\n",
    "        return (1 - percent_pos), \"NEGATIVE\"\n",
    "    else:\n",
    "        #         if percent_pos >0.5 and percent_pos<0.5045:\n",
    "        #             return percent_pos, 'NEUTRAL'\n",
    "        #         else:\n",
    "        return percent_pos, \"POSITIVE\"\n",
    "\n",
    "\n",
    "#     if round(percent_pos)==0:\n",
    "#         return (1-percent_pos), 'NEGATIVE'\n",
    "#     return percent_pos, 'POSITIVE'"
   ]
  },
  {
   "cell_type": "code",
   "execution_count": 82,
   "metadata": {},
   "outputs": [
    {
     "name": "stdout",
     "output_type": "stream",
     "text": [
      "ok movie one time watch\n",
      "0.5003958\n",
      "Review: [It is an ok movie one time watch]\n",
      "Sentiment: POSITIVE (50.040%) \n",
      "\n",
      "loved would recommend movie loved movie goodness goodness goodness would recommend movie everyone\n",
      "0.5003958\n",
      "Review: [I loved This Movie.I would recommend this movie to everyone.I loved This Movie. GoodNess Goodness Goodness I would recommend this movie to everyone.]\n",
      "Sentiment: POSITIVE (50.040%) \n",
      "\n",
      "bad bad bad hate movie one waste money watching\n",
      "0.5003958\n",
      "Review: [Bad , Bad , Bad I Hate this Movie No One Should waste money watching this]\n",
      "Sentiment: POSITIVE (50.040%) \n",
      "\n"
     ]
    },
    {
     "data": {
      "application/javascript": [
       "\n",
       "        setTimeout(function() {\n",
       "            var nbb_cell_id = 82;\n",
       "            var nbb_formatted_code = \"text = \\\"It is an ok movie one time watch\\\"\\npercent, sentiment = predict_ncnn_sentiment(\\n    text, vocab, ncnn_tokenizer, length, ncnn_model\\n)\\nprint(\\\"Review: [%s]\\\\nSentiment: %s (%.3f%%) \\\\n\\\" % (text, sentiment, percent * 100))\\n\\ntext = \\\"I loved This Movie.I would recommend this movie to everyone.I loved This Movie. GoodNess Goodness Goodness I would recommend this movie to everyone.\\\"\\npercent, sentiment = predict_ncnn_sentiment(\\n    text, vocab, ncnn_tokenizer, length, ncnn_model\\n)\\nprint(\\\"Review: [%s]\\\\nSentiment: %s (%.3f%%) \\\\n\\\" % (text, sentiment, percent * 100))\\n\\ntext = \\\"Bad , Bad , Bad I Hate this Movie No One Should waste money watching this\\\"\\npercent, sentiment = predict_ncnn_sentiment(\\n    text, vocab, ncnn_tokenizer, length, ncnn_model\\n)\\nprint(\\\"Review: [%s]\\\\nSentiment: %s (%.3f%%) \\\\n\\\" % (text, sentiment, percent * 100))\";\n",
       "            var nbb_cells = Jupyter.notebook.get_cells();\n",
       "            for (var i = 0; i < nbb_cells.length; ++i) {\n",
       "                if (nbb_cells[i].input_prompt_number == nbb_cell_id) {\n",
       "                    nbb_cells[i].set_text(nbb_formatted_code);\n",
       "                    break;\n",
       "                }\n",
       "            }\n",
       "        }, 500);\n",
       "        "
      ],
      "text/plain": [
       "<IPython.core.display.Javascript object>"
      ]
     },
     "metadata": {},
     "output_type": "display_data"
    }
   ],
   "source": [
    "text = \"It is an ok movie one time watch\"\n",
    "percent, sentiment = predict_ncnn_sentiment(\n",
    "    text, vocab, ncnn_tokenizer, length, ncnn_model\n",
    ")\n",
    "print(\"Review: [%s]\\nSentiment: %s (%.3f%%) \\n\" % (text, sentiment, percent * 100))\n",
    "\n",
    "text = \"I loved This Movie.I would recommend this movie to everyone.I loved This Movie. GoodNess Goodness Goodness I would recommend this movie to everyone.\"\n",
    "percent, sentiment = predict_ncnn_sentiment(\n",
    "    text, vocab, ncnn_tokenizer, length, ncnn_model\n",
    ")\n",
    "print(\"Review: [%s]\\nSentiment: %s (%.3f%%) \\n\" % (text, sentiment, percent * 100))\n",
    "\n",
    "text = \"Bad , Bad , Bad I Hate this Movie No One Should waste money watching this\"\n",
    "percent, sentiment = predict_ncnn_sentiment(\n",
    "    text, vocab, ncnn_tokenizer, length, ncnn_model\n",
    ")\n",
    "print(\"Review: [%s]\\nSentiment: %s (%.3f%%) \\n\" % (text, sentiment, percent * 100))"
   ]
  },
  {
   "cell_type": "markdown",
   "metadata": {},
   "source": [
    "# Test"
   ]
  },
  {
   "cell_type": "code",
   "execution_count": 83,
   "metadata": {},
   "outputs": [
    {
     "data": {
      "application/javascript": [
       "\n",
       "        setTimeout(function() {\n",
       "            var nbb_cell_id = 83;\n",
       "            var nbb_formatted_code = \"fn = sorted(os.listdir(\\\"txt_sentoken/mtest/pos\\\"))\\nfn\\nnf = sorted(os.listdir(\\\"txt_sentoken/mtest/neg\\\"))\";\n",
       "            var nbb_cells = Jupyter.notebook.get_cells();\n",
       "            for (var i = 0; i < nbb_cells.length; ++i) {\n",
       "                if (nbb_cells[i].input_prompt_number == nbb_cell_id) {\n",
       "                    nbb_cells[i].set_text(nbb_formatted_code);\n",
       "                    break;\n",
       "                }\n",
       "            }\n",
       "        }, 500);\n",
       "        "
      ],
      "text/plain": [
       "<IPython.core.display.Javascript object>"
      ]
     },
     "metadata": {},
     "output_type": "display_data"
    }
   ],
   "source": [
    "fn = sorted(os.listdir(\"txt_sentoken/mtest/pos\"))\n",
    "fn\n",
    "nf = sorted(os.listdir(\"txt_sentoken/mtest/neg\"))"
   ]
  },
  {
   "cell_type": "markdown",
   "metadata": {},
   "source": [
    "* Tested using MLP Model"
   ]
  },
  {
   "cell_type": "code",
   "execution_count": 84,
   "metadata": {},
   "outputs": [
    {
     "name": "stdout",
     "output_type": "stream",
     "text": [
      "-------------Testing For---MLP-----------------------\n",
      "------------Testing For Positive Files---------------\n",
      "['pos_file0.txt', 'pos_file1.txt', 'pos_file2.txt', 'pos_file3.txt', 'pos_file4.txt', 'pos_file5.txt', 'pos_file6.txt', 'pos_file7.txt', 'pos_file8.txt', 'pos_file9.txt']\n",
      "txt_sentoken/mtest/pos/pos_file0.txt\n",
      "always rate things first written review everyone go watch seriously would death inside enjoy movie funny sad heartwarming enough action superhero movie couple things probably scary kids unless child like daughter didnt think scary twist well unexpected course go watch\n",
      "Sentiment: NEGATIVE (61.497%) \n",
      "\n",
      "txt_sentoken/mtest/pos/pos_file1.txt\n",
      "stars superhero incarnation average superhero blockbuster teenage foster child philadelphia discovers calling superhero angel solid teenage considerably upstaged jack dylan gives likeable performance aspiring sidekick mark strong menacing human vessel seven deadly sins rousing funny film great entertainment although wonder much medium children truly many tense scenes mayhem portrayal seven deadly sins might scare children aspect foster care portrayed adds films film take take shape keeping mindset teenage boy beginning discover true potential payoff tremendous goes decent superior becomes classic battle good evil welcome addition superhero genre gladly recommended\n",
      "Sentiment: POSITIVE (64.611%) \n",
      "\n",
      "txt_sentoken/mtest/pos/pos_file2.txt\n",
      "awesome movie innocent man represents world hes loyal humble honest would never cheat lie everything good heart reaches success important tasks life america could live interesting life meet elvis president kennedy john goes war everything following heart becomes american hero gary sinise great american actor best performance served vietnam forrest also hero protecting men fighting country mustsee movie everyone enjoy american culture icons well learn american history useful\n",
      "Sentiment: POSITIVE (85.354%) \n",
      "\n",
      "txt_sentoken/mtest/pos/pos_file3.txt\n",
      "great really great movie threw us deep end fishes great ride kept attention start finish long saga cgi gone mad really great movie delivered exactly tin jason gets special mention gave solid endearing performance line humour superhero loved\n",
      "Sentiment: POSITIVE (66.935%) \n",
      "\n",
      "txt_sentoken/mtest/pos/pos_file4.txt\n",
      "amazing film delivered epic adventure story stunning visual effects action awesome superhero film delivers epic adventure scale action sequences visual effects great story consider best dc movie beating wonder woman character seems like cheesy character even adapted onto big screen jason performance character makes character even achieves golden outfit plot great adventure story rushed sub plots follows nicole kidman queen atlantis rescued thomas morrison fall love son named arthur jason soon become decades fly found amber heard informs step brother patrick wilson trying wage war surface people trying unite seven underwater create havoc surface people willem dafoe help needing find true atlantis order claim rightful place throne fight army hired pirates led black ii plot delivered epic scale adventure travelling atlantis looked like beautiful colorful city underwater astonishing film action sequences big well directed lot action throughout fighting pirates submarine epic sub water fight scene fighting atlantis soldiers opening scene one long camera take well choreographed james wan direction camera around action sequences worked well known small budget horror movies like saw action style furious seven film awesome delivered great underwater chase scene almost felt like legacy beautiful lighting vehicles atlantis lighting chase scene italy facing black soldiers thrilling climax battle sequence breathtaking ocean master fighting best choreographed fight scene cinematography work visual effects breathtaking action underwater land great epic scale cinematography work well done captured action choreography music score rupert great good score made movie feel like adventure also soundtrack songs great fun jason great amber heard beautiful great willem dafoe patrick wilson ii nicole kidman great characters james direction brilliant making adventure story epic action overall great film say best dc movie definitely recommend seeing big screen theatres looking adventure story exciting epic action sequences beautiful stunning visual effects film worth seeing\n",
      "Sentiment: POSITIVE (72.228%) \n",
      "\n",
      "txt_sentoken/mtest/pos/pos_file5.txt\n",
      "directed david lights creation written henry earth echo stars billy film follows billy orphan boy keeps running foster homes gets adopted couple share home many foster kids billy soon granted magical wizard powers discovers says name turns adult male superhero like abilities isnt much franchise point separated films franchise essentially thing follows suit references superman batman justice league heroes throughout film isnt concerned connecting setting franchise tries thing strongest aspect film far underrated actor brings film energy charm humor needs plays role teenage boy stuck mans body well eerily convincingly jack dylan plays billys foster brother freddy also great neurotic hilarious helps convince films ridiculous premise angel plays young billy got short end stick hes given character hides emotions still feels like billy hes less entertaining half billy nonetheless delivers great performance film lands rest cast alright weak performances decent one mark strong script another strength humor drama horror character spectacle better film far cared characters understood motivations desires film character piece superhero film though story isnt boy turns adult superhero battling evil boy learning grow accept things hes ignored whole life billy must realize must pursue needs wants comes understand everything believed true wrong fantastic makes entire third act land movie carries tongueincheek references never forgets make laugh humor natural fresh never undermines dramatic tension film direction strong definitely sequences ill see second time really analyze film shot remember correctly rarely goes large movie doesnt try spectacle instead remains small unlike hero score great soundtrack amazing genuine laughs film definitely one set piece long could third act dont many complaints outside also brings spin superhero genre definitely family superhero film would argue even family superhero film aside mild language couple scary scenes earns rating one wholesome superhero movies come along loved film everybody knocked park heart humor great message hands best film cant wait see future movies far favorite film year\n",
      "Sentiment: POSITIVE (60.931%) \n",
      "\n",
      "txt_sentoken/mtest/pos/pos_file6.txt\n",
      "saw trailer thought genius superhero thats actually kid think tom hanks big meets superman remember liking kid took long time call capt marvel much else remember watched serial impressed watched tv show although cheesy entertaining moved onto series fell love renaissance happened months ago elements mixed together bad guys look awesome movie lots laughs tons heart one bad thing short scene parent scene gets dark made feel kinda pulled movie thank god short scene one favorite comic book movies ever batman dark knight superman ca civil war\n",
      "Sentiment: NEGATIVE (53.378%) \n",
      "\n",
      "txt_sentoken/mtest/pos/pos_file7.txt\n",
      "film first expect delight film behind ease irony hides deep meaning film watch without stopping although far blockbuster waiting years peter green book plot tells journey southern states talented black pianist ali driver hired solely tour viggo minor first sight little hero mortensen journey becomes pianist true friend support even treasure useful knowledge life society draws boss useful skills love art good plot simple film looks incredibly easy dialogues written ironically absolutely boring time remain filled meaning viewer relationship characters main motive film could different people respects able become friends life weeks noted racism time still extremely common america especially south incredibly subtly written hotels colored individual even nuances time film shown perfectly feel ashamed existed literally wanted stand give characters face several scenes surprisingly director peter previously shot mostly comedies mostly brother first film comedy drama genre point view handled perfectly would love see else would film later although cant say set apart interesting director perhaps fact film made peter strongly contributed nobility picture terms humor funny fact one screenwriters film nick father main character frank tony script written basis records made nick later records viggo mortensen learns speak italian hero italian film shot spirit beautiful cars time well shown art costume large houses rich public gone wind immediately remembered film simple kind sincere without strain without life horrors know someone dies someone killed someone prison atmosphere film soft light literally find time terrific cars colors rainbow men flawless day costumes colors gentlemen whiskey bar hotels listening brilliant pianist green book picture slavery racism humiliation although touches topics green book film honesty human dignity true friendship mutual support people film fact difficult change thinking society alone even brilliant famous\n",
      "Sentiment: POSITIVE (67.567%) \n",
      "\n",
      "txt_sentoken/mtest/pos/pos_file8.txt\n",
      "beautiful emotional harry movie experience richard playing reallife straight decides travel old riding john iowa see ailing brother harry dean stanton drivers license doesnt like public transportation one else drive two brothers speaking terms many years clock literally ticking one last chance see one another hopefully make past mistakes sissy gives one finest performances slightly mentally daughter supporting players real heartfelt caricatures americas outstanding filmmaker david lynch finest living american director along martin scorsese goes totally turn triumphs like elephant man blue velvet twin peaks fire walk mulholland dr quietly creates family film deep messages people ages backgrounds paints picture america old ways life still important total revelation excruciating pain throughout filming due terminal cancer terrible notice stands little movie almost always filmed waist sadly would final performance committed suicide shortly oscar nod become oldest nominee ever best actor category really become trivial time passes role thing shines brightly forever truly legacy production involved stars\n",
      "Sentiment: POSITIVE (66.282%) \n",
      "\n",
      "txt_sentoken/mtest/pos/pos_file9.txt\n",
      "simply best better rest january perfect cast couldnt put together movie amber heard beautiful creature land sea even orange hair wet hair stunning action going around character distress either happy finally worldwide audience legendary beauty jason build hybrid looking eyes comic book creators could else could suited role something little tongue cheek personality helps talented patrick wilson evil brother shows versatile jumping wan movies like superhero movie effortlessly nicole towering height finally put good use queen atlantis visuals also beautiful beyond expectations much sea interesting surface action satisfying epic story remains easy follow start finish marvel movies could learn dc standard future action hero movies\n",
      "Sentiment: POSITIVE (55.385%) \n",
      "\n",
      "------------Testing For Negative Files---------------\n",
      "['neg_file0.txt', 'neg_file1.txt', 'neg_file2.txt', 'neg_file3.txt', 'neg_file4.txt', 'neg_file5.txt', 'neg_file6.txt', 'neg_file7.txt', 'neg_file8.txt', 'neg_file9.txt']\n",
      "txt_sentoken/mtest/neg/neg_file0.txt\n",
      "dc fan go see movies buy character posters read comics including reason people become fans certain things things done well time generate fans becomes like dc fear unstoppable however subpar painfully illustrated movie poorly written scenes bit uninspired action sprinkled barely plot billy character development whatsoever overcome villain fight know people saying like movie feel like either arent honest like personal reasons present movie speaking terms technical aspects storytelling isnt effective bored entire time comedy parts made feel though poking asking member yes yes record people criticizing movie bad legitimate criticisms using tactic produce better films thing people want problem built movie around idea strong boy promoted identity film movie ends bad people rush defend dont want idea fail movie secondary vehicle slap real shame could great addition dc universe hope learn something ive heard appears dc actually plans escalate identity politics next phase would absolute disaster pointing box office defense good remember tons paying customers didnt like\n",
      "Sentiment: NEGATIVE (63.361%) \n",
      "\n",
      "txt_sentoken/mtest/neg/neg_file1.txt\n",
      "terrible absolutely terrible long funny jokes trailers end amazingly boring take ages present characters main villain awful prefer talk sidekick kid freddy probably annoying character theaters last decade god cgi demons ugly badly designed far worst experience theatre dont waste youre time movie make hopefully massive flop box office even opinion\n",
      "Sentiment: NEGATIVE (73.099%) \n",
      "\n",
      "txt_sentoken/mtest/neg/neg_file2.txt\n",
      "yes talking people heres movie deserves rating lack originally annoying title character yes old doesnt change fact dialogue would better fit kevin hart superhero yes mean insult huge dc bad cgi superhero good impression early keanu reeves acting range oh yes went basic idea good kid actors strong ok bad role thats dc always better darker movies\n",
      "Sentiment: NEGATIVE (70.122%) \n",
      "\n",
      "txt_sentoken/mtest/neg/neg_file3.txt\n",
      "made main character childish movie cgi heads characters bodies floating head bad\n",
      "Sentiment: NEGATIVE (72.757%) \n",
      "\n",
      "txt_sentoken/mtest/neg/neg_file4.txt\n",
      "least completely boring seek nothing find kid movie graphic kids offering new original direction memorable scene dc movie completely empty superhero movie nothing new nothing impressive nothing beautiful comedy maybe laugh although jokes simply references unoriginal jokes saw trailers dont expect anything jokes actor playing billy quite good sympathetic somehow becomes stupid childish transforms lets call already obviously didnt catch wisdom enemy doesnt improve movie nothing interesting movie contains random monsters could movies year already production released hopefully shift come new trailer joker prequel least gives hope\n",
      "Sentiment: NEGATIVE (70.527%) \n",
      "\n",
      "txt_sentoken/mtest/neg/neg_file5.txt\n",
      "felt movie audience humour also wasnt like dc movies wasnt dark gloomy wasnt enough action movies spent discovering abilities running away enemy also bit times\n",
      "Sentiment: NEGATIVE (57.034%) \n",
      "\n",
      "txt_sentoken/mtest/neg/neg_file6.txt\n",
      "marvel film even worst day solid enough think everyone gets carried away normal dc trash rate lot higher quite surprised turned aswell bad ingredients director pretty much ever done shorts producers consist rocks ex brother spent first rock films coffee geoff johns whos produced dc tripe far despite super suit padding trailer best jokes wasnt half bad\n",
      "Sentiment: NEGATIVE (66.490%) \n",
      "\n",
      "txt_sentoken/mtest/neg/neg_file7.txt\n",
      "marvel film even worst day solid enough think everyone gets carried away normal dc trash rate lot higher quite surprised turned aswell bad ingredients director pretty much ever done shorts producers consist rocks ex brother spent first rock films coffee geoff johns whos produced dc tripe far despite super suit padding trailer best jokes wasnt half bad\n",
      "Sentiment: NEGATIVE (66.490%) \n",
      "\n",
      "txt_sentoken/mtest/neg/neg_file8.txt\n",
      "done captain marvel fun character hes fights crime made look like didnt even stay till end disappointed advice watch serial adventures captain marvel tom tyler capt marvel frank jr billy everything terrific villain called dressed head black mask coat covered white story lie excellent better rubbish tried watch would add alive collect old saturday kids matinee one best special fx brothers howard theodore superior every way\n",
      "Sentiment: NEGATIVE (53.414%) \n",
      "\n",
      "txt_sentoken/mtest/neg/neg_file9.txt\n",
      "dont know reviewers saw movie feels like dc paid bunch folks give real reviews would chance show film braindead america jokes plot lines arent explicitly explained multiple times genuine heart even single fully developed character everyone fits modern superhero film references made hip woke brief nods made possessed social justice crowd watch watching serious superhero movie decades prior even great ones becomes apparent far weve fallen genre sadly seems like stay\n",
      "Sentiment: NEGATIVE (61.558%) \n",
      "\n",
      "---------Positive List----------\n",
      "  Sentiment    Percent\n",
      "0  NEGATIVE  61.496910\n",
      "1  POSITIVE  64.611268\n",
      "2  POSITIVE  85.353619\n",
      "3  POSITIVE  66.935241\n",
      "4  POSITIVE  72.227705\n",
      "5  POSITIVE  60.930556\n",
      "6  NEGATIVE  53.377849\n",
      "7  POSITIVE  67.566758\n",
      "8  POSITIVE  66.281909\n",
      "9  POSITIVE  55.385226\n",
      "---------Negative List----------\n",
      "  Sentiment    Percent\n",
      "0  NEGATIVE  63.361049\n",
      "1  NEGATIVE  73.098505\n",
      "2  NEGATIVE  70.122483\n",
      "3  NEGATIVE  72.757202\n",
      "4  NEGATIVE  70.526934\n",
      "5  NEGATIVE  57.033783\n",
      "6  NEGATIVE  66.490480\n",
      "7  NEGATIVE  66.490480\n",
      "8  NEGATIVE  53.414336\n",
      "9  NEGATIVE  61.558446\n"
     ]
    },
    {
     "data": {
      "application/javascript": [
       "\n",
       "        setTimeout(function() {\n",
       "            var nbb_cell_id = 84;\n",
       "            var nbb_formatted_code = \"def testFromFolderMLP(vocab, tokenizer, model):\\n    print(\\\"-------------Testing For---MLP-----------------------\\\")\\n    print(\\\"------------Testing For Positive Files---------------\\\")\\n    pos_list = list()\\n    neg_list = list()\\n    filesinfolder = sorted(os.listdir(\\\"txt_sentoken/mtest/pos\\\"))\\n    print(filesinfolder)\\n    for files in filesinfolder:\\n        filename = \\\"txt_sentoken/mtest/pos/\\\" + files\\n        print(filename)\\n        text = load_document(filename)\\n        percent, sentiment = predict_sentiment(text, vocab, tokenizer, model)\\n        #         print('Review: [%s]\\\\nSentiment: %s (%.3f%%) \\\\n' % (text, sentiment, percent*100))\\n        print(\\\"Sentiment: %s (%.3f%%) \\\\n\\\" % (sentiment, percent * 100))\\n        pos_list.append([sentiment, percent * 100])\\n    print(\\\"------------Testing For Negative Files---------------\\\")\\n    filesinfolder = sorted(os.listdir(\\\"txt_sentoken/mtest/neg\\\"))\\n    print(filesinfolder)\\n    for files in filesinfolder:\\n        filename = \\\"txt_sentoken/mtest/neg/\\\" + files\\n        print(filename)\\n        text = load_document(filename)\\n        percent, sentiment = predict_sentiment(text, vocab, tokenizer, model)\\n        #         print('Review: [%s]\\\\nSentiment: %s (%.3f%%) \\\\n' % (text, sentiment, percent*100))\\n        print(\\\"Sentiment: %s (%.3f%%) \\\\n\\\" % (sentiment, percent * 100))\\n        neg_list.append([sentiment, percent * 100])\\n\\n    print(\\\"---------Positive List----------\\\")\\n    #     print(*pos_list)\\n    pdf = pd.DataFrame(pos_list, columns=[\\\"Sentiment\\\", \\\"Percent\\\"])\\n    print(pdf.head(n=10))\\n    print(\\\"---------Negative List----------\\\")\\n    #     print(*neg_list)\\n    ndf = pd.DataFrame(neg_list, columns=[\\\"Sentiment\\\", \\\"Percent\\\"])\\n    print(ndf.head(n=10))\\n    return pdf, ndf\\n\\n\\nmlppdf, mlpndf = testFromFolderMLP(vocab, tokenizer, model)\";\n",
       "            var nbb_cells = Jupyter.notebook.get_cells();\n",
       "            for (var i = 0; i < nbb_cells.length; ++i) {\n",
       "                if (nbb_cells[i].input_prompt_number == nbb_cell_id) {\n",
       "                    nbb_cells[i].set_text(nbb_formatted_code);\n",
       "                    break;\n",
       "                }\n",
       "            }\n",
       "        }, 500);\n",
       "        "
      ],
      "text/plain": [
       "<IPython.core.display.Javascript object>"
      ]
     },
     "metadata": {},
     "output_type": "display_data"
    }
   ],
   "source": [
    "def testFromFolderMLP(vocab, tokenizer, model):\n",
    "    print(\"-------------Testing For---MLP-----------------------\")\n",
    "    print(\"------------Testing For Positive Files---------------\")\n",
    "    pos_list = list()\n",
    "    neg_list = list()\n",
    "    filesinfolder = sorted(os.listdir(\"txt_sentoken/mtest/pos\"))\n",
    "    print(filesinfolder)\n",
    "    for files in filesinfolder:\n",
    "        filename = \"txt_sentoken/mtest/pos/\" + files\n",
    "        print(filename)\n",
    "        text = load_document(filename)\n",
    "        percent, sentiment = predict_sentiment(text, vocab, tokenizer, model)\n",
    "        #         print('Review: [%s]\\nSentiment: %s (%.3f%%) \\n' % (text, sentiment, percent*100))\n",
    "        print(\"Sentiment: %s (%.3f%%) \\n\" % (sentiment, percent * 100))\n",
    "        pos_list.append([sentiment, percent * 100])\n",
    "    print(\"------------Testing For Negative Files---------------\")\n",
    "    filesinfolder = sorted(os.listdir(\"txt_sentoken/mtest/neg\"))\n",
    "    print(filesinfolder)\n",
    "    for files in filesinfolder:\n",
    "        filename = \"txt_sentoken/mtest/neg/\" + files\n",
    "        print(filename)\n",
    "        text = load_document(filename)\n",
    "        percent, sentiment = predict_sentiment(text, vocab, tokenizer, model)\n",
    "        #         print('Review: [%s]\\nSentiment: %s (%.3f%%) \\n' % (text, sentiment, percent*100))\n",
    "        print(\"Sentiment: %s (%.3f%%) \\n\" % (sentiment, percent * 100))\n",
    "        neg_list.append([sentiment, percent * 100])\n",
    "\n",
    "    print(\"---------Positive List----------\")\n",
    "    #     print(*pos_list)\n",
    "    pdf = pd.DataFrame(pos_list, columns=[\"Sentiment\", \"Percent\"])\n",
    "    print(pdf.head(n=10))\n",
    "    print(\"---------Negative List----------\")\n",
    "    #     print(*neg_list)\n",
    "    ndf = pd.DataFrame(neg_list, columns=[\"Sentiment\", \"Percent\"])\n",
    "    print(ndf.head(n=10))\n",
    "    return pdf, ndf\n",
    "\n",
    "\n",
    "mlppdf, mlpndf = testFromFolderMLP(vocab, tokenizer, model)"
   ]
  },
  {
   "cell_type": "code",
   "execution_count": null,
   "metadata": {},
   "outputs": [],
   "source": [
    "# mlppdf"
   ]
  },
  {
   "cell_type": "code",
   "execution_count": null,
   "metadata": {},
   "outputs": [],
   "source": [
    "# mlpndf"
   ]
  },
  {
   "cell_type": "markdown",
   "metadata": {},
   "source": []
  },
  {
   "cell_type": "markdown",
   "metadata": {},
   "source": [
    "* Tested Using CNN 1 Layer Embedding Model"
   ]
  },
  {
   "cell_type": "code",
   "execution_count": 85,
   "metadata": {},
   "outputs": [
    {
     "name": "stdout",
     "output_type": "stream",
     "text": [
      "------------Testing For---CNN 1 Layer-----------------------\n",
      "------------Testing For Positive Files---------------\n",
      "['pos_file0.txt', 'pos_file1.txt', 'pos_file2.txt', 'pos_file3.txt', 'pos_file4.txt', 'pos_file5.txt', 'pos_file6.txt', 'pos_file7.txt', 'pos_file8.txt', 'pos_file9.txt']\n",
      "-----------Processing ----------pos_file0.txt\n",
      "always rate things first written review everyone go watch seriously would death inside enjoy movie funny sad heartwarming enough action superhero movie couple things probably scary kids unless child like daughter didnt think scary twist well unexpected course go watch\n",
      "0.33821493\n",
      "Sentiment: NEGATIVE (66.179%) \n",
      "\n",
      "-----------Processing ----------pos_file1.txt\n",
      "stars superhero incarnation average superhero blockbuster teenage foster child philadelphia discovers calling superhero angel solid teenage considerably upstaged jack dylan gives likeable performance aspiring sidekick mark strong menacing human vessel seven deadly sins rousing funny film great entertainment although wonder much medium children truly many tense scenes mayhem portrayal seven deadly sins might scare children aspect foster care portrayed adds films film take take shape keeping mindset teenage boy beginning discover true potential payoff tremendous goes decent superior becomes classic battle good evil welcome addition superhero genre gladly recommended\n",
      "0.7923916\n",
      "Sentiment: POSITIVE (79.239%) \n",
      "\n",
      "-----------Processing ----------pos_file2.txt\n",
      "awesome movie innocent man represents world hes loyal humble honest would never cheat lie everything good heart reaches success important tasks life america could live interesting life meet elvis president kennedy john goes war everything following heart becomes american hero gary sinise great american actor best performance served vietnam forrest also hero protecting men fighting country mustsee movie everyone enjoy american culture icons well learn american history useful\n",
      "0.98924005\n",
      "Sentiment: POSITIVE (98.924%) \n",
      "\n",
      "-----------Processing ----------pos_file3.txt\n",
      "great really great movie threw us deep end fishes great ride kept attention start finish long saga cgi gone mad really great movie delivered exactly tin jason gets special mention gave solid endearing performance line humour superhero loved\n",
      "0.7571751\n",
      "Sentiment: POSITIVE (75.718%) \n",
      "\n",
      "-----------Processing ----------pos_file4.txt\n",
      "amazing film delivered epic adventure story stunning visual effects action awesome superhero film delivers epic adventure scale action sequences visual effects great story consider best dc movie beating wonder woman character seems like cheesy character even adapted onto big screen jason performance character makes character even achieves golden outfit plot great adventure story rushed sub plots follows nicole kidman queen atlantis rescued thomas morrison fall love son named arthur jason soon become decades fly found amber heard informs step brother patrick wilson trying wage war surface people trying unite seven underwater create havoc surface people willem dafoe help needing find true atlantis order claim rightful place throne fight army hired pirates led black ii plot delivered epic scale adventure travelling atlantis looked like beautiful colorful city underwater astonishing film action sequences big well directed lot action throughout fighting pirates submarine epic sub water fight scene fighting atlantis soldiers opening scene one long camera take well choreographed james wan direction camera around action sequences worked well known small budget horror movies like saw action style furious seven film awesome delivered great underwater chase scene almost felt like legacy beautiful lighting vehicles atlantis lighting chase scene italy facing black soldiers thrilling climax battle sequence breathtaking ocean master fighting best choreographed fight scene cinematography work visual effects breathtaking action underwater land great epic scale cinematography work well done captured action choreography music score rupert great good score made movie feel like adventure also soundtrack songs great fun jason great amber heard beautiful great willem dafoe patrick wilson ii nicole kidman great characters james direction brilliant making adventure story epic action overall great film say best dc movie definitely recommend seeing big screen theatres looking adventure story exciting epic action sequences beautiful stunning visual effects film worth seeing\n",
      "0.9999995\n",
      "Sentiment: POSITIVE (100.000%) \n",
      "\n",
      "-----------Processing ----------pos_file5.txt\n",
      "directed david lights creation written henry earth echo stars billy film follows billy orphan boy keeps running foster homes gets adopted couple share home many foster kids billy soon granted magical wizard powers discovers says name turns adult male superhero like abilities isnt much franchise point separated films franchise essentially thing follows suit references superman batman justice league heroes throughout film isnt concerned connecting setting franchise tries thing strongest aspect film far underrated actor brings film energy charm humor needs plays role teenage boy stuck mans body well eerily convincingly jack dylan plays billys foster brother freddy also great neurotic hilarious helps convince films ridiculous premise angel plays young billy got short end stick hes given character hides emotions still feels like billy hes less entertaining half billy nonetheless delivers great performance film lands rest cast alright weak performances decent one mark strong script another strength humor drama horror character spectacle better film far cared characters understood motivations desires film character piece superhero film though story isnt boy turns adult superhero battling evil boy learning grow accept things hes ignored whole life billy must realize must pursue needs wants comes understand everything believed true wrong fantastic makes entire third act land movie carries tongueincheek references never forgets make laugh humor natural fresh never undermines dramatic tension film direction strong definitely sequences ill see second time really analyze film shot remember correctly rarely goes large movie doesnt try spectacle instead remains small unlike hero score great soundtrack amazing genuine laughs film definitely one set piece long could third act dont many complaints outside also brings spin superhero genre definitely family superhero film would argue even family superhero film aside mild language couple scary scenes earns rating one wholesome superhero movies come along loved film everybody knocked park heart humor great message hands best film cant wait see future movies far favorite film year\n",
      "0.9223585\n",
      "Sentiment: POSITIVE (92.236%) \n",
      "\n",
      "-----------Processing ----------pos_file6.txt\n",
      "saw trailer thought genius superhero thats actually kid think tom hanks big meets superman remember liking kid took long time call capt marvel much else remember watched serial impressed watched tv show although cheesy entertaining moved onto series fell love renaissance happened months ago elements mixed together bad guys look awesome movie lots laughs tons heart one bad thing short scene parent scene gets dark made feel kinda pulled movie thank god short scene one favorite comic book movies ever batman dark knight superman ca civil war\n",
      "0.48471245\n",
      "Sentiment: NEGATIVE (51.529%) \n",
      "\n",
      "-----------Processing ----------pos_file7.txt\n",
      "film first expect delight film behind ease irony hides deep meaning film watch without stopping although far blockbuster waiting years peter green book plot tells journey southern states talented black pianist ali driver hired solely tour viggo minor first sight little hero mortensen journey becomes pianist true friend support even treasure useful knowledge life society draws boss useful skills love art good plot simple film looks incredibly easy dialogues written ironically absolutely boring time remain filled meaning viewer relationship characters main motive film could different people respects able become friends life weeks noted racism time still extremely common america especially south incredibly subtly written hotels colored individual even nuances time film shown perfectly feel ashamed existed literally wanted stand give characters face several scenes surprisingly director peter previously shot mostly comedies mostly brother first film comedy drama genre point view handled perfectly would love see else would film later although cant say set apart interesting director perhaps fact film made peter strongly contributed nobility picture terms humor funny fact one screenwriters film nick father main character frank tony script written basis records made nick later records viggo mortensen learns speak italian hero italian film shot spirit beautiful cars time well shown art costume large houses rich public gone wind immediately remembered film simple kind sincere without strain without life horrors know someone dies someone killed someone prison atmosphere film soft light literally find time terrific cars colors rainbow men flawless day costumes colors gentlemen whiskey bar hotels listening brilliant pianist green book picture slavery racism humiliation although touches topics green book film honesty human dignity true friendship mutual support people film fact difficult change thinking society alone even brilliant famous\n",
      "0.9836379\n",
      "Sentiment: POSITIVE (98.364%) \n",
      "\n",
      "-----------Processing ----------pos_file8.txt\n",
      "beautiful emotional harry movie experience richard playing reallife straight decides travel old riding john iowa see ailing brother harry dean stanton drivers license doesnt like public transportation one else drive two brothers speaking terms many years clock literally ticking one last chance see one another hopefully make past mistakes sissy gives one finest performances slightly mentally daughter supporting players real heartfelt caricatures americas outstanding filmmaker david lynch finest living american director along martin scorsese goes totally turn triumphs like elephant man blue velvet twin peaks fire walk mulholland dr quietly creates family film deep messages people ages backgrounds paints picture america old ways life still important total revelation excruciating pain throughout filming due terminal cancer terrible notice stands little movie almost always filmed waist sadly would final performance committed suicide shortly oscar nod become oldest nominee ever best actor category really become trivial time passes role thing shines brightly forever truly legacy production involved stars\n",
      "0.9476568\n",
      "Sentiment: POSITIVE (94.766%) \n",
      "\n",
      "-----------Processing ----------pos_file9.txt\n",
      "simply best better rest january perfect cast couldnt put together movie amber heard beautiful creature land sea even orange hair wet hair stunning action going around character distress either happy finally worldwide audience legendary beauty jason build hybrid looking eyes comic book creators could else could suited role something little tongue cheek personality helps talented patrick wilson evil brother shows versatile jumping wan movies like superhero movie effortlessly nicole towering height finally put good use queen atlantis visuals also beautiful beyond expectations much sea interesting surface action satisfying epic story remains easy follow start finish marvel movies could learn dc standard future action hero movies\n",
      "0.45878893\n",
      "Sentiment: NEGATIVE (54.121%) \n",
      "\n",
      "------------Testing For Negative Files---------------\n",
      "['neg_file0.txt', 'neg_file1.txt', 'neg_file2.txt', 'neg_file3.txt', 'neg_file4.txt', 'neg_file5.txt', 'neg_file6.txt', 'neg_file7.txt', 'neg_file8.txt', 'neg_file9.txt']\n",
      "txt_sentoken/mtest/neg/neg_file0.txt\n",
      "dc fan go see movies buy character posters read comics including reason people become fans certain things things done well time generate fans becomes like dc fear unstoppable however subpar painfully illustrated movie poorly written scenes bit uninspired action sprinkled barely plot billy character development whatsoever overcome villain fight know people saying like movie feel like either arent honest like personal reasons present movie speaking terms technical aspects storytelling isnt effective bored entire time comedy parts made feel though poking asking member yes yes record people criticizing movie bad legitimate criticisms using tactic produce better films thing people want problem built movie around idea strong boy promoted identity film movie ends bad people rush defend dont want idea fail movie secondary vehicle slap real shame could great addition dc universe hope learn something ive heard appears dc actually plans escalate identity politics next phase would absolute disaster pointing box office defense good remember tons paying customers didnt like\n",
      "0.00685134\n",
      "Sentiment: NEGATIVE (99.315%) \n",
      "\n",
      "txt_sentoken/mtest/neg/neg_file1.txt\n",
      "terrible absolutely terrible long funny jokes trailers end amazingly boring take ages present characters main villain awful prefer talk sidekick kid freddy probably annoying character theaters last decade god cgi demons ugly badly designed far worst experience theatre dont waste youre time movie make hopefully massive flop box office even opinion\n",
      "0.04499229\n",
      "Sentiment: NEGATIVE (95.501%) \n",
      "\n",
      "txt_sentoken/mtest/neg/neg_file2.txt\n",
      "yes talking people heres movie deserves rating lack originally annoying title character yes old doesnt change fact dialogue would better fit kevin hart superhero yes mean insult huge dc bad cgi superhero good impression early keanu reeves acting range oh yes went basic idea good kid actors strong ok bad role thats dc always better darker movies\n",
      "0.06490236\n",
      "Sentiment: NEGATIVE (93.510%) \n",
      "\n",
      "txt_sentoken/mtest/neg/neg_file3.txt\n",
      "made main character childish movie cgi heads characters bodies floating head bad\n",
      "0.46790624\n",
      "Sentiment: NEGATIVE (53.209%) \n",
      "\n",
      "txt_sentoken/mtest/neg/neg_file4.txt\n",
      "least completely boring seek nothing find kid movie graphic kids offering new original direction memorable scene dc movie completely empty superhero movie nothing new nothing impressive nothing beautiful comedy maybe laugh although jokes simply references unoriginal jokes saw trailers dont expect anything jokes actor playing billy quite good sympathetic somehow becomes stupid childish transforms lets call already obviously didnt catch wisdom enemy doesnt improve movie nothing interesting movie contains random monsters could movies year already production released hopefully shift come new trailer joker prequel least gives hope\n",
      "0.0030190528\n",
      "Sentiment: NEGATIVE (99.698%) \n",
      "\n",
      "txt_sentoken/mtest/neg/neg_file5.txt\n",
      "felt movie audience humour also wasnt like dc movies wasnt dark gloomy wasnt enough action movies spent discovering abilities running away enemy also bit times\n",
      "0.36357635\n",
      "Sentiment: NEGATIVE (63.642%) \n",
      "\n",
      "txt_sentoken/mtest/neg/neg_file6.txt\n",
      "marvel film even worst day solid enough think everyone gets carried away normal dc trash rate lot higher quite surprised turned aswell bad ingredients director pretty much ever done shorts producers consist rocks ex brother spent first rock films coffee geoff johns whos produced dc tripe far despite super suit padding trailer best jokes wasnt half bad\n",
      "0.08190098\n",
      "Sentiment: NEGATIVE (91.810%) \n",
      "\n",
      "txt_sentoken/mtest/neg/neg_file7.txt\n",
      "marvel film even worst day solid enough think everyone gets carried away normal dc trash rate lot higher quite surprised turned aswell bad ingredients director pretty much ever done shorts producers consist rocks ex brother spent first rock films coffee geoff johns whos produced dc tripe far despite super suit padding trailer best jokes wasnt half bad\n",
      "0.08190098\n",
      "Sentiment: NEGATIVE (91.810%) \n",
      "\n",
      "txt_sentoken/mtest/neg/neg_file8.txt\n",
      "done captain marvel fun character hes fights crime made look like didnt even stay till end disappointed advice watch serial adventures captain marvel tom tyler capt marvel frank jr billy everything terrific villain called dressed head black mask coat covered white story lie excellent better rubbish tried watch would add alive collect old saturday kids matinee one best special fx brothers howard theodore superior every way\n",
      "0.6764098\n",
      "Sentiment: POSITIVE (67.641%) \n",
      "\n",
      "txt_sentoken/mtest/neg/neg_file9.txt\n",
      "dont know reviewers saw movie feels like dc paid bunch folks give real reviews would chance show film braindead america jokes plot lines arent explicitly explained multiple times genuine heart even single fully developed character everyone fits modern superhero film references made hip woke brief nods made possessed social justice crowd watch watching serious superhero movie decades prior even great ones becomes apparent far weve fallen genre sadly seems like stay\n",
      "0.14202608\n",
      "Sentiment: NEGATIVE (85.797%) \n",
      "\n",
      "---------Positive List----------\n",
      "   Analysis    Percent\n",
      "0  NEGATIVE  66.178507\n",
      "1  POSITIVE  79.239160\n",
      "2  POSITIVE  98.924005\n",
      "3  POSITIVE  75.717509\n",
      "4  POSITIVE  99.999952\n",
      "5  POSITIVE  92.235851\n",
      "6  NEGATIVE  51.528755\n",
      "7  POSITIVE  98.363793\n",
      "8  POSITIVE  94.765681\n",
      "9  NEGATIVE  54.121107\n",
      "---------Negative List----------\n",
      "  File Name    Percent\n",
      "0  NEGATIVE  99.314866\n",
      "1  NEGATIVE  95.500771\n",
      "2  NEGATIVE  93.509764\n",
      "3  NEGATIVE  53.209376\n",
      "4  NEGATIVE  99.698095\n",
      "5  NEGATIVE  63.642365\n",
      "6  NEGATIVE  91.809902\n",
      "7  NEGATIVE  91.809902\n",
      "8  POSITIVE  67.640978\n",
      "9  NEGATIVE  85.797392\n"
     ]
    },
    {
     "data": {
      "application/javascript": [
       "\n",
       "        setTimeout(function() {\n",
       "            var nbb_cell_id = 85;\n",
       "            var nbb_formatted_code = \"def testFromFolderCnn(vocab, tokenizer, l, model):\\n    print(\\\"------------Testing For---CNN 1 Layer-----------------------\\\")\\n    print(\\\"------------Testing For Positive Files---------------\\\")\\n    pos_list = list()\\n    neg_list = list()\\n    filesinfolder = sorted(os.listdir(\\\"txt_sentoken/mtest/pos\\\"))\\n    print(filesinfolder)\\n    for files in filesinfolder:\\n        filename = \\\"txt_sentoken/mtest/pos/\\\" + files\\n        print(\\\"-----------Processing ----------%s\\\" % files)\\n        text = load_document(filename)\\n        percent, sentiment = predict_cnn_sentiment(text, vocab, tokenizer, l, model)\\n        #         print('Review: [%s]\\\\nSentiment: %s (%.3f%%) \\\\n' % (text, sentiment, percent*100))\\n        print(\\\"Sentiment: %s (%.3f%%) \\\\n\\\" % (sentiment, percent * 100))\\n        pos_list.append([sentiment, percent * 100])\\n    print(\\\"------------Testing For Negative Files---------------\\\")\\n    filesinfolder = sorted(os.listdir(\\\"txt_sentoken/mtest/neg\\\"))\\n    print(filesinfolder)\\n    for files in filesinfolder:\\n        filename = \\\"txt_sentoken/mtest/neg/\\\" + files\\n        print(filename)\\n        text = load_document(filename)\\n        percent, sentiment = predict_cnn_sentiment(text, vocab, tokenizer, l, model)\\n        #         print('Review: [%s]\\\\nSentiment: %s (%.3f%%) \\\\n' % (text, sentiment, percent*100))\\n        print(\\\"Sentiment: %s (%.3f%%) \\\\n\\\" % (sentiment, percent * 100))\\n        neg_list.append([sentiment, percent * 100])\\n\\n    print(\\\"---------Positive List----------\\\")\\n    #     print(*pos_list)\\n    pdf = pd.DataFrame(pos_list, columns=[\\\"Analysis\\\", \\\"Percent\\\"])\\n    print(pdf.head(n=10))\\n    print(\\\"---------Negative List----------\\\")\\n    #     print(*neg_list)\\n    ndf = pd.DataFrame(neg_list, columns=[\\\"File Name\\\", \\\"Percent\\\"])\\n    print(ndf.head(n=10))\\n\\n    return pdf, ndf\\n\\n\\ncnnpdf, cnnndf = testFromFolderCnn(vocab, cnn_tokenizer, max_length, embed_cnn_model)\\n\\n\\n# percent, sentiment = predict_cnn_sentiment(text, vocab, cnn_tokenizer, max_length, embed_cnn_model)\\n# print('Review: [%s]\\\\nSentiment: %s (%.3f%%) \\\\n' % (text, sentiment, percent*100))\";\n",
       "            var nbb_cells = Jupyter.notebook.get_cells();\n",
       "            for (var i = 0; i < nbb_cells.length; ++i) {\n",
       "                if (nbb_cells[i].input_prompt_number == nbb_cell_id) {\n",
       "                    nbb_cells[i].set_text(nbb_formatted_code);\n",
       "                    break;\n",
       "                }\n",
       "            }\n",
       "        }, 500);\n",
       "        "
      ],
      "text/plain": [
       "<IPython.core.display.Javascript object>"
      ]
     },
     "metadata": {},
     "output_type": "display_data"
    }
   ],
   "source": [
    "def testFromFolderCnn(vocab, tokenizer, l, model):\n",
    "    print(\"------------Testing For---CNN 1 Layer-----------------------\")\n",
    "    print(\"------------Testing For Positive Files---------------\")\n",
    "    pos_list = list()\n",
    "    neg_list = list()\n",
    "    filesinfolder = sorted(os.listdir(\"txt_sentoken/mtest/pos\"))\n",
    "    print(filesinfolder)\n",
    "    for files in filesinfolder:\n",
    "        filename = \"txt_sentoken/mtest/pos/\" + files\n",
    "        print(\"-----------Processing ----------%s\" % files)\n",
    "        text = load_document(filename)\n",
    "        percent, sentiment = predict_cnn_sentiment(text, vocab, tokenizer, l, model)\n",
    "        #         print('Review: [%s]\\nSentiment: %s (%.3f%%) \\n' % (text, sentiment, percent*100))\n",
    "        print(\"Sentiment: %s (%.3f%%) \\n\" % (sentiment, percent * 100))\n",
    "        pos_list.append([sentiment, percent * 100])\n",
    "    print(\"------------Testing For Negative Files---------------\")\n",
    "    filesinfolder = sorted(os.listdir(\"txt_sentoken/mtest/neg\"))\n",
    "    print(filesinfolder)\n",
    "    for files in filesinfolder:\n",
    "        filename = \"txt_sentoken/mtest/neg/\" + files\n",
    "        print(filename)\n",
    "        text = load_document(filename)\n",
    "        percent, sentiment = predict_cnn_sentiment(text, vocab, tokenizer, l, model)\n",
    "        #         print('Review: [%s]\\nSentiment: %s (%.3f%%) \\n' % (text, sentiment, percent*100))\n",
    "        print(\"Sentiment: %s (%.3f%%) \\n\" % (sentiment, percent * 100))\n",
    "        neg_list.append([sentiment, percent * 100])\n",
    "\n",
    "    print(\"---------Positive List----------\")\n",
    "    #     print(*pos_list)\n",
    "    pdf = pd.DataFrame(pos_list, columns=[\"Analysis\", \"Percent\"])\n",
    "    print(pdf.head(n=10))\n",
    "    print(\"---------Negative List----------\")\n",
    "    #     print(*neg_list)\n",
    "    ndf = pd.DataFrame(neg_list, columns=[\"File Name\", \"Percent\"])\n",
    "    print(ndf.head(n=10))\n",
    "\n",
    "    return pdf, ndf\n",
    "\n",
    "\n",
    "cnnpdf, cnnndf = testFromFolderCnn(vocab, cnn_tokenizer, max_length, embed_cnn_model)\n",
    "\n",
    "\n",
    "# percent, sentiment = predict_cnn_sentiment(text, vocab, cnn_tokenizer, max_length, embed_cnn_model)\n",
    "# print('Review: [%s]\\nSentiment: %s (%.3f%%) \\n' % (text, sentiment, percent*100))"
   ]
  },
  {
   "cell_type": "code",
   "execution_count": null,
   "metadata": {},
   "outputs": [],
   "source": [
    "# cnnpdf"
   ]
  },
  {
   "cell_type": "code",
   "execution_count": null,
   "metadata": {},
   "outputs": [],
   "source": [
    "# cnnndf"
   ]
  },
  {
   "cell_type": "markdown",
   "metadata": {},
   "source": [
    "* Tested Using CNN Multichannel Embedding Model"
   ]
  },
  {
   "cell_type": "code",
   "execution_count": 91,
   "metadata": {},
   "outputs": [
    {
     "name": "stdout",
     "output_type": "stream",
     "text": [
      "------------Testing For---CNN 1 Layer-----------------------\n",
      "------------Testing For Positive Files---------------\n",
      "['pos_file0.txt', 'pos_file1.txt', 'pos_file2.txt', 'pos_file3.txt', 'pos_file4.txt', 'pos_file5.txt', 'pos_file6.txt', 'pos_file7.txt', 'pos_file8.txt', 'pos_file9.txt']\n",
      "txt_sentoken/mtest/pos/pos_file0.txt\n",
      "always rate things first written review everyone go watch seriously would death inside enjoy movie funny sad heartwarming enough action superhero movie couple things probably scary kids unless child like daughter didnt think scary twist well unexpected course go watch\n",
      "0.5003958\n",
      "Sentiment: POSITIVE (50.040%) \n",
      "\n",
      "txt_sentoken/mtest/pos/pos_file1.txt\n",
      "stars superhero incarnation average superhero blockbuster teenage foster child philadelphia discovers calling superhero angel solid teenage considerably upstaged jack dylan gives likeable performance aspiring sidekick mark strong menacing human vessel seven deadly sins rousing funny film great entertainment although wonder much medium children truly many tense scenes mayhem portrayal seven deadly sins might scare children aspect foster care portrayed adds films film take take shape keeping mindset teenage boy beginning discover true potential payoff tremendous goes decent superior becomes classic battle good evil welcome addition superhero genre gladly recommended\n",
      "0.5003958\n",
      "Sentiment: POSITIVE (50.040%) \n",
      "\n",
      "txt_sentoken/mtest/pos/pos_file2.txt\n",
      "awesome movie innocent man represents world hes loyal humble honest would never cheat lie everything good heart reaches success important tasks life america could live interesting life meet elvis president kennedy john goes war everything following heart becomes american hero gary sinise great american actor best performance served vietnam forrest also hero protecting men fighting country mustsee movie everyone enjoy american culture icons well learn american history useful\n",
      "0.5003958\n",
      "Sentiment: POSITIVE (50.040%) \n",
      "\n",
      "txt_sentoken/mtest/pos/pos_file3.txt\n",
      "great really great movie threw us deep end fishes great ride kept attention start finish long saga cgi gone mad really great movie delivered exactly tin jason gets special mention gave solid endearing performance line humour superhero loved\n",
      "0.5003958\n",
      "Sentiment: POSITIVE (50.040%) \n",
      "\n",
      "txt_sentoken/mtest/pos/pos_file4.txt\n",
      "amazing film delivered epic adventure story stunning visual effects action awesome superhero film delivers epic adventure scale action sequences visual effects great story consider best dc movie beating wonder woman character seems like cheesy character even adapted onto big screen jason performance character makes character even achieves golden outfit plot great adventure story rushed sub plots follows nicole kidman queen atlantis rescued thomas morrison fall love son named arthur jason soon become decades fly found amber heard informs step brother patrick wilson trying wage war surface people trying unite seven underwater create havoc surface people willem dafoe help needing find true atlantis order claim rightful place throne fight army hired pirates led black ii plot delivered epic scale adventure travelling atlantis looked like beautiful colorful city underwater astonishing film action sequences big well directed lot action throughout fighting pirates submarine epic sub water fight scene fighting atlantis soldiers opening scene one long camera take well choreographed james wan direction camera around action sequences worked well known small budget horror movies like saw action style furious seven film awesome delivered great underwater chase scene almost felt like legacy beautiful lighting vehicles atlantis lighting chase scene italy facing black soldiers thrilling climax battle sequence breathtaking ocean master fighting best choreographed fight scene cinematography work visual effects breathtaking action underwater land great epic scale cinematography work well done captured action choreography music score rupert great good score made movie feel like adventure also soundtrack songs great fun jason great amber heard beautiful great willem dafoe patrick wilson ii nicole kidman great characters james direction brilliant making adventure story epic action overall great film say best dc movie definitely recommend seeing big screen theatres looking adventure story exciting epic action sequences beautiful stunning visual effects film worth seeing\n",
      "0.5003958\n",
      "Sentiment: POSITIVE (50.040%) \n",
      "\n",
      "txt_sentoken/mtest/pos/pos_file5.txt\n",
      "directed david lights creation written henry earth echo stars billy film follows billy orphan boy keeps running foster homes gets adopted couple share home many foster kids billy soon granted magical wizard powers discovers says name turns adult male superhero like abilities isnt much franchise point separated films franchise essentially thing follows suit references superman batman justice league heroes throughout film isnt concerned connecting setting franchise tries thing strongest aspect film far underrated actor brings film energy charm humor needs plays role teenage boy stuck mans body well eerily convincingly jack dylan plays billys foster brother freddy also great neurotic hilarious helps convince films ridiculous premise angel plays young billy got short end stick hes given character hides emotions still feels like billy hes less entertaining half billy nonetheless delivers great performance film lands rest cast alright weak performances decent one mark strong script another strength humor drama horror character spectacle better film far cared characters understood motivations desires film character piece superhero film though story isnt boy turns adult superhero battling evil boy learning grow accept things hes ignored whole life billy must realize must pursue needs wants comes understand everything believed true wrong fantastic makes entire third act land movie carries tongueincheek references never forgets make laugh humor natural fresh never undermines dramatic tension film direction strong definitely sequences ill see second time really analyze film shot remember correctly rarely goes large movie doesnt try spectacle instead remains small unlike hero score great soundtrack amazing genuine laughs film definitely one set piece long could third act dont many complaints outside also brings spin superhero genre definitely family superhero film would argue even family superhero film aside mild language couple scary scenes earns rating one wholesome superhero movies come along loved film everybody knocked park heart humor great message hands best film cant wait see future movies far favorite film year\n",
      "0.5003958\n",
      "Sentiment: POSITIVE (50.040%) \n",
      "\n",
      "txt_sentoken/mtest/pos/pos_file6.txt\n",
      "saw trailer thought genius superhero thats actually kid think tom hanks big meets superman remember liking kid took long time call capt marvel much else remember watched serial impressed watched tv show although cheesy entertaining moved onto series fell love renaissance happened months ago elements mixed together bad guys look awesome movie lots laughs tons heart one bad thing short scene parent scene gets dark made feel kinda pulled movie thank god short scene one favorite comic book movies ever batman dark knight superman ca civil war\n",
      "0.5003958\n",
      "Sentiment: POSITIVE (50.040%) \n",
      "\n",
      "txt_sentoken/mtest/pos/pos_file7.txt\n",
      "film first expect delight film behind ease irony hides deep meaning film watch without stopping although far blockbuster waiting years peter green book plot tells journey southern states talented black pianist ali driver hired solely tour viggo minor first sight little hero mortensen journey becomes pianist true friend support even treasure useful knowledge life society draws boss useful skills love art good plot simple film looks incredibly easy dialogues written ironically absolutely boring time remain filled meaning viewer relationship characters main motive film could different people respects able become friends life weeks noted racism time still extremely common america especially south incredibly subtly written hotels colored individual even nuances time film shown perfectly feel ashamed existed literally wanted stand give characters face several scenes surprisingly director peter previously shot mostly comedies mostly brother first film comedy drama genre point view handled perfectly would love see else would film later although cant say set apart interesting director perhaps fact film made peter strongly contributed nobility picture terms humor funny fact one screenwriters film nick father main character frank tony script written basis records made nick later records viggo mortensen learns speak italian hero italian film shot spirit beautiful cars time well shown art costume large houses rich public gone wind immediately remembered film simple kind sincere without strain without life horrors know someone dies someone killed someone prison atmosphere film soft light literally find time terrific cars colors rainbow men flawless day costumes colors gentlemen whiskey bar hotels listening brilliant pianist green book picture slavery racism humiliation although touches topics green book film honesty human dignity true friendship mutual support people film fact difficult change thinking society alone even brilliant famous\n",
      "0.5003958\n",
      "Sentiment: POSITIVE (50.040%) \n",
      "\n",
      "txt_sentoken/mtest/pos/pos_file8.txt\n",
      "beautiful emotional harry movie experience richard playing reallife straight decides travel old riding john iowa see ailing brother harry dean stanton drivers license doesnt like public transportation one else drive two brothers speaking terms many years clock literally ticking one last chance see one another hopefully make past mistakes sissy gives one finest performances slightly mentally daughter supporting players real heartfelt caricatures americas outstanding filmmaker david lynch finest living american director along martin scorsese goes totally turn triumphs like elephant man blue velvet twin peaks fire walk mulholland dr quietly creates family film deep messages people ages backgrounds paints picture america old ways life still important total revelation excruciating pain throughout filming due terminal cancer terrible notice stands little movie almost always filmed waist sadly would final performance committed suicide shortly oscar nod become oldest nominee ever best actor category really become trivial time passes role thing shines brightly forever truly legacy production involved stars\n",
      "0.5003958\n",
      "Sentiment: POSITIVE (50.040%) \n",
      "\n",
      "txt_sentoken/mtest/pos/pos_file9.txt\n",
      "simply best better rest january perfect cast couldnt put together movie amber heard beautiful creature land sea even orange hair wet hair stunning action going around character distress either happy finally worldwide audience legendary beauty jason build hybrid looking eyes comic book creators could else could suited role something little tongue cheek personality helps talented patrick wilson evil brother shows versatile jumping wan movies like superhero movie effortlessly nicole towering height finally put good use queen atlantis visuals also beautiful beyond expectations much sea interesting surface action satisfying epic story remains easy follow start finish marvel movies could learn dc standard future action hero movies\n",
      "0.5003958\n",
      "Sentiment: POSITIVE (50.040%) \n",
      "\n",
      "------------Testing For Negative Files---------------\n",
      "['neg_file0.txt', 'neg_file1.txt', 'neg_file2.txt', 'neg_file3.txt', 'neg_file4.txt', 'neg_file5.txt', 'neg_file6.txt', 'neg_file7.txt', 'neg_file8.txt', 'neg_file9.txt']\n",
      "txt_sentoken/mtest/neg/neg_file0.txt\n",
      "dc fan go see movies buy character posters read comics including reason people become fans certain things things done well time generate fans becomes like dc fear unstoppable however subpar painfully illustrated movie poorly written scenes bit uninspired action sprinkled barely plot billy character development whatsoever overcome villain fight know people saying like movie feel like either arent honest like personal reasons present movie speaking terms technical aspects storytelling isnt effective bored entire time comedy parts made feel though poking asking member yes yes record people criticizing movie bad legitimate criticisms using tactic produce better films thing people want problem built movie around idea strong boy promoted identity film movie ends bad people rush defend dont want idea fail movie secondary vehicle slap real shame could great addition dc universe hope learn something ive heard appears dc actually plans escalate identity politics next phase would absolute disaster pointing box office defense good remember tons paying customers didnt like\n",
      "0.5003958\n",
      "Sentiment: POSITIVE (50.040%) \n",
      "\n",
      "txt_sentoken/mtest/neg/neg_file1.txt\n",
      "terrible absolutely terrible long funny jokes trailers end amazingly boring take ages present characters main villain awful prefer talk sidekick kid freddy probably annoying character theaters last decade god cgi demons ugly badly designed far worst experience theatre dont waste youre time movie make hopefully massive flop box office even opinion\n",
      "0.5003958\n",
      "Sentiment: POSITIVE (50.040%) \n",
      "\n",
      "txt_sentoken/mtest/neg/neg_file2.txt\n",
      "yes talking people heres movie deserves rating lack originally annoying title character yes old doesnt change fact dialogue would better fit kevin hart superhero yes mean insult huge dc bad cgi superhero good impression early keanu reeves acting range oh yes went basic idea good kid actors strong ok bad role thats dc always better darker movies\n",
      "0.5003958\n",
      "Sentiment: POSITIVE (50.040%) \n",
      "\n",
      "txt_sentoken/mtest/neg/neg_file3.txt\n",
      "made main character childish movie cgi heads characters bodies floating head bad\n",
      "0.5003958\n",
      "Sentiment: POSITIVE (50.040%) \n",
      "\n",
      "txt_sentoken/mtest/neg/neg_file4.txt\n",
      "least completely boring seek nothing find kid movie graphic kids offering new original direction memorable scene dc movie completely empty superhero movie nothing new nothing impressive nothing beautiful comedy maybe laugh although jokes simply references unoriginal jokes saw trailers dont expect anything jokes actor playing billy quite good sympathetic somehow becomes stupid childish transforms lets call already obviously didnt catch wisdom enemy doesnt improve movie nothing interesting movie contains random monsters could movies year already production released hopefully shift come new trailer joker prequel least gives hope\n",
      "0.5003958\n",
      "Sentiment: POSITIVE (50.040%) \n",
      "\n",
      "txt_sentoken/mtest/neg/neg_file5.txt\n",
      "felt movie audience humour also wasnt like dc movies wasnt dark gloomy wasnt enough action movies spent discovering abilities running away enemy also bit times\n",
      "0.5003958\n",
      "Sentiment: POSITIVE (50.040%) \n",
      "\n",
      "txt_sentoken/mtest/neg/neg_file6.txt\n",
      "marvel film even worst day solid enough think everyone gets carried away normal dc trash rate lot higher quite surprised turned aswell bad ingredients director pretty much ever done shorts producers consist rocks ex brother spent first rock films coffee geoff johns whos produced dc tripe far despite super suit padding trailer best jokes wasnt half bad\n",
      "0.5003958\n",
      "Sentiment: POSITIVE (50.040%) \n",
      "\n",
      "txt_sentoken/mtest/neg/neg_file7.txt\n",
      "marvel film even worst day solid enough think everyone gets carried away normal dc trash rate lot higher quite surprised turned aswell bad ingredients director pretty much ever done shorts producers consist rocks ex brother spent first rock films coffee geoff johns whos produced dc tripe far despite super suit padding trailer best jokes wasnt half bad\n",
      "0.5003958\n",
      "Sentiment: POSITIVE (50.040%) \n",
      "\n",
      "txt_sentoken/mtest/neg/neg_file8.txt\n",
      "done captain marvel fun character hes fights crime made look like didnt even stay till end disappointed advice watch serial adventures captain marvel tom tyler capt marvel frank jr billy everything terrific villain called dressed head black mask coat covered white story lie excellent better rubbish tried watch would add alive collect old saturday kids matinee one best special fx brothers howard theodore superior every way\n",
      "0.5003958\n",
      "Sentiment: POSITIVE (50.040%) \n",
      "\n",
      "txt_sentoken/mtest/neg/neg_file9.txt\n",
      "dont know reviewers saw movie feels like dc paid bunch folks give real reviews would chance show film braindead america jokes plot lines arent explicitly explained multiple times genuine heart even single fully developed character everyone fits modern superhero film references made hip woke brief nods made possessed social justice crowd watch watching serious superhero movie decades prior even great ones becomes apparent far weve fallen genre sadly seems like stay\n",
      "0.5003958\n",
      "Sentiment: POSITIVE (50.040%) \n",
      "\n",
      "---------Positive List----------\n",
      "  File Name   Analysis\n",
      "0  POSITIVE  50.039577\n",
      "1  POSITIVE  50.039577\n",
      "2  POSITIVE  50.039577\n",
      "3  POSITIVE  50.039577\n",
      "4  POSITIVE  50.039577\n",
      "5  POSITIVE  50.039577\n",
      "6  POSITIVE  50.039577\n",
      "7  POSITIVE  50.039577\n",
      "8  POSITIVE  50.039577\n",
      "9  POSITIVE  50.039577\n",
      "---------Negative List----------\n",
      "  File Name   Analysis\n",
      "0  POSITIVE  50.039577\n",
      "1  POSITIVE  50.039577\n",
      "2  POSITIVE  50.039577\n",
      "3  POSITIVE  50.039577\n",
      "4  POSITIVE  50.039577\n",
      "5  POSITIVE  50.039577\n",
      "6  POSITIVE  50.039577\n",
      "7  POSITIVE  50.039577\n",
      "8  POSITIVE  50.039577\n",
      "9  POSITIVE  50.039577\n"
     ]
    },
    {
     "data": {
      "application/javascript": [
       "\n",
       "        setTimeout(function() {\n",
       "            var nbb_cell_id = 91;\n",
       "            var nbb_formatted_code = \"def testFromFolderNCnn(vocab, tokenizer, l, model):\\n    print(\\\"------------Testing For---CNN 1 Layer-----------------------\\\")\\n    print(\\\"------------Testing For Positive Files---------------\\\")\\n    pos_list = list()\\n    neg_list = list()\\n    filesinfolder = sorted(os.listdir(\\\"txt_sentoken/mtest/pos\\\"))\\n    print(filesinfolder)\\n    for files in filesinfolder:\\n        filename = \\\"txt_sentoken/mtest/pos/\\\" + files\\n        print(filename)\\n        text = load_document(filename)\\n        percent, sentiment = predict_ncnn_sentiment(text, vocab, tokenizer, l, model)\\n        #         print('Review: [%s]\\\\nSentiment: %s (%.3f%%) \\\\n' % (text, sentiment, percent*100))\\n        print(\\\"Sentiment: %s (%.3f%%) \\\\n\\\" % (sentiment, percent * 100))\\n        pos_list.append([sentiment, percent * 100])\\n    print(\\\"------------Testing For Negative Files---------------\\\")\\n    filesinfolder = sorted(os.listdir(\\\"txt_sentoken/mtest/neg\\\"))\\n    print(filesinfolder)\\n    for files in filesinfolder:\\n        filename = \\\"txt_sentoken/mtest/neg/\\\" + files\\n        print(filename)\\n        text = load_document(filename)\\n        percent, sentiment = predict_ncnn_sentiment(text, vocab, tokenizer, l, model)\\n        #         print('Review: [%s]\\\\nSentiment: %s (%.3f%%) \\\\n' % (text, sentiment, percent*100))\\n        print(\\\"Sentiment: %s (%.3f%%) \\\\n\\\" % (sentiment, percent * 100))\\n        neg_list.append([sentiment, percent * 100])\\n\\n    print(\\\"---------Positive List----------\\\")\\n    #     print(*pos_list)\\n    pdf = pd.DataFrame(pos_list, columns=[\\\"File Name\\\", \\\"Analysis\\\"])\\n    print(pdf.head(n=10))\\n    print(\\\"---------Negative List----------\\\")\\n    #     print(*neg_list)\\n    ndf = pd.DataFrame(neg_list, columns=[\\\"File Name\\\", \\\"Analysis\\\"])\\n    print(ndf.head(n=10))\\n    return pdf, ndf\\n\\n\\nncnnpdf, ncnnndf = testFromFolderNCnn(vocab, ncnn_tokenizer, length, ncnn_model)\\n\\n\\n# text = 'It is an ok movie one time watch'\\n# percent, sentiment = predict_ncnn_sentiment(text, vocab, ncnn_tokenizer, length, ncnn_model)\\n# print('Review: [%s]\\\\nSentiment: %s (%.3f%%) \\\\n' % (text, sentiment, percent*100))\";\n",
       "            var nbb_cells = Jupyter.notebook.get_cells();\n",
       "            for (var i = 0; i < nbb_cells.length; ++i) {\n",
       "                if (nbb_cells[i].input_prompt_number == nbb_cell_id) {\n",
       "                    nbb_cells[i].set_text(nbb_formatted_code);\n",
       "                    break;\n",
       "                }\n",
       "            }\n",
       "        }, 500);\n",
       "        "
      ],
      "text/plain": [
       "<IPython.core.display.Javascript object>"
      ]
     },
     "metadata": {},
     "output_type": "display_data"
    }
   ],
   "source": [
    "def testFromFolderNCnn(vocab, tokenizer, l, model):\n",
    "    print(\"------------Testing For---CNN 1 Layer-----------------------\")\n",
    "    print(\"------------Testing For Positive Files---------------\")\n",
    "    pos_list = list()\n",
    "    neg_list = list()\n",
    "    filesinfolder = sorted(os.listdir(\"txt_sentoken/mtest/pos\"))\n",
    "    print(filesinfolder)\n",
    "    for files in filesinfolder:\n",
    "        filename = \"txt_sentoken/mtest/pos/\" + files\n",
    "        print(filename)\n",
    "        text = load_document(filename)\n",
    "        percent, sentiment = predict_ncnn_sentiment(text, vocab, tokenizer, l, model)\n",
    "        #         print('Review: [%s]\\nSentiment: %s (%.3f%%) \\n' % (text, sentiment, percent*100))\n",
    "        print(\"Sentiment: %s (%.3f%%) \\n\" % (sentiment, percent * 100))\n",
    "        pos_list.append([sentiment, percent * 100])\n",
    "    print(\"------------Testing For Negative Files---------------\")\n",
    "    filesinfolder = sorted(os.listdir(\"txt_sentoken/mtest/neg\"))\n",
    "    print(filesinfolder)\n",
    "    for files in filesinfolder:\n",
    "        filename = \"txt_sentoken/mtest/neg/\" + files\n",
    "        print(filename)\n",
    "        text = load_document(filename)\n",
    "        percent, sentiment = predict_ncnn_sentiment(text, vocab, tokenizer, l, model)\n",
    "        #         print('Review: [%s]\\nSentiment: %s (%.3f%%) \\n' % (text, sentiment, percent*100))\n",
    "        print(\"Sentiment: %s (%.3f%%) \\n\" % (sentiment, percent * 100))\n",
    "        neg_list.append([sentiment, percent * 100])\n",
    "\n",
    "    print(\"---------Positive List----------\")\n",
    "    #     print(*pos_list)\n",
    "    pdf = pd.DataFrame(pos_list, columns=[\"File Name\", \"Analysis\"])\n",
    "    print(pdf.head(n=10))\n",
    "    print(\"---------Negative List----------\")\n",
    "    #     print(*neg_list)\n",
    "    ndf = pd.DataFrame(neg_list, columns=[\"File Name\", \"Analysis\"])\n",
    "    print(ndf.head(n=10))\n",
    "    return pdf, ndf\n",
    "\n",
    "\n",
    "ncnnpdf, ncnnndf = testFromFolderNCnn(vocab, ncnn_tokenizer, length, ncnn_model)\n",
    "\n",
    "\n",
    "# text = 'It is an ok movie one time watch'\n",
    "# percent, sentiment = predict_ncnn_sentiment(text, vocab, ncnn_tokenizer, length, ncnn_model)\n",
    "# print('Review: [%s]\\nSentiment: %s (%.3f%%) \\n' % (text, sentiment, percent*100))"
   ]
  },
  {
   "cell_type": "code",
   "execution_count": 92,
   "metadata": {},
   "outputs": [
    {
     "data": {
      "application/javascript": [
       "\n",
       "        setTimeout(function() {\n",
       "            var nbb_cell_id = 92;\n",
       "            var nbb_formatted_code = \"# ncnnpdf\";\n",
       "            var nbb_cells = Jupyter.notebook.get_cells();\n",
       "            for (var i = 0; i < nbb_cells.length; ++i) {\n",
       "                if (nbb_cells[i].input_prompt_number == nbb_cell_id) {\n",
       "                    nbb_cells[i].set_text(nbb_formatted_code);\n",
       "                    break;\n",
       "                }\n",
       "            }\n",
       "        }, 500);\n",
       "        "
      ],
      "text/plain": [
       "<IPython.core.display.Javascript object>"
      ]
     },
     "metadata": {},
     "output_type": "display_data"
    }
   ],
   "source": [
    "# ncnnpdf"
   ]
  },
  {
   "cell_type": "code",
   "execution_count": 93,
   "metadata": {},
   "outputs": [
    {
     "data": {
      "application/javascript": [
       "\n",
       "        setTimeout(function() {\n",
       "            var nbb_cell_id = 93;\n",
       "            var nbb_formatted_code = \"# ncnnndf\";\n",
       "            var nbb_cells = Jupyter.notebook.get_cells();\n",
       "            for (var i = 0; i < nbb_cells.length; ++i) {\n",
       "                if (nbb_cells[i].input_prompt_number == nbb_cell_id) {\n",
       "                    nbb_cells[i].set_text(nbb_formatted_code);\n",
       "                    break;\n",
       "                }\n",
       "            }\n",
       "        }, 500);\n",
       "        "
      ],
      "text/plain": [
       "<IPython.core.display.Javascript object>"
      ]
     },
     "metadata": {},
     "output_type": "display_data"
    }
   ],
   "source": [
    "# ncnnndf"
   ]
  },
  {
   "cell_type": "markdown",
   "metadata": {},
   "source": [
    "# Conclusion"
   ]
  },
  {
   "cell_type": "markdown",
   "metadata": {},
   "source": [
    "# Justification"
   ]
  },
  {
   "cell_type": "code",
   "execution_count": 87,
   "metadata": {},
   "outputs": [
    {
     "name": "stdout",
     "output_type": "stream",
     "text": [
      "\n",
      "---------Evaluating For MLP Model----------------\n",
      "\n",
      "200/200 [==============================] - 0s 90us/step\n",
      "Test Accuracy: 84.500000\n",
      "\n",
      "---Evaluating For Embedding + 1DCNN Model--------\n",
      "\n",
      "200/200 [==============================] - 0s 2ms/step\n",
      "Test Accuracy: 87.500000\n",
      "\n",
      "---Evaluating For N-gram CNN Model--------\n",
      "\n",
      "200/200 [==============================] - 1s 5ms/step\n",
      "Test Accuracy: 50.00\n"
     ]
    },
    {
     "data": {
      "application/javascript": [
       "\n",
       "        setTimeout(function() {\n",
       "            var nbb_cell_id = 87;\n",
       "            var nbb_formatted_code = \"print(\\\"\\\\n---------Evaluating For MLP Model----------------\\\\n\\\")\\nloss, acc = model.evaluate(Xtest, ytest, verbose=1)\\nprint(\\\"Test Accuracy: %f\\\" % (acc * 100))\\n\\nprint(\\\"\\\\n---Evaluating For Embedding + 1DCNN Model--------\\\\n\\\")\\ncnn_loss, cnn_acc = embed_cnn_model.evaluate(cnn_Xtest, ytest, verbose=1)\\nprint(\\\"Test Accuracy: %f\\\" % (cnn_acc * 100))\\n\\nprint(\\\"\\\\n---Evaluating For N-gram CNN Model--------\\\\n\\\")\\nncnn_loss, ncnn_acc = ncnn_model.evaluate(\\n    [ncnn_Xtest, ncnn_Xtest, ncnn_Xtest], ytest, verbose=1\\n)\\nprint(\\\"Test Accuracy: %.2f\\\" % (ncnn_acc * 100))\";\n",
       "            var nbb_cells = Jupyter.notebook.get_cells();\n",
       "            for (var i = 0; i < nbb_cells.length; ++i) {\n",
       "                if (nbb_cells[i].input_prompt_number == nbb_cell_id) {\n",
       "                    nbb_cells[i].set_text(nbb_formatted_code);\n",
       "                    break;\n",
       "                }\n",
       "            }\n",
       "        }, 500);\n",
       "        "
      ],
      "text/plain": [
       "<IPython.core.display.Javascript object>"
      ]
     },
     "metadata": {},
     "output_type": "display_data"
    }
   ],
   "source": [
    "print(\"\\n---------Evaluating For MLP Model----------------\\n\")\n",
    "loss, acc = model.evaluate(Xtest, ytest, verbose=1)\n",
    "print(\"Test Accuracy: %f\" % (acc * 100))\n",
    "\n",
    "print(\"\\n---Evaluating For Embedding + 1DCNN Model--------\\n\")\n",
    "cnn_loss, cnn_acc = embed_cnn_model.evaluate(cnn_Xtest, ytest, verbose=1)\n",
    "print(\"Test Accuracy: %f\" % (cnn_acc * 100))\n",
    "\n",
    "print(\"\\n---Evaluating For N-gram CNN Model--------\\n\")\n",
    "ncnn_loss, ncnn_acc = ncnn_model.evaluate(\n",
    "    [ncnn_Xtest, ncnn_Xtest, ncnn_Xtest], ytest, verbose=1\n",
    ")\n",
    "print(\"Test Accuracy: %.2f\" % (ncnn_acc * 100))"
   ]
  },
  {
   "cell_type": "code",
   "execution_count": 88,
   "metadata": {
    "scrolled": true
   },
   "outputs": [
    {
     "data": {
      "text/html": [
       "<div>\n",
       "<style scoped>\n",
       "    .dataframe tbody tr th:only-of-type {\n",
       "        vertical-align: middle;\n",
       "    }\n",
       "\n",
       "    .dataframe tbody tr th {\n",
       "        vertical-align: top;\n",
       "    }\n",
       "\n",
       "    .dataframe thead tr th {\n",
       "        text-align: left;\n",
       "    }\n",
       "</style>\n",
       "<table border=\"1\" class=\"dataframe\">\n",
       "  <thead>\n",
       "    <tr>\n",
       "      <th></th>\n",
       "      <th>FILE_NAME</th>\n",
       "      <th colspan=\"2\" halign=\"left\">MLP</th>\n",
       "      <th colspan=\"2\" halign=\"left\">CNN</th>\n",
       "      <th colspan=\"2\" halign=\"left\">NCNN</th>\n",
       "    </tr>\n",
       "    <tr>\n",
       "      <th></th>\n",
       "      <th></th>\n",
       "      <th>SENTIMENT</th>\n",
       "      <th>PERCENT</th>\n",
       "      <th>SENTIMENT</th>\n",
       "      <th>PERCENT</th>\n",
       "      <th>SENTIMENT</th>\n",
       "      <th>PERCENT</th>\n",
       "    </tr>\n",
       "  </thead>\n",
       "  <tbody>\n",
       "    <tr>\n",
       "      <th>0</th>\n",
       "      <td>pos_file0.txt</td>\n",
       "      <td>NEGATIVE</td>\n",
       "      <td>61.4969</td>\n",
       "      <td>NEGATIVE</td>\n",
       "      <td>66.1785</td>\n",
       "      <td>POSITIVE</td>\n",
       "      <td>50.0396</td>\n",
       "    </tr>\n",
       "    <tr>\n",
       "      <th>1</th>\n",
       "      <td>pos_file1.txt</td>\n",
       "      <td>POSITIVE</td>\n",
       "      <td>64.6113</td>\n",
       "      <td>POSITIVE</td>\n",
       "      <td>79.2392</td>\n",
       "      <td>POSITIVE</td>\n",
       "      <td>50.0396</td>\n",
       "    </tr>\n",
       "    <tr>\n",
       "      <th>2</th>\n",
       "      <td>pos_file2.txt</td>\n",
       "      <td>POSITIVE</td>\n",
       "      <td>85.3536</td>\n",
       "      <td>POSITIVE</td>\n",
       "      <td>98.924</td>\n",
       "      <td>POSITIVE</td>\n",
       "      <td>50.0396</td>\n",
       "    </tr>\n",
       "    <tr>\n",
       "      <th>3</th>\n",
       "      <td>pos_file3.txt</td>\n",
       "      <td>POSITIVE</td>\n",
       "      <td>66.9352</td>\n",
       "      <td>POSITIVE</td>\n",
       "      <td>75.7175</td>\n",
       "      <td>POSITIVE</td>\n",
       "      <td>50.0396</td>\n",
       "    </tr>\n",
       "    <tr>\n",
       "      <th>4</th>\n",
       "      <td>pos_file4.txt</td>\n",
       "      <td>POSITIVE</td>\n",
       "      <td>72.2277</td>\n",
       "      <td>POSITIVE</td>\n",
       "      <td>100</td>\n",
       "      <td>POSITIVE</td>\n",
       "      <td>50.0396</td>\n",
       "    </tr>\n",
       "    <tr>\n",
       "      <th>5</th>\n",
       "      <td>pos_file5.txt</td>\n",
       "      <td>POSITIVE</td>\n",
       "      <td>60.9306</td>\n",
       "      <td>POSITIVE</td>\n",
       "      <td>92.2359</td>\n",
       "      <td>POSITIVE</td>\n",
       "      <td>50.0396</td>\n",
       "    </tr>\n",
       "    <tr>\n",
       "      <th>6</th>\n",
       "      <td>pos_file6.txt</td>\n",
       "      <td>NEGATIVE</td>\n",
       "      <td>53.3778</td>\n",
       "      <td>NEGATIVE</td>\n",
       "      <td>51.5288</td>\n",
       "      <td>POSITIVE</td>\n",
       "      <td>50.0396</td>\n",
       "    </tr>\n",
       "    <tr>\n",
       "      <th>7</th>\n",
       "      <td>pos_file7.txt</td>\n",
       "      <td>POSITIVE</td>\n",
       "      <td>67.5668</td>\n",
       "      <td>POSITIVE</td>\n",
       "      <td>98.3638</td>\n",
       "      <td>POSITIVE</td>\n",
       "      <td>50.0396</td>\n",
       "    </tr>\n",
       "    <tr>\n",
       "      <th>8</th>\n",
       "      <td>pos_file8.txt</td>\n",
       "      <td>POSITIVE</td>\n",
       "      <td>66.2819</td>\n",
       "      <td>POSITIVE</td>\n",
       "      <td>94.7657</td>\n",
       "      <td>POSITIVE</td>\n",
       "      <td>50.0396</td>\n",
       "    </tr>\n",
       "    <tr>\n",
       "      <th>9</th>\n",
       "      <td>pos_file9.txt</td>\n",
       "      <td>POSITIVE</td>\n",
       "      <td>55.3852</td>\n",
       "      <td>NEGATIVE</td>\n",
       "      <td>54.1211</td>\n",
       "      <td>POSITIVE</td>\n",
       "      <td>50.0396</td>\n",
       "    </tr>\n",
       "  </tbody>\n",
       "</table>\n",
       "</div>"
      ],
      "text/plain": [
       "       FILE_NAME       MLP                CNN               NCNN         \n",
       "                 SENTIMENT  PERCENT SENTIMENT  PERCENT SENTIMENT  PERCENT\n",
       "0  pos_file0.txt  NEGATIVE  61.4969  NEGATIVE  66.1785  POSITIVE  50.0396\n",
       "1  pos_file1.txt  POSITIVE  64.6113  POSITIVE  79.2392  POSITIVE  50.0396\n",
       "2  pos_file2.txt  POSITIVE  85.3536  POSITIVE   98.924  POSITIVE  50.0396\n",
       "3  pos_file3.txt  POSITIVE  66.9352  POSITIVE  75.7175  POSITIVE  50.0396\n",
       "4  pos_file4.txt  POSITIVE  72.2277  POSITIVE      100  POSITIVE  50.0396\n",
       "5  pos_file5.txt  POSITIVE  60.9306  POSITIVE  92.2359  POSITIVE  50.0396\n",
       "6  pos_file6.txt  NEGATIVE  53.3778  NEGATIVE  51.5288  POSITIVE  50.0396\n",
       "7  pos_file7.txt  POSITIVE  67.5668  POSITIVE  98.3638  POSITIVE  50.0396\n",
       "8  pos_file8.txt  POSITIVE  66.2819  POSITIVE  94.7657  POSITIVE  50.0396\n",
       "9  pos_file9.txt  POSITIVE  55.3852  NEGATIVE  54.1211  POSITIVE  50.0396"
      ]
     },
     "execution_count": 88,
     "metadata": {},
     "output_type": "execute_result"
    },
    {
     "data": {
      "application/javascript": [
       "\n",
       "        setTimeout(function() {\n",
       "            var nbb_cell_id = 88;\n",
       "            var nbb_formatted_code = \"# print(fn)\\n# print(mlppdf)\\n# print(cnnpdf)\\n# print(ncnnpdf)\\n# #pd.concat([mlppdf, cnnpdf], axis=1)\\n# file_df = pd.DataFrame({'filename':fn})\\ncol = pd.MultiIndex.from_product([[\\\"MLP\\\", \\\"CNN\\\", \\\"NCNN\\\"], [\\\"SENTIMENT\\\", \\\"PERCENT\\\"]])\\ndf = pd.DataFrame(columns=col)\\n# df.A = mlppdf\\n# df['file_name'] = fn\\ndf.insert(loc=0, column=\\\"FILE_NAME\\\", value=fn)\\ndf.MLP = mlppdf.values\\ndf.CNN = cnnpdf.values\\ndf.NCNN = ncnnpdf.values\\n# file_df.concat(df, axis=1)\\ndf\";\n",
       "            var nbb_cells = Jupyter.notebook.get_cells();\n",
       "            for (var i = 0; i < nbb_cells.length; ++i) {\n",
       "                if (nbb_cells[i].input_prompt_number == nbb_cell_id) {\n",
       "                    nbb_cells[i].set_text(nbb_formatted_code);\n",
       "                    break;\n",
       "                }\n",
       "            }\n",
       "        }, 500);\n",
       "        "
      ],
      "text/plain": [
       "<IPython.core.display.Javascript object>"
      ]
     },
     "metadata": {},
     "output_type": "display_data"
    }
   ],
   "source": [
    "# print(fn)\n",
    "# print(mlppdf)\n",
    "# print(cnnpdf)\n",
    "# print(ncnnpdf)\n",
    "# #pd.concat([mlppdf, cnnpdf], axis=1)\n",
    "# file_df = pd.DataFrame({'filename':fn})\n",
    "col = pd.MultiIndex.from_product([[\"MLP\", \"CNN\", \"NCNN\"], [\"SENTIMENT\", \"PERCENT\"]])\n",
    "df = pd.DataFrame(columns=col)\n",
    "# df.A = mlppdf\n",
    "# df['file_name'] = fn\n",
    "df.insert(loc=0, column=\"FILE_NAME\", value=fn)\n",
    "df.MLP = mlppdf.values\n",
    "df.CNN = cnnpdf.values\n",
    "df.NCNN = ncnnpdf.values\n",
    "# file_df.concat(df, axis=1)\n",
    "df"
   ]
  },
  {
   "cell_type": "code",
   "execution_count": 94,
   "metadata": {},
   "outputs": [
    {
     "data": {
      "text/html": [
       "<div>\n",
       "<style scoped>\n",
       "    .dataframe tbody tr th:only-of-type {\n",
       "        vertical-align: middle;\n",
       "    }\n",
       "\n",
       "    .dataframe tbody tr th {\n",
       "        vertical-align: top;\n",
       "    }\n",
       "\n",
       "    .dataframe thead tr th {\n",
       "        text-align: left;\n",
       "    }\n",
       "</style>\n",
       "<table border=\"1\" class=\"dataframe\">\n",
       "  <thead>\n",
       "    <tr>\n",
       "      <th></th>\n",
       "      <th>FILE_NAME</th>\n",
       "      <th colspan=\"2\" halign=\"left\">MLP</th>\n",
       "      <th colspan=\"2\" halign=\"left\">CNN</th>\n",
       "      <th colspan=\"2\" halign=\"left\">NCNN</th>\n",
       "    </tr>\n",
       "    <tr>\n",
       "      <th></th>\n",
       "      <th></th>\n",
       "      <th>SENTIMENT</th>\n",
       "      <th>PERCENT</th>\n",
       "      <th>SENTIMENT</th>\n",
       "      <th>PERCENT</th>\n",
       "      <th>SENTIMENT</th>\n",
       "      <th>PERCENT</th>\n",
       "    </tr>\n",
       "  </thead>\n",
       "  <tbody>\n",
       "    <tr>\n",
       "      <th>0</th>\n",
       "      <td>neg_file0.txt</td>\n",
       "      <td>NEGATIVE</td>\n",
       "      <td>63.361</td>\n",
       "      <td>NEGATIVE</td>\n",
       "      <td>99.3149</td>\n",
       "      <td>POSITIVE</td>\n",
       "      <td>50.0396</td>\n",
       "    </tr>\n",
       "    <tr>\n",
       "      <th>1</th>\n",
       "      <td>neg_file1.txt</td>\n",
       "      <td>NEGATIVE</td>\n",
       "      <td>73.0985</td>\n",
       "      <td>NEGATIVE</td>\n",
       "      <td>95.5008</td>\n",
       "      <td>POSITIVE</td>\n",
       "      <td>50.0396</td>\n",
       "    </tr>\n",
       "    <tr>\n",
       "      <th>2</th>\n",
       "      <td>neg_file2.txt</td>\n",
       "      <td>NEGATIVE</td>\n",
       "      <td>70.1225</td>\n",
       "      <td>NEGATIVE</td>\n",
       "      <td>93.5098</td>\n",
       "      <td>POSITIVE</td>\n",
       "      <td>50.0396</td>\n",
       "    </tr>\n",
       "    <tr>\n",
       "      <th>3</th>\n",
       "      <td>neg_file3.txt</td>\n",
       "      <td>NEGATIVE</td>\n",
       "      <td>72.7572</td>\n",
       "      <td>NEGATIVE</td>\n",
       "      <td>53.2094</td>\n",
       "      <td>POSITIVE</td>\n",
       "      <td>50.0396</td>\n",
       "    </tr>\n",
       "    <tr>\n",
       "      <th>4</th>\n",
       "      <td>neg_file4.txt</td>\n",
       "      <td>NEGATIVE</td>\n",
       "      <td>70.5269</td>\n",
       "      <td>NEGATIVE</td>\n",
       "      <td>99.6981</td>\n",
       "      <td>POSITIVE</td>\n",
       "      <td>50.0396</td>\n",
       "    </tr>\n",
       "    <tr>\n",
       "      <th>5</th>\n",
       "      <td>neg_file5.txt</td>\n",
       "      <td>NEGATIVE</td>\n",
       "      <td>57.0338</td>\n",
       "      <td>NEGATIVE</td>\n",
       "      <td>63.6424</td>\n",
       "      <td>POSITIVE</td>\n",
       "      <td>50.0396</td>\n",
       "    </tr>\n",
       "    <tr>\n",
       "      <th>6</th>\n",
       "      <td>neg_file6.txt</td>\n",
       "      <td>NEGATIVE</td>\n",
       "      <td>66.4905</td>\n",
       "      <td>NEGATIVE</td>\n",
       "      <td>91.8099</td>\n",
       "      <td>POSITIVE</td>\n",
       "      <td>50.0396</td>\n",
       "    </tr>\n",
       "    <tr>\n",
       "      <th>7</th>\n",
       "      <td>neg_file7.txt</td>\n",
       "      <td>NEGATIVE</td>\n",
       "      <td>66.4905</td>\n",
       "      <td>NEGATIVE</td>\n",
       "      <td>91.8099</td>\n",
       "      <td>POSITIVE</td>\n",
       "      <td>50.0396</td>\n",
       "    </tr>\n",
       "    <tr>\n",
       "      <th>8</th>\n",
       "      <td>neg_file8.txt</td>\n",
       "      <td>NEGATIVE</td>\n",
       "      <td>53.4143</td>\n",
       "      <td>POSITIVE</td>\n",
       "      <td>67.641</td>\n",
       "      <td>POSITIVE</td>\n",
       "      <td>50.0396</td>\n",
       "    </tr>\n",
       "    <tr>\n",
       "      <th>9</th>\n",
       "      <td>neg_file9.txt</td>\n",
       "      <td>NEGATIVE</td>\n",
       "      <td>61.5584</td>\n",
       "      <td>NEGATIVE</td>\n",
       "      <td>85.7974</td>\n",
       "      <td>POSITIVE</td>\n",
       "      <td>50.0396</td>\n",
       "    </tr>\n",
       "  </tbody>\n",
       "</table>\n",
       "</div>"
      ],
      "text/plain": [
       "       FILE_NAME       MLP                CNN               NCNN         \n",
       "                 SENTIMENT  PERCENT SENTIMENT  PERCENT SENTIMENT  PERCENT\n",
       "0  neg_file0.txt  NEGATIVE   63.361  NEGATIVE  99.3149  POSITIVE  50.0396\n",
       "1  neg_file1.txt  NEGATIVE  73.0985  NEGATIVE  95.5008  POSITIVE  50.0396\n",
       "2  neg_file2.txt  NEGATIVE  70.1225  NEGATIVE  93.5098  POSITIVE  50.0396\n",
       "3  neg_file3.txt  NEGATIVE  72.7572  NEGATIVE  53.2094  POSITIVE  50.0396\n",
       "4  neg_file4.txt  NEGATIVE  70.5269  NEGATIVE  99.6981  POSITIVE  50.0396\n",
       "5  neg_file5.txt  NEGATIVE  57.0338  NEGATIVE  63.6424  POSITIVE  50.0396\n",
       "6  neg_file6.txt  NEGATIVE  66.4905  NEGATIVE  91.8099  POSITIVE  50.0396\n",
       "7  neg_file7.txt  NEGATIVE  66.4905  NEGATIVE  91.8099  POSITIVE  50.0396\n",
       "8  neg_file8.txt  NEGATIVE  53.4143  POSITIVE   67.641  POSITIVE  50.0396\n",
       "9  neg_file9.txt  NEGATIVE  61.5584  NEGATIVE  85.7974  POSITIVE  50.0396"
      ]
     },
     "execution_count": 94,
     "metadata": {},
     "output_type": "execute_result"
    },
    {
     "data": {
      "application/javascript": [
       "\n",
       "        setTimeout(function() {\n",
       "            var nbb_cell_id = 94;\n",
       "            var nbb_formatted_code = \"ncol = pd.MultiIndex.from_product([[\\\"MLP\\\", \\\"CNN\\\", \\\"NCNN\\\"], [\\\"SENTIMENT\\\", \\\"PERCENT\\\"]])\\nndf = pd.DataFrame(columns=col)\\n# df.A = mlppdf\\n# df['file_name'] = fn\\nndf.insert(loc=0, column=\\\"FILE_NAME\\\", value=nf)\\nndf.MLP = mlpndf.values\\nndf.CNN = cnnndf.values\\nndf.NCNN = ncnnndf.values\\n# file_df.concat(df, axis=1)\\nndf\";\n",
       "            var nbb_cells = Jupyter.notebook.get_cells();\n",
       "            for (var i = 0; i < nbb_cells.length; ++i) {\n",
       "                if (nbb_cells[i].input_prompt_number == nbb_cell_id) {\n",
       "                    nbb_cells[i].set_text(nbb_formatted_code);\n",
       "                    break;\n",
       "                }\n",
       "            }\n",
       "        }, 500);\n",
       "        "
      ],
      "text/plain": [
       "<IPython.core.display.Javascript object>"
      ]
     },
     "metadata": {},
     "output_type": "display_data"
    }
   ],
   "source": [
    "ncol = pd.MultiIndex.from_product([[\"MLP\", \"CNN\", \"NCNN\"], [\"SENTIMENT\", \"PERCENT\"]])\n",
    "ndf = pd.DataFrame(columns=col)\n",
    "# df.A = mlppdf\n",
    "# df['file_name'] = fn\n",
    "ndf.insert(loc=0, column=\"FILE_NAME\", value=nf)\n",
    "ndf.MLP = mlpndf.values\n",
    "ndf.CNN = cnnndf.values\n",
    "ndf.NCNN = ncnnndf.values\n",
    "# file_df.concat(df, axis=1)\n",
    "ndf"
   ]
  },
  {
   "cell_type": "markdown",
   "metadata": {},
   "source": [
    "# Compare Word Scoring "
   ]
  },
  {
   "cell_type": "code",
   "execution_count": 97,
   "metadata": {},
   "outputs": [
    {
     "data": {
      "application/javascript": [
       "\n",
       "        setTimeout(function() {\n",
       "            var nbb_cell_id = 97;\n",
       "            var nbb_formatted_code = \"# modes = [\\\"binary\\\", \\\"count\\\", \\\"tfidf\\\", \\\"freq\\\"]\\n# # Prepare Bag - Of - Words Encoding\\n# results = pd.DataFrame()\\n\\n\\n# def prepare_data(train, test, m):\\n#     token = Tokenizer()\\n#     token.fit_on_texts(train)\\n#     Xtrain = token.texts_to_matrix(train, mode=mode)\\n#     Xtest = token.texts_to_matrix(test, mode=mode)\\n#     return Xtrain, Xtest\\n\\n\\n# # Evaluate\\n# def evaluate_mode(Xtrain, ytrain, Xtest, ytest):\\n#     scores = list()\\n#     no_r = 10\\n#     for _ in range(no_r):\\n#         model = Sequential()\\n#         model.add(Dense(50, input_shape=(n_words,), activation=\\\"relu\\\"))\\n#         model.add(Dense(1, activation=\\\"sigmoid\\\"))\\n#         model.compile(\\n#             loss=\\\"binary_crossentropy\\\", optimizer=\\\"adam\\\", metrics=[\\\"accuracy\\\"]\\n#         )\\n#         model.fit(Xtrain, ytrain, epochs=10, verbose=1)\\n#         loss, acc = model.evaluate(Xtest, ytest, verbose=1)\\n#         scores.append(acc)\\n#         print(\\\"%d accuracy : %s \\\" % ((_ + 1), acc))\\n#     return scores\\n\\n\\n# for mode in modes:\\n#     Xtrain, Xtest = prepare_data(train_docs, test_docs, mode)\\n#     results[mode] = evaluate_mode(Xtrain, ytrain, Xtest, ytest)\";\n",
       "            var nbb_cells = Jupyter.notebook.get_cells();\n",
       "            for (var i = 0; i < nbb_cells.length; ++i) {\n",
       "                if (nbb_cells[i].input_prompt_number == nbb_cell_id) {\n",
       "                    nbb_cells[i].set_text(nbb_formatted_code);\n",
       "                    break;\n",
       "                }\n",
       "            }\n",
       "        }, 500);\n",
       "        "
      ],
      "text/plain": [
       "<IPython.core.display.Javascript object>"
      ]
     },
     "metadata": {},
     "output_type": "display_data"
    }
   ],
   "source": [
    "# modes = [\"binary\", \"count\", \"tfidf\", \"freq\"]\n",
    "# # Prepare Bag - Of - Words Encoding\n",
    "# results = pd.DataFrame()\n",
    "\n",
    "\n",
    "# def prepare_data(train, test, m):\n",
    "#     token = Tokenizer()\n",
    "#     token.fit_on_texts(train)\n",
    "#     Xtrain = token.texts_to_matrix(train, mode=mode)\n",
    "#     Xtest = token.texts_to_matrix(test, mode=mode)\n",
    "#     return Xtrain, Xtest\n",
    "\n",
    "\n",
    "# # Evaluate\n",
    "# def evaluate_mode(Xtrain, ytrain, Xtest, ytest):\n",
    "#     scores = list()\n",
    "#     no_r = 10\n",
    "#     for _ in range(no_r):\n",
    "#         model = Sequential()\n",
    "#         model.add(Dense(50, input_shape=(n_words,), activation=\"relu\"))\n",
    "#         model.add(Dense(1, activation=\"sigmoid\"))\n",
    "#         model.compile(\n",
    "#             loss=\"binary_crossentropy\", optimizer=\"adam\", metrics=[\"accuracy\"]\n",
    "#         )\n",
    "#         model.fit(Xtrain, ytrain, epochs=10, verbose=1)\n",
    "#         loss, acc = model.evaluate(Xtest, ytest, verbose=1)\n",
    "#         scores.append(acc)\n",
    "#         print(\"%d accuracy : %s \" % ((_ + 1), acc))\n",
    "#     return scores\n",
    "\n",
    "\n",
    "# for mode in modes:\n",
    "#     Xtrain, Xtest = prepare_data(train_docs, test_docs, mode)\n",
    "#     results[mode] = evaluate_mode(Xtrain, ytrain, Xtest, ytest)"
   ]
  },
  {
   "cell_type": "code",
   "execution_count": null,
   "metadata": {},
   "outputs": [],
   "source": [
    "# print(results.describe())\n",
    "# plt.figure(figsize=(16,6))\n",
    "# results.boxplot()\n",
    "# plt.xlabel(\"Types\")\n",
    "# plt.ylabel(\"Accuracy\")\n",
    "# plt.show()\n"
   ]
  },
  {
   "cell_type": "code",
   "execution_count": null,
   "metadata": {},
   "outputs": [],
   "source": []
  }
 ],
 "metadata": {
  "kernelspec": {
   "display_name": "Python 3",
   "language": "python",
   "name": "python3"
  },
  "language_info": {
   "codemirror_mode": {
    "name": "ipython",
    "version": 3
   },
   "file_extension": ".py",
   "mimetype": "text/x-python",
   "name": "python",
   "nbconvert_exporter": "python",
   "pygments_lexer": "ipython3",
   "version": "3.7.1"
  }
 },
 "nbformat": 4,
 "nbformat_minor": 2
}
