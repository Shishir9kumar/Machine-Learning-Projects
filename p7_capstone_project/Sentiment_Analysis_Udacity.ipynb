{
 "cells": [
  {
   "cell_type": "markdown",
   "metadata": {},
   "source": [
    "Import Of The Important Libraries Required for Solving This Problem."
   ]
  },
  {
   "cell_type": "code",
   "execution_count": 1,
   "metadata": {},
   "outputs": [
    {
     "name": "stderr",
     "output_type": "stream",
     "text": [
      "Using TensorFlow backend.\n"
     ]
    }
   ],
   "source": [
    "import os\n",
    "import numpy as np\n",
    "import pandas as pd\n",
    "import seaborn as sns\n",
    "import matplotlib.pyplot as plt\n",
    "%matplotlib inline\n",
    "import string \n",
    "import re\n",
    "from nltk.corpus import stopwords\n",
    "from collections import Counter\n",
    "from keras.utils.vis_utils import plot_model\n",
    "from keras.models import Sequential\n",
    "from keras.layers import Dense\n",
    "import pydot\n",
    "from IPython.display import SVG\n",
    "from keras.utils.vis_utils import model_to_dot\n",
    "import graphviz\n",
    "from keras.preprocessing.text import Tokenizer\n",
    "from keras.preprocessing.sequence import pad_sequences\n",
    "from keras.layers import Dense\n",
    "from keras.layers import Flatten\n",
    "from keras.layers import Embedding\n",
    "from keras.layers.convolutional import Conv1D\n",
    "from keras.layers.convolutional import MaxPooling1D\n",
    "from sklearn.model_selection import StratifiedKFold\n",
    "from keras.callbacks import ModelCheckpoint\n",
    "from keras.models import Model\n",
    "from keras.layers import Input\n",
    "from keras.layers.merge import concatenate\n",
    "from keras.layers import Dropout\n",
    "from keras.models import load_model"
   ]
  },
  {
   "cell_type": "code",
   "execution_count": 2,
   "metadata": {},
   "outputs": [
    {
     "data": {
      "text/plain": [
       "['ncnn_model.h5',\n",
       " '.ipynb_checkpoints',\n",
       " 'mlp.ipynb',\n",
       " 'Sentiment_Analysis_Udacity.ipynb',\n",
       " 'txt_sentoken',\n",
       " 'rp.tar.gz',\n",
       " 'review_polarity',\n",
       " 'cnn']"
      ]
     },
     "execution_count": 2,
     "metadata": {},
     "output_type": "execute_result"
    }
   ],
   "source": [
    "os.listdir()"
   ]
  },
  {
   "cell_type": "markdown",
   "metadata": {},
   "source": [
    "# Preprocessing Step \n",
    "# Import Data"
   ]
  },
  {
   "cell_type": "code",
   "execution_count": 141,
   "metadata": {},
   "outputs": [],
   "source": [
    "# Function to load document into the notebook\n",
    "def load_document(fileName):\n",
    "    file=open(fileName,'r')\n",
    "    text_data=file.read()\n",
    "    file.close()\n",
    "    return text_data"
   ]
  },
  {
   "cell_type": "code",
   "execution_count": 142,
   "metadata": {},
   "outputs": [],
   "source": [
    "# Data Cleaning Step\n",
    "# Turn a document into tokens after processing it.\n",
    "\n",
    "def clean_document(document,m_type=\"mlp\"):\n",
    "    document=document.lower()\n",
    "    #split the review into tokens by white space\n",
    "    tokens=document.split()\n",
    "    # regex for char filtering\n",
    "    re_punc = re.compile('[%s]' % re.escape(string.punctuation))\n",
    "    # remove punctuation from each word\n",
    "    tokens = [re_punc.sub('', w) for w in tokens]\n",
    "    # removetokens which are not alphabetis\n",
    "    if m_type==\"mlp\":\n",
    "        tokens = [word for word in tokens if word.isalpha()]\n",
    "        # remove stop words\n",
    "        ##  A stop word is a commonly used word (such as “the”, “a”, “an”, “in”)\n",
    "        stop_words = set(stopwords.words('english'))\n",
    "        tokens = [w for w in tokens if not w in stop_words]\n",
    "        # remove out short tokens\n",
    "        tokens = [word for word in tokens if len(word) > 1]\n",
    "    \n",
    "    return tokens"
   ]
  },
  {
   "cell_type": "code",
   "execution_count": 143,
   "metadata": {},
   "outputs": [
    {
     "name": "stdout",
     "output_type": "stream",
     "text": [
      "['every', 'movie', 'comes', 'along', 'suspect', 'studio', 'every', 'indication', 'stinker', 'everybodys', 'surprise', 'perhaps', 'even', 'studio', 'film', 'becomes', 'critical', 'darling', 'mtv', 'films', 'election', 'high', 'school', 'comedy', 'starring', 'matthew', 'broderick', 'reese', 'witherspoon', 'current', 'example', 'anybody', 'know', 'film', 'existed', 'week', 'opened', 'plot', 'deceptively', 'simple', 'george', 'washington', 'carver', 'high', 'school', 'student', 'elections', 'tracy', 'flick', 'reese', 'witherspoon', 'overachiever', 'hand', 'raised', 'nearly', 'every', 'question', 'way', 'way', 'high', 'mr', 'matthew', 'broderick', 'sick', 'megalomaniac', 'student', 'encourages', 'paul', 'popularbutslow', 'jock', 'run', 'pauls', 'nihilistic', 'sister', 'jumps', 'race', 'well', 'personal', 'reasons', 'dark', 'side', 'sleeper', 'success', 'expectations', 'low', 'going', 'fact', 'quality', 'stuff', 'made', 'reviews', 'even', 'enthusiastic', 'right', 'cant', 'help', 'going', 'baggage', 'glowing', 'reviews', 'contrast', 'negative', 'baggage', 'reviewers', 'likely', 'election', 'good', 'film', 'live', 'hype', 'makes', 'election', 'disappointing', 'contains', 'significant', 'plot', 'details', 'lifted', 'directly', 'rushmore', 'released', 'months', 'earlier', 'similarities', 'staggering', 'tracy', 'flick', 'election', 'president', 'extraordinary', 'number', 'clubs', 'involved', 'school', 'play', 'max', 'fischer', 'rushmore', 'president', 'extraordinary', 'number', 'clubs', 'involved', 'school', 'play', 'significant', 'tension', 'election', 'potential', 'relationship', 'teacher', 'student', 'significant', 'tension', 'rushmore', 'potential', 'relationship', 'teacher', 'student', 'tracy', 'flick', 'single', 'parent', 'home', 'contributed', 'drive', 'max', 'fischer', 'single', 'parent', 'home', 'contributed', 'drive', 'male', 'bumbling', 'adult', 'election', 'matthew', 'broderick', 'pursues', 'extramarital', 'affair', 'gets', 'caught', 'whole', 'life', 'ruined', 'even', 'gets', 'bee', 'sting', 'male', 'bumbling', 'adult', 'rushmore', 'bill', 'murray', 'pursues', 'extramarital', 'affair', 'gets', 'caught', 'whole', 'life', 'ruined', 'gets', 'several', 'bee', 'stings', 'happened', 'individual', 'screenplay', 'rushmore', 'novel', 'election', 'contain', 'many', 'significant', 'plot', 'points', 'yet', 'films', 'probably', 'even', 'aware', 'made', 'two', 'different', 'studios', 'genre', 'high', 'school', 'geeks', 'revenge', 'movie', 'hadnt', 'fully', 'formed', 'yet', 'even', 'strengths', 'election', 'rely', 'upon', 'fantastic', 'performances', 'broderick', 'witherspoon', 'newcomer', 'jessica', 'campbell', 'pauls', 'antisocial', 'sister', 'tammy', 'broderick', 'playing', 'mr', 'rooney', 'role', 'ferris', 'bueller', 'seems', 'fun', 'hes', 'since', 'witherspoon', 'revelation', 'early', 'year', 'comedy', 'teenagers', 'little', 'clout', 'money', 'witherspoon', 'deserves', 'oscar', 'nomination', 'campbells', 'character', 'gets', 'going', 'like', 'fantastic', 'speech', 'gymnasium', 'youre', 'one', 'thing', 'thats', 'bothering', 'since', 'ive', 'seen', 'extraordinary', 'amount', 'sexuality', 'film', 'suppose', 'coming', 'mtv', 'films', 'expect', 'less', 'film', 'starts', 'light', 'airy', 'like', 'sitcom', 'screws', 'tighten', 'tensions', 'mount', 'alexander', 'payne', 'decides', 'add', 'elements', 'frankly', 'distract', 'story', 'bad', 'enough', 'mr', 'doesnt', 'like', 'tracys', 'determination', 'win', 'costs', 'throw', 'studentteacher', 'relationship', 'even', 'theres', 'logical', 'reason', 'mr', 'affair', 'theres', 'lot', 'like', 'election', 'plot', 'similarities', 'rushmore', 'tonal', 'nosedive', 'takes', 'gets', 'explicitly', 'sexdriven', 'mark', 'disappointment']\n"
     ]
    }
   ],
   "source": [
    "filename=\"txt_sentoken/pos/cv001_18431.txt\"\n",
    "text=load_document(filename)\n",
    "tokens=clean_document(text)\n",
    "print(tokens)"
   ]
  },
  {
   "cell_type": "code",
   "execution_count": 144,
   "metadata": {},
   "outputs": [],
   "source": [
    "# Function to save list to file\n",
    "def save_list(lines, filename):\n",
    "    data = '\\n'.join(lines)\n",
    "    file = open(filename, 'w')\n",
    "    file.write(data)\n",
    "    file.close()"
   ]
  },
  {
   "cell_type": "code",
   "execution_count": 145,
   "metadata": {},
   "outputs": [],
   "source": [
    "# load doc, clean and return line of tokens\n",
    "def doc_to_line(filename, vocab):\n",
    "    # load the doc\n",
    "    doc = load_doc(filename)\n",
    "    # clean doc\n",
    "    tokens = clean_doc(doc)\n",
    "    # filter by vocab\n",
    "    tokens = [w for w in tokens if w in vocab]\n",
    "    return ' '.join(tokens)"
   ]
  },
  {
   "cell_type": "code",
   "execution_count": 146,
   "metadata": {},
   "outputs": [],
   "source": [
    "# directory='txt_sentoken/neg'\n",
    "# for file in os.listdir(directory):\n",
    "#     if file.endswith(\".txt\"):\n",
    "#         doc=load_document(directory+'/'+file)\n",
    "#         print(\"Loaded Document %s\" % file)"
   ]
  },
  {
   "cell_type": "markdown",
   "metadata": {},
   "source": [
    "# Develop Vocabulary"
   ]
  },
  {
   "cell_type": "code",
   "execution_count": 147,
   "metadata": {},
   "outputs": [],
   "source": [
    "# Function to Load Document and then add the words to Vocab\n",
    "def document_to_vocabulary(fileName,vocab):\n",
    "    document=load_document(fileName)\n",
    "    tokens=clean_document(document)\n",
    "    vocab.update(tokens)"
   ]
  },
  {
   "cell_type": "code",
   "execution_count": 148,
   "metadata": {},
   "outputs": [],
   "source": [
    "# Function to Process All the documents in the Directory\n",
    "def process_documents(directory, vocab):\n",
    "    count=0\n",
    "    for fileName in os.listdir(directory):\n",
    "        if fileName.endswith(\".txt\"):\n",
    "            path=directory+\"/\"+fileName\n",
    "            document_to_vocabulary(path,vocab)\n",
    "            count+=1\n",
    "    print(\"Total Number Of Files Processed In {d} = {n}\".format(d=directory,n=count))"
   ]
  },
  {
   "cell_type": "code",
   "execution_count": 149,
   "metadata": {},
   "outputs": [
    {
     "name": "stdout",
     "output_type": "stream",
     "text": [
      "Total Number Of Files Processed In txt_sentoken/neg = 1000\n",
      "Total Number Of Files Processed In txt_sentoken/pos = 1000\n"
     ]
    }
   ],
   "source": [
    "# Main Function To Process the documents \n",
    "# Global Varaible To Store The Count \n",
    "\n",
    "vocab = Counter()\n",
    "\n",
    "def develop_vocab():\n",
    "    global vocab\n",
    "#     vocab= Counter()\n",
    "    process_documents('txt_sentoken/neg', vocab)\n",
    "    process_documents('txt_sentoken/pos', vocab)\n",
    "    \n",
    "    \n",
    "    min_occur = 2\n",
    "    \n",
    "    tokens = [k for k,c in vocab.items() if c >= min_occur]\n",
    "    save_list(tokens,\"vocab.txt\")\n",
    "\n",
    "develop_vocab()"
   ]
  },
  {
   "cell_type": "code",
   "execution_count": 150,
   "metadata": {},
   "outputs": [
    {
     "name": "stdout",
     "output_type": "stream",
     "text": [
      "TRUE\n"
     ]
    }
   ],
   "source": [
    "#Check Whether The File is Create or not \n",
    "if \"vocab.txt\" in os.listdir():\n",
    "    print(\"TRUE\")"
   ]
  },
  {
   "cell_type": "code",
   "execution_count": 151,
   "metadata": {},
   "outputs": [
    {
     "name": "stdout",
     "output_type": "stream",
     "text": [
      "Total Length Of The Vocabulary 46557\n"
     ]
    }
   ],
   "source": [
    "#print Length of the Vocabulary\n",
    "print(\"Total Length Of The Vocabulary %s\" %len(vocab))"
   ]
  },
  {
   "cell_type": "code",
   "execution_count": 152,
   "metadata": {},
   "outputs": [
    {
     "name": "stdout",
     "output_type": "stream",
     "text": [
      "[('film', 8860), ('one', 5521), ('movie', 5440), ('like', 3553), ('even', 2555), ('good', 2320), ('time', 2283), ('story', 2118), ('films', 2102), ('would', 2042), ('much', 2024), ('also', 1965), ('characters', 1947), ('get', 1921), ('character', 1906), ('two', 1825), ('first', 1768), ('see', 1730), ('well', 1694), ('way', 1668), ('make', 1590), ('really', 1563), ('little', 1491), ('life', 1472), ('plot', 1451), ('people', 1420), ('movies', 1416), ('could', 1395), ('bad', 1374), ('scene', 1373), ('never', 1364), ('best', 1301), ('new', 1277), ('many', 1268), ('doesnt', 1267), ('man', 1266), ('scenes', 1265), ('dont', 1210), ('know', 1207), ('hes', 1150), ('great', 1141), ('another', 1111), ('love', 1089), ('action', 1078), ('go', 1075), ('us', 1065), ('director', 1056), ('something', 1048), ('end', 1047), ('still', 1038)]\n"
     ]
    }
   ],
   "source": [
    "# 50 Most Common Words\n",
    "print(vocab.most_common(50))"
   ]
  },
  {
   "cell_type": "markdown",
   "metadata": {},
   "source": [
    "# Top Ten Most Common Words"
   ]
  },
  {
   "cell_type": "code",
   "execution_count": 153,
   "metadata": {},
   "outputs": [
    {
     "data": {
      "text/plain": [
       "<matplotlib.axes._subplots.AxesSubplot at 0x7fb323c98438>"
      ]
     },
     "execution_count": 153,
     "metadata": {},
     "output_type": "execute_result"
    },
    {
     "data": {
      "image/png": "[encoded data removed]",
      "text/plain": [
       "<Figure size 1152x432 with 1 Axes>"
      ]
     },
     "metadata": {
      "needs_background": "light"
     },
     "output_type": "display_data"
    }
   ],
   "source": [
    "vocabmcdf=pd.DataFrame(data=vocab.most_common(10),columns=['Word','Count'])\n",
    "plt.figure(figsize=(16,6))\n",
    "sns.barplot(x='Word',y=\"Count\",data=vocabmcdf)"
   ]
  },
  {
   "cell_type": "code",
   "execution_count": 154,
   "metadata": {},
   "outputs": [
    {
     "name": "stdout",
     "output_type": "stream",
     "text": [
      "Number of Words in Vocab.txt is 27139\n"
     ]
    }
   ],
   "source": [
    "#Load The Vocabulary from Vocab.txt File.\n",
    "\n",
    "vocab_data=load_document(\"vocab.txt\")\n",
    "vocab_data=vocab_data.split()\n",
    "vocab=set(vocab_data)\n",
    "print(\"Number of Words in Vocab.txt is %s\" %len(vocab))"
   ]
  },
  {
   "cell_type": "markdown",
   "metadata": {},
   "source": [
    "# Prepare Review For Modeling"
   ]
  },
  {
   "cell_type": "markdown",
   "metadata": {},
   "source": [
    "Creating Negative.txt and Positive.txt from all the review documents."
   ]
  },
  {
   "cell_type": "code",
   "execution_count": 155,
   "metadata": {},
   "outputs": [],
   "source": [
    "def process_review_documents(directory,vocab,train=False,op=0,m_type=\"mlp\"):\n",
    "    lines=[]\n",
    "    count=0\n",
    "    for file in os.listdir(directory):\n",
    "#         print(file)\n",
    "        if file.endswith(\".txt\"):\n",
    "            if not op:\n",
    "                if train and file.startswith(\"cv9\"):\n",
    "                    continue\n",
    "                if not train and not file.startswith(\"cv9\"):\n",
    "                    continue\n",
    "            count=count+1\n",
    "            file_path=directory + '/' + file\n",
    "            lines_in_file=load_document(file_path)\n",
    "            tokens=clean_document(lines_in_file,m_type)\n",
    "            tokens=[w for w in tokens if w in vocab]\n",
    "            line=' '.join(tokens)\n",
    "        lines.append(line)\n",
    "#         print(lines)\n",
    "    print(\"Number of File Processed in {d} is {n}\".format(d=directory,n=count))\n",
    "    return lines"
   ]
  },
  {
   "cell_type": "markdown",
   "metadata": {},
   "source": [
    "# Negative lines from all the documents from \"txt_sentoken/neg\""
   ]
  },
  {
   "cell_type": "code",
   "execution_count": 156,
   "metadata": {},
   "outputs": [
    {
     "name": "stdout",
     "output_type": "stream",
     "text": [
      "Number of File Processed in txt_sentoken/neg is 1000\n",
      "Length of the Negative.txt File is 2259871 \n"
     ]
    }
   ],
   "source": [
    "# Negative lines from all the documents from \"txt_sentoken/neg\"\n",
    "neg_lines=process_review_documents(\"txt_sentoken/neg\",vocab_data,op=1)\n",
    "save_list(neg_lines,\"negative.txt\")\n",
    "\n",
    "#Load Negative Lines From negative.txt\n",
    "negative_lines=load_document(\"negative.txt\")\n",
    "print(\"Length of the Negative.txt File is %s \" %len(negative_lines))\n"
   ]
  },
  {
   "cell_type": "code",
   "execution_count": 74,
   "metadata": {},
   "outputs": [
    {
     "name": "stdout",
     "output_type": "stream",
     "text": [
      "studio attracted many weird bizarre people gates wonder film life death studio centers one boring cl\n"
     ]
    }
   ],
   "source": [
    "print(negative_lines[:100])"
   ]
  },
  {
   "cell_type": "markdown",
   "metadata": {},
   "source": [
    "# Positive lines from all the documents from \"txt_sentoken/pos\""
   ]
  },
  {
   "cell_type": "code",
   "execution_count": 75,
   "metadata": {},
   "outputs": [
    {
     "name": "stdout",
     "output_type": "stream",
     "text": [
      "Number of File Processed in txt_sentoken/pos is 1000\n",
      "Length of the Positive.txt File is 2408780 \n"
     ]
    }
   ],
   "source": [
    "# Negative lines from all the documents from \"txt_sentoken/neg\"\n",
    "pos_lines=process_review_documents(\"txt_sentoken/pos\",vocab_data,op=1)\n",
    "save_list(pos_lines,\"positive.txt\")\n",
    "\n",
    "#Load Negative Lines From negative.txr\n",
    "positive_lines=load_document(\"positive.txt\")\n",
    "print(\"Length of the Positive.txt File is %s \" %len(positive_lines))\n"
   ]
  },
  {
   "cell_type": "code",
   "execution_count": 157,
   "metadata": {},
   "outputs": [
    {
     "name": "stdout",
     "output_type": "stream",
     "text": [
      "david lynchs blue velvet begins ends colorful bright shots flowers happy americans seemingly perfect\n"
     ]
    }
   ],
   "source": [
    "print(positive_lines[:100])"
   ]
  },
  {
   "cell_type": "code",
   "execution_count": 158,
   "metadata": {},
   "outputs": [],
   "source": [
    "def load_clean_dataset(vocab,op,train=False,m_type=\"mlp\"):\n",
    "    neg=process_review_documents('txt_sentoken/neg', vocab,train,op,m_type)\n",
    "    pos=process_review_documents('txt_sentoken/pos', vocab,train,op,m_type)\n",
    "    docs=neg+pos\n",
    "    print(\"Length of   Negative Files = {n} \\t Positive Files= {p} \\t Doc = {d} \".format(n=len(neg),p=len(pos),d=len(docs)))\n",
    "    labels =[0 for i in range(len(neg))] + [1 for j in range(len(pos))]\n",
    "    return docs,labels\n",
    "    "
   ]
  },
  {
   "cell_type": "markdown",
   "metadata": {},
   "source": [
    "# Train Test Split\n",
    "\n",
    "Dividing 90% 10% Ration 1000 Review Document"
   ]
  },
  {
   "cell_type": "markdown",
   "metadata": {},
   "source": [
    "# Load Training DataSet"
   ]
  },
  {
   "cell_type": "code",
   "execution_count": 159,
   "metadata": {},
   "outputs": [
    {
     "name": "stdout",
     "output_type": "stream",
     "text": [
      "Number of File Processed in txt_sentoken/neg is 900\n",
      "Number of File Processed in txt_sentoken/pos is 900\n",
      "Length of   Negative Files = 900 \t Positive Files= 900 \t Doc = 1800 \n"
     ]
    }
   ],
   "source": [
    "# load all training reviews\n",
    "train_docs, ytrain = load_clean_dataset(vocab,train=True,op=0)\n"
   ]
  },
  {
   "cell_type": "code",
   "execution_count": 160,
   "metadata": {},
   "outputs": [
    {
     "name": "stdout",
     "output_type": "stream",
     "text": [
      "1800\n"
     ]
    }
   ],
   "source": [
    "print(len(train_docs))"
   ]
  },
  {
   "cell_type": "code",
   "execution_count": 161,
   "metadata": {},
   "outputs": [
    {
     "name": "stdout",
     "output_type": "stream",
     "text": [
      "1800\n"
     ]
    }
   ],
   "source": [
    "print(len(ytrain))"
   ]
  },
  {
   "cell_type": "markdown",
   "metadata": {},
   "source": [
    "# Load Test DataSet"
   ]
  },
  {
   "cell_type": "code",
   "execution_count": 162,
   "metadata": {},
   "outputs": [
    {
     "name": "stdout",
     "output_type": "stream",
     "text": [
      "Number of File Processed in txt_sentoken/neg is 100\n",
      "Number of File Processed in txt_sentoken/pos is 100\n",
      "Length of   Negative Files = 100 \t Positive Files= 100 \t Doc = 200 \n"
     ]
    }
   ],
   "source": [
    "test_docs, ytest = load_clean_dataset(vocab,train=False,op=0)"
   ]
  },
  {
   "cell_type": "markdown",
   "metadata": {},
   "source": [
    "# Keras Tokenizer To Implement Bag Of Words"
   ]
  },
  {
   "cell_type": "code",
   "execution_count": 163,
   "metadata": {},
   "outputs": [],
   "source": [
    "# Function To Tokenize\n",
    "def create_tokenizer(lines):\n",
    "    tokenizer=Tokenizer()\n",
    "    tokenizer.fit_on_texts(lines)\n",
    "    return tokenizer\n"
   ]
  },
  {
   "cell_type": "code",
   "execution_count": 164,
   "metadata": {},
   "outputs": [],
   "source": [
    "# create the tokenizer\n",
    "tokenizer = create_tokenizer(train_docs)"
   ]
  },
  {
   "cell_type": "code",
   "execution_count": 165,
   "metadata": {},
   "outputs": [
    {
     "name": "stdout",
     "output_type": "stream",
     "text": [
      "(1800, 26897) (200, 26897)\n"
     ]
    }
   ],
   "source": [
    "# encode data\n",
    "Xtrain = tokenizer.texts_to_matrix(train_docs, mode='freq')\n",
    "Xtest = tokenizer.texts_to_matrix(test_docs, mode='freq')\n",
    "print(Xtrain.shape, Xtest.shape)"
   ]
  },
  {
   "cell_type": "markdown",
   "metadata": {},
   "source": [
    "# Benchmark Model"
   ]
  },
  {
   "cell_type": "code",
   "execution_count": 166,
   "metadata": {},
   "outputs": [
    {
     "data": {
      "text/plain": [
       "26897"
      ]
     },
     "execution_count": 166,
     "metadata": {},
     "output_type": "execute_result"
    }
   ],
   "source": [
    "n_words=Xtest.shape[1]\n",
    "n_words"
   ]
  },
  {
   "cell_type": "code",
   "execution_count": 167,
   "metadata": {},
   "outputs": [],
   "source": [
    "# define the model\n",
    "def define_model(n_words):\n",
    "    # define network\n",
    "    model = Sequential()\n",
    "    model.add(Dense(25, input_shape=(n_words,), activation='relu'))\n",
    "    model.add(Dense(1, activation='sigmoid'))\n",
    "    # compile network\n",
    "    model.compile(loss='binary_crossentropy', optimizer='adam', metrics=['accuracy'])\n",
    "    # summarize defined model\n",
    "    model.summary()\n",
    "    plot_model(model, to_file='model.png', show_shapes=True)\n",
    "    return model"
   ]
  },
  {
   "cell_type": "code",
   "execution_count": 168,
   "metadata": {},
   "outputs": [
    {
     "name": "stdout",
     "output_type": "stream",
     "text": [
      "_________________________________________________________________\n",
      "Layer (type)                 Output Shape              Param #   \n",
      "=================================================================\n",
      "dense_7 (Dense)              (None, 25)                672450    \n",
      "_________________________________________________________________\n",
      "dense_8 (Dense)              (None, 1)                 26        \n",
      "=================================================================\n",
      "Total params: 672,476\n",
      "Trainable params: 672,476\n",
      "Non-trainable params: 0\n",
      "_________________________________________________________________\n",
      "Epoch 1/10\n",
      " - 2s - loss: 0.6925 - acc: 0.4944\n",
      "Epoch 2/10\n",
      " - 1s - loss: 0.6882 - acc: 0.5678\n",
      "Epoch 3/10\n",
      " - 1s - loss: 0.6810 - acc: 0.5606\n",
      "Epoch 4/10\n",
      " - 1s - loss: 0.6703 - acc: 0.7344\n",
      "Epoch 5/10\n",
      " - 1s - loss: 0.6568 - acc: 0.7372\n",
      "Epoch 6/10\n",
      " - 1s - loss: 0.6408 - acc: 0.7761\n",
      "Epoch 7/10\n",
      " - 1s - loss: 0.6220 - acc: 0.8589\n",
      "Epoch 8/10\n",
      " - 1s - loss: 0.6012 - acc: 0.8911\n",
      "Epoch 9/10\n",
      " - 1s - loss: 0.5790 - acc: 0.9172\n",
      "Epoch 10/10\n",
      " - 1s - loss: 0.5558 - acc: 0.9278\n"
     ]
    },
    {
     "data": {
      "text/plain": [
       "<keras.callbacks.History at 0x7fb323ba2780>"
      ]
     },
     "execution_count": 168,
     "metadata": {},
     "output_type": "execute_result"
    }
   ],
   "source": [
    "#fit network\n",
    "model=define_model(n_words)\n",
    "model.fit(Xtrain, ytrain, epochs=10, verbose=2)\n"
   ]
  },
  {
   "cell_type": "code",
   "execution_count": 169,
   "metadata": {},
   "outputs": [
    {
     "data": {
      "image/svg+xml": [
       "<svg height=\"191pt\" viewBox=\"0.00 0.00 160.00 191.00\" width=\"160pt\" xmlns=\"http://www.w3.org/2000/svg\" xmlns:xlink=\"http://www.w3.org/1999/xlink\">\n",
       "<g class=\"graph\" id=\"graph0\" transform=\"scale(1 1) rotate(0) translate(4 187)\">\n",
       "<title>G</title>\n",
       "<polygon fill=\"#ffffff\" points=\"-4,4 -4,-187 156,-187 156,4 -4,4\" stroke=\"transparent\"/>\n",
       "<!-- 140407375275008 -->\n",
       "<g class=\"node\" id=\"node1\">\n",
       "<title>140407375275008</title>\n",
       "<polygon fill=\"none\" points=\"12,-73.5 12,-109.5 140,-109.5 140,-73.5 12,-73.5\" stroke=\"#000000\"/>\n",
       "<text fill=\"#000000\" font-family=\"Times,serif\" font-size=\"14.00\" text-anchor=\"middle\" x=\"76\" y=\"-87.8\">dense_7: Dense</text>\n",
       "</g>\n",
       "<!-- 140407375147584 -->\n",
       "<g class=\"node\" id=\"node2\">\n",
       "<title>140407375147584</title>\n",
       "<polygon fill=\"none\" points=\"12,-.5 12,-36.5 140,-36.5 140,-.5 12,-.5\" stroke=\"#000000\"/>\n",
       "<text fill=\"#000000\" font-family=\"Times,serif\" font-size=\"14.00\" text-anchor=\"middle\" x=\"76\" y=\"-14.8\">dense_8: Dense</text>\n",
       "</g>\n",
       "<!-- 140407375275008&#45;&gt;140407375147584 -->\n",
       "<g class=\"edge\" id=\"edge2\">\n",
       "<title>140407375275008-&gt;140407375147584</title>\n",
       "<path d=\"M76,-73.4551C76,-65.3828 76,-55.6764 76,-46.6817\" fill=\"none\" stroke=\"#000000\"/>\n",
       "<polygon fill=\"#000000\" points=\"79.5001,-46.5903 76,-36.5904 72.5001,-46.5904 79.5001,-46.5903\" stroke=\"#000000\"/>\n",
       "</g>\n",
       "<!-- 140407375148648 -->\n",
       "<g class=\"node\" id=\"node3\">\n",
       "<title>140407375148648</title>\n",
       "<polygon fill=\"none\" points=\"0,-146.5 0,-182.5 152,-182.5 152,-146.5 0,-146.5\" stroke=\"#000000\"/>\n",
       "<text fill=\"#000000\" font-family=\"Times,serif\" font-size=\"14.00\" text-anchor=\"middle\" x=\"76\" y=\"-160.8\">140407375148648</text>\n",
       "</g>\n",
       "<!-- 140407375148648&#45;&gt;140407375275008 -->\n",
       "<g class=\"edge\" id=\"edge1\">\n",
       "<title>140407375148648-&gt;140407375275008</title>\n",
       "<path d=\"M76,-146.4551C76,-138.3828 76,-128.6764 76,-119.6817\" fill=\"none\" stroke=\"#000000\"/>\n",
       "<polygon fill=\"#000000\" points=\"79.5001,-119.5903 76,-109.5904 72.5001,-119.5904 79.5001,-119.5903\" stroke=\"#000000\"/>\n",
       "</g>\n",
       "</g>\n",
       "</svg>"
      ],
      "text/plain": [
       "<IPython.core.display.SVG object>"
      ]
     },
     "execution_count": 169,
     "metadata": {},
     "output_type": "execute_result"
    }
   ],
   "source": [
    "#Plot of The Defined model\n",
    "SVG(model_to_dot(model).create(prog='dot', format='svg'))"
   ]
  },
  {
   "cell_type": "code",
   "execution_count": 170,
   "metadata": {},
   "outputs": [
    {
     "name": "stdout",
     "output_type": "stream",
     "text": [
      "Test Loss: 60.119239\n",
      "Test Accuracy: 83.500000\n"
     ]
    }
   ],
   "source": [
    "# evaluate\n",
    "loss, acc  = model.evaluate(Xtest, ytest, verbose=0)\n",
    "print('Test Loss: %f' % (loss*100))\n",
    "print('Test Accuracy: %f' % (acc*100))"
   ]
  },
  {
   "cell_type": "markdown",
   "metadata": {},
   "source": [
    "# Predicting Sentiment For Reviews For Benchmark Model.\n"
   ]
  },
  {
   "cell_type": "code",
   "execution_count": 171,
   "metadata": {},
   "outputs": [],
   "source": [
    "def predict_sentiment(review, vocab, tokenizer, model):\n",
    "    tokens = clean_document(review)\n",
    "    tokens = [w for w in tokens if w in vocab]\n",
    "    line = ' '.join(tokens)\n",
    "    print(line)\n",
    "    encoded = tokenizer.texts_to_matrix([line], mode='freq')\n",
    "    yhat = model.predict(encoded, verbose=0)\n",
    "    percent_pos = yhat[0,0]\n",
    "    if percent_pos < 0.5:\n",
    "        return (1-percent_pos), 'NEGATIVE'\n",
    "    else:\n",
    "            if percent_pos >0.5 and percent_pos<0.505:\n",
    "                return percent_pos, 'NEUTRAL'\n",
    "            else:\n",
    "                return percent_pos, 'POSITIVE'"
   ]
  },
  {
   "cell_type": "code",
   "execution_count": 172,
   "metadata": {
    "scrolled": true
   },
   "outputs": [
    {
     "name": "stdout",
     "output_type": "stream",
     "text": [
      "ok movie one time watch\n",
      "Review: [It is an ok movie one time watch]\n",
      "Sentiment: NEGATIVE (65.000%)\n",
      "best movie ever great recommend\n",
      "Review: [Best movie ever! It was great, I recommend it.]\n",
      "Sentiment: POSITIVE (61.762%)\n",
      "bad movie\n",
      "Review: [This is a bad movie.]\n",
      "Sentiment: NEGATIVE (98.445%)\n",
      "average one one time watch\n",
      "Review: [An above average one for one time watch.]\n",
      "Sentiment: NEGATIVE (50.590%)\n",
      "give break top movie time even close bad guy movie one worst characters ever seen good flick tried build love peter parker girl sudden cant please movie become cult movie get good rating people afraid speak truth movie wasnt feel sequel might better dont build character much\n",
      "Review: [Give me a break. Top 200 movie of all time? Not even close. The bad guy in the movie was one of the worst characters I ever seen. It just was not a very good flick. It tried to build up the love between Peter Parker and the girl and then all of a sudden, he just cant be with her? Please. This movie will become a cult movie and will get good rating because people will be afraid to speak the truth, which was, this movie wasnt very good.However, I feel that the sequel might be better because they dont have to build up the character so much..]\n",
      "Sentiment: NEGATIVE (71.368%)\n",
      "spiderman ok greatest comic book movie still prefer original batman movie superman daredevil movie spiderman cool scenes overall disappointed tobey pretty good kirsten liked virgin suicide wasnt digging role fell flat opinion\n",
      "Review: [Spiderman was just ok. Its not the greatest comic book movie. I still prefer the original Batman movie, Superman and The Daredevil movie. Spiderman had a few cool scenes but overall I was disappointed. Tobey was pretty good. Kirsten, uhh, liked her in Virgin Suicide, wasnt digging her in this role. Fell flat in my opinion.]\n",
      "Sentiment: NEGATIVE (57.176%)\n"
     ]
    }
   ],
   "source": [
    "#\n",
    "# MLP\n",
    "#\n",
    "m_type=\"mlp\"\n",
    "\n",
    "text = 'It is an ok movie one time watch'\n",
    "percent, sentiment = predict_sentiment(text, vocab, tokenizer, model)\n",
    "print('Review: [%s]\\nSentiment: %s (%.3f%%)' % (text, sentiment, percent*100))\n",
    "\n",
    "text = 'Best movie ever! It was great, I recommend it.'\n",
    "percent, sentiment = predict_sentiment(text, vocab, tokenizer, model)\n",
    "print('Review: [%s]\\nSentiment: %s (%.3f%%)' % (text, sentiment, percent*100))\n",
    "# test negative text\n",
    "\n",
    "text = 'This is a bad movie.'\n",
    "percent, sentiment = predict_sentiment(text, vocab, tokenizer, model)\n",
    "print('Review: [%s]\\nSentiment: %s (%.3f%%)' % (text, sentiment, percent*100))\n",
    "\n",
    "text = 'An above average one for one time watch.'\n",
    "percent, sentiment = predict_sentiment(text, vocab, tokenizer, model)\n",
    "print('Review: [%s]\\nSentiment: %s (%.3f%%)' % (text, sentiment, percent*100))\n",
    "\n",
    "\n",
    "text = 'Give me a break. Top 200 movie of all time? Not even close. The bad guy in the movie was one of the worst characters \\\n",
    "I ever seen. It just was not a very good flick. It tried to build up the love between Peter Parker and the girl and then all of a sudden, he just \\\n",
    "cant be with her? Please. This movie will become a cult movie and will get good rating because people will be afraid to speak the truth, which was, this movie wasnt very good.\\\n",
    "However, I feel that the sequel might be better because they dont have to build up the character so much..'\n",
    "percent, sentiment = predict_sentiment(text, vocab, tokenizer, model)\n",
    "print('Review: [%s]\\nSentiment: %s (%.3f%%)' % (text, sentiment, percent*100))\n",
    "\n",
    "text = 'Spiderman was just ok. Its not the greatest comic book movie. I still prefer the original Batman movie, Superman and The Daredevil movie. Spiderman had a few cool scenes \\\n",
    "but overall I was disappointed. Tobey was pretty good. Kirsten, uhh, liked her in Virgin Suicide, \\\n",
    "wasnt digging her in this role. Fell flat in my opinion.'\n",
    "percent, sentiment = predict_sentiment(text, vocab, tokenizer, model)\n",
    "print('Review: [%s]\\nSentiment: %s (%.3f%%)' % (text, sentiment, percent*100))"
   ]
  },
  {
   "cell_type": "markdown",
   "metadata": {},
   "source": [
    "# CNN with Embedding Layer Model\n",
    "\n",
    "I will test different options to see which gives the best result on this problem ."
   ]
  },
  {
   "cell_type": "markdown",
   "metadata": {},
   "source": [
    "CNN With Embedding Layer"
   ]
  },
  {
   "cell_type": "code",
   "execution_count": 173,
   "metadata": {},
   "outputs": [
    {
     "name": "stdout",
     "output_type": "stream",
     "text": [
      "Number of File Processed in txt_sentoken/neg is 900\n",
      "Number of File Processed in txt_sentoken/pos is 900\n",
      "Length of   Negative Files = 900 \t Positive Files= 900 \t Doc = 1800 \n",
      "Number of File Processed in txt_sentoken/neg is 100\n",
      "Number of File Processed in txt_sentoken/pos is 100\n",
      "Length of   Negative Files = 100 \t Positive Files= 100 \t Doc = 200 \n"
     ]
    }
   ],
   "source": [
    "#Load Train And test Set for Embedding \n",
    "\n",
    "cnn_train_docs, ytrain = load_clean_dataset(vocab, train=True,op=0,m_type=\"cnn\")\n",
    "cnn_test_docs, ytest = load_clean_dataset(vocab,train=False,op=0,m_type=\"cnn\")"
   ]
  },
  {
   "cell_type": "code",
   "execution_count": 174,
   "metadata": {},
   "outputs": [
    {
     "name": "stdout",
     "output_type": "stream",
     "text": [
      "Maximum length: 1319\n"
     ]
    }
   ],
   "source": [
    "max_length = max([len(s.split()) for s in cnn_train_docs])\n",
    "print('Maximum length: %d' % max_length)"
   ]
  },
  {
   "cell_type": "code",
   "execution_count": 175,
   "metadata": {},
   "outputs": [],
   "source": [
    "def encode_documents(tokenizer ,max_length,docs):\n",
    "    encoded=tokenizer.texts_to_sequences(docs)\n",
    "    padded=pad_sequences(encoded,maxlen=max_length,padding='post')\n",
    "    return padded"
   ]
  },
  {
   "cell_type": "code",
   "execution_count": 176,
   "metadata": {},
   "outputs": [],
   "source": [
    "def define_embed_cnn_model(vocab_size, max_length):\n",
    "    model = Sequential()\n",
    "    model.add(Embedding(vocab_size, 100, input_length=max_length))\n",
    "    model.add(Conv1D(filters=32, kernel_size=8, activation='relu'))\n",
    "    model.add(MaxPooling1D(pool_size=2))\n",
    "    model.add(Flatten())\n",
    "    model.add(Dense(10, activation='relu'))\n",
    "    model.add(Dense(1, activation='sigmoid'))\n",
    "    # compile network\n",
    "    model.compile(loss='binary_crossentropy', optimizer='adam', metrics=['accuracy'])\n",
    "    \n",
    "#     filepath=\"weights.best.hdf5\"\n",
    "#     checkpoint = ModelCheckpoint(filepath, monitor= 'val_acc' , verbose=1, save_best_only=True,\n",
    "#     mode= max )\n",
    "#     callbacks_list = [checkpoint]\n",
    "    # summarize defined model\n",
    "    model.summary()\n",
    "    plot_model(model, to_file='cnn_model.png', show_shapes=True)\n",
    "#     return model,callbacks_list\n",
    "    return model"
   ]
  },
  {
   "cell_type": "code",
   "execution_count": 177,
   "metadata": {},
   "outputs": [
    {
     "name": "stdout",
     "output_type": "stream",
     "text": [
      "Vocabulary Size 26897\n"
     ]
    }
   ],
   "source": [
    "cnn_tokenizer=create_tokenizer(cnn_train_docs)\n",
    "vocabulary_size=len(cnn_tokenizer.word_index)+1\n",
    "print(\"Vocabulary Size %d\"%vocabulary_size)"
   ]
  },
  {
   "cell_type": "code",
   "execution_count": 178,
   "metadata": {},
   "outputs": [],
   "source": [
    "# def predict_sentiment(review, vocab, tokenizer,max_length, model):\n",
    "#     tokens = clean_document(review)\n",
    "#     tokens = [w for w in tokens if w in vocab]\n",
    "#     line = ' '.join(tokens)\n",
    "#     padded=encode_documents(tokenizer,max_length,[line])\n",
    "#     # predict sentiment\n",
    "#     yhat = model.predict(padded, verbose=0)\n",
    "#     percent_pos = yhat[0,0]\n",
    "#     print(percent_pos)\n",
    "#     if percent_pos < 0.49:\n",
    "#         return (1-percent_pos), 'NEGATIVE'\n",
    "#     else:\n",
    "#         if percent_pos >0.5 and percent_pos<0.5045:\n",
    "#             return percent_pos, 'NEUTRAL'\n",
    "#         else:\n",
    "#             return percent_pos, 'POSITIVE'"
   ]
  },
  {
   "cell_type": "code",
   "execution_count": 179,
   "metadata": {},
   "outputs": [
    {
     "name": "stdout",
     "output_type": "stream",
     "text": [
      "1800\n",
      "200\n"
     ]
    }
   ],
   "source": [
    "cnn_Xtrain = encode_documents(cnn_tokenizer, max_length, cnn_train_docs)\n",
    "cnn_Xtest = encode_documents(cnn_tokenizer, max_length, cnn_test_docs)\n",
    "\n",
    "print(len(cnn_Xtrain))\n",
    "print(len(cnn_Xtest))"
   ]
  },
  {
   "cell_type": "code",
   "execution_count": 180,
   "metadata": {},
   "outputs": [
    {
     "name": "stdout",
     "output_type": "stream",
     "text": [
      "_________________________________________________________________\n",
      "Layer (type)                 Output Shape              Param #   \n",
      "=================================================================\n",
      "embedding_5 (Embedding)      (None, 1319, 100)         2689700   \n",
      "_________________________________________________________________\n",
      "conv1d_5 (Conv1D)            (None, 1312, 32)          25632     \n",
      "_________________________________________________________________\n",
      "max_pooling1d_5 (MaxPooling1 (None, 656, 32)           0         \n",
      "_________________________________________________________________\n",
      "flatten_5 (Flatten)          (None, 20992)             0         \n",
      "_________________________________________________________________\n",
      "dense_9 (Dense)              (None, 10)                209930    \n",
      "_________________________________________________________________\n",
      "dense_10 (Dense)             (None, 1)                 11        \n",
      "=================================================================\n",
      "Total params: 2,925,273\n",
      "Trainable params: 2,925,273\n",
      "Non-trainable params: 0\n",
      "_________________________________________________________________\n"
     ]
    }
   ],
   "source": [
    "embed_cnn_model=define_embed_cnn_model(vocabulary_size,max_length)\n",
    "\n",
    "# embed_cnn_model,callb=define_embed_cnn_model(vocabulary_size,max_length)"
   ]
  },
  {
   "cell_type": "code",
   "execution_count": 181,
   "metadata": {},
   "outputs": [
    {
     "data": {
      "image/svg+xml": [
       "<svg height=\"483pt\" viewBox=\"0.00 0.00 262.00 483.00\" width=\"262pt\" xmlns=\"http://www.w3.org/2000/svg\" xmlns:xlink=\"http://www.w3.org/1999/xlink\">\n",
       "<g class=\"graph\" id=\"graph0\" transform=\"scale(1 1) rotate(0) translate(4 479)\">\n",
       "<title>G</title>\n",
       "<polygon fill=\"#ffffff\" points=\"-4,4 -4,-479 258,-479 258,4 -4,4\" stroke=\"transparent\"/>\n",
       "<!-- 140408622292608 -->\n",
       "<g class=\"node\" id=\"node1\">\n",
       "<title>140408622292608</title>\n",
       "<polygon fill=\"none\" points=\"25.5,-365.5 25.5,-401.5 228.5,-401.5 228.5,-365.5 25.5,-365.5\" stroke=\"#000000\"/>\n",
       "<text fill=\"#000000\" font-family=\"Times,serif\" font-size=\"14.00\" text-anchor=\"middle\" x=\"127\" y=\"-379.8\">embedding_5: Embedding</text>\n",
       "</g>\n",
       "<!-- 140408622287504 -->\n",
       "<g class=\"node\" id=\"node2\">\n",
       "<title>140408622287504</title>\n",
       "<polygon fill=\"none\" points=\"51.5,-292.5 51.5,-328.5 202.5,-328.5 202.5,-292.5 51.5,-292.5\" stroke=\"#000000\"/>\n",
       "<text fill=\"#000000\" font-family=\"Times,serif\" font-size=\"14.00\" text-anchor=\"middle\" x=\"127\" y=\"-306.8\">conv1d_5: Conv1D</text>\n",
       "</g>\n",
       "<!-- 140408622292608&#45;&gt;140408622287504 -->\n",
       "<g class=\"edge\" id=\"edge2\">\n",
       "<title>140408622292608-&gt;140408622287504</title>\n",
       "<path d=\"M127,-365.4551C127,-357.3828 127,-347.6764 127,-338.6817\" fill=\"none\" stroke=\"#000000\"/>\n",
       "<polygon fill=\"#000000\" points=\"130.5001,-338.5903 127,-328.5904 123.5001,-338.5904 130.5001,-338.5903\" stroke=\"#000000\"/>\n",
       "</g>\n",
       "<!-- 140408622190888 -->\n",
       "<g class=\"node\" id=\"node3\">\n",
       "<title>140408622190888</title>\n",
       "<polygon fill=\"none\" points=\"0,-219.5 0,-255.5 254,-255.5 254,-219.5 0,-219.5\" stroke=\"#000000\"/>\n",
       "<text fill=\"#000000\" font-family=\"Times,serif\" font-size=\"14.00\" text-anchor=\"middle\" x=\"127\" y=\"-233.8\">max_pooling1d_5: MaxPooling1D</text>\n",
       "</g>\n",
       "<!-- 140408622287504&#45;&gt;140408622190888 -->\n",
       "<g class=\"edge\" id=\"edge3\">\n",
       "<title>140408622287504-&gt;140408622190888</title>\n",
       "<path d=\"M127,-292.4551C127,-284.3828 127,-274.6764 127,-265.6817\" fill=\"none\" stroke=\"#000000\"/>\n",
       "<polygon fill=\"#000000\" points=\"130.5001,-265.5903 127,-255.5904 123.5001,-265.5904 130.5001,-265.5903\" stroke=\"#000000\"/>\n",
       "</g>\n",
       "<!-- 140408622243736 -->\n",
       "<g class=\"node\" id=\"node4\">\n",
       "<title>140408622243736</title>\n",
       "<polygon fill=\"none\" points=\"56.5,-146.5 56.5,-182.5 197.5,-182.5 197.5,-146.5 56.5,-146.5\" stroke=\"#000000\"/>\n",
       "<text fill=\"#000000\" font-family=\"Times,serif\" font-size=\"14.00\" text-anchor=\"middle\" x=\"127\" y=\"-160.8\">flatten_5: Flatten</text>\n",
       "</g>\n",
       "<!-- 140408622190888&#45;&gt;140408622243736 -->\n",
       "<g class=\"edge\" id=\"edge4\">\n",
       "<title>140408622190888-&gt;140408622243736</title>\n",
       "<path d=\"M127,-219.4551C127,-211.3828 127,-201.6764 127,-192.6817\" fill=\"none\" stroke=\"#000000\"/>\n",
       "<polygon fill=\"#000000\" points=\"130.5001,-192.5903 127,-182.5904 123.5001,-192.5904 130.5001,-192.5903\" stroke=\"#000000\"/>\n",
       "</g>\n",
       "<!-- 140408622285544 -->\n",
       "<g class=\"node\" id=\"node5\">\n",
       "<title>140408622285544</title>\n",
       "<polygon fill=\"none\" points=\"63,-73.5 63,-109.5 191,-109.5 191,-73.5 63,-73.5\" stroke=\"#000000\"/>\n",
       "<text fill=\"#000000\" font-family=\"Times,serif\" font-size=\"14.00\" text-anchor=\"middle\" x=\"127\" y=\"-87.8\">dense_9: Dense</text>\n",
       "</g>\n",
       "<!-- 140408622243736&#45;&gt;140408622285544 -->\n",
       "<g class=\"edge\" id=\"edge5\">\n",
       "<title>140408622243736-&gt;140408622285544</title>\n",
       "<path d=\"M127,-146.4551C127,-138.3828 127,-128.6764 127,-119.6817\" fill=\"none\" stroke=\"#000000\"/>\n",
       "<polygon fill=\"#000000\" points=\"130.5001,-119.5903 127,-109.5904 123.5001,-119.5904 130.5001,-119.5903\" stroke=\"#000000\"/>\n",
       "</g>\n",
       "<!-- 140408622124224 -->\n",
       "<g class=\"node\" id=\"node6\">\n",
       "<title>140408622124224</title>\n",
       "<polygon fill=\"none\" points=\"58.5,-.5 58.5,-36.5 195.5,-36.5 195.5,-.5 58.5,-.5\" stroke=\"#000000\"/>\n",
       "<text fill=\"#000000\" font-family=\"Times,serif\" font-size=\"14.00\" text-anchor=\"middle\" x=\"127\" y=\"-14.8\">dense_10: Dense</text>\n",
       "</g>\n",
       "<!-- 140408622285544&#45;&gt;140408622124224 -->\n",
       "<g class=\"edge\" id=\"edge6\">\n",
       "<title>140408622285544-&gt;140408622124224</title>\n",
       "<path d=\"M127,-73.4551C127,-65.3828 127,-55.6764 127,-46.6817\" fill=\"none\" stroke=\"#000000\"/>\n",
       "<polygon fill=\"#000000\" points=\"130.5001,-46.5903 127,-36.5904 123.5001,-46.5904 130.5001,-46.5903\" stroke=\"#000000\"/>\n",
       "</g>\n",
       "<!-- 140408622288968 -->\n",
       "<g class=\"node\" id=\"node7\">\n",
       "<title>140408622288968</title>\n",
       "<polygon fill=\"none\" points=\"51,-438.5 51,-474.5 203,-474.5 203,-438.5 51,-438.5\" stroke=\"#000000\"/>\n",
       "<text fill=\"#000000\" font-family=\"Times,serif\" font-size=\"14.00\" text-anchor=\"middle\" x=\"127\" y=\"-452.8\">140408622288968</text>\n",
       "</g>\n",
       "<!-- 140408622288968&#45;&gt;140408622292608 -->\n",
       "<g class=\"edge\" id=\"edge1\">\n",
       "<title>140408622288968-&gt;140408622292608</title>\n",
       "<path d=\"M127,-438.4551C127,-430.3828 127,-420.6764 127,-411.6817\" fill=\"none\" stroke=\"#000000\"/>\n",
       "<polygon fill=\"#000000\" points=\"130.5001,-411.5903 127,-401.5904 123.5001,-411.5904 130.5001,-411.5903\" stroke=\"#000000\"/>\n",
       "</g>\n",
       "</g>\n",
       "</svg>"
      ],
      "text/plain": [
       "<IPython.core.display.SVG object>"
      ]
     },
     "execution_count": 181,
     "metadata": {},
     "output_type": "execute_result"
    }
   ],
   "source": [
    "#Plot of The Defined model\n",
    "SVG(model_to_dot(embed_cnn_model).create(prog='dot', format='svg'))"
   ]
  },
  {
   "cell_type": "code",
   "execution_count": 182,
   "metadata": {},
   "outputs": [
    {
     "name": "stdout",
     "output_type": "stream",
     "text": [
      "Epoch 1/10\n",
      " - 15s - loss: 0.6907 - acc: 0.5283\n",
      "Epoch 2/10\n",
      " - 13s - loss: 0.5851 - acc: 0.7239\n",
      "Epoch 3/10\n",
      " - 14s - loss: 0.1283 - acc: 0.9961\n",
      "Epoch 4/10\n",
      " - 13s - loss: 0.0045 - acc: 1.0000\n",
      "Epoch 5/10\n",
      " - 13s - loss: 0.0017 - acc: 0.9994\n",
      "Epoch 6/10\n",
      " - 13s - loss: 9.1222e-04 - acc: 1.0000\n",
      "Epoch 7/10\n",
      " - 13s - loss: 5.7665e-04 - acc: 1.0000\n",
      "Epoch 8/10\n",
      " - 13s - loss: 3.8101e-04 - acc: 1.0000\n",
      "Epoch 9/10\n",
      " - 16s - loss: 2.6723e-04 - acc: 1.0000\n",
      "Epoch 10/10\n",
      " - 16s - loss: 1.9280e-04 - acc: 1.0000\n"
     ]
    },
    {
     "data": {
      "text/plain": [
       "<keras.callbacks.History at 0x7fb3239449e8>"
      ]
     },
     "execution_count": 182,
     "metadata": {},
     "output_type": "execute_result"
    }
   ],
   "source": [
    "embed_cnn_model.fit(cnn_Xtrain, ytrain, epochs=10, verbose=2)\n",
    "\n",
    "# history=embed_cnn_model.fit(cnn_Xtrain, ytrain,validation_split=0.20 ,epochs=10, verbose=0,batch_size=100,callbacks=callb)"
   ]
  },
  {
   "cell_type": "markdown",
   "metadata": {},
   "source": [
    "# History Of Accuracy And Loss"
   ]
  },
  {
   "cell_type": "code",
   "execution_count": 47,
   "metadata": {},
   "outputs": [],
   "source": [
    "# \n",
    "# print(h`istory.history.keys())\n",
    "\n",
    "# # history for accuracy\n",
    "# plt.plot(history.history['acc'])\n",
    "# plt.plot(history.history['loss'])\n",
    "# plt.title('model accuracy')\n",
    "# plt.ylabel('accuracy')\n",
    "# plt.xlabel('epoch')\n",
    "# plt.legend(['train', 'test'], loc='upper left')\n",
    "# plt.show()\n",
    "\n",
    "\n",
    "# # history for loss\n",
    "# plt.plot(history.history['loss'])\n",
    "# plt.plot(history.history['val_loss'])\n",
    "# plt.title('model loss')\n",
    "# plt.ylabel('loss')\n",
    "# plt.xlabel('epoch')\n",
    "# plt.legend(['train', 'test'], loc='upper left')\n",
    "# plt.show()"
   ]
  },
  {
   "cell_type": "markdown",
   "metadata": {},
   "source": [
    "# Evaluate Cnn Model "
   ]
  },
  {
   "cell_type": "code",
   "execution_count": 183,
   "metadata": {
    "scrolled": true
   },
   "outputs": [
    {
     "name": "stdout",
     "output_type": "stream",
     "text": [
      "Train Loss: 0.016891\n",
      "Train Accuracy: 100.000000\n",
      "\n",
      "Test Loss: 44.315220\n",
      "Test Accuracy: 85.500000\n"
     ]
    }
   ],
   "source": [
    "# evaluate Train Accuracy and Loss\n",
    "cnn_loss, cnn_acc  = embed_cnn_model.evaluate(cnn_Xtrain, ytrain, verbose=0)\n",
    "print('Train Loss: %f' % (cnn_loss*100))\n",
    "print('Train Accuracy: %f\\n' % (cnn_acc*100))\n",
    "\n",
    "# evaluate Test Accuracy and Loss\n",
    "cnn_loss, cnn_acc  = embed_cnn_model.evaluate(cnn_Xtest, ytest, verbose=0)\n",
    "print('Test Loss: %f' % (cnn_loss*100))\n",
    "print('Test Accuracy: %f' % (cnn_acc*100))"
   ]
  },
  {
   "cell_type": "markdown",
   "metadata": {},
   "source": [
    "Save Model"
   ]
  },
  {
   "cell_type": "code",
   "execution_count": 49,
   "metadata": {},
   "outputs": [],
   "source": [
    "# model.save('embedd_cnn_model.h5')"
   ]
  },
  {
   "cell_type": "code",
   "execution_count": 184,
   "metadata": {},
   "outputs": [],
   "source": [
    "def predict_cnn_sentiment(review, vocab, tokenizer,max_length, model):\n",
    "    tokens = clean_document(review)\n",
    "    tokens = [w for w in tokens if w in vocab]\n",
    "    line = ' '.join(tokens)\n",
    "    print(line)\n",
    "    padded=encode_documents(tokenizer,max_length,[line])\n",
    "    # predict sentiment\n",
    "    yhat = model.predict(padded, verbose=0)\n",
    "    percent_pos = yhat[0,0]\n",
    "    print(percent_pos)\n",
    "    if percent_pos < 0.49:\n",
    "        return (1-percent_pos), 'NEGATIVE'\n",
    "    else:\n",
    "        if percent_pos >0.5 and percent_pos<0.5045:\n",
    "            return percent_pos, 'NEUTRAL'\n",
    "        else:\n",
    "            return percent_pos, 'POSITIVE'"
   ]
  },
  {
   "cell_type": "code",
   "execution_count": 100,
   "metadata": {},
   "outputs": [],
   "source": [
    "# def predict_sentiment(review, vocab, tokenizer,max_length, model):\n",
    "#     tokens = clean_document(review)\n",
    "#     tokens = [w for w in tokens if w in vocab]\n",
    "#     line = ' '.join(tokens)\n",
    "#     padded=encode_documents(tokenizer,max_length,[line])\n",
    "#     # predict sentiment\n",
    "#     yhat = model.predict(padded, verbose=0)\n",
    "#     percent_pos = yhat[0,0]\n",
    "#     print(percent_pos)\n",
    "#     if round(percent_pos) == 0:\n",
    "#         return (1-percent_pos), 'NEGATIVE'\n",
    "#     return percent_pos, 'POSITIVE'"
   ]
  },
  {
   "cell_type": "code",
   "execution_count": 52,
   "metadata": {},
   "outputs": [],
   "source": [
    "# embed_cnn_model.load_weights(\"weights.best.hdf5\")\n",
    "# embed_cnn_model.compile(loss='binary_crossentropy', optimizer='adam', metrics=['accuracy'])"
   ]
  },
  {
   "cell_type": "code",
   "execution_count": 185,
   "metadata": {},
   "outputs": [
    {
     "name": "stdout",
     "output_type": "stream",
     "text": [
      "ok movie one time watch\n",
      "0.10694577\n",
      "Review: [It is an ok movie one time watch]\n",
      "Sentiment: NEGATIVE (89.305%) \n",
      "\n",
      "bad movie watch sucks\n",
      "0.082418896\n",
      "Review: [This is a bad movie. Do not watch it. It sucks.]\n",
      "Sentiment: NEGATIVE (91.758%) \n",
      " \n",
      "give break top movie time even close bad guy movie one worst characters ever seen good flick tried build love peter parker girl sudden cant please movie become cult movie get good rating people afraid speak truth movie wasnt feel sequel might better dont build character much\n",
      "0.07496623\n",
      "Review: [Give me a break. Top 200 movie of all time? Not even close. The bad guy in the movie was one of the worst characters I ever seen. It just was not a very good flick. It tried to build up the love between Peter Parker and the girl and then all of a sudden, he just cant be with her? Please. This movie will become a cult movie and will get good rating because people will be afraid to speak the truth, which was, this movie wasnt very good.However, I feel that the sequel might be better because they dont have to build up the character so much..]\n",
      "Sentiment: NEGATIVE (92.503%) \n",
      "\n",
      "spiderman ok greatest comic book movie still prefer original batman movie superman daredevil movie spiderman cool scenes overall disappointed tobey pretty good kirsten liked virgin suicide wasnt digging role fell flat opinion\n",
      "0.15175182\n",
      "Review: [Spiderman was just ok. Its not the greatest comic book movie. I still prefer the original Batman movie, Superman and The Daredevil movie. Spiderman had a few cool scenes but overall I was disappointed. Tobey was pretty good. Kirsten, uhh, liked her in Virgin Suicide, wasnt digging her in this role. Fell flat in my opinion.]\n",
      "Sentiment: NEGATIVE (84.825%) \n",
      "\n",
      "goodness story ever told film\n",
      "0.09926342\n",
      "Review: [The goodness of the  story ever told on film]\n",
      "Sentiment: NEGATIVE (90.074%) \n",
      "\n",
      "average one one time watch\n",
      "0.10824491\n",
      "Review: [An above average one for one time watch.]\n",
      "Sentiment: NEGATIVE (89.176%) \n",
      "\n"
     ]
    }
   ],
   "source": [
    "text = 'It is an ok movie one time watch'\n",
    "percent, sentiment = predict_cnn_sentiment(text, vocab, cnn_tokenizer, max_length, embed_cnn_model)\n",
    "print('Review: [%s]\\nSentiment: %s (%.3f%%) \\n' % (text, sentiment, percent*100))\n",
    "# test negative text\n",
    "text = 'This is a bad movie. Do not watch it. It sucks.'\n",
    "percent, sentiment = predict_cnn_sentiment(text, vocab, cnn_tokenizer, max_length, embed_cnn_model)\n",
    "print('Review: [%s]\\nSentiment: %s (%.3f%%) \\n ' % (text, sentiment, percent*100))\n",
    "\n",
    "text = 'Give me a break. Top 200 movie of all time? Not even close. The bad guy in the movie was one of the worst characters \\\n",
    "I ever seen. It just was not a very good flick. It tried to build up the love between Peter Parker and the girl and then all of a sudden, he just \\\n",
    "cant be with her? Please. This movie will become a cult movie and will get good rating because people will be afraid to speak the truth, which was, this movie wasnt very good.\\\n",
    "However, I feel that the sequel might be better because they dont have to build up the character so much..'\n",
    "\n",
    "percent, sentiment = predict_cnn_sentiment(text, vocab, cnn_tokenizer, max_length, embed_cnn_model)\n",
    "print('Review: [%s]\\nSentiment: %s (%.3f%%) \\n' % (text, sentiment, percent*100))\n",
    "\n",
    "text = 'Spiderman was just ok. Its not the greatest comic book movie. I still prefer the original Batman movie, Superman and The Daredevil movie. Spiderman had a few cool scenes \\\n",
    "but overall I was disappointed. Tobey was pretty good. Kirsten, uhh, liked her in Virgin Suicide, \\\n",
    "wasnt digging her in this role. Fell flat in my opinion.'\n",
    "percent, sentiment = predict_cnn_sentiment(text, vocab, cnn_tokenizer, max_length, embed_cnn_model)\n",
    "print('Review: [%s]\\nSentiment: %s (%.3f%%) \\n' % (text, sentiment, percent*100))\n",
    "\n",
    "text = \"The goodness of the  story ever told on film\"\n",
    "percent, sentiment = predict_cnn_sentiment(text, vocab, cnn_tokenizer, max_length, embed_cnn_model)\n",
    "print('Review: [%s]\\nSentiment: %s (%.3f%%) \\n' % (text, sentiment, percent*100))\n",
    "\n",
    "text = 'An above average one for one time watch.'\n",
    "percent, sentiment = predict_cnn_sentiment(text, vocab, cnn_tokenizer, max_length, embed_cnn_model)\n",
    "print('Review: [%s]\\nSentiment: %s (%.3f%%) \\n' % (text, sentiment, percent*100))"
   ]
  },
  {
   "cell_type": "code",
   "execution_count": 186,
   "metadata": {},
   "outputs": [
    {
     "name": "stdout",
     "output_type": "stream",
     "text": [
      "everyone enjoy film love recommended\n",
      "0.11001642\n",
      "Review: [Everyone will enjoy this film. I love it, recommended!]\n",
      "Sentiment: NEGATIVE (88.998%) \n",
      "\n",
      "bad movie watch sucks\n",
      "0.082418896\n",
      "Review: [This is a bad movie. Do not watch it. It sucks.]\n",
      "Sentiment: NEGATIVE (91.758%) \n",
      "\n",
      "heart touching making us proud movie acting done awesome movie whole theater emotional end movie\n",
      "0.09215279\n",
      "Review: [Very heart touching and making us proud movie. The acting done by akshay Kumar is awesome in the movie.   The whole theater was emotional at the end of the movie.]\n",
      "Sentiment: NEGATIVE (90.785%) \n",
      "\n",
      "loved movie would recommend movie everyone\n",
      "0.11296912\n",
      "Review: [I loved This Movie. I would recommend this movie to everyone.]\n",
      "Sentiment: NEGATIVE (88.703%) \n",
      "\n"
     ]
    }
   ],
   "source": [
    "text = 'Everyone will enjoy this film. I love it, recommended!'\n",
    "percent, sentiment = predict_cnn_sentiment(text, vocab, cnn_tokenizer, max_length, embed_cnn_model)\n",
    "print('Review: [%s]\\nSentiment: %s (%.3f%%) \\n' % (text, sentiment, percent*100))\n",
    "# test negative text\n",
    "text = 'This is a bad movie. Do not watch it. It sucks.'\n",
    "percent, sentiment = predict_cnn_sentiment(text, vocab, cnn_tokenizer, max_length, embed_cnn_model)\n",
    "print('Review: [%s]\\nSentiment: %s (%.3f%%) \\n' % (text, sentiment, percent*100))\n",
    "\n",
    "text = \"Very heart touching and making us proud movie. The acting done \\\n",
    "by akshay Kumar is awesome in the movie.   \\\n",
    "The whole theater was emotional at the end of the movie.\"\n",
    "\n",
    "percent, sentiment = predict_cnn_sentiment(text, vocab, cnn_tokenizer, max_length, embed_cnn_model)\n",
    "print('Review: [%s]\\nSentiment: %s (%.3f%%) \\n'  % (text, sentiment, percent*100))\n",
    "\n",
    "text = 'I loved This Movie. I would recommend this movie to everyone.'\n",
    "percent, sentiment = predict_cnn_sentiment(text, vocab, cnn_tokenizer, max_length, embed_cnn_model)\n",
    "print('Review: [%s]\\nSentiment: %s (%.3f%%) \\n' % (text, sentiment, percent*100))"
   ]
  },
  {
   "cell_type": "markdown",
   "metadata": {},
   "source": [
    "# N-Gram Embedding Cnn Model."
   ]
  },
  {
   "cell_type": "code",
   "execution_count": 187,
   "metadata": {},
   "outputs": [
    {
     "name": "stdout",
     "output_type": "stream",
     "text": [
      "Number of File Processed in txt_sentoken/neg is 900\n",
      "Number of File Processed in txt_sentoken/pos is 900\n",
      "Length of   Negative Files = 900 \t Positive Files= 900 \t Doc = 1800 \n",
      "Number of File Processed in txt_sentoken/neg is 100\n",
      "Number of File Processed in txt_sentoken/pos is 100\n",
      "Length of   Negative Files = 100 \t Positive Files= 100 \t Doc = 200 \n"
     ]
    }
   ],
   "source": [
    "#Load Train And test Set for Embedding \n",
    "\n",
    "ncnn_train_docs, ytrain = load_clean_dataset(vocab, train=True,op=0,m_type=\"ncnn\")\n",
    "ncnn_test_docs, ytest = load_clean_dataset(vocab,train=False,op=0,m_type=\"ncnn\")\n"
   ]
  },
  {
   "cell_type": "code",
   "execution_count": 188,
   "metadata": {},
   "outputs": [],
   "source": [
    "ncnn_tokenizer = create_tokenizer(ncnn_train_docs)"
   ]
  },
  {
   "cell_type": "code",
   "execution_count": 189,
   "metadata": {},
   "outputs": [
    {
     "name": "stdout",
     "output_type": "stream",
     "text": [
      "Max document length: 1319\n",
      "Vocabulary size: 26897\n"
     ]
    }
   ],
   "source": [
    "length = max([len(s.split()) for s in ncnn_train_docs])\n",
    "print('Max document length: %d' % length)\n",
    "# calculate vocabulary size\n",
    "vocab_size = len(ncnn_tokenizer.word_index) + 1\n",
    "print('Vocabulary size: %d' % vocab_size)"
   ]
  },
  {
   "cell_type": "code",
   "execution_count": 190,
   "metadata": {},
   "outputs": [],
   "source": [
    "ncnn_Xtrain = encode_documents(ncnn_tokenizer,length, ncnn_train_docs)\n",
    "ncnn_Xtest = encode_documents(ncnn_tokenizer, length,ncnn_test_docs)"
   ]
  },
  {
   "cell_type": "code",
   "execution_count": 191,
   "metadata": {},
   "outputs": [
    {
     "name": "stdout",
     "output_type": "stream",
     "text": [
      "(1800, 1319)\n",
      "(200, 1319)\n"
     ]
    }
   ],
   "source": [
    "print(ncnn_Xtrain.shape)\n",
    "print(ncnn_Xtest.shape)"
   ]
  },
  {
   "cell_type": "code",
   "execution_count": 192,
   "metadata": {},
   "outputs": [],
   "source": [
    "def define_ncnn_model(length, vocab_size):\n",
    "    # channel 1\n",
    "    inputs1 = Input(shape=(length,))\n",
    "    embedding1 = Embedding(vocab_size, 100)(inputs1)\n",
    "    conv1 = Conv1D(filters=32, kernel_size=4, activation='relu')(embedding1)\n",
    "    drop1 = Dropout(0.5)(conv1)\n",
    "    pool1 = MaxPooling1D(pool_size=2)(drop1)\n",
    "    flat1 = Flatten()(pool1)\n",
    "    # channel 2\n",
    "    inputs2 = Input(shape=(length,))\n",
    "    embedding2 = Embedding(vocab_size, 100)(inputs2)\n",
    "    conv2 = Conv1D(filters=32, kernel_size=6, activation='relu')(embedding2)\n",
    "    drop2 = Dropout(0.5)(conv2)\n",
    "    pool2 = MaxPooling1D(pool_size=2)(drop2)\n",
    "    flat2 = Flatten()(pool2)\n",
    "    # channel 3\n",
    "    inputs3 = Input(shape=(length,))\n",
    "    embedding3 = Embedding(vocab_size, 100)(inputs3)\n",
    "    conv3 = Conv1D(filters=32, kernel_size=8, activation='relu')(embedding3)\n",
    "    drop3 = Dropout(0.5)(conv3)\n",
    "    pool3 = MaxPooling1D(pool_size=2)(drop3)\n",
    "    flat3 = Flatten()(pool3)\n",
    "    # merge\n",
    "    merged = concatenate([flat1, flat2, flat3])\n",
    "    # interpretation\n",
    "    dense1 = Dense(10, activation='relu')(merged)\n",
    "    outputs = Dense(1, activation='sigmoid')(dense1)\n",
    "    model = Model(inputs=[inputs1, inputs2, inputs3], outputs=outputs)\n",
    "    # compile\n",
    "    model.compile(loss='binary_crossentropy', optimizer='adam', metrics=['accuracy'])\n",
    "    # summarize\n",
    "    model.summary()\n",
    "    plot_model(model, show_shapes=True, to_file='model.png')\n",
    "    return model"
   ]
  },
  {
   "cell_type": "code",
   "execution_count": 207,
   "metadata": {},
   "outputs": [
    {
     "name": "stdout",
     "output_type": "stream",
     "text": [
      "__________________________________________________________________________________________________\n",
      "Layer (type)                    Output Shape         Param #     Connected to                     \n",
      "==================================================================================================\n",
      "input_7 (InputLayer)            (None, 1319)         0                                            \n",
      "__________________________________________________________________________________________________\n",
      "input_8 (InputLayer)            (None, 1319)         0                                            \n",
      "__________________________________________________________________________________________________\n",
      "input_9 (InputLayer)            (None, 1319)         0                                            \n",
      "__________________________________________________________________________________________________\n",
      "embedding_9 (Embedding)         (None, 1319, 100)    2689700     input_7[0][0]                    \n",
      "__________________________________________________________________________________________________\n",
      "embedding_10 (Embedding)        (None, 1319, 100)    2689700     input_8[0][0]                    \n",
      "__________________________________________________________________________________________________\n",
      "embedding_11 (Embedding)        (None, 1319, 100)    2689700     input_9[0][0]                    \n",
      "__________________________________________________________________________________________________\n",
      "conv1d_9 (Conv1D)               (None, 1316, 32)     12832       embedding_9[0][0]                \n",
      "__________________________________________________________________________________________________\n",
      "conv1d_10 (Conv1D)              (None, 1314, 32)     19232       embedding_10[0][0]               \n",
      "__________________________________________________________________________________________________\n",
      "conv1d_11 (Conv1D)              (None, 1312, 32)     25632       embedding_11[0][0]               \n",
      "__________________________________________________________________________________________________\n",
      "dropout_7 (Dropout)             (None, 1316, 32)     0           conv1d_9[0][0]                   \n",
      "__________________________________________________________________________________________________\n",
      "dropout_8 (Dropout)             (None, 1314, 32)     0           conv1d_10[0][0]                  \n",
      "__________________________________________________________________________________________________\n",
      "dropout_9 (Dropout)             (None, 1312, 32)     0           conv1d_11[0][0]                  \n",
      "__________________________________________________________________________________________________\n",
      "max_pooling1d_9 (MaxPooling1D)  (None, 658, 32)      0           dropout_7[0][0]                  \n",
      "__________________________________________________________________________________________________\n",
      "max_pooling1d_10 (MaxPooling1D) (None, 657, 32)      0           dropout_8[0][0]                  \n",
      "__________________________________________________________________________________________________\n",
      "max_pooling1d_11 (MaxPooling1D) (None, 656, 32)      0           dropout_9[0][0]                  \n",
      "__________________________________________________________________________________________________\n",
      "flatten_9 (Flatten)             (None, 21056)        0           max_pooling1d_9[0][0]            \n",
      "__________________________________________________________________________________________________\n",
      "flatten_10 (Flatten)            (None, 21024)        0           max_pooling1d_10[0][0]           \n",
      "__________________________________________________________________________________________________\n",
      "flatten_11 (Flatten)            (None, 20992)        0           max_pooling1d_11[0][0]           \n",
      "__________________________________________________________________________________________________\n",
      "concatenate_3 (Concatenate)     (None, 63072)        0           flatten_9[0][0]                  \n",
      "                                                                 flatten_10[0][0]                 \n",
      "                                                                 flatten_11[0][0]                 \n",
      "__________________________________________________________________________________________________\n",
      "dense_13 (Dense)                (None, 10)           630730      concatenate_3[0][0]              \n",
      "__________________________________________________________________________________________________\n",
      "dense_14 (Dense)                (None, 1)            11          dense_13[0][0]                   \n",
      "==================================================================================================\n",
      "Total params: 8,757,537\n",
      "Trainable params: 8,757,537\n",
      "Non-trainable params: 0\n",
      "__________________________________________________________________________________________________\n"
     ]
    }
   ],
   "source": [
    "ncnn_model= define_ncnn_model(length, vocab_size)"
   ]
  },
  {
   "cell_type": "code",
   "execution_count": 194,
   "metadata": {},
   "outputs": [],
   "source": [
    "# print(ncnn_Xtrain.shape)\n",
    "# print(ncnn_Xtest.shape)"
   ]
  },
  {
   "cell_type": "code",
   "execution_count": 208,
   "metadata": {},
   "outputs": [
    {
     "name": "stdout",
     "output_type": "stream",
     "text": [
      "Epoch 1/10\n",
      "1800/1800 [==============================] - 44s 25ms/step - loss: 0.6922 - acc: 0.5383\n",
      "Epoch 2/10\n",
      "1800/1800 [==============================] - 42s 24ms/step - loss: 0.4947 - acc: 0.7533\n",
      "Epoch 3/10\n",
      "1800/1800 [==============================] - 43s 24ms/step - loss: 0.0781 - acc: 0.9739\n",
      "Epoch 4/10\n",
      "1800/1800 [==============================] - 42s 24ms/step - loss: 0.0046 - acc: 1.0000\n",
      "Epoch 5/10\n",
      "1800/1800 [==============================] - 42s 24ms/step - loss: 0.0019 - acc: 1.0000\n",
      "Epoch 6/10\n",
      "1800/1800 [==============================] - 43s 24ms/step - loss: 0.0011 - acc: 1.0000\n",
      "Epoch 7/10\n",
      "1800/1800 [==============================] - 42s 24ms/step - loss: 7.0971e-04 - acc: 1.0000\n",
      "Epoch 8/10\n",
      "1800/1800 [==============================] - 42s 24ms/step - loss: 4.5232e-04 - acc: 1.0000\n",
      "Epoch 9/10\n",
      "1800/1800 [==============================] - 43s 24ms/step - loss: 2.3816e-04 - acc: 1.0000\n",
      "Epoch 10/10\n",
      "1800/1800 [==============================] - 43s 24ms/step - loss: 1.9986e-04 - acc: 1.0000\n"
     ]
    },
    {
     "data": {
      "text/plain": [
       "<keras.callbacks.History at 0x7fb37b183438>"
      ]
     },
     "execution_count": 208,
     "metadata": {},
     "output_type": "execute_result"
    }
   ],
   "source": [
    "ncnn_model.fit( [ncnn_Xtrain,ncnn_Xtrain,ncnn_Xtrain] , ytrain, epochs=10, batch_size=16)"
   ]
  },
  {
   "cell_type": "code",
   "execution_count": 64,
   "metadata": {},
   "outputs": [],
   "source": [
    "# ncnn_model.save('ncnn_model.h5')"
   ]
  },
  {
   "cell_type": "code",
   "execution_count": 65,
   "metadata": {},
   "outputs": [],
   "source": [
    "# ncnn_Xtrain.shape"
   ]
  },
  {
   "cell_type": "code",
   "execution_count": 66,
   "metadata": {},
   "outputs": [],
   "source": [
    "# ncnn_Xtest.shape"
   ]
  },
  {
   "cell_type": "code",
   "execution_count": 67,
   "metadata": {},
   "outputs": [],
   "source": [
    "# ncnn_Xtrain=np.array(ncnn_Xtrain)\n"
   ]
  },
  {
   "cell_type": "code",
   "execution_count": 209,
   "metadata": {},
   "outputs": [
    {
     "name": "stdout",
     "output_type": "stream",
     "text": [
      "1800/1800 [==============================] - 11s 6ms/step\n",
      "Train Accuracy: 100.00\n",
      "200/200 [==============================] - 1s 5ms/step\n",
      "Test Accuracy: 86.00\n"
     ]
    }
   ],
   "source": [
    "# evaluate model on training dataset\n",
    "loss, acc = ncnn_model.evaluate([ncnn_Xtrain,ncnn_Xtrain,ncnn_Xtrain], ytrain, verbose=1)\n",
    "print('Train Accuracy: %.2f' % (acc*100))\n",
    "# evaluate model on test dataset dataset\n",
    "loss, acc = ncnn_model.evaluate([ncnn_Xtest,ncnn_Xtest,ncnn_Xtest], ytest, verbose=1)\n",
    "print('Test Accuracy: %.2f' % (acc*100))"
   ]
  },
  {
   "cell_type": "code",
   "execution_count": 197,
   "metadata": {},
   "outputs": [],
   "source": [
    "def predict_ncnn_sentiment(review, vocab, tokenizer,max_length, model):\n",
    "    tokens = clean_document(review)\n",
    "    tokens = [w for w in tokens if w in vocab]\n",
    "    line = ' '.join(tokens)\n",
    "    print(line)\n",
    "    padded=encode_documents(tokenizer,max_length,[line])\n",
    "    # predict sentiment\n",
    "    yhat = model.predict([padded,padded,padded], verbose=0)\n",
    "    percent_pos = yhat[0,0]\n",
    "    print(percent_pos)\n",
    "    if percent_pos < 0.49:\n",
    "        return (1-percent_pos), 'NEGATIVE'\n",
    "    else:\n",
    "        if percent_pos >0.5 and percent_pos<0.5045:\n",
    "            return percent_pos, 'NEUTRAL'\n",
    "        else:\n",
    "            return percent_pos, 'POSITIVE'"
   ]
  },
  {
   "cell_type": "code",
   "execution_count": 206,
   "metadata": {},
   "outputs": [
    {
     "name": "stdout",
     "output_type": "stream",
     "text": [
      "ok movie one time watch\n",
      "0.7195714\n",
      "Review: [It is an ok movie one time watch]\n",
      "Sentiment: POSITIVE (71.957%) \n",
      "\n",
      "loved would recommend movie loved movie goodness goodness goodness would recommend movie everyone\n",
      "0.7195714\n",
      "Review: [I loved This Movie.I would recommend this movie to everyone.I loved This Movie. GoodNess Goodness Goodness I would recommend this movie to everyone.]\n",
      "Sentiment: POSITIVE (71.957%) \n",
      "\n",
      "hate movie one waste money watching\n",
      "0.7006142\n",
      "Review: [Bad,Bad,Bad I Hate this Movie No One Should waste money watching this]\n",
      "Sentiment: POSITIVE (70.061%) \n",
      "\n"
     ]
    }
   ],
   "source": [
    "text = 'It is an ok movie one time watch'\n",
    "percent, sentiment = predict_ncnn_sentiment(text, vocab, ncnn_tokenizer, length, ncnn_model)\n",
    "print('Review: [%s]\\nSentiment: %s (%.3f%%) \\n' % (text, sentiment, percent*100))\n",
    "\n",
    "text = 'I loved This Movie.I would recommend this movie to everyone.I loved This Movie. GoodNess Goodness Goodness I would recommend this movie to everyone.'\n",
    "percent, sentiment =  predict_ncnn_sentiment(text, vocab, ncnn_tokenizer, length, ncnn_model)\n",
    "print('Review: [%s]\\nSentiment: %s (%.3f%%) \\n' % (text, sentiment, percent*100))\n",
    "\n",
    "text = 'Bad,Bad,Bad I Hate this Movie No One Should waste money watching this'\n",
    "percent, sentiment =  predict_ncnn_sentiment(text, vocab, ncnn_tokenizer, length, ncnn_model)\n",
    "print('Review: [%s]\\nSentiment: %s (%.3f%%) \\n' % (text, sentiment, percent*100))"
   ]
  },
  {
   "cell_type": "markdown",
   "metadata": {},
   "source": [
    "# Test"
   ]
  },
  {
   "cell_type": "code",
   "execution_count": 199,
   "metadata": {},
   "outputs": [
    {
     "data": {
      "text/plain": [
       "['file1.txt',\n",
       " 'file5.txt',\n",
       " 'file7.txt',\n",
       " 'file3.txt',\n",
       " 'file6.txt',\n",
       " 'file8.txt',\n",
       " 'file0.txt',\n",
       " 'file9.txt',\n",
       " 'file4.txt',\n",
       " 'file2.txt']"
      ]
     },
     "execution_count": 199,
     "metadata": {},
     "output_type": "execute_result"
    }
   ],
   "source": [
    "os.listdir('txt_sentoken/mtest/pos')"
   ]
  },
  {
   "cell_type": "markdown",
   "metadata": {},
   "source": [
    "* Tested using MLP Model"
   ]
  },
  {
   "cell_type": "code",
   "execution_count": 200,
   "metadata": {},
   "outputs": [
    {
     "name": "stdout",
     "output_type": "stream",
     "text": [
      "-------------Testing For---MLP-----------------------\n",
      "------------Testing For Positive Files---------------\n",
      "['file0.txt', 'file1.txt', 'file2.txt', 'file3.txt', 'file4.txt', 'file5.txt', 'file6.txt', 'file7.txt', 'file8.txt', 'file9.txt']\n",
      "txt_sentoken/mtest/pos/file0.txt\n",
      "directed david lights creation written henry earth echo stars zachary billy film follows billy orphan boy keeps running foster homes gets adopted couple share home many foster kids billy soon granted magical wizard powers discovers says wizards name turns adult male superhero like abilities isnt much franchise point separated films franchise essentially thing follows suit references superman batman justice league heroes throughout film isnt concerned connecting setting franchise tries thing strongest aspect film far zachary underrated actor brings film energy charm humor needs plays role teenage boy stuck mans body well eerily convincingly jack dylan plays billys foster brother freddy also great neurotic hilarious helps convince films ridiculous premise angel plays young billy got short end stick hes given character hides emotions still feels like billy hes less entertaining half billy nonetheless delivers great performance film lands rest cast alright weak performances decent one mark strong script another strength balances humor drama horror lightheartedness character spectacle better film far cared characters understood motivations desires film character piece superhero film though story isnt boy turns adult superhero battling evil boy learning grow accept things hes ignored whole life billy must realize must pursue needs wants comes understand everything believed true wrong fantastic makes entire third act land movie selfaware carries plethora tongueincheek references never forgets make laugh humor natural fresh never undermines dramatic tension film direction strong definitely sequences ill see second time really analyze film shot remember correctly rarely goes large movie doesnt try spectacle instead remains small unlike hero score great soundtrack amazing genuine laughs film definitely one set piece long could tightened third act dont many complaints outside also brings spin superhero genre definitely family superhero film would argue even family superhero film aside mild language couple scary scenes earns rating one wholesome superhero movies come along loved film everybody knocked park heart humor great message hands best film cant wait see future movies far favorite film year\n",
      "Sentiment: POSITIVE (53.129%) \n",
      "\n",
      "txt_sentoken/mtest/pos/file1.txt\n",
      "zachary stars superhero incarnation average superhero blockbuster teenage foster child philadelphia discovers calling superhero angel solid teenage considerably upstaged jack dylan gives likeable performance aspiring sidekick mark strong menacing human vessel seven deadly sins rousing funny film great entertainment although wonder much medium children truly many tense scenes mayhem portrayal seven deadly sins might scare children aspect foster care portrayed adds films film take take shape keeping mindset teenage boy beginning discover true potential payoff tremendous goes decent superior becomes classic battle good evil welcome addition superhero genre gladly recommended\n",
      "Sentiment: POSITIVE (55.902%) \n",
      "\n",
      "txt_sentoken/mtest/pos/file2.txt\n",
      "newest addition superhero movie collection dc comics kind like superman meets big story kid suddenly becomes lighthearted adult superhero laughs feel bit like cgi pretty good definitely flaws heart entertaining enough see rest movie review movie review mom\n",
      "Sentiment: NEGATIVE (51.830%) \n",
      "\n",
      "txt_sentoken/mtest/pos/file3.txt\n",
      "pleasantly surprised dc movie actually good especially comparison recent dc movies great really however perfectly fine superhero origin story cheesy expected much humour little held back terms action excitement loved character development felt natural seamless worthwhile movie would happily go see\n",
      "Sentiment: POSITIVE (53.141%) \n",
      "\n",
      "txt_sentoken/mtest/pos/file4.txt\n",
      "movie perfect every way different compared superhero films trailers barely show anything many surprises im talking little cameo im talking main stuff also feel superhero films showing similar stuff want something new enjoy every superhero films anyway definitely even dont like superhero films also love\n",
      "Sentiment: NEGATIVE (53.673%) \n",
      "\n",
      "txt_sentoken/mtest/pos/file5.txt\n",
      "always rate things first written review everyone go watch seriously would death inside enjoy movie funny sad heartwarming enough action superhero movie couple things probably scary kids unless child like daughter didnt think scary twist well unexpected course go watch\n",
      "Sentiment: NEGATIVE (62.651%) \n",
      "\n",
      "txt_sentoken/mtest/pos/file6.txt\n",
      "saw trailer thought genius superhero thats actually kid think tom hanks big meets superman remember liking kid took long time call capt marvel much else remember watched serial impressed watched tv show although cheesy entertaining moved onto series fell love renaissance happened months ago elements mixed together bad guys look awesome movie lots laughs tons heart one bad thing short scene parent scene gets dark made feel kinda pulled movie thank god short scene cuz one favorite comic book movies ever batman dark knight superman ca civil war\n",
      "Sentiment: NEGATIVE (55.232%) \n",
      "\n",
      "txt_sentoken/mtest/pos/file7.txt\n",
      "first heard movie trailer cinema waiting impatiently captain marvel moment thought one superhero movie dont want watch dont consider dc marvel movie definitely left mark heart story scenes made hard hold tears watching alone id probably character development could done better like power transfer scene feel bit rushed flawless movie havent felt way recent movies since star wars last jedi even took time write review something dont usually bother hence give made feel oh mention amazing comedy laughed hysterically mr moran jokes made really well thought wasnt vulgar ones probably minimal goes show amazing comedy without resort like lot one takes cake\n",
      "Sentiment: NEGATIVE (61.701%) \n",
      "\n",
      "txt_sentoken/mtest/pos/file8.txt\n",
      "love movie kids becoming heroes game also love storyline recommended everybody watch lot fun\n",
      "Sentiment: POSITIVE (60.247%) \n",
      "\n",
      "txt_sentoken/mtest/pos/file9.txt\n",
      "best movie dc extended universe acting performances great visual effects great screenplay great word fantastic\n",
      "Sentiment: POSITIVE (61.466%) \n",
      "\n",
      "------------Testing For Negative Files---------------\n",
      "['file0.txt', 'file1.txt', 'file2.txt', 'file3.txt', 'file4.txt', 'file5.txt', 'file6.txt', 'file7.txt', 'file8.txt', 'file9.txt']\n",
      "txt_sentoken/mtest/neg/file0.txt\n",
      "dc fan go see movies buy character statues posters read comics including reason people become fans certain things things done well time generate fans becomes juggernaut like dc fear unstoppable however subpar painfully illustrated movie poorly written scenes bit uninspired action sprinkled barely plot billy character development whatsoever adversity overcome villain fight know people saying like movie feel like either arent honest like personal reasons present movie speaking terms technical aspects storytelling isnt effective bored entire time comedy parts made feel though abrams poking ribs asking member yes yes record people criticizing movie bad dismissing legitimate criticisms using tactic produce better films thing people want problem built movie around idea strong boy promoted identity film movie ends bad people rush defend dont want idea fail movie secondary vehicle slap bumper stickers real shame could great addition dc universe hope learn something ive heard appears dc actually plans escalate identity politics next phase would absolute disaster pointing box office defense good remember tons paying customers didnt like\n",
      "Sentiment: NEGATIVE (62.221%) \n",
      "\n",
      "txt_sentoken/mtest/neg/file1.txt\n",
      "terrible absolutely terrible long funny jokes trailers end amazingly boring take ages present characters main villain awful prefer talk sidekick kid freddy probably annoying character theaters last decade god cgi demons ugly badly designed far worst experience theatre dont waste youre time movie make hopefully massive flop box office even ww opinion\n",
      "Sentiment: NEGATIVE (78.384%) \n",
      "\n",
      "txt_sentoken/mtest/neg/file2.txt\n",
      "yes talking people voted heres movie deserves rating lack originally annoying title character yes old doesnt change fact dialogue would better fit kevin hart superhero yes mean insult huge dc bad cgi superhero good impression early keanu reeves acting range oh yes went basic idea good kid actors strong ok bad role thats dc always better darker movies anyways\n",
      "Sentiment: NEGATIVE (70.956%) \n",
      "\n",
      "txt_sentoken/mtest/neg/file3.txt\n",
      "made main character childish movie cgi heads characters matching bodies floating head bad\n",
      "Sentiment: NEGATIVE (77.264%) \n",
      "\n",
      "txt_sentoken/mtest/neg/file4.txt\n",
      "least completely boring seek nothing find kid movie graphic kids offering new original direction memorable scene dc movie completely empty superhero movie nothing new nothing impressive nothing beautiful comedy maybe laugh although jokes simply references unoriginal jokes saw trailers dont expect anything jokes actor playing billy quite good sympathetic somehow becomes stupid childish transforms lets call already obviously didnt catch wisdom solomon enemy doesnt improve movie nothing interesting movie contains random monsters could movies year already production released hopefully shift come new trailer joker prequel least gives hope\n",
      "Sentiment: NEGATIVE (72.295%) \n",
      "\n",
      "txt_sentoken/mtest/neg/file5.txt\n",
      "felt movie audience humour also wasnt like dc movies wasnt dark gloomy wasnt enough action movies spent discovering abilities running away enemy also bit times\n",
      "Sentiment: NEGATIVE (59.838%) \n",
      "\n",
      "txt_sentoken/mtest/neg/file6.txt\n",
      "marvel film even worst day ie solid enough overhyped think everyone gets carried away normal dc trash rate lot higher quite surprised turned aswell bad ingredients director pretty much ever done shorts producers consist rocks ex brother spent first rock films fetching coffee geoff johns whos produced dc tripe far despite super suit padding trailer best jokes wasnt half bad\n",
      "Sentiment: NEGATIVE (63.830%) \n",
      "\n",
      "txt_sentoken/mtest/neg/file7.txt\n",
      "marvel film even worst day ie solid enough overhyped think everyone gets carried away normal dc trash rate lot higher quite surprised turned aswell bad ingredients director pretty much ever done shorts producers consist rocks ex brother spent first rock films fetching coffee geoff johns whos produced dc tripe far despite super suit padding trailer best jokes wasnt half bad\n",
      "Sentiment: NEGATIVE (63.830%) \n",
      "\n",
      "txt_sentoken/mtest/neg/file8.txt\n",
      "done captain marvel fun character hes fights crime made look like buffoon didnt even stay till end disappointed advice watch serial adventures captain marvel tom tyler capt marvel frank jr billy everything terrific villain called dressed head toe black mask coat covered white story lie excellent better rubbish tried watch would hasten add alive collect old saturday kids matinee serials one best special fx brothers howard theodore superior every way\n",
      "Sentiment: NEGATIVE (56.046%) \n",
      "\n",
      "txt_sentoken/mtest/neg/file9.txt\n",
      "dont know reviewers saw movie feels like dc paid bunch folks give real reviews would chance show film braindead america nuance jokes plot lines arent explicitly explained multiple times genuine heart even single fully developed character everyone fits modern superhero film archetype references made hip woke brief nods made possessed social justice crowd watch watching serious superhero movie decades prior even great ones becomes apparent far weve fallen genre sadly seems like stay\n",
      "Sentiment: NEGATIVE (61.495%) \n",
      "\n",
      "---------Positive List----------\n",
      "   File Name  Analysis\n",
      "0  file0.txt  POSITIVE\n",
      "1  file1.txt  POSITIVE\n",
      "2  file2.txt  NEGATIVE\n",
      "3  file3.txt  POSITIVE\n",
      "4  file4.txt  NEGATIVE\n",
      "5  file5.txt  NEGATIVE\n",
      "6  file6.txt  NEGATIVE\n",
      "7  file7.txt  NEGATIVE\n",
      "8  file8.txt  POSITIVE\n",
      "9  file9.txt  POSITIVE\n",
      "---------Negative List----------\n",
      "   File Name  Analysis\n",
      "0  file0.txt  NEGATIVE\n",
      "1  file1.txt  NEGATIVE\n",
      "2  file2.txt  NEGATIVE\n",
      "3  file3.txt  NEGATIVE\n",
      "4  file4.txt  NEGATIVE\n",
      "5  file5.txt  NEGATIVE\n",
      "6  file6.txt  NEGATIVE\n",
      "7  file7.txt  NEGATIVE\n",
      "8  file8.txt  NEGATIVE\n",
      "9  file9.txt  NEGATIVE\n"
     ]
    }
   ],
   "source": [
    "\n",
    "def testFromFolderMLP(vocab,tokenizer,model):\n",
    "    print(\"-------------Testing For---MLP-----------------------\")\n",
    "    print(\"------------Testing For Positive Files---------------\")\n",
    "    pos_list=list()\n",
    "    neg_list=list()\n",
    "    filesinfolder=sorted(os.listdir('txt_sentoken/mtest/pos'))\n",
    "    print(filesinfolder)\n",
    "    for files in filesinfolder:\n",
    "        filename=\"txt_sentoken/mtest/pos/\"+files\n",
    "        print(filename)\n",
    "        text=load_document(filename)\n",
    "        percent, sentiment = predict_sentiment(text, vocab, tokenizer, model)\n",
    "#         print('Review: [%s]\\nSentiment: %s (%.3f%%) \\n' % (text, sentiment, percent*100))\n",
    "        print('Sentiment: %s (%.3f%%) \\n' % (sentiment, percent*100))\n",
    "        pos_list.append([files,sentiment])\n",
    "    print(\"------------Testing For Negative Files---------------\")\n",
    "    filesinfolder=sorted(os.listdir('txt_sentoken/mtest/neg'))\n",
    "    print(filesinfolder)\n",
    "    for files in filesinfolder:\n",
    "        filename=\"txt_sentoken/mtest/neg/\"+files\n",
    "        print(filename)\n",
    "        text=load_document(filename)\n",
    "        percent, sentiment = predict_sentiment(text, vocab, tokenizer, model)\n",
    "#         print('Review: [%s]\\nSentiment: %s (%.3f%%) \\n' % (text, sentiment, percent*100))\n",
    "        print('Sentiment: %s (%.3f%%) \\n' % (sentiment, percent*100))\n",
    "        neg_list.append([files,sentiment])\n",
    "    \n",
    "    print(\"---------Positive List----------\")\n",
    "#     print(*pos_list)\n",
    "    pdf = pd.DataFrame(pos_list,columns=['File Name','Analysis'])\n",
    "    print(pdf.head(n=10))\n",
    "    print(\"---------Negative List----------\")\n",
    "#     print(*neg_list)\n",
    "    ndf = pd.DataFrame(neg_list,columns=['File Name','Analysis'])\n",
    "    print(ndf.head(n=10))\n",
    "    \n",
    "testFromFolderMLP(vocab,tokenizer,model)"
   ]
  },
  {
   "cell_type": "markdown",
   "metadata": {},
   "source": [
    "* Tested Using CNN 1 Layer Embedding Model"
   ]
  },
  {
   "cell_type": "code",
   "execution_count": 203,
   "metadata": {},
   "outputs": [
    {
     "name": "stdout",
     "output_type": "stream",
     "text": [
      "------------Testing For---CNN 1 Layer-----------------------\n",
      "------------Testing For Positive Files---------------\n",
      "['file0.txt', 'file1.txt', 'file2.txt', 'file3.txt', 'file4.txt', 'file5.txt', 'file6.txt', 'file7.txt', 'file8.txt', 'file9.txt']\n",
      "-----------Processing ----------file0.txt\n",
      "directed david lights creation written henry earth echo stars zachary billy film follows billy orphan boy keeps running foster homes gets adopted couple share home many foster kids billy soon granted magical wizard powers discovers says wizards name turns adult male superhero like abilities isnt much franchise point separated films franchise essentially thing follows suit references superman batman justice league heroes throughout film isnt concerned connecting setting franchise tries thing strongest aspect film far zachary underrated actor brings film energy charm humor needs plays role teenage boy stuck mans body well eerily convincingly jack dylan plays billys foster brother freddy also great neurotic hilarious helps convince films ridiculous premise angel plays young billy got short end stick hes given character hides emotions still feels like billy hes less entertaining half billy nonetheless delivers great performance film lands rest cast alright weak performances decent one mark strong script another strength balances humor drama horror lightheartedness character spectacle better film far cared characters understood motivations desires film character piece superhero film though story isnt boy turns adult superhero battling evil boy learning grow accept things hes ignored whole life billy must realize must pursue needs wants comes understand everything believed true wrong fantastic makes entire third act land movie selfaware carries plethora tongueincheek references never forgets make laugh humor natural fresh never undermines dramatic tension film direction strong definitely sequences ill see second time really analyze film shot remember correctly rarely goes large movie doesnt try spectacle instead remains small unlike hero score great soundtrack amazing genuine laughs film definitely one set piece long could tightened third act dont many complaints outside also brings spin superhero genre definitely family superhero film would argue even family superhero film aside mild language couple scary scenes earns rating one wholesome superhero movies come along loved film everybody knocked park heart humor great message hands best film cant wait see future movies far favorite film year\n",
      "0.9655568\n",
      "Sentiment: POSITIVE (96.556%) \n",
      "\n",
      "-----------Processing ----------file1.txt\n",
      "zachary stars superhero incarnation average superhero blockbuster teenage foster child philadelphia discovers calling superhero angel solid teenage considerably upstaged jack dylan gives likeable performance aspiring sidekick mark strong menacing human vessel seven deadly sins rousing funny film great entertainment although wonder much medium children truly many tense scenes mayhem portrayal seven deadly sins might scare children aspect foster care portrayed adds films film take take shape keeping mindset teenage boy beginning discover true potential payoff tremendous goes decent superior becomes classic battle good evil welcome addition superhero genre gladly recommended\n",
      "0.50298846\n",
      "Sentiment: NEUTRAL (50.299%) \n",
      "\n",
      "-----------Processing ----------file2.txt\n",
      "newest addition superhero movie collection dc comics kind like superman meets big story kid suddenly becomes lighthearted adult superhero laughs feel bit like cgi pretty good definitely flaws heart entertaining enough see rest movie review movie review mom\n",
      "0.3180173\n",
      "Sentiment: NEGATIVE (68.198%) \n",
      "\n",
      "-----------Processing ----------file3.txt\n",
      "pleasantly surprised dc movie actually good especially comparison recent dc movies great really however perfectly fine superhero origin story cheesy expected much humour little held back terms action excitement loved character development felt natural seamless worthwhile movie would happily go see\n",
      "0.1792884\n",
      "Sentiment: NEGATIVE (82.071%) \n",
      "\n",
      "-----------Processing ----------file4.txt\n",
      "movie perfect every way different compared superhero films trailers barely show anything many surprises im talking little cameo im talking main stuff also feel superhero films showing similar stuff want something new enjoy every superhero films anyway definitely even dont like superhero films also love\n",
      "0.08060436\n",
      "Sentiment: NEGATIVE (91.940%) \n",
      "\n",
      "-----------Processing ----------file5.txt\n",
      "always rate things first written review everyone go watch seriously would death inside enjoy movie funny sad heartwarming enough action superhero movie couple things probably scary kids unless child like daughter didnt think scary twist well unexpected course go watch\n",
      "0.1332633\n",
      "Sentiment: NEGATIVE (86.674%) \n",
      "\n",
      "-----------Processing ----------file6.txt\n",
      "saw trailer thought genius superhero thats actually kid think tom hanks big meets superman remember liking kid took long time call capt marvel much else remember watched serial impressed watched tv show although cheesy entertaining moved onto series fell love renaissance happened months ago elements mixed together bad guys look awesome movie lots laughs tons heart one bad thing short scene parent scene gets dark made feel kinda pulled movie thank god short scene cuz one favorite comic book movies ever batman dark knight superman ca civil war\n",
      "0.07184363\n",
      "Sentiment: NEGATIVE (92.816%) \n",
      "\n",
      "-----------Processing ----------file7.txt\n",
      "first heard movie trailer cinema waiting impatiently captain marvel moment thought one superhero movie dont want watch dont consider dc marvel movie definitely left mark heart story scenes made hard hold tears watching alone id probably character development could done better like power transfer scene feel bit rushed flawless movie havent felt way recent movies since star wars last jedi even took time write review something dont usually bother hence give made feel oh mention amazing comedy laughed hysterically mr moran jokes made really well thought wasnt vulgar ones probably minimal goes show amazing comedy without resort like lot one takes cake\n",
      "0.050495602\n",
      "Sentiment: NEGATIVE (94.950%) \n",
      "\n",
      "-----------Processing ----------file8.txt\n",
      "love movie kids becoming heroes game also love storyline recommended everybody watch lot fun\n",
      "0.20038618\n",
      "Sentiment: NEGATIVE (79.961%) \n",
      "\n",
      "-----------Processing ----------file9.txt\n",
      "best movie dc extended universe acting performances great visual effects great screenplay great word fantastic\n",
      "0.25928292\n",
      "Sentiment: NEGATIVE (74.072%) \n",
      "\n",
      "------------Testing For Negative Files---------------\n",
      "['file0.txt', 'file1.txt', 'file2.txt', 'file3.txt', 'file4.txt', 'file5.txt', 'file6.txt', 'file7.txt', 'file8.txt', 'file9.txt']\n",
      "txt_sentoken/mtest/neg/file0.txt\n",
      "dc fan go see movies buy character statues posters read comics including reason people become fans certain things things done well time generate fans becomes juggernaut like dc fear unstoppable however subpar painfully illustrated movie poorly written scenes bit uninspired action sprinkled barely plot billy character development whatsoever adversity overcome villain fight know people saying like movie feel like either arent honest like personal reasons present movie speaking terms technical aspects storytelling isnt effective bored entire time comedy parts made feel though abrams poking ribs asking member yes yes record people criticizing movie bad dismissing legitimate criticisms using tactic produce better films thing people want problem built movie around idea strong boy promoted identity film movie ends bad people rush defend dont want idea fail movie secondary vehicle slap bumper stickers real shame could great addition dc universe hope learn something ive heard appears dc actually plans escalate identity politics next phase would absolute disaster pointing box office defense good remember tons paying customers didnt like\n",
      "0.013949543\n",
      "Sentiment: NEGATIVE (98.605%) \n",
      "\n",
      "txt_sentoken/mtest/neg/file1.txt\n",
      "terrible absolutely terrible long funny jokes trailers end amazingly boring take ages present characters main villain awful prefer talk sidekick kid freddy probably annoying character theaters last decade god cgi demons ugly badly designed far worst experience theatre dont waste youre time movie make hopefully massive flop box office even ww opinion\n",
      "0.0031988276\n",
      "Sentiment: NEGATIVE (99.680%) \n",
      "\n",
      "txt_sentoken/mtest/neg/file2.txt\n",
      "yes talking people voted heres movie deserves rating lack originally annoying title character yes old doesnt change fact dialogue would better fit kevin hart superhero yes mean insult huge dc bad cgi superhero good impression early keanu reeves acting range oh yes went basic idea good kid actors strong ok bad role thats dc always better darker movies anyways\n",
      "0.017431129\n",
      "Sentiment: NEGATIVE (98.257%) \n",
      "\n",
      "txt_sentoken/mtest/neg/file3.txt\n",
      "made main character childish movie cgi heads characters matching bodies floating head bad\n",
      "0.049318112\n",
      "Sentiment: NEGATIVE (95.068%) \n",
      "\n",
      "txt_sentoken/mtest/neg/file4.txt\n",
      "least completely boring seek nothing find kid movie graphic kids offering new original direction memorable scene dc movie completely empty superhero movie nothing new nothing impressive nothing beautiful comedy maybe laugh although jokes simply references unoriginal jokes saw trailers dont expect anything jokes actor playing billy quite good sympathetic somehow becomes stupid childish transforms lets call already obviously didnt catch wisdom solomon enemy doesnt improve movie nothing interesting movie contains random monsters could movies year already production released hopefully shift come new trailer joker prequel least gives hope\n",
      "0.0024338807\n",
      "Sentiment: NEGATIVE (99.757%) \n",
      "\n",
      "txt_sentoken/mtest/neg/file5.txt\n",
      "felt movie audience humour also wasnt like dc movies wasnt dark gloomy wasnt enough action movies spent discovering abilities running away enemy also bit times\n",
      "0.078088395\n",
      "Sentiment: NEGATIVE (92.191%) \n",
      "\n",
      "txt_sentoken/mtest/neg/file6.txt\n",
      "marvel film even worst day ie solid enough overhyped think everyone gets carried away normal dc trash rate lot higher quite surprised turned aswell bad ingredients director pretty much ever done shorts producers consist rocks ex brother spent first rock films fetching coffee geoff johns whos produced dc tripe far despite super suit padding trailer best jokes wasnt half bad\n",
      "0.020173822\n",
      "Sentiment: NEGATIVE (97.983%) \n",
      "\n",
      "txt_sentoken/mtest/neg/file7.txt\n",
      "marvel film even worst day ie solid enough overhyped think everyone gets carried away normal dc trash rate lot higher quite surprised turned aswell bad ingredients director pretty much ever done shorts producers consist rocks ex brother spent first rock films fetching coffee geoff johns whos produced dc tripe far despite super suit padding trailer best jokes wasnt half bad\n",
      "0.020173822\n",
      "Sentiment: NEGATIVE (97.983%) \n",
      "\n",
      "txt_sentoken/mtest/neg/file8.txt\n",
      "done captain marvel fun character hes fights crime made look like buffoon didnt even stay till end disappointed advice watch serial adventures captain marvel tom tyler capt marvel frank jr billy everything terrific villain called dressed head toe black mask coat covered white story lie excellent better rubbish tried watch would hasten add alive collect old saturday kids matinee serials one best special fx brothers howard theodore superior every way\n",
      "0.22085671\n",
      "Sentiment: NEGATIVE (77.914%) \n",
      "\n",
      "txt_sentoken/mtest/neg/file9.txt\n",
      "dont know reviewers saw movie feels like dc paid bunch folks give real reviews would chance show film braindead america nuance jokes plot lines arent explicitly explained multiple times genuine heart even single fully developed character everyone fits modern superhero film archetype references made hip woke brief nods made possessed social justice crowd watch watching serious superhero movie decades prior even great ones becomes apparent far weve fallen genre sadly seems like stay\n",
      "0.05110839\n",
      "Sentiment: NEGATIVE (94.889%) \n",
      "\n",
      "---------Positive List----------\n",
      "   File Name  Analysis\n",
      "0  file0.txt  POSITIVE\n",
      "1  file1.txt   NEUTRAL\n",
      "2  file2.txt  NEGATIVE\n",
      "3  file3.txt  NEGATIVE\n",
      "4  file4.txt  NEGATIVE\n",
      "5  file5.txt  NEGATIVE\n",
      "6  file6.txt  NEGATIVE\n",
      "7  file7.txt  NEGATIVE\n",
      "8  file8.txt  NEGATIVE\n",
      "9  file9.txt  NEGATIVE\n",
      "---------Negative List----------\n",
      "   File Name  Analysis\n",
      "0  file0.txt  NEGATIVE\n",
      "1  file1.txt  NEGATIVE\n",
      "2  file2.txt  NEGATIVE\n",
      "3  file3.txt  NEGATIVE\n",
      "4  file4.txt  NEGATIVE\n",
      "5  file5.txt  NEGATIVE\n",
      "6  file6.txt  NEGATIVE\n",
      "7  file7.txt  NEGATIVE\n",
      "8  file8.txt  NEGATIVE\n",
      "9  file9.txt  NEGATIVE\n"
     ]
    }
   ],
   "source": [
    "\n",
    "def testFromFolderCnn(vocab,tokenizer,l,model):\n",
    "    print(\"------------Testing For---CNN 1 Layer-----------------------\")\n",
    "    print(\"------------Testing For Positive Files---------------\")\n",
    "    pos_list=list()\n",
    "    neg_list=list()\n",
    "    filesinfolder=sorted(os.listdir('txt_sentoken/mtest/pos'))\n",
    "    print(filesinfolder)\n",
    "    for files in filesinfolder:\n",
    "        filename=\"txt_sentoken/mtest/pos/\"+files\n",
    "        print(\"-----------Processing ----------%s\"%files)\n",
    "        text=load_document(filename)\n",
    "        percent, sentiment = predict_cnn_sentiment(text, vocab, tokenizer, l, model)\n",
    "#         print('Review: [%s]\\nSentiment: %s (%.3f%%) \\n' % (text, sentiment, percent*100))\n",
    "        print('Sentiment: %s (%.3f%%) \\n' % (sentiment, percent*100))\n",
    "        pos_list.append([files,sentiment])\n",
    "    print(\"------------Testing For Negative Files---------------\")\n",
    "    filesinfolder=sorted(os.listdir('txt_sentoken/mtest/neg'))\n",
    "    print(filesinfolder)\n",
    "    for files in filesinfolder:\n",
    "        filename=\"txt_sentoken/mtest/neg/\"+files\n",
    "        print(filename)\n",
    "        text=load_document(filename)\n",
    "        percent, sentiment = predict_cnn_sentiment(text, vocab, tokenizer, l, model)\n",
    "#         print('Review: [%s]\\nSentiment: %s (%.3f%%) \\n' % (text, sentiment, percent*100))\n",
    "        print('Sentiment: %s (%.3f%%) \\n' % (sentiment, percent*100))\n",
    "        neg_list.append([files,sentiment])\n",
    "    \n",
    "    print(\"---------Positive List----------\")\n",
    "#     print(*pos_list)\n",
    "    pdf = pd.DataFrame(pos_list,columns=['File Name','Analysis'])\n",
    "    print(pdf.head(n=10))\n",
    "    print(\"---------Negative List----------\")\n",
    "#     print(*neg_list)\n",
    "    ndf = pd.DataFrame(neg_list,columns=['File Name','Analysis'])\n",
    "    print(ndf.head(n=10))\n",
    "    \n",
    "testFromFolderCnn(vocab,cnn_tokenizer,max_length,embed_cnn_model)\n",
    "\n",
    "\n",
    "# percent, sentiment = predict_cnn_sentiment(text, vocab, cnn_tokenizer, max_length, embed_cnn_model)\n",
    "# print('Review: [%s]\\nSentiment: %s (%.3f%%) \\n' % (text, sentiment, percent*100))\n"
   ]
  },
  {
   "cell_type": "markdown",
   "metadata": {},
   "source": [
    "* Tested Using CNN Multichannel Embedding Model"
   ]
  },
  {
   "cell_type": "code",
   "execution_count": 202,
   "metadata": {},
   "outputs": [
    {
     "name": "stdout",
     "output_type": "stream",
     "text": [
      "------------Testing For---CNN 1 Layer-----------------------\n",
      "------------Testing For Positive Files---------------\n",
      "['file0.txt', 'file1.txt', 'file2.txt', 'file3.txt', 'file4.txt', 'file5.txt', 'file6.txt', 'file7.txt', 'file8.txt', 'file9.txt']\n",
      "txt_sentoken/mtest/pos/file0.txt\n",
      "directed david lights creation written henry earth echo stars zachary billy film follows billy orphan boy keeps running foster homes gets adopted couple share home many foster kids billy soon granted magical wizard powers discovers says wizards name turns adult male superhero like abilities isnt much franchise point separated films franchise essentially thing follows suit references superman batman justice league heroes throughout film isnt concerned connecting setting franchise tries thing strongest aspect film far zachary underrated actor brings film energy charm humor needs plays role teenage boy stuck mans body well eerily convincingly jack dylan plays billys foster brother freddy also great neurotic hilarious helps convince films ridiculous premise angel plays young billy got short end stick hes given character hides emotions still feels like billy hes less entertaining half billy nonetheless delivers great performance film lands rest cast alright weak performances decent one mark strong script another strength balances humor drama horror lightheartedness character spectacle better film far cared characters understood motivations desires film character piece superhero film though story isnt boy turns adult superhero battling evil boy learning grow accept things hes ignored whole life billy must realize must pursue needs wants comes understand everything believed true wrong fantastic makes entire third act land movie selfaware carries plethora tongueincheek references never forgets make laugh humor natural fresh never undermines dramatic tension film direction strong definitely sequences ill see second time really analyze film shot remember correctly rarely goes large movie doesnt try spectacle instead remains small unlike hero score great soundtrack amazing genuine laughs film definitely one set piece long could tightened third act dont many complaints outside also brings spin superhero genre definitely family superhero film would argue even family superhero film aside mild language couple scary scenes earns rating one wholesome superhero movies come along loved film everybody knocked park heart humor great message hands best film cant wait see future movies far favorite film year\n",
      "0.7195714\n",
      "Sentiment: POSITIVE (71.957%) \n",
      "\n",
      "txt_sentoken/mtest/pos/file1.txt\n",
      "zachary stars superhero incarnation average superhero blockbuster teenage foster child philadelphia discovers calling superhero angel solid teenage considerably upstaged jack dylan gives likeable performance aspiring sidekick mark strong menacing human vessel seven deadly sins rousing funny film great entertainment although wonder much medium children truly many tense scenes mayhem portrayal seven deadly sins might scare children aspect foster care portrayed adds films film take take shape keeping mindset teenage boy beginning discover true potential payoff tremendous goes decent superior becomes classic battle good evil welcome addition superhero genre gladly recommended\n",
      "0.63362414\n",
      "Sentiment: POSITIVE (63.362%) \n",
      "\n",
      "txt_sentoken/mtest/pos/file2.txt\n",
      "newest addition superhero movie collection dc comics kind like superman meets big story kid suddenly becomes lighthearted adult superhero laughs feel bit like cgi pretty good definitely flaws heart entertaining enough see rest movie review movie review mom\n",
      "0.63204426\n",
      "Sentiment: POSITIVE (63.204%) \n",
      "\n",
      "txt_sentoken/mtest/pos/file3.txt\n",
      "pleasantly surprised dc movie actually good especially comparison recent dc movies great really however perfectly fine superhero origin story cheesy expected much humour little held back terms action excitement loved character development felt natural seamless worthwhile movie would happily go see\n",
      "0.5178637\n",
      "Sentiment: POSITIVE (51.786%) \n",
      "\n",
      "txt_sentoken/mtest/pos/file4.txt\n",
      "movie perfect every way different compared superhero films trailers barely show anything many surprises im talking little cameo im talking main stuff also feel superhero films showing similar stuff want something new enjoy every superhero films anyway definitely even dont like superhero films also love\n",
      "0.65484333\n",
      "Sentiment: POSITIVE (65.484%) \n",
      "\n",
      "txt_sentoken/mtest/pos/file5.txt\n",
      "always rate things first written review everyone go watch seriously would death inside enjoy movie funny sad heartwarming enough action superhero movie couple things probably scary kids unless child like daughter didnt think scary twist well unexpected course go watch\n",
      "0.5720128\n",
      "Sentiment: POSITIVE (57.201%) \n",
      "\n",
      "txt_sentoken/mtest/pos/file6.txt\n",
      "saw trailer thought genius superhero thats actually kid think tom hanks big meets superman remember liking kid took long time call capt marvel much else remember watched serial impressed watched tv show although cheesy entertaining moved onto series fell love renaissance happened months ago elements mixed together bad guys look awesome movie lots laughs tons heart one bad thing short scene parent scene gets dark made feel kinda pulled movie thank god short scene cuz one favorite comic book movies ever batman dark knight superman ca civil war\n",
      "0.46264517\n",
      "Sentiment: NEGATIVE (53.735%) \n",
      "\n",
      "txt_sentoken/mtest/pos/file7.txt\n",
      "first heard movie trailer cinema waiting impatiently captain marvel moment thought one superhero movie dont want watch dont consider dc marvel movie definitely left mark heart story scenes made hard hold tears watching alone id probably character development could done better like power transfer scene feel bit rushed flawless movie havent felt way recent movies since star wars last jedi even took time write review something dont usually bother hence give made feel oh mention amazing comedy laughed hysterically mr moran jokes made really well thought wasnt vulgar ones probably minimal goes show amazing comedy without resort like lot one takes cake\n",
      "0.2584166\n",
      "Sentiment: NEGATIVE (74.158%) \n",
      "\n",
      "txt_sentoken/mtest/pos/file8.txt\n",
      "love movie kids becoming heroes game also love storyline recommended everybody watch lot fun\n",
      "0.7195714\n",
      "Sentiment: POSITIVE (71.957%) \n",
      "\n",
      "txt_sentoken/mtest/pos/file9.txt\n",
      "best movie dc extended universe acting performances great visual effects great screenplay great word fantastic\n",
      "0.70136374\n",
      "Sentiment: POSITIVE (70.136%) \n",
      "\n",
      "------------Testing For Negative Files---------------\n",
      "['file0.txt', 'file1.txt', 'file2.txt', 'file3.txt', 'file4.txt', 'file5.txt', 'file6.txt', 'file7.txt', 'file8.txt', 'file9.txt']\n",
      "txt_sentoken/mtest/neg/file0.txt\n",
      "dc fan go see movies buy character statues posters read comics including reason people become fans certain things things done well time generate fans becomes juggernaut like dc fear unstoppable however subpar painfully illustrated movie poorly written scenes bit uninspired action sprinkled barely plot billy character development whatsoever adversity overcome villain fight know people saying like movie feel like either arent honest like personal reasons present movie speaking terms technical aspects storytelling isnt effective bored entire time comedy parts made feel though abrams poking ribs asking member yes yes record people criticizing movie bad dismissing legitimate criticisms using tactic produce better films thing people want problem built movie around idea strong boy promoted identity film movie ends bad people rush defend dont want idea fail movie secondary vehicle slap bumper stickers real shame could great addition dc universe hope learn something ive heard appears dc actually plans escalate identity politics next phase would absolute disaster pointing box office defense good remember tons paying customers didnt like\n",
      "0.0639333\n",
      "Sentiment: NEGATIVE (93.607%) \n",
      "\n",
      "txt_sentoken/mtest/neg/file1.txt\n",
      "terrible absolutely terrible long funny jokes trailers end amazingly boring take ages present characters main villain awful prefer talk sidekick kid freddy probably annoying character theaters last decade god cgi demons ugly badly designed far worst experience theatre dont waste youre time movie make hopefully massive flop box office even ww opinion\n",
      "0.053620484\n",
      "Sentiment: NEGATIVE (94.638%) \n",
      "\n",
      "txt_sentoken/mtest/neg/file2.txt\n",
      "yes talking people voted heres movie deserves rating lack originally annoying title character yes old doesnt change fact dialogue would better fit kevin hart superhero yes mean insult huge dc bad cgi superhero good impression early keanu reeves acting range oh yes went basic idea good kid actors strong ok bad role thats dc always better darker movies anyways\n",
      "0.12862152\n",
      "Sentiment: NEGATIVE (87.138%) \n",
      "\n",
      "txt_sentoken/mtest/neg/file3.txt\n",
      "made main character childish movie cgi heads characters matching bodies floating head bad\n",
      "0.66492623\n",
      "Sentiment: POSITIVE (66.493%) \n",
      "\n",
      "txt_sentoken/mtest/neg/file4.txt\n",
      "least completely boring seek nothing find kid movie graphic kids offering new original direction memorable scene dc movie completely empty superhero movie nothing new nothing impressive nothing beautiful comedy maybe laugh although jokes simply references unoriginal jokes saw trailers dont expect anything jokes actor playing billy quite good sympathetic somehow becomes stupid childish transforms lets call already obviously didnt catch wisdom solomon enemy doesnt improve movie nothing interesting movie contains random monsters could movies year already production released hopefully shift come new trailer joker prequel least gives hope\n",
      "0.028706001\n",
      "Sentiment: NEGATIVE (97.129%) \n",
      "\n",
      "txt_sentoken/mtest/neg/file5.txt\n",
      "felt movie audience humour also wasnt like dc movies wasnt dark gloomy wasnt enough action movies spent discovering abilities running away enemy also bit times\n",
      "0.6972393\n",
      "Sentiment: POSITIVE (69.724%) \n",
      "\n",
      "txt_sentoken/mtest/neg/file6.txt\n",
      "marvel film even worst day ie solid enough overhyped think everyone gets carried away normal dc trash rate lot higher quite surprised turned aswell bad ingredients director pretty much ever done shorts producers consist rocks ex brother spent first rock films fetching coffee geoff johns whos produced dc tripe far despite super suit padding trailer best jokes wasnt half bad\n",
      "0.21599938\n",
      "Sentiment: NEGATIVE (78.400%) \n",
      "\n",
      "txt_sentoken/mtest/neg/file7.txt\n",
      "marvel film even worst day ie solid enough overhyped think everyone gets carried away normal dc trash rate lot higher quite surprised turned aswell bad ingredients director pretty much ever done shorts producers consist rocks ex brother spent first rock films fetching coffee geoff johns whos produced dc tripe far despite super suit padding trailer best jokes wasnt half bad\n",
      "0.21599938\n",
      "Sentiment: NEGATIVE (78.400%) \n",
      "\n",
      "txt_sentoken/mtest/neg/file8.txt\n",
      "done captain marvel fun character hes fights crime made look like buffoon didnt even stay till end disappointed advice watch serial adventures captain marvel tom tyler capt marvel frank jr billy everything terrific villain called dressed head toe black mask coat covered white story lie excellent better rubbish tried watch would hasten add alive collect old saturday kids matinee serials one best special fx brothers howard theodore superior every way\n",
      "0.468119\n",
      "Sentiment: NEGATIVE (53.188%) \n",
      "\n",
      "txt_sentoken/mtest/neg/file9.txt\n",
      "dont know reviewers saw movie feels like dc paid bunch folks give real reviews would chance show film braindead america nuance jokes plot lines arent explicitly explained multiple times genuine heart even single fully developed character everyone fits modern superhero film archetype references made hip woke brief nods made possessed social justice crowd watch watching serious superhero movie decades prior even great ones becomes apparent far weve fallen genre sadly seems like stay\n",
      "0.26584744\n",
      "Sentiment: NEGATIVE (73.415%) \n",
      "\n",
      "---------Positive List----------\n",
      "   File Name  Analysis\n",
      "0  file0.txt  POSITIVE\n",
      "1  file1.txt  POSITIVE\n",
      "2  file2.txt  POSITIVE\n",
      "3  file3.txt  POSITIVE\n",
      "4  file4.txt  POSITIVE\n",
      "5  file5.txt  POSITIVE\n",
      "6  file6.txt  NEGATIVE\n",
      "7  file7.txt  NEGATIVE\n",
      "8  file8.txt  POSITIVE\n",
      "9  file9.txt  POSITIVE\n",
      "---------Negative List----------\n",
      "   File Name  Analysis\n",
      "0  file0.txt  NEGATIVE\n",
      "1  file1.txt  NEGATIVE\n",
      "2  file2.txt  NEGATIVE\n",
      "3  file3.txt  POSITIVE\n",
      "4  file4.txt  NEGATIVE\n",
      "5  file5.txt  POSITIVE\n",
      "6  file6.txt  NEGATIVE\n",
      "7  file7.txt  NEGATIVE\n",
      "8  file8.txt  NEGATIVE\n",
      "9  file9.txt  NEGATIVE\n"
     ]
    }
   ],
   "source": [
    "\n",
    "def testFromFolderNCnn(vocab,tokenizer,l,model):\n",
    "    print(\"------------Testing For---CNN 1 Layer-----------------------\")\n",
    "    print(\"------------Testing For Positive Files---------------\")\n",
    "    pos_list=list()\n",
    "    neg_list=list()\n",
    "    filesinfolder=sorted(os.listdir('txt_sentoken/mtest/pos'))\n",
    "    print(filesinfolder)\n",
    "    for files in filesinfolder:\n",
    "        filename=\"txt_sentoken/mtest/pos/\"+files\n",
    "        print(filename)\n",
    "        text=load_document(filename)\n",
    "        percent, sentiment = predict_ncnn_sentiment(text, vocab, tokenizer, l, model)\n",
    "#         print('Review: [%s]\\nSentiment: %s (%.3f%%) \\n' % (text, sentiment, percent*100))\n",
    "        print('Sentiment: %s (%.3f%%) \\n' % (sentiment, percent*100))\n",
    "        pos_list.append([files,sentiment])\n",
    "    print(\"------------Testing For Negative Files---------------\")\n",
    "    filesinfolder=sorted(os.listdir('txt_sentoken/mtest/neg'))\n",
    "    print(filesinfolder)\n",
    "    for files in filesinfolder:\n",
    "        filename=\"txt_sentoken/mtest/neg/\"+files\n",
    "        print(filename)\n",
    "        text=load_document(filename)\n",
    "        percent, sentiment = predict_ncnn_sentiment(text, vocab, tokenizer, l,model)\n",
    "#         print('Review: [%s]\\nSentiment: %s (%.3f%%) \\n' % (text, sentiment, percent*100))\n",
    "        print('Sentiment: %s (%.3f%%) \\n' % (sentiment, percent*100))\n",
    "        neg_list.append([files,sentiment])\n",
    "    \n",
    "    print(\"---------Positive List----------\")\n",
    "#     print(*pos_list)\n",
    "    pdf = pd.DataFrame(pos_list,columns=['File Name','Analysis'])\n",
    "    print(pdf.head(n=10))\n",
    "    print(\"---------Negative List----------\")\n",
    "#     print(*neg_list)\n",
    "    ndf = pd.DataFrame(neg_list,columns=['File Name','Analysis'])\n",
    "    print(ndf.head(n=10))\n",
    "    \n",
    "testFromFolderNCnn(vocab,ncnn_tokenizer,length,ncnn_model)\n",
    "\n",
    "\n",
    "# text = 'It is an ok movie one time watch'\n",
    "# percent, sentiment = predict_ncnn_sentiment(text, vocab, ncnn_tokenizer, length, ncnn_model)\n",
    "# print('Review: [%s]\\nSentiment: %s (%.3f%%) \\n' % (text, sentiment, percent*100))\n"
   ]
  },
  {
   "cell_type": "markdown",
   "metadata": {},
   "source": [
    "# Compare Word Scoring "
   ]
  },
  {
   "cell_type": "code",
   "execution_count": 71,
   "metadata": {},
   "outputs": [],
   "source": [
    "# modes= ['binary', 'count', 'tfidf', 'freq']\n",
    "# #Prepare Bag - Of - Words Encoding\n",
    "# results=pd.DataFrame()\n",
    "# def prepare_data(train,test,m):\n",
    "#     token=Tokenizer()\n",
    "#     token.fit_on_texts(train)\n",
    "#     Xtrain=token.texts_to_matrix(train, mode=mode)\n",
    "#     Xtest = token.texts_to_matrix(test, mode=mode)\n",
    "#     return Xtrain,Xtest\n",
    "\n",
    "# #Evaluate\n",
    "# def evaluate_mode(Xtrain,ytrain,Xtest,ytest):\n",
    "#     scores=list()\n",
    "#     no_r=10\n",
    "#     for _ in range(no_r):\n",
    "#         model=Sequential() \n",
    "#         model.add(Dense(50,input_shape=(n_words,),activation='relu'))\n",
    "#         model.add(Dense(1,activation='sigmoid'))\n",
    "#         model.compile(loss='binary_crossentropy',optimizer='adam',metrics=['accuracy'])\n",
    "#         model.fit(Xtrain,ytrain,epochs=10,verbose=1)\n",
    "#         loss,acc=model.evaluate(Xtest,ytest,verbose=1)\n",
    "#         scores.append(acc)\n",
    "#         print(\"%d accuracy : %s \"%((_+1),acc))\n",
    "#     return scores\n",
    "\n",
    "# for mode in modes:\n",
    "#     Xtrain, Xtest = prepare_data(train_docs, test_docs, mode)\n",
    "#     results[mode] = evaluate_mode(Xtrain, ytrain, Xtest, ytest)\n",
    "\n"
   ]
  },
  {
   "cell_type": "code",
   "execution_count": 72,
   "metadata": {},
   "outputs": [],
   "source": [
    "# print(results.describe())\n",
    "# plt.figure(figsize=(16,6))\n",
    "# results.boxplot()\n",
    "# plt.xlabel(\"Types\")\n",
    "# plt.ylabel(\"Accuracy\")\n",
    "# plt.show()\n"
   ]
  },
  {
   "cell_type": "code",
   "execution_count": null,
   "metadata": {},
   "outputs": [],
   "source": []
  }
 ],
 "metadata": {
  "kernelspec": {
   "display_name": "Python 3",
   "language": "python",
   "name": "python3"
  },
  "language_info": {
   "codemirror_mode": {
    "name": "ipython",
    "version": 3
   },
   "file_extension": ".py",
   "mimetype": "text/x-python",
   "name": "python",
   "nbconvert_exporter": "python",
   "pygments_lexer": "ipython3",
   "version": "3.7.1"
  }
 },
 "nbformat": 4,
 "nbformat_minor": 2
}
